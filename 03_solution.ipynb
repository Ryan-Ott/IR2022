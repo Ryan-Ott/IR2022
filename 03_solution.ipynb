{
 "cells": [
  {
   "cell_type": "markdown",
   "metadata": {},
   "source": [
    "# Assignment 3: Improving the Index"
   ]
  },
  {
   "cell_type": "markdown",
   "metadata": {},
   "source": [
    "In this assignment, we will improve the search index and query functions from the previous assignment."
   ]
  },
  {
   "cell_type": "markdown",
   "metadata": {},
   "source": [
    "## Loading the Data and Defining Auxiliary Functions"
   ]
  },
  {
   "cell_type": "markdown",
   "metadata": {},
   "source": [
    "This section is copied from the previous notebook."
   ]
  },
  {
   "cell_type": "code",
   "execution_count": 18,
   "metadata": {},
   "outputs": [
    {
     "name": "stdout",
     "output_type": "stream",
     "text": [
      "paper(title='Social behaviors and gray matter volumes of brain areas supporting social cognition in children and adolescents with prenatal alcohol exposure.', authors=['de Water E', 'Rockhold MN', 'Roediger DJ', 'Krueger AM', 'Mueller BA', 'Boys CJ', 'Schumacher MJ', 'Mattson SN', 'Jones KL', 'Lim KO', 'Wozniak JR'], year=2021, doi='10.1016/j.brainres.2021.147388')\n"
     ]
    }
   ],
   "source": [
    "import pickle, bz2, re\n",
    "from collections import namedtuple, defaultdict, Counter\n",
    "from IPython.display import display, HTML\n",
    "from math import log10, sqrt\n",
    "\n",
    "Summaries_file = 'data/cognition_Summaries.pkl.bz2'\n",
    "Abstracts_file = 'data/cognition_Abstracts.pkl.bz2'\n",
    "\n",
    "Summaries = pickle.load( bz2.BZ2File( Summaries_file, 'rb' ) )\n",
    "Abstracts = pickle.load( bz2.BZ2File( Abstracts_file, 'rb' ) )\n",
    "\n",
    "paper = namedtuple( 'paper', ['title', 'authors', 'year', 'doi'] )\n",
    "for (id, paper_info) in Summaries.items():\n",
    "    Summaries[id] = paper( *paper_info )\n",
    "\n",
    "print(Summaries[33621483])"
   ]
  },
  {
   "cell_type": "code",
   "execution_count": 2,
   "metadata": {},
   "outputs": [],
   "source": [
    "def tokenize(text):\n",
    "    \"\"\"\n",
    "    Function that tokenizes a string in a rather naive way. Can be extended later.\n",
    "    \"\"\"\n",
    "    return text.split(' ')\n",
    "\n",
    "def preprocess(tokens):\n",
    "    \"\"\"\n",
    "    Perform linguistic preprocessing on a list of tokens. Can be extended later.\n",
    "    \"\"\"\n",
    "    result = []\n",
    "    for token in tokens:\n",
    "        result.append(token.lower())\n",
    "    return result"
   ]
  },
  {
   "cell_type": "code",
   "execution_count": 3,
   "metadata": {},
   "outputs": [],
   "source": [
    "def display_summary( id, show_abstract=False, show_id=True, extra_text='' ):\n",
    "    \"\"\"\n",
    "    Function for printing a paper's summary through IPython's Rich Display System.\n",
    "    Trims long author lists, and adds a link to the paper's DOI (when available).\n",
    "    \"\"\"\n",
    "    s = Summaries[id]\n",
    "    lines = []\n",
    "    title = s.title\n",
    "    if s.doi != '':\n",
    "        title = '<a href=http://dx.doi.org/{:s}>{:s}</a>'.format(s.doi, title)\n",
    "    title = '<strong>' + title + '</strong>'\n",
    "    lines.append(title)\n",
    "    authors = ', '.join( s.authors[:20] ) + ('' if len(s.authors) <= 20 else ', ...')\n",
    "    lines.append(str(s.year) + '. ' + authors)\n",
    "    if (show_abstract):\n",
    "        lines.append('<small><strong>Abstract:</strong> <em>{:s}</em></small>'.format(Abstracts[id]))\n",
    "    if (show_id):\n",
    "        lines.append('[ID: {:d}]'.format(id))\n",
    "    if (extra_text != ''):\n",
    "         lines.append(extra_text)\n",
    "    display( HTML('<br>'.join(lines)) )"
   ]
  },
  {
   "cell_type": "code",
   "execution_count": 4,
   "metadata": {},
   "outputs": [],
   "source": [
    "inverted_index = defaultdict(list)\n",
    "\n",
    "for id in sorted(Summaries.keys()):\n",
    "    term_set = set(preprocess(tokenize(Summaries[id].title)))\n",
    "    if id in Abstracts:\n",
    "        term_set.update(preprocess(tokenize(Abstracts[id])))\n",
    "    for term in term_set:\n",
    "        inverted_index[term].append(id)"
   ]
  },
  {
   "cell_type": "markdown",
   "metadata": {},
   "source": [
    "## Stemming"
   ]
  },
  {
   "cell_type": "markdown",
   "metadata": {},
   "source": [
    "As we could see from the results of the last assignment, our simple index doesn't handle punctuation and the difference between singular and plural versions of the same word very well. We won't go much into the details of tokenization and linguistic analysis here, because we also want to focus on scoring and ranking below. Therefore, we are using an existing library for tokenizatoin and stemming, namely the NLTK package. The following line will install NLTK if necessary (or you have to follow [these instructions](http://www.nltk.org/install.html) if that doesn't work):"
   ]
  },
  {
   "cell_type": "code",
   "execution_count": 5,
   "metadata": {},
   "outputs": [
    {
     "name": "stdout",
     "output_type": "stream",
     "text": [
      "Collecting nltk\n",
      "  Downloading nltk-3.7-py3-none-any.whl (1.5 MB)\n",
      "     |████████████████████████████████| 1.5 MB 14.2 MB/s            \n",
      "\u001b[?25hRequirement already satisfied: tqdm in /opt/conda/lib/python3.9/site-packages (from nltk) (4.62.3)\n",
      "Requirement already satisfied: click in /opt/conda/lib/python3.9/site-packages (from nltk) (8.0.3)\n",
      "Collecting regex>=2021.8.3\n",
      "  Downloading regex-2022.10.31-cp39-cp39-manylinux_2_17_x86_64.manylinux2014_x86_64.whl (769 kB)\n",
      "     |████████████████████████████████| 769 kB 55.7 MB/s            \n",
      "\u001b[?25hRequirement already satisfied: joblib in /opt/conda/lib/python3.9/site-packages (from nltk) (1.1.0)\n",
      "Installing collected packages: regex, nltk\n",
      "\u001b[33m  WARNING: The script nltk is installed in '/home/jovyan/.local/bin' which is not on PATH.\n",
      "  Consider adding this directory to PATH or, if you prefer to suppress this warning, use --no-warn-script-location.\u001b[0m\n",
      "Successfully installed nltk-3.7 regex-2022.10.31\n"
     ]
    }
   ],
   "source": [
    "! pip install --user nltk"
   ]
  },
  {
   "cell_type": "code",
   "execution_count": 6,
   "metadata": {},
   "outputs": [
    {
     "name": "stderr",
     "output_type": "stream",
     "text": [
      "[nltk_data] Downloading package punkt to /home/jovyan/nltk_data...\n",
      "[nltk_data]   Unzipping tokenizers/punkt.zip.\n"
     ]
    },
    {
     "name": "stdout",
     "output_type": "stream",
     "text": [
      "INPUT TEXT:\n",
      "  Good muffins cost $3.88\n",
      "in New York.  Please buy me two of them.\n",
      "\n",
      "Thanks.\n",
      "TOKENIZE:  ['Good', 'muffins', 'cost', '$3.88\\nin', 'New', 'York.', '', 'Please', 'buy', 'me', 'two', 'of', 'them.\\n\\nThanks.']\n",
      "WORD TOKENIZE:  ['Good', 'muffins', 'cost', '$', '3.88', 'in', 'New', 'York', '.', 'Please', 'buy', 'me', 'two', 'of', 'them', '.', 'Thanks', '.']\n"
     ]
    }
   ],
   "source": [
    "from nltk.tokenize import word_tokenize\n",
    "from nltk.stem.snowball import EnglishStemmer\n",
    "import nltk\n",
    "nltk.download('punkt')\n",
    "stemmer = EnglishStemmer()\n",
    "\n",
    "s = '''Good muffins cost $3.88\\nin New York.  Please buy me two of them.\\n\\nThanks.'''\n",
    "\n",
    "print('INPUT TEXT:\\n ', s)\n",
    "\n",
    "print('TOKENIZE: ', tokenize(s))\n",
    "print('WORD TOKENIZE: ', word_tokenize(s))"
   ]
  },
  {
   "cell_type": "code",
   "execution_count": 7,
   "metadata": {},
   "outputs": [
    {
     "name": "stdout",
     "output_type": "stream",
     "text": [
      "process\n"
     ]
    }
   ],
   "source": [
    "print(stemmer.stem(\"processes\"))"
   ]
  },
  {
   "cell_type": "markdown",
   "metadata": {},
   "source": [
    "## Ranking"
   ]
  },
  {
   "cell_type": "markdown",
   "metadata": {},
   "source": [
    "Another important method to improve our search results is to rank them, which can be done by calculating a score for each document based on the matching terms from the query. One such scoring method is *tf-idf*, which comes with several variants, as explained in the lecture slides.\n",
    "\n",
    "In order to quickly calculate the scores for a term/document combination, we'll need quick access to a couple of things:\n",
    "\n",
    "- tf(t,d): How often does a term occur in a document\n",
    "- df(t): In how many documents does a term occur\n",
    "- num_documents: The number of documents in our index"
   ]
  },
  {
   "cell_type": "code",
   "execution_count": 8,
   "metadata": {},
   "outputs": [],
   "source": [
    "tf_matrix = defaultdict(Counter)\n",
    "\n",
    "for doc_id in Summaries.keys():\n",
    "    tokens = preprocess(tokenize(Summaries[doc_id].title))\n",
    "    if (doc_id in Abstracts):\n",
    "        tokens.extend(preprocess(tokenize(Abstracts[doc_id])))\n",
    "    tf_matrix[doc_id] = Counter(tokens)\n",
    "\n",
    "def tf(t,d):\n",
    "    return float(tf_matrix[d][t])\n",
    "\n",
    "def df(t):\n",
    "    return float(len(inverted_index[t]))\n",
    "\n",
    "num_documents = float(len(Summaries))"
   ]
  },
  {
   "cell_type": "markdown",
   "metadata": {},
   "source": [
    "Let's test these functions with some examples:"
   ]
  },
  {
   "cell_type": "code",
   "execution_count": 11,
   "metadata": {},
   "outputs": [
    {
     "name": "stdout",
     "output_type": "stream",
     "text": [
      "1.0\n",
      "35.0\n",
      "102110.0\n"
     ]
    }
   ],
   "source": [
    "print(tf('amsterdam', 20594617))\n",
    "print(df('amsterdam'))\n",
    "print(num_documents)"
   ]
  },
  {
   "cell_type": "markdown",
   "metadata": {},
   "source": [
    "With these helper functions, we can now easily calculate the _tf-idf_ weights of a term in a document by implementing the weighting formula from the slides, which you will do in the assignments below."
   ]
  },
  {
   "cell_type": "markdown",
   "metadata": {},
   "source": [
    "----------"
   ]
  },
  {
   "cell_type": "markdown",
   "metadata": {},
   "source": [
    "# Tasks"
   ]
  },
  {
   "cell_type": "markdown",
   "metadata": {},
   "source": [
    "**Your name:** ..."
   ]
  },
  {
   "cell_type": "markdown",
   "metadata": {},
   "source": [
    "### Task 1\n",
    "\n",
    "Implement in the code block below the `smarter_tokenize_and_preprocess` function using NLTK's functions for tokenization and stemming. "
   ]
  },
  {
   "cell_type": "code",
   "execution_count": 12,
   "metadata": {},
   "outputs": [
    {
     "name": "stdout",
     "output_type": "stream",
     "text": [
      "['book', 'about', 'inform', 'retriev', '(', 'ir', ')', 'etc', '.', 'cost', 'at', 'least', '$', '15.00', '!']\n"
     ]
    }
   ],
   "source": [
    "# Smarter linguistic processing\n",
    "\n",
    "def smarter_tokenize_and_preprocess(text):  \n",
    "    result = []  \n",
    "    for token in word_tokenize(text):  \n",
    "        result.append(stemmer.stem(token))  \n",
    "    return result  \n",
    "\n",
    "# To test it:\n",
    "print(smarter_tokenize_and_preprocess(\"Books about Information Retrieval (IR) etc. cost at least $15.00!\"))"
   ]
  },
  {
   "cell_type": "markdown",
   "metadata": {},
   "source": [
    "Now we can make a smarter index based on this function. For practical purposes, the code below generates the smarter index on a subset of the data, as generating an index with stemming on the entire set would take too much time. (You don't need to change or add anything in the code block below. Just leave it as it is.)"
   ]
  },
  {
   "cell_type": "code",
   "execution_count": 13,
   "metadata": {},
   "outputs": [],
   "source": [
    "# Below, we create our smarter index (based on a subset of the documents for demonstration purposes)\n",
    "smarter_index = defaultdict(list)\n",
    "\n",
    "# Here we define the subset (somewhat arbitrary):\n",
    "subset_of_ids = list(key for key in Summaries.keys() if 33000000 <= key < 34000000)\n",
    "\n",
    "# Building our smarter index:\n",
    "for id in sorted(subset_of_ids):\n",
    "    term_set = set(smarter_tokenize_and_preprocess(Summaries[id].title))\n",
    "    if id in Abstracts:\n",
    "        term_set.update(smarter_tokenize_and_preprocess(Abstracts[id]))\n",
    "    for term in term_set:\n",
    "        smarter_index[term].append(id)"
   ]
  },
  {
   "cell_type": "markdown",
   "metadata": {},
   "source": [
    "Now implement the `smarter_and_query` function, based on the function `smarter_tokenize_and_preprocess` you defined above and accessing our new index `smarter_index`. You can start from copying the code for `and_query` from the last assignment. For that to work, you'll also have to copy the code for the `and_merge` function from the last assignment."
   ]
  },
  {
   "cell_type": "code",
   "execution_count": 14,
   "metadata": {},
   "outputs": [],
   "source": [
    "# Smarter and_query based on the smarter tokenize and preprocess functions\n",
    "\n",
    "def and_merge(sorted_list1, sorted_list2):  \n",
    "    merged_list = []  \n",
    "    # first we make copies of the lists, so we don't modify the existing lists in the index:\n",
    "    list1 = list(sorted_list1)  \n",
    "    list2 = list(sorted_list2)  \n",
    "    while (list1 and list2):  \n",
    "        if (list1[0] < list2[0]):  \n",
    "            list1.pop(0)  \n",
    "        elif (list1[0] > list2[0]):  \n",
    "            list2.pop(0)  \n",
    "        else:  \n",
    "            merged_list.append(list1[0])  \n",
    "            list1.pop(0)  \n",
    "            list2.pop(0)  \n",
    "    return merged_list  \n",
    "\n",
    "def smarter_and_query(query_string):  \n",
    "    query_words = smarter_tokenize_and_preprocess(query_string)  \n",
    "    first_word = query_words[0]  \n",
    "    remaining_words = query_words[1:]  \n",
    "    and_list = smarter_index[first_word]  \n",
    "    for t in remaining_words:  \n",
    "        and_list = and_merge(and_list, smarter_index[t])  \n",
    "    return and_list  "
   ]
  },
  {
   "cell_type": "markdown",
   "metadata": {},
   "source": [
    "### Task 2\n",
    "\n",
    "Run the query \"automated quality controls\" with the new `smarter_and_query` function from task 1. Does it return paper *33741990*? Explain what our new smarter function specifically contributes to the result (as compared to our previous naive implementations for tokenization and preprocessing)?"
   ]
  },
  {
   "cell_type": "code",
   "execution_count": 19,
   "metadata": {},
   "outputs": [
    {
     "data": {
      "text/plain": [
       "[33066649, 33621483]"
      ]
     },
     "execution_count": 19,
     "metadata": {},
     "output_type": "execute_result"
    }
   ],
   "source": [
    "smarter_and_query(\"quality controls checklist\")  "
   ]
  },
  {
   "cell_type": "markdown",
   "metadata": {},
   "source": [
    "**Answer:** Our smarter tokenization recognizes `Checklist` as a token without the closing parenthesis `)` that succeeds it in the original text. Our smarter stemming moreover maps \"controls\" and \"controlling\" to the same term `control`, so the query now matches the given document, even though the document only contains \"controlling\" and the query contains \"controls\". For these reasons, the document correctly shows up as the result for this query with our smarter function."
   ]
  },
  {
   "cell_type": "markdown",
   "metadata": {},
   "source": [
    "### Task 3\n",
    "\n",
    "Now we move to a different subject and use our old index again. That is, we **don't** use the smarter functions defined above for tasks 3 to 5!\n",
    "\n",
    "Create a function `tfidf(t,d)` that returns the tf-idf score of term `t` in document `d` by using `tf(t,d)`, `df(t)` and `num_documents` as defined above. To do this, first implement a function `idf(t)` to calculate the inverse document frequency, and then use this function to calculate the full tf-idf. Use the _add-one-smoothing_ version of idf, so we don't run into problems with terms that don't appear in the collection at all. The relevant formulas can be found on the lecture slides. Use tf-idf with plain (non-logarithmic) term frequency, as applied by scoring variant `ntn`. Test your function with the examples shown below. You can use the `log10(n)` function to calculate the base 10 logarithm.\n",
    "\n",
    "Again, use our old (non-smart) index for this task and the tasks below, and **not** the functions defined in tasks 1 and 2."
   ]
  },
  {
   "cell_type": "code",
   "execution_count": 20,
   "metadata": {},
   "outputs": [
    {
     "name": "stdout",
     "output_type": "stream",
     "text": [
      "4.163974489359386\n",
      "1.8106903993653494\n",
      "0.614649661188208\n"
     ]
    }
   ],
   "source": [
    "# Your code here:\n",
    "\n",
    "def idf(t):  \n",
    "    return log10((num_documents + 1)/(df(t) + 1))  \n",
    "\n",
    "def tfidf(t,d):  \n",
    "    return tf(t,d) * idf(t)  \n",
    "\n",
    "print(tfidf('utrecht', 31854264))\n",
    "print(tfidf('rehabilitation', 31854264))\n",
    "print(tfidf('with', 31854264))"
   ]
  },
  {
   "cell_type": "markdown",
   "metadata": {},
   "source": [
    "### Task 4\n",
    "\n",
    "Create a function `query_ntn_nnn(query_string)`, which accepts as input a single query string of one or more words, and returns or prints a list of (up to) 10 best matching documents, along with their score. Use _tf-idf_ to calculate document scores based on the query, applying variant `ntn.nnn`, as above (see the formula for the `ntn.nnn` version of scoring on the lecture slides). Use an auxiliary function `score_ntn_nnn` to calculate the score. The results should be shown in descending order by score.\n",
    "\n",
    "You can start by copying your functions `or_merge` and `or_query` from assignment 2, then expand that to rank the results, making use of the `tfidf(t,d)` function you created above.\n",
    "\n",
    "Demonstrate your function by giving it the exemplary query string \"happiness and sadness of young adults\"."
   ]
  },
  {
   "cell_type": "code",
   "execution_count": 21,
   "metadata": {},
   "outputs": [
    {
     "name": "stdout",
     "output_type": "stream",
     "text": [
      "24046755 Reverse correlating trustworthy faces in young and older adults. (score: 21.74695831423794)\n",
      "24628461 Prospective memory in young and older adults: the effects of task importance and ongoing task load. (score: 20.713595738895215)\n",
      "31817633 Happiness and Cognitive Impairment Among Older Adults: Investigating the Mediational Roles of Disability, Depression, Social Contact Frequency, and Loneliness. (score: 20.425747317841044)\n",
      "35095690 Differences Between Young and Older Adults in Working Memory and Performance on the Test of Basic Auditory Capabilities<sup>†</sup>. (score: 19.866026923007695)\n",
      "19389462 The effects of acetaldehyde on nicotine-induced transmitter levels in young and adult brain areas. (score: 19.85220333774405)\n",
      "34899267 Younger and Late Middle-Aged Adults Exhibit Different Patterns of Cognitive-Motor Interference During Locomotor Adaptation, With No Disruption of Savings. (score: 17.92865427406855)\n",
      "32038362 Belief Bias Effect in Older Adults: Roles of Working Memory and Need for Cognition. (score: 16.6102165732608)\n",
      "24970235 Impact of human immunodeficiency virus on neurocognition and risky behaviors in young adults. (score: 16.348395873280644)\n",
      "35782096 Happiness, depression, physical activity and cognition among the middle and old-aged population in China: a conditional process analysis. (score: 15.586692232912489)\n",
      "31865171 Differential effects of knowledge and aging on the encoding and retrieval of everyday activities. (score: 15.47475995098112)\n"
     ]
    }
   ],
   "source": [
    "def or_merge(sorted_list1, sorted_list2):  \n",
    "    merged_list = []  \n",
    "    list1 = list(sorted_list1)  \n",
    "    list2 = list(sorted_list2)  \n",
    "    while (True):  \n",
    "        if (not list1):  \n",
    "            merged_list.extend(list2)  \n",
    "            break  \n",
    "        if (not list2):  \n",
    "            merged_list.extend(list1)  \n",
    "            break  \n",
    "        if (list1[0] < list2[0]):  \n",
    "            merged_list.append(list1[0])  \n",
    "            list1.pop(0)  \n",
    "        elif (list1[0] > list2[0]):  \n",
    "            merged_list.append(list2[0])  \n",
    "            list2.pop(0)  \n",
    "        else:  \n",
    "            merged_list.append(list1[0])  \n",
    "            list1.pop(0)  \n",
    "            list2.pop(0)  \n",
    "    return merged_list  \n",
    "\n",
    "def score_ntn_nnn(query_words, doc_id):  \n",
    "    score = 0  \n",
    "    for t in query_words:  \n",
    "        score += tfidf(t,doc_id)  \n",
    "    return score  \n",
    "\n",
    "def query_ntn_nnn(query_string):  \n",
    "    query_words = preprocess(tokenize(query_string))  \n",
    "    first_word = query_words[0]  \n",
    "    remaining_words = query_words[1:]  \n",
    "    or_list = inverted_index[first_word]  \n",
    "    for t in remaining_words:  \n",
    "        or_list = or_merge(or_list, inverted_index[t])  \n",
    "    for paper_id in sorted(or_list, key=lambda i: score_ntn_nnn(query_words,i), reverse=True)[:10]:  \n",
    "        paper = Summaries[paper_id]  \n",
    "        print(str(paper_id) + ' ' + paper.title + ' (score: ' + str(score_ntn_nnn(query_words,paper_id)) + ')')  \n",
    "\n",
    "# Example query:\n",
    "query_ntn_nnn(\"happiness and sadness of young adults\")"
   ]
  },
  {
   "cell_type": "markdown",
   "metadata": {},
   "source": [
    "### Task 5\n",
    "\n",
    "In this last task, you should create a second version of the query function from Task 4, called `query_ntc_ntc`. This second version should use, as its name suggests, variant `ntc.ntc` instead of `ntn.nnn`, and therefore apply the cosine similarity measure, in addition to applying _tf-idf_. For this, consult the formula for variant `nnc.nnc` on the lecture slides and adopt it to include the _idf_ metric (that is, add the `t` element of `ntc`). (You can drop the square root of |q| in the formula, as indicated on the slides.)\n",
    "\n",
    "As a first step, we can calculate beforehand the length of all document vectors (because they don't depend on the query) for document vectors consisting of _tf-idf_ values. The code below does just that, assuming that you defined the function `tfidf(t,d)` above (don't change this code block, just run it):"
   ]
  },
  {
   "cell_type": "code",
   "execution_count": 22,
   "metadata": {},
   "outputs": [],
   "source": [
    "tfidf_length_values = defaultdict(int)\n",
    "\n",
    "for doc_id in Summaries.keys():\n",
    "    l = 0\n",
    "    for t in tf_matrix[doc_id].keys():\n",
    "        l += tfidf(t,doc_id) ** 2\n",
    "    tfidf_length_values[doc_id] = sqrt(l)\n",
    "\n",
    "def tfidf_length(d):\n",
    "    return tfidf_length_values[d]"
   ]
  },
  {
   "cell_type": "markdown",
   "metadata": {},
   "source": [
    "We can now get the length of a document vector by calling `tfidf_length(d)`.\n",
    "\n",
    "Based on this, you can now implement `query_ntc_ntc` in the code block below. You should again first define an auxiliary function, called `score_ntc_ntc`. You can start by copy-pasting the code from Task 4.\n",
    "\n",
    "To output the results, use the provided `display_summary` function to make the output a bit more like the results page of a search engine. Lastly, demonstrate your `query_ntc_ntc` function with the same example query as above: \"happiness and sadness of young adults\""
   ]
  },
  {
   "cell_type": "code",
   "execution_count": 23,
   "metadata": {},
   "outputs": [
    {
     "data": {
      "text/html": [
       "<strong><a href=http://dx.doi.org/10.1177/0956797619895282>Young Children Use Probability to Infer Happiness and the Quality of Outcomes.</a></strong><br>2020. Doan T, Friedman O, Denison S<br>[ID: 31868569]<br>Score: 2.1333800113033474"
      ],
      "text/plain": [
       "<IPython.core.display.HTML object>"
      ]
     },
     "metadata": {},
     "output_type": "display_data"
    },
    {
     "data": {
      "text/html": [
       "<strong><a href=http://dx.doi.org/10.7717/peerj.13673>Happiness, depression, physical activity and cognition among the middle and old-aged population in China: a conditional process analysis.</a></strong><br>2022. Shi X, He X, Pan D, Qiao H, Li J<br>[ID: 35782096]<br>Score: 2.076762725121869"
      ],
      "text/plain": [
       "<IPython.core.display.HTML object>"
      ]
     },
     "metadata": {},
     "output_type": "display_data"
    },
    {
     "data": {
      "text/html": [
       "<strong><a href=http://dx.doi.org/10.1016/j.jad.2010.09.017>Cognitive impairment and happiness in old people in low and middle income countries: results from the 10/66 study.</a></strong><br>2011. Cooper C, Bebbington P, Livingston G<br>[ID: 20937528]<br>Score: 1.4610427808218653"
      ],
      "text/plain": [
       "<IPython.core.display.HTML object>"
      ]
     },
     "metadata": {},
     "output_type": "display_data"
    },
    {
     "data": {
      "text/html": [
       "<strong><a href=http://dx.doi.org/10.1111/j.1399-5618.2008.00633.x>An fMRI investigation of working memory and sadness in females with bipolar disorder: a brief report.</a></strong><br>2008. Deckersbach T, Rauch SL, Buhlmann U, Ostacher MJ, Beucke JC, Nierenberg AA, Sachs G, Dougherty DD<br>[ID: 19594508]<br>Score: 1.3211574252459783"
      ],
      "text/plain": [
       "<IPython.core.display.HTML object>"
      ]
     },
     "metadata": {},
     "output_type": "display_data"
    },
    {
     "data": {
      "text/html": [
       "<strong><a href=http://dx.doi.org/10.3390/ijerph182111685>Anxiety, Low Self-Esteem and a Low Happiness Index Are Associated with Poor School Performance in Chilean Adolescents: A Cross-Sectional Analysis.</a></strong><br>2021. Zapata-Lamana R, Sanhueza-Campos C, Stuardo-Álvarez M, Ibarra-Mora J, Mardones-Contreras M, Reyes-Molina D, Vásquez-Gómez J, Lasserre-Laso N, Poblete-Valderrama F, Petermann-Rocha F, Parra-Rizo MA, Cigarroa I<br>[ID: 34770200]<br>Score: 1.2235729217807023"
      ],
      "text/plain": [
       "<IPython.core.display.HTML object>"
      ]
     },
     "metadata": {},
     "output_type": "display_data"
    },
    {
     "data": {
      "text/html": [
       "<strong><a href=http://dx.doi.org/10.3390/ijerph16244954>Happiness and Cognitive Impairment Among Older Adults: Investigating the Mediational Roles of Disability, Depression, Social Contact Frequency, and Loneliness.</a></strong><br>2019. Tan JH, Abdin E, Shahwan S, Zhang Y, Sambasivam R, Vaingankar JA, Mahendran R, Chua HC, Chong SA, Subramaniam M<br>[ID: 31817633]<br>Score: 1.2087531261751894"
      ],
      "text/plain": [
       "<IPython.core.display.HTML object>"
      ]
     },
     "metadata": {},
     "output_type": "display_data"
    },
    {
     "data": {
      "text/html": [
       "<strong><a href=http://dx.doi.org/10.1016/j.psychres.2016.05.046>Life satisfaction and happiness among young adults with schizophrenia.</a></strong><br>2016. Fervaha G, Agid O, Takeuchi H, Foussias G, Remington G<br>[ID: 27288735]<br>Score: 1.1444708406913453"
      ],
      "text/plain": [
       "<IPython.core.display.HTML object>"
      ]
     },
     "metadata": {},
     "output_type": "display_data"
    },
    {
     "data": {
      "text/html": [
       "<strong><a href=http://dx.doi.org/10.1111/psyg.12622>Facial expression recognition in mild cognitive impairment and dementia: is the preservation of happiness recognition hypothesis true?</a></strong><br>2021. Hayashi S, Terada S, Takenoshita S, Kawano Y, Yabe M, Imai N, Horiuchi M, Miki T, Yokota O, Yamada N<br>[ID: 33191622]<br>Score: 1.0554378550650438"
      ],
      "text/plain": [
       "<IPython.core.display.HTML object>"
      ]
     },
     "metadata": {},
     "output_type": "display_data"
    },
    {
     "data": {
      "text/html": [
       "<strong><a href=http://dx.doi.org/10.1002/hbm.24836>Direct replication of task-dependent neural activation patterns during sadness introspection in two independent adolescent samples.</a></strong><br>2020. Vilgis V, Rhoads SA, Weissman DG, Gelardi KL, Forbes EE, Hipwell AE, Keenan K, Hastings PD, Guyer AE<br>[ID: 31639270]<br>Score: 0.971540823048603"
      ],
      "text/plain": [
       "<IPython.core.display.HTML object>"
      ]
     },
     "metadata": {},
     "output_type": "display_data"
    },
    {
     "data": {
      "text/html": [
       "<strong><a href=http://dx.doi.org/10.3389/fpsyg.2013.00592>Reverse correlating trustworthy faces in young and older adults.</a></strong><br>2013. Ethier-Majcher C, Joubert S, Gosselin F<br>[ID: 24046755]<br>Score: 0.9332538658085029"
      ],
      "text/plain": [
       "<IPython.core.display.HTML object>"
      ]
     },
     "metadata": {},
     "output_type": "display_data"
    }
   ],
   "source": [
    "def score_ntc_ntc(query_words, doc_id):  \n",
    "    score = 0  \n",
    "    for t in query_words:  \n",
    "        query_term_weight = 1 * idf(t)  \n",
    "        score += tfidf(t, doc_id) * query_term_weight  \n",
    "    return score / tfidf_length(doc_id)  \n",
    "\n",
    "def query_ntc_ntc(query_string):  \n",
    "    query_words = preprocess(tokenize(query_string))  \n",
    "    first_word = query_words[0]  \n",
    "    remaining_words = query_words[1:]  \n",
    "    or_list = inverted_index[first_word]  \n",
    "    for t in remaining_words:  \n",
    "        or_list = or_merge(or_list, inverted_index[t])  \n",
    "    for paper_id in sorted(or_list, key=lambda i: score_ntc_ntc(query_words,i), reverse=True)[:10]:  \n",
    "        paper = Summaries[paper_id]  \n",
    "        display_summary(paper_id, extra_text='Score: ' + str(score_ntc_ntc(query_words,paper_id))) \n",
    "\n",
    "# Example query:\n",
    "query_ntc_ntc(\"happiness and sadness of young adults\")"
   ]
  },
  {
   "cell_type": "markdown",
   "metadata": {},
   "source": [
    "# Submission"
   ]
  },
  {
   "cell_type": "markdown",
   "metadata": {},
   "source": [
    "Submit the answers to the assignment via Canvas as a modified version of this Notebook file (file with `.ipynb` extension) that includes your code and your answers.\n",
    "\n",
    "Before submitting, restart the kernel and re-run the complete code (**Kernel > Restart & Run All**), and then check whether your assignment code still works as expected.\n",
    "\n",
    "Don't forget to add your name, and remember that the assignments have to be done **individually**, and that code sharing or copying are **strictly forbidden** and will be punished."
   ]
  },
  {
   "cell_type": "code",
   "execution_count": null,
   "metadata": {},
   "outputs": [],
   "source": []
  }
 ],
 "metadata": {
  "kernelspec": {
   "display_name": "Python 3 (ipykernel)",
   "language": "python",
   "name": "python3"
  },
  "language_info": {
   "codemirror_mode": {
    "name": "ipython",
    "version": 3
   },
   "file_extension": ".py",
   "mimetype": "text/x-python",
   "name": "python",
   "nbconvert_exporter": "python",
   "pygments_lexer": "ipython3",
   "version": "3.9.7"
  }
 },
 "nbformat": 4,
 "nbformat_minor": 4
}
