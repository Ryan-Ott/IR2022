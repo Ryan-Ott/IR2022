{
 "cells": [
  {
   "cell_type": "markdown",
   "metadata": {},
   "source": [
    "# Assignment 3: Improving the Index"
   ]
  },
  {
   "cell_type": "markdown",
   "metadata": {},
   "source": [
    "In this assignment, we will improve the search index and query functions from the previous assignment."
   ]
  },
  {
   "cell_type": "markdown",
   "metadata": {},
   "source": [
    "## Loading the Data and Defining Auxiliary Functions"
   ]
  },
  {
   "cell_type": "markdown",
   "metadata": {},
   "source": [
    "This section is copied from the previous notebook."
   ]
  },
  {
   "cell_type": "code",
   "execution_count": 1,
   "metadata": {},
   "outputs": [
    {
     "name": "stdout",
     "output_type": "stream",
     "text": [
      "paper(title='Social behaviors and gray matter volumes of brain areas supporting social cognition in children and adolescents with prenatal alcohol exposure.', authors=['de Water E', 'Rockhold MN', 'Roediger DJ', 'Krueger AM', 'Mueller BA', 'Boys CJ', 'Schumacher MJ', 'Mattson SN', 'Jones KL', 'Lim KO', 'Wozniak JR'], year=2021, doi='10.1016/j.brainres.2021.147388')\n"
     ]
    }
   ],
   "source": [
    "import pickle, bz2, re\n",
    "from collections import namedtuple, defaultdict, Counter\n",
    "from IPython.display import display, HTML\n",
    "from math import log10, sqrt\n",
    "\n",
    "Summaries_file = 'data/cognition_Summaries.pkl.bz2'\n",
    "Abstracts_file = 'data/cognition_Abstracts.pkl.bz2'\n",
    "\n",
    "Summaries = pickle.load( bz2.BZ2File( Summaries_file, 'rb' ) )\n",
    "Abstracts = pickle.load( bz2.BZ2File( Abstracts_file, 'rb' ) )\n",
    "\n",
    "paper = namedtuple( 'paper', ['title', 'authors', 'year', 'doi'] )\n",
    "for (id, paper_info) in Summaries.items():\n",
    "    Summaries[id] = paper( *paper_info )\n",
    "\n",
    "print(Summaries[33621483])"
   ]
  },
  {
   "cell_type": "code",
   "execution_count": 2,
   "metadata": {},
   "outputs": [],
   "source": [
    "def tokenize(text):\n",
    "    \"\"\"\n",
    "    Function that tokenizes a string in a rather naive way. Can be extended later.\n",
    "    \"\"\"\n",
    "    return text.split(' ')\n",
    "\n",
    "def preprocess(tokens):\n",
    "    \"\"\"\n",
    "    Perform linguistic preprocessing on a list of tokens. Can be extended later.\n",
    "    \"\"\"\n",
    "    result = []\n",
    "    for token in tokens:\n",
    "        result.append(token.lower())\n",
    "    return result"
   ]
  },
  {
   "cell_type": "code",
   "execution_count": 3,
   "metadata": {},
   "outputs": [],
   "source": [
    "def display_summary( id, show_abstract=False, show_id=True, extra_text='' ):\n",
    "    \"\"\"\n",
    "    Function for printing a paper's summary through IPython's Rich Display System.\n",
    "    Trims long author lists, and adds a link to the paper's DOI (when available).\n",
    "    \"\"\"\n",
    "    s = Summaries[id]\n",
    "    lines = []\n",
    "    title = s.title\n",
    "    if s.doi != '':\n",
    "        title = '<a href=http://dx.doi.org/{:s}>{:s}</a>'.format(s.doi, title)\n",
    "    title = '<strong>' + title + '</strong>'\n",
    "    lines.append(title)\n",
    "    authors = ', '.join( s.authors[:20] ) + ('' if len(s.authors) <= 20 else ', ...')\n",
    "    lines.append(str(s.year) + '. ' + authors)\n",
    "    if (show_abstract):\n",
    "        lines.append('<small><strong>Abstract:</strong> <em>{:s}</em></small>'.format(Abstracts[id]))\n",
    "    if (show_id):\n",
    "        lines.append('[ID: {:d}]'.format(id))\n",
    "    if (extra_text != ''):\n",
    "         lines.append(extra_text)\n",
    "    display( HTML('<br>'.join(lines)) )"
   ]
  },
  {
   "cell_type": "code",
   "execution_count": 4,
   "metadata": {},
   "outputs": [],
   "source": [
    "inverted_index = defaultdict(list)\n",
    "\n",
    "for id in sorted(Summaries.keys()):\n",
    "    term_set = set(preprocess(tokenize(Summaries[id].title)))\n",
    "    if id in Abstracts:\n",
    "        term_set.update(preprocess(tokenize(Abstracts[id])))\n",
    "    for term in term_set:\n",
    "        inverted_index[term].append(id)"
   ]
  },
  {
   "cell_type": "markdown",
   "metadata": {},
   "source": [
    "## Stemming"
   ]
  },
  {
   "cell_type": "markdown",
   "metadata": {},
   "source": [
    "As we could see from the results of the last assignment, our simple index doesn't handle punctuation and the difference between singular and plural versions of the same word very well. We won't go much into the details of tokenization and linguistic analysis here, because we also want to focus on scoring and ranking below. Therefore, we are using an existing library for tokenizatoin and stemming, namely the NLTK package. The following line will install NLTK if necessary (or you have to follow [these instructions](http://www.nltk.org/install.html) if that doesn't work):"
   ]
  },
  {
   "cell_type": "code",
   "execution_count": 5,
   "metadata": {},
   "outputs": [
    {
     "name": "stdout",
     "output_type": "stream",
     "text": [
      "Requirement already satisfied: nltk in /Users/ryan/Library/Python/3.9/lib/python/site-packages (3.7)\n",
      "Requirement already satisfied: tqdm in /Users/ryan/Library/Python/3.9/lib/python/site-packages (from nltk) (4.64.1)\n",
      "Requirement already satisfied: regex>=2021.8.3 in /Users/ryan/Library/Python/3.9/lib/python/site-packages (from nltk) (2022.10.31)\n",
      "Requirement already satisfied: joblib in /Users/ryan/Library/Python/3.9/lib/python/site-packages (from nltk) (1.2.0)\n",
      "Requirement already satisfied: click in /Users/ryan/Library/Python/3.9/lib/python/site-packages (from nltk) (8.1.3)\n"
     ]
    }
   ],
   "source": [
    "! pip3 install --user nltk"
   ]
  },
  {
   "cell_type": "code",
   "execution_count": 6,
   "metadata": {},
   "outputs": [
    {
     "name": "stdout",
     "output_type": "stream",
     "text": [
      "INPUT TEXT:\n",
      "  Good muffins cost $3.88\n",
      "in New York.  Please buy me two of them.\n",
      "\n",
      "Thanks.\n",
      "TOKENIZE:  ['Good', 'muffins', 'cost', '$3.88\\nin', 'New', 'York.', '', 'Please', 'buy', 'me', 'two', 'of', 'them.\\n\\nThanks.']\n",
      "WORD TOKENIZE:  ['Good', 'muffins', 'cost', '$', '3.88', 'in', 'New', 'York', '.', 'Please', 'buy', 'me', 'two', 'of', 'them', '.', 'Thanks', '.']\n"
     ]
    },
    {
     "name": "stderr",
     "output_type": "stream",
     "text": [
      "[nltk_data] Downloading package punkt to /Users/ryan/nltk_data...\n",
      "[nltk_data]   Package punkt is already up-to-date!\n"
     ]
    }
   ],
   "source": [
    "from nltk.tokenize import word_tokenize\n",
    "from nltk.stem.snowball import EnglishStemmer\n",
    "import nltk\n",
    "nltk.download('punkt')\n",
    "stemmer = EnglishStemmer()\n",
    "\n",
    "s = '''Good muffins cost $3.88\\nin New York.  Please buy me two of them.\\n\\nThanks.'''\n",
    "\n",
    "print('INPUT TEXT:\\n ', s)\n",
    "\n",
    "print('TOKENIZE: ', tokenize(s))\n",
    "print('WORD TOKENIZE: ', word_tokenize(s))"
   ]
  },
  {
   "cell_type": "code",
   "execution_count": 7,
   "metadata": {},
   "outputs": [
    {
     "name": "stdout",
     "output_type": "stream",
     "text": [
      "process\n"
     ]
    }
   ],
   "source": [
    "print(stemmer.stem(\"processes\"))"
   ]
  },
  {
   "cell_type": "markdown",
   "metadata": {},
   "source": [
    "## Ranking"
   ]
  },
  {
   "cell_type": "markdown",
   "metadata": {},
   "source": [
    "Another important method to improve our search results is to rank them, which can be done by calculating a score for each document based on the matching terms from the query. One such scoring method is *tf-idf*, which comes with several variants, as explained in the lecture slides.\n",
    "\n",
    "In order to quickly calculate the scores for a term/document combination, we'll need quick access to a couple of things:\n",
    "\n",
    "- tf(t,d): How often does a term occur in a document\n",
    "- df(t): In how many documents does a term occur\n",
    "- num_documents: The number of documents in our index"
   ]
  },
  {
   "cell_type": "code",
   "execution_count": 8,
   "metadata": {},
   "outputs": [],
   "source": [
    "tf_matrix = defaultdict(Counter)\n",
    "\n",
    "for doc_id in Summaries.keys():\n",
    "    tokens = preprocess(tokenize(Summaries[doc_id].title))\n",
    "    if (doc_id in Abstracts):\n",
    "        tokens.extend(preprocess(tokenize(Abstracts[doc_id])))\n",
    "    tf_matrix[doc_id] = Counter(tokens)\n",
    "\n",
    "def tf(t,d):\n",
    "    return float(tf_matrix[d][t])\n",
    "\n",
    "def df(t):\n",
    "    return float(len(inverted_index[t]))\n",
    "\n",
    "num_documents = float(len(Summaries))"
   ]
  },
  {
   "cell_type": "markdown",
   "metadata": {},
   "source": [
    "Let's test these functions with some examples:"
   ]
  },
  {
   "cell_type": "code",
   "execution_count": 9,
   "metadata": {},
   "outputs": [
    {
     "name": "stdout",
     "output_type": "stream",
     "text": [
      "1.0\n",
      "35.0\n",
      "102110.0\n"
     ]
    }
   ],
   "source": [
    "print(tf('amsterdam', 20594617))\n",
    "print(df('amsterdam'))\n",
    "print(num_documents)"
   ]
  },
  {
   "cell_type": "markdown",
   "metadata": {},
   "source": [
    "With these helper functions, we can now easily calculate the _tf-idf_ weights of a term in a document by implementing the weighting formula from the slides, which you will do in the assignments below."
   ]
  },
  {
   "cell_type": "markdown",
   "metadata": {},
   "source": [
    "----------"
   ]
  },
  {
   "cell_type": "markdown",
   "metadata": {},
   "source": [
    "# Tasks"
   ]
  },
  {
   "cell_type": "markdown",
   "metadata": {},
   "source": [
    "**Your name:** Ryan Ott"
   ]
  },
  {
   "cell_type": "markdown",
   "metadata": {},
   "source": [
    "### Task 1\n",
    "\n",
    "Implement in the code block below the `smarter_tokenize_and_preprocess` function using NLTK's functions for tokenization and stemming. "
   ]
  },
  {
   "cell_type": "code",
   "execution_count": 10,
   "metadata": {},
   "outputs": [],
   "source": [
    "def smarter_tokenize_and_preprocess(text):\n",
    "    tokens = word_tokenize(text)\n",
    "    result = []\n",
    "    for token in tokens:\n",
    "        result.append(stemmer.stem(token.lower()))\n",
    "    return result"
   ]
  },
  {
   "cell_type": "markdown",
   "metadata": {},
   "source": [
    "Now we can make a smarter index based on this function. For practical purposes, the code below generates the smarter index on a subset of the data, as generating an index with stemming on the entire set would take too much time. (You don't need to change or add anything in the code block below. Just leave it as it is.)"
   ]
  },
  {
   "cell_type": "code",
   "execution_count": 11,
   "metadata": {},
   "outputs": [],
   "source": [
    "# Below, we create our smarter index (based on a subset of the documents for demonstration purposes)\n",
    "smarter_index = defaultdict(list)\n",
    "\n",
    "# Here we define the subset (somewhat arbitrary):\n",
    "subset_of_ids = list(key for key in Summaries.keys() if 33000000 <= key < 34000000)\n",
    "\n",
    "# Building our smarter index:\n",
    "for id in sorted(subset_of_ids):\n",
    "    term_set = set(smarter_tokenize_and_preprocess(Summaries[id].title))\n",
    "    if id in Abstracts:\n",
    "        term_set.update(smarter_tokenize_and_preprocess(Abstracts[id]))\n",
    "    for term in term_set:\n",
    "        smarter_index[term].append(id)"
   ]
  },
  {
   "cell_type": "markdown",
   "metadata": {},
   "source": [
    "Now implement the `smarter_and_query` function, based on the function `smarter_tokenize_and_preprocess` you defined above and accessing our new index `smarter_index`. You can start from copying the code for `and_query` from the last assignment. For that to work, you'll also have to copy the code for the `and_merge` function from the last assignment."
   ]
  },
  {
   "cell_type": "code",
   "execution_count": 12,
   "metadata": {},
   "outputs": [],
   "source": [
    "# Smarter and_query based on the smarter tokenize and preprocess functions\n",
    "\n",
    "def and_merge(sorted_list1, sorted_list2):  \n",
    "    merged_list = []  \n",
    "    # first we make copies of the lists, so we don't modify the existing lists in the index:\n",
    "    list1 = list(sorted_list1)  \n",
    "    list2 = list(sorted_list2)  \n",
    "    while (list1 and list2):  \n",
    "        if (list1[0] < list2[0]):  \n",
    "            list1.pop(0)  \n",
    "        elif (list1[0] > list2[0]):  \n",
    "            list2.pop(0)  \n",
    "        else:  \n",
    "            merged_list.append(list1[0])  \n",
    "            list1.pop(0)  \n",
    "            list2.pop(0)  \n",
    "    return merged_list  \n",
    "\n",
    "def smarter_and_query(query_string):  \n",
    "    query_words = smarter_tokenize_and_preprocess(query_string)  \n",
    "    first_word = query_words[0]  \n",
    "    remaining_words = query_words[1:]  \n",
    "    and_list = smarter_index[first_word]  \n",
    "    for t in remaining_words:  \n",
    "        and_list = and_merge(and_list, smarter_index[t])  \n",
    "    return and_list  "
   ]
  },
  {
   "cell_type": "markdown",
   "metadata": {},
   "source": [
    "### Task 2\n",
    "\n",
    "Run the query \"automated quality controls\" with the new `smarter_and_query` function from task 1. Does it return paper *33621483*? Explain what our new smarter function specifically contributes to the result (as compared to our previous naive implementations for tokenization and preprocessing)?"
   ]
  },
  {
   "cell_type": "code",
   "execution_count": 13,
   "metadata": {},
   "outputs": [
    {
     "name": "stdout",
     "output_type": "stream",
     "text": [
      "Query Results: [33066649, 33621483] Does it return 33621483? True\n"
     ]
    },
    {
     "data": {
      "text/html": [
       "<strong><a href=http://dx.doi.org/10.3390/ijerph17207481>Perceptual-Cognitive Function and Unplanned Athletic Movement Task Performance: A Systematic Review.</a></strong><br>2020. Wilke J, Groneberg D, Banzer W, Giesche F<br><small><strong>Abstract:</strong> <em>The performance of choice-reaction tasks during athletic movement has been demonstrated to evoke unfavorable biomechanics in the lower limb. However, the mechanism of this observation is unknown. We conducted a systematic review examining the association between (1) the biomechanical and functional safety of unplanned sports-related movements (e.g., jumps/runs with a spontaneously indicated landing leg/cutting direction) and (2) markers of perceptual-cognitive function (PCF). A literature search in three databases (PubMed, ScienceDirect and Google Scholar) identified five relevant articles. The study quality, rated by means of a modified Downs and Black checklist, was moderate to high (average: 13/16 points). Four of five papers, in at least one parameter, found either an association of PCF with task safety or significantly reduced task safety in low vs. high PCF performers. However, as (a) the outcomes, populations and statistical methods of the included trials were highly heterogeneous and (b) only two out of five studies had an adequate control condition (pre-planned movement task), the evidence was classified as conflicting. In summary, PCF may represent a factor affecting injury risk and performance during unplanned sports-related movements, but future research strengthening the evidence for this association is warranted.</em></small><br>[ID: 33066649]"
      ],
      "text/plain": [
       "<IPython.core.display.HTML object>"
      ]
     },
     "metadata": {},
     "output_type": "display_data"
    },
    {
     "data": {
      "text/html": [
       "<strong><a href=http://dx.doi.org/10.1016/j.brainres.2021.147388>Social behaviors and gray matter volumes of brain areas supporting social cognition in children and adolescents with prenatal alcohol exposure.</a></strong><br>2021. de Water E, Rockhold MN, Roediger DJ, Krueger AM, Mueller BA, Boys CJ, Schumacher MJ, Mattson SN, Jones KL, Lim KO, Wozniak JR<br><small><strong>Abstract:</strong> <em>The goal of this study was to examine: 1) differences in parent-reported prosocial and antisocial behaviors between children and adolescents with and without prenatal alcohol exposure (PAE); 2) differences in gray matter volumes of brain areas supporting social cognition between children and adolescents with and without PAE; 3) correlations between gray matter volumes of brain areas supporting social cognition and parent-reported prosocial and antisocial behaviors. Parents of children and adolescents ages 8-16 years completed measures on their prosocial and antisocial behaviors (i.e., Behavior Assessment Scale for Children, Vineland Adaptive Behaviors Scales, and Child Behavior Checklist) (n = 84; 41 with PAE, 43 without PAE). Seventy-nine participants (40 with PAE, 39 without PAE) also completed a structural Magnetic Resonance Imaging (MRI) scan with quality data. Gray matter volumes of seven brain areas supporting social cognitive processes were computed using automated procedures (FreeSurfer 6.0): bilateral fusiform gyrus, superior temporal gyrus, medial orbitofrontal cortex, lateral orbitofrontal cortex, posterior cingulate cortex, precuneus, and temporal pole. Children and adolescents with PAE showed decreased prosocial behaviors and increased antisocial behaviors as well as smaller volumes of the precuneus and lateral orbitofrontal cortex, even when controlling for total intracranial volume. Social brain volumes were not significantly correlated with prosocial or antisocial behaviors. These findings suggest that children and adolescents with PAE show worse social functioning and smaller volumes of brain areas supporting self-awareness, perspective-taking and emotion-regulation than their same-age peers without PAE.</em></small><br>[ID: 33621483]"
      ],
      "text/plain": [
       "<IPython.core.display.HTML object>"
      ]
     },
     "metadata": {},
     "output_type": "display_data"
    }
   ],
   "source": [
    "q1_result = smarter_and_query(\"quality controls checklist\")  # adapted after canvas announcement\n",
    "print(f\"Query Results: {q1_result} Does it return 33621483? {33621483 in q1_result}\")\n",
    "for paper in q1_result:\n",
    "    display_summary(paper, show_abstract=True)"
   ]
  },
  {
   "cell_type": "markdown",
   "metadata": {},
   "source": [
    "**Answer:**\n",
    "Because of the better tokenisation, \"quality,\" and \"checklist,\" could now be matched to our query terms. Furthermore the (better) stemming allows \"control\" to be matched to our query term \"controls\" because they both belong to the same word stem. This allowed us to find doc 33066649.\n",
    "The value of stemming and better tokenisation is again shown to find paper 33621483 - \"controlling\" matches the same word stem as \"controls\", \"Checklist)\" matches \"checklist\" and  thus (rightfully) gets found because \"quality\" is also in the abstract."
   ]
  },
  {
   "cell_type": "markdown",
   "metadata": {},
   "source": [
    "### Task 3\n",
    "\n",
    "Now we move to a different subject and use our old index again. That is, we **don't** use the smarter functions defined above for tasks 3 to 5!\n",
    "\n",
    "Create a function `tfidf(t,d)` that returns the tf-idf score of term `t` in document `d` by using `tf(t,d)`, `df(t)` and `num_documents` as defined above. To do this, first implement a function `idf(t)` to calculate the inverse document frequency, and then use this function to calculate the full tf-idf. Use the _add-one-smoothing_ version of idf, so we don't run into problems with terms that don't appear in the collection at all. The relevant formulas can be found on the lecture slides. Use tf-idf with plain (non-logarithmic) term frequency, as applied by scoring variant `ntn`. Test your function with the examples shown below. You can use the `log10(n)` function to calculate the base 10 logarithm.\n",
    "\n",
    "Again, use our old (non-smart) index for this task and the tasks below, and **not** the functions defined in tasks 1 and 2."
   ]
  },
  {
   "cell_type": "code",
   "execution_count": 14,
   "metadata": {
    "tags": []
   },
   "outputs": [],
   "source": [
    "def idf(t):\n",
    "    return log10((1 + num_documents) / (1 + df(t)))  # add-one smoothing\n",
    "\n",
    "def tfidf(t,d):\n",
    "    return tf(t,d) * idf(t)"
   ]
  },
  {
   "cell_type": "code",
   "execution_count": 15,
   "metadata": {},
   "outputs": [
    {
     "data": {
      "text/html": [
       "<strong><a href=http://dx.doi.org/10.1016/j.brainres.2021.147388>Social behaviors and gray matter volumes of brain areas supporting social cognition in children and adolescents with prenatal alcohol exposure.</a></strong><br>2021. de Water E, Rockhold MN, Roediger DJ, Krueger AM, Mueller BA, Boys CJ, Schumacher MJ, Mattson SN, Jones KL, Lim KO, Wozniak JR<br><small><strong>Abstract:</strong> <em>The goal of this study was to examine: 1) differences in parent-reported prosocial and antisocial behaviors between children and adolescents with and without prenatal alcohol exposure (PAE); 2) differences in gray matter volumes of brain areas supporting social cognition between children and adolescents with and without PAE; 3) correlations between gray matter volumes of brain areas supporting social cognition and parent-reported prosocial and antisocial behaviors. Parents of children and adolescents ages 8-16 years completed measures on their prosocial and antisocial behaviors (i.e., Behavior Assessment Scale for Children, Vineland Adaptive Behaviors Scales, and Child Behavior Checklist) (n = 84; 41 with PAE, 43 without PAE). Seventy-nine participants (40 with PAE, 39 without PAE) also completed a structural Magnetic Resonance Imaging (MRI) scan with quality data. Gray matter volumes of seven brain areas supporting social cognitive processes were computed using automated procedures (FreeSurfer 6.0): bilateral fusiform gyrus, superior temporal gyrus, medial orbitofrontal cortex, lateral orbitofrontal cortex, posterior cingulate cortex, precuneus, and temporal pole. Children and adolescents with PAE showed decreased prosocial behaviors and increased antisocial behaviors as well as smaller volumes of the precuneus and lateral orbitofrontal cortex, even when controlling for total intracranial volume. Social brain volumes were not significantly correlated with prosocial or antisocial behaviors. These findings suggest that children and adolescents with PAE show worse social functioning and smaller volumes of brain areas supporting self-awareness, perspective-taking and emotion-regulation than their same-age peers without PAE.</em></small>"
      ],
      "text/plain": [
       "<IPython.core.display.HTML object>"
      ]
     },
     "metadata": {},
     "output_type": "display_data"
    }
   ],
   "source": [
    "tfidf(\"and\", 33621483)\n",
    "display_summary(33621483, show_abstract=True, show_id=False)"
   ]
  },
  {
   "cell_type": "markdown",
   "metadata": {},
   "source": [
    "### Task 4\n",
    "\n",
    "Create a function `query_ntn_nnn(query_string)`, which accepts as input a single query string of one or more words, and returns or prints a list of (up to) 10 best matching documents, along with their score. Use _tf-idf_ to calculate document scores based on the query, applying variant `ntn.nnn`, as above (see the formula for the `ntn.nnn` version of scoring on the lecture slides). Use an auxiliary function `score_ntn_nnn` to calculate the score. The results should be shown in descending order by score.\n",
    "\n",
    "You can start by copying your functions `or_merge` and `or_query` from assignment 2, then expand that to rank the results, making use of the `tfidf(t,d)` function you created above.\n",
    "\n",
    "Demonstrate your function by giving it the exemplary query string \"happiness and sadness of young adults\"."
   ]
  },
  {
   "cell_type": "code",
   "execution_count": 16,
   "metadata": {},
   "outputs": [],
   "source": [
    "def or_merge(sorted_list1, sorted_list2):  \n",
    "    merged_list = []  \n",
    "    list1 = list(sorted_list1)  \n",
    "    list2 = list(sorted_list2)  \n",
    "    while (True):  \n",
    "        if (not list1):  \n",
    "            merged_list.extend(list2)  \n",
    "            break  \n",
    "        if (not list2):  \n",
    "            merged_list.extend(list1)  \n",
    "            break  \n",
    "        if (list1[0] < list2[0]):  \n",
    "            merged_list.append(list1[0])  \n",
    "            list1.pop(0)  \n",
    "        elif (list1[0] > list2[0]):  \n",
    "            merged_list.append(list2[0])  \n",
    "            list2.pop(0)  \n",
    "        else:  \n",
    "            merged_list.append(list1[0])  \n",
    "            list1.pop(0)  \n",
    "            list2.pop(0)  \n",
    "    return merged_list\n",
    "\n",
    "def or_query(query_string):  \n",
    "    query_words = preprocess(tokenize(query_string))  \n",
    "    first_word = query_words[0]  \n",
    "    remaining_words = query_words[1:]  \n",
    "    or_list = inverted_index[first_word]  \n",
    "    for t in remaining_words:  \n",
    "        or_list = or_merge(or_list, inverted_index[t])  \n",
    "    return or_list\n",
    "\n",
    "def score_ntn_nnn(query, doc_id):\n",
    "    score = 0.0\n",
    "    for term in preprocess(tokenize(query)):\n",
    "        score += tfidf(term, doc_id)\n",
    "    return score\n",
    "\n",
    "def query_ntn_nnn(query_string):\n",
    "    results = defaultdict(set)\n",
    "    for doc in or_query(query_string):\n",
    "        results[doc] = score_ntn_nnn(query_string, doc)\n",
    "    return sorted(results.items(), key=lambda x: x[1], reverse=True)"
   ]
  },
  {
   "cell_type": "code",
   "execution_count": 17,
   "metadata": {},
   "outputs": [
    {
     "data": {
      "text/html": [
       "<strong><a href=http://dx.doi.org/10.3389/fpsyg.2013.00592>Reverse correlating trustworthy faces in young and older adults.</a></strong><br>2013. Ethier-Majcher C, Joubert S, Gosselin F<br><small><strong>Abstract:</strong> <em>Little is known about how older persons determine if someone deserves their trust or not based on their facial appearance, a process referred to as \"facial trustworthiness.\"In the past few years, Todorov and colleagues have argued that, in young adults, trustworthiness judgments are an extension of emotional judgments, and therefore, that trust judgments are made based on a continuum between anger and happiness (Todorov, 2008; Engell et al., 2010). Evidence from the literature on emotion processing suggest that older adults tend to be less efficient than younger adults in the recognition of negative facial expressions (Calder et al., 2003; Firestone et al., 2007; Ruffman et al., 2008; Chaby and Narme, 2009). Based on Todorov';s theory and the fact that older adults seem to be less efficient than younger adults in identifying emotional expressions, one could expect that older individuals would have different representations of trustworthy faces and that they would use different cues than younger adults in order to make such judgments. We verified this hypothesis using a variation of Mangini and Biederman's (2004) reverse correlation method in order to test and compare classification images resulting from trustworthiness (in the context of money investment), from happiness, and from anger judgments in two groups of participants: young adults and older healthy adults. Our results show that for elderly participants, both happy and angry representations are correlated with trustworthiness judgments. However, in young adults, trustworthiness judgments are mainly correlated with happiness representations. These results suggest that young and older adults differ in their way of judging trustworthiness. </em></small><br>[ID: 24046755]"
      ],
      "text/plain": [
       "<IPython.core.display.HTML object>"
      ]
     },
     "metadata": {},
     "output_type": "display_data"
    },
    {
     "name": "stdout",
     "output_type": "stream",
     "text": [
      "ntn.nnn-score: 21.74695831423794\n"
     ]
    },
    {
     "data": {
      "text/html": [
       "<strong><a href=http://dx.doi.org/10.1080/13825585.2013.827150>Prospective memory in young and older adults: the effects of task importance and ongoing task load.</a></strong><br>2014. Smith RE, Hunt RR<br><small><strong>Abstract:</strong> <em>Remembering to perform an action in the future, called prospective memory, often shows age-related differences in favor of young adults when tested in the laboratory. Recently Smith, Horn, and Bayen (2012; Aging, Neuropsychology, and Cognition, 19, 495) embedded a PM task in an ongoing color-matching task and manipulated the difficulty of the ongoing task by varying the number of colors on each trial of the task. Smith et al. found that age-related differences in PM performance (lower PM performance for older adults relative to young adults) persisted even when older adults could perform the ongoing task as well or better than the young adults. The current study investigates a possible explanation for the pattern of results reported by Smith et al. by including a manipulation of task emphasis: for half of the participants the prospective memory task was emphasize, while for the other half the ongoing color-matching task was emphasized. Older adults performed a 4-color version of the ongoing color-matching task, while young adults completed either the 4-color or a more difficult 6-color version of the ongoing task. Older adults failed to perform as well as the young adults on the prospective memory task regardless of task emphasis, even when older adults were performing as well or better than the young adults on the ongoing color-matching task. The current results indicate that the lack of an effect of ongoing task load on prospective memory task performance is not due to a perception that one or the other task is more important than the other.</em></small><br>[ID: 24628461]"
      ],
      "text/plain": [
       "<IPython.core.display.HTML object>"
      ]
     },
     "metadata": {},
     "output_type": "display_data"
    },
    {
     "name": "stdout",
     "output_type": "stream",
     "text": [
      "ntn.nnn-score: 20.713595738895215\n"
     ]
    },
    {
     "data": {
      "text/html": [
       "<strong><a href=http://dx.doi.org/10.3390/ijerph16244954>Happiness and Cognitive Impairment Among Older Adults: Investigating the Mediational Roles of Disability, Depression, Social Contact Frequency, and Loneliness.</a></strong><br>2019. Tan JH, Abdin E, Shahwan S, Zhang Y, Sambasivam R, Vaingankar JA, Mahendran R, Chua HC, Chong SA, Subramaniam M<br><small><strong>Abstract:</strong> <em> Background: Understanding the lower level of happiness among older adults with cognitive impairment has been a largely neglected issue. This study (1) reports on the level of happiness among older adults in Singapore and (2) examines the potential mediating roles of depression, disability, social contact frequency, and loneliness in the relationship between cognitive scores and happiness. Methods: Data for this study were extracted from the Well-being of the Singapore Elderly (WiSE) study: a cross-sectional; comprehensive single-phase survey conducted among Singapore citizens and permanent residents that were aged 60 years and above ( n = 2565). The Geriatric Mental State examination (GMS) was administered to the participants. Questions pertaining to socio-demographic characteristics; happiness; loneliness; social contact; depression; and, disability were utilized in this study. Logistic regression analyses and mediation analyses were used to explore the correlates of happiness and potential mediating factors. Results: Overall, 96.2% of older adults in Singapore reported feeling either fairly happy or very happy. In the regression analysis, individuals of Malay descent, those who were married/cohabiting, or had higher education levels were more likely to report feeling happy. After controlling for socio-demographic factors, higher cognitive scores were associated with higher odds of reporting happiness. We found that the positive association between cognition and happiness was fully mediated by disability, depression, loneliness, and frequency of contact with friends. Conclusion: The majority of the older adult population reported feeling fairly or very happy. While cognitive impairment has shown limited reversibility in past studies, unhappiness among older adults with cognitive impairment might be potentially mitigated through interventions addressing accompanying issues of social isolation, disability, and depression. </em></small><br>[ID: 31817633]"
      ],
      "text/plain": [
       "<IPython.core.display.HTML object>"
      ]
     },
     "metadata": {},
     "output_type": "display_data"
    },
    {
     "name": "stdout",
     "output_type": "stream",
     "text": [
      "ntn.nnn-score: 20.425747317841044\n"
     ]
    },
    {
     "data": {
      "text/html": [
       "<strong><a href=http://dx.doi.org/10.3389/fpsyg.2021.804891>Differences Between Young and Older Adults in Working Memory and Performance on the Test of Basic Auditory Capabilities<sup>†</sup>.</a></strong><br>2021. Humes LE, Kidd GR, Lentz JJ<br><small><strong>Abstract:</strong> <em>The Test of Basic Auditory Capabilities (TBAC) is a battery of auditory-discrimination tasks and speech-identification tasks that has been normed on several hundred young normal-hearing adults. Previous research with the TBAC suggested that cognitive function may impact the performance of older adults. Here, we examined differences in performance on several TBAC tasks between a group of 34 young adults with a mean age of 22.5 years (SD = 3.1 years) and a group of 115 older adults with a mean age of 69.2 years (SD = 6.2 years) recruited from the local community. Performance of the young adults was consistent with prior norms for this age group. Not surprisingly, the two groups differed significantly in hearing loss and working memory with the older adults having more hearing loss and poorer working memory than the young adults. The two age groups also differed significantly in performance on six of the nine measures extracted from the TBAC (eight test scores and one average test score) with the older adults consistently performing worse than the young adults. However, when these age-group comparisons were repeated with working memory and hearing loss as covariates, the groups differed in performance on only one of the nine auditory measures from the TBAC. For eight of the nine TBAC measures, working memory was a significant covariate and hearing loss never emerged as a significant factor. Thus, the age-group deficits observed initially on the TBAC most often appeared to be mediated by age-related differences in working memory rather than deficits in auditory processing. The results of these analyses of age-group differences were supported further by linear-regression analyses with each of the 9 TBAC scores serving as the dependent measure and age, hearing loss, and working memory as the predictors. Regression analyses were conducted for the full set of 149 adults and for just the 115 older adults. Working memory again emerged as the predominant factor impacting TBAC performance. It is concluded that working memory should be considered when comparing the performance of young and older adults on auditory tasks, including the TBAC.</em></small><br>[ID: 35095690]"
      ],
      "text/plain": [
       "<IPython.core.display.HTML object>"
      ]
     },
     "metadata": {},
     "output_type": "display_data"
    },
    {
     "name": "stdout",
     "output_type": "stream",
     "text": [
      "ntn.nnn-score: 19.866026923007695\n"
     ]
    },
    {
     "data": {
      "text/html": [
       "<strong><a href=http://dx.doi.org/10.1016/j.brainresbull.2009.04.005>The effects of acetaldehyde on nicotine-induced transmitter levels in young and adult brain areas.</a></strong><br>2009. Sershen H, Shearman E, Fallon S, Chakraborty G, Smiley J, Lajtha A<br><small><strong>Abstract:</strong> <em>The aim of the present study was to examine the effect of acetaldehyde administration on neurotransmitters in the presence of nicotine in brain areas associated with cognition and reward. We assayed these effects via microdialysis in conscious freely moving male Sprague-Dawley rats. It was reported that low doses of acetaldehyde enhance nicotine self-administration in young, but not in adult rats. Since nicotine enhances reward and learning, while acetaldehyde is reported to enhance reward but inhibit learning, acetaldehyde thus would be likely to stimulate reward without stimulating learning. We hoped that examining the effects of acetaldehyde (on nicotine-mediated neurotransmitter changes) would help to distinguish reward mechanisms less influenced by learning mechanisms. To avoid the aversive effect of acetaldehyde, we used a low dose of acetaldehyde (0.16 mg/kg) administered after nicotine (0.3mg/kg). We analyzed six brain regions: nucleus accumbens shell (NAccS), ventral tegmental area (VTA), ventral and dorsal hippocampus (VH and DH), and prefrontal and medial temporal cortex (PFC, MTC), assaying dopamine (DA), norepinephrine (NE) and serotonin (5-HT) and their metabolites in young and adult rats. The effect of acetaldehyde on nicotine-induced transmitter changes was different in young as compared to adult rat brain regions. In the NAccS of the young, DA was not affected while NE and 5-HT were increased. In the adult in this area DA and NE were decreased, while 5-HT was not altered. In other areas also in many cases, the effect of acetaldehyde in the young and in the adult was different. As an example, acetaldehyde administration increased NE in young and decreased NE in adult DH. We found stimulation of nicotine-induced changes by acetaldehyde in seven instances - six of these were observed in areas in young brain, NE in four areas (NAccS, DH, VH, and PFC), and 5-HT in two (NAccS and DH). Only one increase was noted in adult brain (DA in VTA). Inhibition of nicotine-induced changes by acetaldehyde was noticed in four young brain areas (DA in PFC and MTC, 5-HT in VTA, and VH) and in 13 adult brain areas (DA in NAccS, DH, VH, PFC, MTC, NE in NAccS, DH, PFC, MTC, and 5-HT in DH, VH, MTC, and PFC). Thus acetaldehyde was more stimulatory in young and more inhibitory in the adult brain areas tested, which could explain its stimulating nicotine reward only in young animals. That increases in NE were noted only in young, decreases in NE only in adult brain areas further suggest the role of NE in the age-dependent response. In general, six areas showed some increase and four showed decrease in the young versus one showing increase and thirteen showing decrease in the adult. Clearly the effects of acetaldehyde in young animals are different from those in adult animals. Because acetaldehyde did not induce elevated DA levels in the NAccS of the young, we believe that the higher reward in the young caused by acetaldehyde is not likely due to DA changes in the accumbens. The increase of NE and 5-HT in the brain areas of the young only raises the possibility that they may play an important role in reward in some cases when DA in the accumbens does not. Areas involved in cognitive mechanisms and a number of transmitters seem to play a role in reward stimulation.</em></small><br>[ID: 19389462]"
      ],
      "text/plain": [
       "<IPython.core.display.HTML object>"
      ]
     },
     "metadata": {},
     "output_type": "display_data"
    },
    {
     "name": "stdout",
     "output_type": "stream",
     "text": [
      "ntn.nnn-score: 19.85220333774405\n"
     ]
    },
    {
     "data": {
      "text/html": [
       "<strong><a href=http://dx.doi.org/10.3389/fnagi.2021.729284>Younger and Late Middle-Aged Adults Exhibit Different Patterns of Cognitive-Motor Interference During Locomotor Adaptation, With No Disruption of Savings.</a></strong><br>2021. Rossi C, Roemmich RT, Schweighofer N, Bastian AJ, Leech KA<br><small><strong>Abstract:</strong> <em>It has been proposed that motor adaptation and subsequent savings (or faster relearning) of an adapted movement pattern are mediated by cognitive processes. Here, we evaluated the pattern of cognitive-motor interference that emerges when young and late middle-aged adults perform an executive working memory task during locomotor adaptation. We also asked if this interferes with savings of a newly learned walking pattern, as has been suggested by a study of reaching adaptation. We studied split-belt treadmill adaptation and savings in young (21 ± 2 y/o) and late middle-aged (56 ± 6 y/o) adults with or without a secondary 2-back task during adaptation. We found that young adults showed similar performance on the 2-back task during baseline and adaptation, suggesting no effect of the dual-task on cognitive performance; however, dual-tasking interfered with adaptation over the first few steps. Conversely, dual-tasking caused a decrement in cognitive performance in late middle-aged adults with no effect on adaptation. To determine if this effect was specific to adaptation, we also evaluated dual-task interference in late middle-aged adults that dual-tasked while walking in a complex environment that did not induce motor adaptation. This group exhibited less cognitive-motor interference than late middle-aged adults who dual-tasked during adaptation. Savings was unaffected by dual-tasking in both young and late middle-aged adults, which may indicate different underlying mechanisms for savings of reaching and walking. Collectively, our findings reveal an age-dependent effect of cognitive-motor interference during dual-task locomotor adaptation and no effect of dual-tasking on savings, regardless of age. Young adults maintain cognitive performance and show a mild decrement in locomotor adaptation, while late middle-aged adults adapt locomotion at the expense of cognitive performance.</em></small><br>[ID: 34899267]"
      ],
      "text/plain": [
       "<IPython.core.display.HTML object>"
      ]
     },
     "metadata": {},
     "output_type": "display_data"
    },
    {
     "name": "stdout",
     "output_type": "stream",
     "text": [
      "ntn.nnn-score: 17.92865427406855\n"
     ]
    },
    {
     "data": {
      "text/html": [
       "<strong><a href=http://dx.doi.org/10.3389/fpsyg.2019.02940>Belief Bias Effect in Older Adults: Roles of Working Memory and Need for Cognition.</a></strong><br>2019. Ding D, Chen Y, Lai J, Chen X, Han M, Zhang X<br><small><strong>Abstract:</strong> <em>Belief bias is the tendency in syllogistic reasoning to rely on prior beliefs rather than to fully obey logical principles. Few studies have investigated the age effect on belief bias. Although several studies have recently begun to explore this topic, little is known about the psychological mechanisms underlying such an effect. Accordingly, we investigated belief bias in older and young adults and explored the roles of working memory (WM) and need for cognition (NFC) in the relationship between age and reasoning performance. We found that older adults showed a lower accuracy rate compared with young adults when conclusion believability and logical validity were incongruent. However, older adults showed a higher accuracy rate compared with young adults when conclusion believability and logical validity were congruent. The results indicated that in comparison with young adults, prior beliefs hampered logical reasoning more significantly in older adults under incongruent conditions and boosted logical reasoning more significantly under congruent conditions. Moreover, the logic index in older adults was significantly lower than in young adults, and the interaction index of believability and validity in older adults was significantly below zero. Furthermore, NFC mediated the age effect on reasoning performance under the two conditions. By contrast, WM mediated the age effect on reasoning performance only under incongruent conditions and did not act as a mediator under congruent conditions.</em></small><br>[ID: 32038362]"
      ],
      "text/plain": [
       "<IPython.core.display.HTML object>"
      ]
     },
     "metadata": {},
     "output_type": "display_data"
    },
    {
     "name": "stdout",
     "output_type": "stream",
     "text": [
      "ntn.nnn-score: 16.6102165732608\n"
     ]
    },
    {
     "data": {
      "text/html": [
       "<strong><a href=http://dx.doi.org/10.1007/s13365-014-0264-4>Impact of human immunodeficiency virus on neurocognition and risky behaviors in young adults.</a></strong><br>2014. Baker LM, Paul RH, Heaps JM, Westerhaus E, Chang JY, Williams S, Brier MR, Plax K, Ances BM<br><small><strong>Abstract:</strong> <em>Previous studies have identified cognitive impairments due to human immunodeficiency virus (HIV) in adults. However, few studies have examined the impact of HIV on cognition in young adults (18-24 years old). Yet, this group is one of the largest populations of individuals with new HIV infection. Young adulthood is also an important developmental window because the brain has not fully matured and individuals are prone to engage in risky behavior. The purpose of the present study was to examine the impact of HIV on neurocognition and risky behaviors. We hypothesized that HIV+ young adults (n = 23) would exhibit greater cognitive impairment and risky behaviors compared to seronegative controls (n = 21). In addition, we predicted that self-reported risky behavior as assessed by the Risk Assessment Battery (RAB) would covary with cognitive performances. Results revealed poorer executive function in HIV+ young adults compared to seronegative (HIV-) controls. HIV+ young adults exhibited significantly greater risk scores on the RAB (p < 0.01) compared to HIV- young adults. However, there were no relationships between risky behavior and cognitive performance. Overall, our results suggest that HIV is associated with poorer cognition and increased risky behaviors in young adults.</em></small><br>[ID: 24970235]"
      ],
      "text/plain": [
       "<IPython.core.display.HTML object>"
      ]
     },
     "metadata": {},
     "output_type": "display_data"
    },
    {
     "name": "stdout",
     "output_type": "stream",
     "text": [
      "ntn.nnn-score: 16.348395873280644\n"
     ]
    },
    {
     "data": {
      "text/html": [
       "<strong><a href=http://dx.doi.org/10.7717/peerj.13673>Happiness, depression, physical activity and cognition among the middle and old-aged population in China: a conditional process analysis.</a></strong><br>2022. Shi X, He X, Pan D, Qiao H, Li J<br><small><strong>Abstract:</strong> <em>Happiness is one variable of subjective well-being, which has been increasingly shown to have protective effects on health. Although the association between happiness and cognition has been established, the mechanism by which happiness leads to cognition remains unclear. Since happiness, depression, and physical activity may all be related to cognition, and happiness is related to depression and physical activity, this study explored the effect of depression and physical activity on the relationship between happiness and cognition among middle and old-aged individuals in China.</em></small><br>[ID: 35782096]"
      ],
      "text/plain": [
       "<IPython.core.display.HTML object>"
      ]
     },
     "metadata": {},
     "output_type": "display_data"
    },
    {
     "name": "stdout",
     "output_type": "stream",
     "text": [
      "ntn.nnn-score: 15.586692232912489\n"
     ]
    },
    {
     "data": {
      "text/html": [
       "<strong><a href=http://dx.doi.org/10.1016/j.cognition.2019.104159>Differential effects of knowledge and aging on the encoding and retrieval of everyday activities.</a></strong><br>2020. Smith ME, Newberry KM, Bailey HR<br><small><strong>Abstract:</strong> <em>We deconstruct continuous streams of action into smaller, meaningful events. Research has shown that the ability to segment continuous activity into such events and remember their contents declines with age; however, knowledge improves with age. We investigated how young and older adults use knowledge to more efficiently encode and later remember information from everyday events by having participants view a series of self-paced slideshows depicting everyday activities. For some activities, older adults produce more normative scripts than do young adults (older adult activities) and for other activities, young adults produce more normative scripts than do older adults (young adult activities). Overall, participants viewed event boundaries longer than within events (i.e., the event boundary advantage) replicating prior research (e.g., Hard, Recchia, & Tversky, 2011). Importantly, older adults demonstrated the boundary advantage for the older adult activities but not the young adult activities, and they also had better recognition memory for the older adult activities than the young adult activities. We also found that the magnitude of a participant's boundary advantage was associated with better memory, but only for the less knowledgeable activities. Results indicate that older adults use their intact knowledge to better encode and remember everyday activities, but that knowledge and event segmentation may have independent influences on event memory.</em></small><br>[ID: 31865171]"
      ],
      "text/plain": [
       "<IPython.core.display.HTML object>"
      ]
     },
     "metadata": {},
     "output_type": "display_data"
    },
    {
     "name": "stdout",
     "output_type": "stream",
     "text": [
      "ntn.nnn-score: 15.47475995098112\n"
     ]
    }
   ],
   "source": [
    "for doc, score in query_ntn_nnn(\"happiness and sadness of young adults\")[:10]:\n",
    "    display_summary(doc, show_abstract=True)\n",
    "    print(f\"ntn.nnn-score: {score}\")"
   ]
  },
  {
   "cell_type": "markdown",
   "metadata": {},
   "source": [
    "### Task 5\n",
    "\n",
    "In this last task, you should create a second version of the query function from Task 4, called `query_ntc_ntc`. This second version should use, as its name suggests, variant `ntc.ntc` instead of `ntn.nnn`, and therefore apply the cosine similarity measure, in addition to applying _tf-idf_. For this, consult the formula for variant `nnc.nnc` on the lecture slides and adopt it to include the _idf_ metric (that is, add the `t` element of `ntc`). (You can drop the square root of |q| in the formula, as indicated on the slides.)\n",
    "\n",
    "As a first step, we can calculate beforehand the length of all document vectors (because they don't depend on the query) for document vectors consisting of _tf-idf_ values. The code below does just that, assuming that you defined the function `tfidf(t,d)` above (don't change this code block, just run it):"
   ]
  },
  {
   "cell_type": "code",
   "execution_count": 18,
   "metadata": {},
   "outputs": [],
   "source": [
    "tfidf_length_values = defaultdict(int)\n",
    "\n",
    "for doc_id in Summaries.keys():\n",
    "    l = 0\n",
    "    for t in tf_matrix[doc_id].keys():\n",
    "        l += tfidf(t,doc_id) ** 2\n",
    "    tfidf_length_values[doc_id] = sqrt(l)\n",
    "\n",
    "def tfidf_length(d):\n",
    "    return tfidf_length_values[d]"
   ]
  },
  {
   "cell_type": "markdown",
   "metadata": {},
   "source": [
    "We can now get the length of a document vector by calling `tfidf_length(d)`.\n",
    "\n",
    "Based on this, you can now implement `query_ntc_ntc` in the code block below. You should again first define an auxiliary function, called `score_ntc_ntc`. You can start by copy-pasting the code from Task 4.\n",
    "\n",
    "To output the results, use the provided `display_summary` function to make the output a bit more like the results page of a search engine. Lastly, demonstrate your `query_ntc_ntc` function with the same example query as above: \"happiness and sadness of young adults\""
   ]
  },
  {
   "cell_type": "code",
   "execution_count": 19,
   "metadata": {},
   "outputs": [
    {
     "data": {
      "text/html": [
       "<strong><a href=http://dx.doi.org/10.1177/0956797619895282>Young Children Use Probability to Infer Happiness and the Quality of Outcomes.</a></strong><br>2020. Doan T, Friedman O, Denison S<br><small><strong>Abstract:</strong> <em>Happiness with an outcome often depends on whether better or worse outcomes were initially more likely. In five experiments, we found that young children (</em></small><br>[ID: 31868569]"
      ],
      "text/plain": [
       "<IPython.core.display.HTML object>"
      ]
     },
     "metadata": {},
     "output_type": "display_data"
    },
    {
     "name": "stdout",
     "output_type": "stream",
     "text": [
      "ntc.ntc-score: 2.1333800113033474\n"
     ]
    },
    {
     "data": {
      "text/html": [
       "<strong><a href=http://dx.doi.org/10.7717/peerj.13673>Happiness, depression, physical activity and cognition among the middle and old-aged population in China: a conditional process analysis.</a></strong><br>2022. Shi X, He X, Pan D, Qiao H, Li J<br><small><strong>Abstract:</strong> <em>Happiness is one variable of subjective well-being, which has been increasingly shown to have protective effects on health. Although the association between happiness and cognition has been established, the mechanism by which happiness leads to cognition remains unclear. Since happiness, depression, and physical activity may all be related to cognition, and happiness is related to depression and physical activity, this study explored the effect of depression and physical activity on the relationship between happiness and cognition among middle and old-aged individuals in China.</em></small><br>[ID: 35782096]"
      ],
      "text/plain": [
       "<IPython.core.display.HTML object>"
      ]
     },
     "metadata": {},
     "output_type": "display_data"
    },
    {
     "name": "stdout",
     "output_type": "stream",
     "text": [
      "ntc.ntc-score: 2.076762725121869\n"
     ]
    },
    {
     "data": {
      "text/html": [
       "<strong><a href=http://dx.doi.org/10.1016/j.jad.2010.09.017>Cognitive impairment and happiness in old people in low and middle income countries: results from the 10/66 study.</a></strong><br>2011. Cooper C, Bebbington P, Livingston G<br><small><strong>Abstract:</strong> <em>Recent studies indicate that happiness increases with age, except in those with dementia-related diseases. We investigated the relationship between cognitive decline and happiness, hypothesising that this relationship is modified by social networks and depression.</em></small><br>[ID: 20937528]"
      ],
      "text/plain": [
       "<IPython.core.display.HTML object>"
      ]
     },
     "metadata": {},
     "output_type": "display_data"
    },
    {
     "name": "stdout",
     "output_type": "stream",
     "text": [
      "ntc.ntc-score: 1.4610427808218656\n"
     ]
    },
    {
     "data": {
      "text/html": [
       "<strong><a href=http://dx.doi.org/10.1111/j.1399-5618.2008.00633.x>An fMRI investigation of working memory and sadness in females with bipolar disorder: a brief report.</a></strong><br>2008. Deckersbach T, Rauch SL, Buhlmann U, Ostacher MJ, Beucke JC, Nierenberg AA, Sachs G, Dougherty DD<br><small><strong>Abstract:</strong> <em>Functional magnetic resonance imaging (fMRI) studies have documented abnormalities in the dorsolateral prefrontal cortex (DLPFC) and anterior cingulate cortex in bipolar disorder in the context of working memory tasks. It is increasingly recognized that DLPFC regions play a role in mood regulation and the integration of emotion and cognition. The purpose of the present study was to investigate with fMRI the interaction between acute sadness and working memory functioning in individuals with bipolar disorder.</em></small><br>[ID: 19594508]"
      ],
      "text/plain": [
       "<IPython.core.display.HTML object>"
      ]
     },
     "metadata": {},
     "output_type": "display_data"
    },
    {
     "name": "stdout",
     "output_type": "stream",
     "text": [
      "ntc.ntc-score: 1.3211574252459783\n"
     ]
    },
    {
     "data": {
      "text/html": [
       "<strong><a href=http://dx.doi.org/10.3390/ijerph182111685>Anxiety, Low Self-Esteem and a Low Happiness Index Are Associated with Poor School Performance in Chilean Adolescents: A Cross-Sectional Analysis.</a></strong><br>2021. Zapata-Lamana R, Sanhueza-Campos C, Stuardo-Álvarez M, Ibarra-Mora J, Mardones-Contreras M, Reyes-Molina D, Vásquez-Gómez J, Lasserre-Laso N, Poblete-Valderrama F, Petermann-Rocha F, Parra-Rizo MA, Cigarroa I<br><small><strong>Abstract:</strong> <em>To analyze the relationship between anxiety, self-esteem, happiness index and primary school students' academic performance in Chilean adolescents from the Biobío province.</em></small><br>[ID: 34770200]"
      ],
      "text/plain": [
       "<IPython.core.display.HTML object>"
      ]
     },
     "metadata": {},
     "output_type": "display_data"
    },
    {
     "name": "stdout",
     "output_type": "stream",
     "text": [
      "ntc.ntc-score: 1.2235729217807025\n"
     ]
    },
    {
     "data": {
      "text/html": [
       "<strong><a href=http://dx.doi.org/10.3390/ijerph16244954>Happiness and Cognitive Impairment Among Older Adults: Investigating the Mediational Roles of Disability, Depression, Social Contact Frequency, and Loneliness.</a></strong><br>2019. Tan JH, Abdin E, Shahwan S, Zhang Y, Sambasivam R, Vaingankar JA, Mahendran R, Chua HC, Chong SA, Subramaniam M<br><small><strong>Abstract:</strong> <em> Background: Understanding the lower level of happiness among older adults with cognitive impairment has been a largely neglected issue. This study (1) reports on the level of happiness among older adults in Singapore and (2) examines the potential mediating roles of depression, disability, social contact frequency, and loneliness in the relationship between cognitive scores and happiness. Methods: Data for this study were extracted from the Well-being of the Singapore Elderly (WiSE) study: a cross-sectional; comprehensive single-phase survey conducted among Singapore citizens and permanent residents that were aged 60 years and above ( n = 2565). The Geriatric Mental State examination (GMS) was administered to the participants. Questions pertaining to socio-demographic characteristics; happiness; loneliness; social contact; depression; and, disability were utilized in this study. Logistic regression analyses and mediation analyses were used to explore the correlates of happiness and potential mediating factors. Results: Overall, 96.2% of older adults in Singapore reported feeling either fairly happy or very happy. In the regression analysis, individuals of Malay descent, those who were married/cohabiting, or had higher education levels were more likely to report feeling happy. After controlling for socio-demographic factors, higher cognitive scores were associated with higher odds of reporting happiness. We found that the positive association between cognition and happiness was fully mediated by disability, depression, loneliness, and frequency of contact with friends. Conclusion: The majority of the older adult population reported feeling fairly or very happy. While cognitive impairment has shown limited reversibility in past studies, unhappiness among older adults with cognitive impairment might be potentially mitigated through interventions addressing accompanying issues of social isolation, disability, and depression. </em></small><br>[ID: 31817633]"
      ],
      "text/plain": [
       "<IPython.core.display.HTML object>"
      ]
     },
     "metadata": {},
     "output_type": "display_data"
    },
    {
     "name": "stdout",
     "output_type": "stream",
     "text": [
      "ntc.ntc-score: 1.2087531261751894\n"
     ]
    },
    {
     "data": {
      "text/html": [
       "<strong><a href=http://dx.doi.org/10.1016/j.psychres.2016.05.046>Life satisfaction and happiness among young adults with schizophrenia.</a></strong><br>2016. Fervaha G, Agid O, Takeuchi H, Foussias G, Remington G<br><small><strong>Abstract:</strong> <em>People with schizophrenia often experience persistent symptoms and impairments in community functioning; however, despite this, many individuals with the illness report high levels of well-being. We explored the level of subjective well-being in a sample of relatively young outpatients with schizophrenia and matched healthy controls. Seventy-five outpatients with schizophrenia and 72 demographically matched healthy controls, aged 18-35 years, participated in the present study. Subjective well-being was defined as a combination of happiness and satisfaction with life, each of which were measured using validated instruments. Symptom severity, insight, and cognition were also evaluated. People with schizophrenia endorsed significantly lower levels of subjective well-being than healthy controls although, there was substantial overlap in scores, and many participants with schizophrenia endorsed a high level of well-being. Both depressive symptoms and motivational deficits demonstrated significant independent predictive value for determining level of well-being. At a group level, the mean level of happiness and life satisfaction was lower among people with schizophrenia than healthy comparison participants. However, despite this mean difference, there exists marked overlap in individual scores between those with and without schizophrenia, demonstrating that many young people with schizophrenia do, in fact, endorse high levels of subjective well-being.</em></small><br>[ID: 27288735]"
      ],
      "text/plain": [
       "<IPython.core.display.HTML object>"
      ]
     },
     "metadata": {},
     "output_type": "display_data"
    },
    {
     "name": "stdout",
     "output_type": "stream",
     "text": [
      "ntc.ntc-score: 1.1444708406913453\n"
     ]
    },
    {
     "data": {
      "text/html": [
       "<strong><a href=http://dx.doi.org/10.1111/psyg.12622>Facial expression recognition in mild cognitive impairment and dementia: is the preservation of happiness recognition hypothesis true?</a></strong><br>2021. Hayashi S, Terada S, Takenoshita S, Kawano Y, Yabe M, Imai N, Horiuchi M, Miki T, Yokota O, Yamada N<br><small><strong>Abstract:</strong> <em>Social cognition encompasses facial expression recognition (FER), theory of mind, and empathy. Although studies examining FER in large numbers of patients with mild cognitive impairment (MCI) or dementia are rare, relative preservation of happiness recognition in dementia was reported in some studies. In this study, we examined performance on FER tests and its relationship to clinical demographics and other cognitive function test scores in patients with cognitive decline.</em></small><br>[ID: 33191622]"
      ],
      "text/plain": [
       "<IPython.core.display.HTML object>"
      ]
     },
     "metadata": {},
     "output_type": "display_data"
    },
    {
     "name": "stdout",
     "output_type": "stream",
     "text": [
      "ntc.ntc-score: 1.0554378550650438\n"
     ]
    },
    {
     "data": {
      "text/html": [
       "<strong><a href=http://dx.doi.org/10.1002/hbm.24836>Direct replication of task-dependent neural activation patterns during sadness introspection in two independent adolescent samples.</a></strong><br>2020. Vilgis V, Rhoads SA, Weissman DG, Gelardi KL, Forbes EE, Hipwell AE, Keenan K, Hastings PD, Guyer AE<br><small><strong>Abstract:</strong> <em>Functional neuroimaging results need to replicate to inform sound models of human social cognition and its neural correlates. Introspection, the capacity to reflect on one's thoughts and feelings, is one process required for normative social cognition and emotional functioning. Engaging in introspection draws on a network of brain regions including medial prefrontal cortex (mPFC), posterior cingulate cortex (PCC), middle temporal gyri (MTG), and temporoparietal junction (TPJ). Maturation of these regions during adolescence mirrors the behavioral advances seen in adolescent social cognition, but the neural correlates of introspection in adolescence need to replicate to confirm their generalizability and role as a possible mechanism. The current study investigated whether reflecting upon one's own feelings of sadness would activate and replicate similar brain regions in two independent samples of adolescents. Participants included 156 adolescents (50% female) from the California Families Project and 119 adolescent girls from the Pittsburgh Girls Study of Emotion. All participants completed the Emotion Regulation Questionnaire (ERQ) and underwent a functional magnetic resonance imaging scan while completing the same facial emotion-processing task at age 16-17 years. Both samples showed similar whole-brain activation patterns when engaged in sadness introspection and when judging a nonemotional facial feature. Whole-brain activation was unrelated to ERQ scores in both samples. Neural responsivity to task manipulations replicated in regions recruited for socio-emotional (mPFC, PCC, MTG, TPJ) and attention (dorsolateral PFC, precentral gyri, superior occipital gyrus, superior parietal lobule) processing. These findings demonstrate robust replication of neural engagement during sadness introspection in two independent adolescent samples.</em></small><br>[ID: 31639270]"
      ],
      "text/plain": [
       "<IPython.core.display.HTML object>"
      ]
     },
     "metadata": {},
     "output_type": "display_data"
    },
    {
     "name": "stdout",
     "output_type": "stream",
     "text": [
      "ntc.ntc-score: 0.971540823048603\n"
     ]
    },
    {
     "data": {
      "text/html": [
       "<strong><a href=http://dx.doi.org/10.3389/fpsyg.2013.00592>Reverse correlating trustworthy faces in young and older adults.</a></strong><br>2013. Ethier-Majcher C, Joubert S, Gosselin F<br><small><strong>Abstract:</strong> <em>Little is known about how older persons determine if someone deserves their trust or not based on their facial appearance, a process referred to as \"facial trustworthiness.\"In the past few years, Todorov and colleagues have argued that, in young adults, trustworthiness judgments are an extension of emotional judgments, and therefore, that trust judgments are made based on a continuum between anger and happiness (Todorov, 2008; Engell et al., 2010). Evidence from the literature on emotion processing suggest that older adults tend to be less efficient than younger adults in the recognition of negative facial expressions (Calder et al., 2003; Firestone et al., 2007; Ruffman et al., 2008; Chaby and Narme, 2009). Based on Todorov';s theory and the fact that older adults seem to be less efficient than younger adults in identifying emotional expressions, one could expect that older individuals would have different representations of trustworthy faces and that they would use different cues than younger adults in order to make such judgments. We verified this hypothesis using a variation of Mangini and Biederman's (2004) reverse correlation method in order to test and compare classification images resulting from trustworthiness (in the context of money investment), from happiness, and from anger judgments in two groups of participants: young adults and older healthy adults. Our results show that for elderly participants, both happy and angry representations are correlated with trustworthiness judgments. However, in young adults, trustworthiness judgments are mainly correlated with happiness representations. These results suggest that young and older adults differ in their way of judging trustworthiness. </em></small><br>[ID: 24046755]"
      ],
      "text/plain": [
       "<IPython.core.display.HTML object>"
      ]
     },
     "metadata": {},
     "output_type": "display_data"
    },
    {
     "name": "stdout",
     "output_type": "stream",
     "text": [
      "ntc.ntc-score: 0.9332538658085029\n"
     ]
    }
   ],
   "source": [
    "def score_ntc_ntc(query, doc_id):\n",
    "    score = 0.0\n",
    "    for term in preprocess(tokenize(query)):\n",
    "        score += tfidf(term, doc_id) * idf(term) / tfidf_length(doc_id)\n",
    "    return score\n",
    "\n",
    "def query_ntc_ntc(query):\n",
    "    results = defaultdict(set)\n",
    "    for doc in or_query(query):\n",
    "        results[doc] = score_ntc_ntc(query, doc)\n",
    "    return sorted(results.items(), key=lambda x: x[1], reverse=True)\n",
    "\n",
    "for doc, score in query_ntc_ntc(\"happiness and sadness of young adults\")[:10]:\n",
    "    display_summary(doc, show_abstract=True)\n",
    "    print(f\"ntc.ntc-score: {score}\")"
   ]
  },
  {
   "cell_type": "markdown",
   "metadata": {},
   "source": [
    "# Submission"
   ]
  },
  {
   "cell_type": "markdown",
   "metadata": {},
   "source": [
    "Submit the answers to the assignment via Canvas as a modified version of this Notebook file (file with `.ipynb` extension) that includes your code and your answers.\n",
    "\n",
    "Before submitting, restart the kernel and re-run the complete code (**Kernel > Restart & Run All**), and then check whether your assignment code still works as expected.\n",
    "\n",
    "Don't forget to add your name, and remember that the assignments have to be done **individually**, and that code sharing or copying are **strictly forbidden** and will be punished."
   ]
  }
 ],
 "metadata": {
  "kernelspec": {
   "display_name": "Python 3.9.6 64-bit",
   "language": "python",
   "name": "python3"
  },
  "language_info": {
   "codemirror_mode": {
    "name": "ipython",
    "version": 3
   },
   "file_extension": ".py",
   "mimetype": "text/x-python",
   "name": "python",
   "nbconvert_exporter": "python",
   "pygments_lexer": "ipython3",
   "version": "3.9.6"
  },
  "vscode": {
   "interpreter": {
    "hash": "31f2aee4e71d21fbe5cf8b01ff0e069b9275f58929596ceb00d14d90e3e16cd6"
   }
  }
 },
 "nbformat": 4,
 "nbformat_minor": 4
}
