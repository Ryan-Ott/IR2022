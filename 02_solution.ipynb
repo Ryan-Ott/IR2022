{
 "cells": [
  {
   "cell_type": "markdown",
   "metadata": {},
   "source": [
    "# Assignment 2: Building a Simple Index"
   ]
  },
  {
   "cell_type": "markdown",
   "metadata": {},
   "source": [
    "In this assignment, we will build a simple search index, which we will use later for Boolean retrieval. The assignment tasks are again at the bottom of this document."
   ]
  },
  {
   "cell_type": "markdown",
   "metadata": {},
   "source": [
    "## Loading the Data"
   ]
  },
  {
   "cell_type": "code",
   "execution_count": 1,
   "metadata": {},
   "outputs": [],
   "source": [
    "Summaries_file = 'data/cognition_Summaries.pkl.bz2'\n",
    "Abstracts_file = 'data/cognition_Abstracts.pkl.bz2'"
   ]
  },
  {
   "cell_type": "code",
   "execution_count": 2,
   "metadata": {},
   "outputs": [],
   "source": [
    "import pickle, bz2\n",
    "from collections import namedtuple\n",
    "\n",
    "Summaries = pickle.load( bz2.BZ2File( Summaries_file, 'rb' ) )\n",
    "\n",
    "paper = namedtuple( 'paper', ['title', 'authors', 'year', 'doi'] )\n",
    "\n",
    "for (id, paper_info) in Summaries.items():\n",
    "    \n",
    "    Summaries[id] = paper( *paper_info )\n",
    "    \n",
    "Abstracts = pickle.load( bz2.BZ2File( Abstracts_file, 'rb' ) )"
   ]
  },
  {
   "cell_type": "markdown",
   "metadata": {},
   "source": [
    "Let's have a look at what the data looks like for an example of a paper:"
   ]
  },
  {
   "cell_type": "code",
   "execution_count": 3,
   "metadata": {},
   "outputs": [
    {
     "data": {
      "text/plain": [
       "paper(title='Handgrip Strength in Old and Very Old Adults: Mood, Cognition, Function, and Mortality.', authors=['Stessman J', 'Rottenberg Y', 'Fischer M', 'Hammerman-Rozenberg A', 'Jacobs JM'], year=2017, doi='10.1111/jgs.14509')"
      ]
     },
     "execution_count": 3,
     "metadata": {},
     "output_type": "execute_result"
    }
   ],
   "source": [
    "Summaries[28102890]"
   ]
  },
  {
   "cell_type": "code",
   "execution_count": 4,
   "metadata": {},
   "outputs": [
    {
     "data": {
      "text/plain": [
       "'To determine the trajectory of handgrip strength (HGS) from age 70 to 90 and its association with mood, cognition, functional status, and mortality.'"
      ]
     },
     "execution_count": 4,
     "metadata": {},
     "output_type": "execute_result"
    }
   ],
   "source": [
    "Abstracts[28102890]"
   ]
  },
  {
   "cell_type": "markdown",
   "metadata": {},
   "source": [
    "## Some Utility Functions"
   ]
  },
  {
   "cell_type": "markdown",
   "metadata": {},
   "source": [
    "We'll define some utility functions that allow us to tokenize a string into terms, perform linguistic preprocessing on a list of terms, as well as a function to display information about a paper in a nice way. Note that these tokenization and preprocessing functions are rather naive. We will improve them in a later assignment."
   ]
  },
  {
   "cell_type": "code",
   "execution_count": 5,
   "metadata": {},
   "outputs": [
    {
     "name": "stdout",
     "output_type": "stream",
     "text": [
      "['lorem', 'ipsum', 'dolor', 'sit', 'amet']\n"
     ]
    }
   ],
   "source": [
    "def tokenize(text):\n",
    "    \"\"\"\n",
    "    Function that tokenizes a string in a rather naive way. Can be extended later.\n",
    "    \"\"\"\n",
    "    return text.split(' ')\n",
    "\n",
    "def preprocess(tokens):\n",
    "    \"\"\"\n",
    "    Perform linguistic preprocessing on a list of tokens. Can be extended later.\n",
    "    \"\"\"\n",
    "    result = []\n",
    "    for token in tokens:\n",
    "        result.append(token.lower())\n",
    "    return result\n",
    "\n",
    "print(preprocess(tokenize(\"Lorem ipsum dolor sit AMET\")))"
   ]
  },
  {
   "cell_type": "code",
   "execution_count": 6,
   "metadata": {},
   "outputs": [
    {
     "data": {
      "text/html": [
       "<strong><a href=http://dx.doi.org/10.1111/jgs.14509>Handgrip Strength in Old and Very Old Adults: Mood, Cognition, Function, and Mortality.</a></strong><br>2017. Stessman J, Rottenberg Y, Fischer M, Hammerman-Rozenberg A, Jacobs JM<br>[ID: 28102890]"
      ],
      "text/plain": [
       "<IPython.core.display.HTML object>"
      ]
     },
     "metadata": {},
     "output_type": "display_data"
    },
    {
     "data": {
      "text/html": [
       "<strong><a href=http://dx.doi.org/10.1111/jgs.14509>Handgrip Strength in Old and Very Old Adults: Mood, Cognition, Function, and Mortality.</a></strong><br>2017. Stessman J, Rottenberg Y, Fischer M, Hammerman-Rozenberg A, Jacobs JM<br><small><strong>Abstract:</strong> <em>To determine the trajectory of handgrip strength (HGS) from age 70 to 90 and its association with mood, cognition, functional status, and mortality.</em></small><br>[ID: 28102890]"
      ],
      "text/plain": [
       "<IPython.core.display.HTML object>"
      ]
     },
     "metadata": {},
     "output_type": "display_data"
    }
   ],
   "source": [
    "from IPython.display import display, HTML\n",
    "import re\n",
    "\n",
    "def display_summary( id, show_abstract=False, show_id=True, extra_text='' ):\n",
    "    \"\"\"\n",
    "    Function for printing a paper's summary through IPython's Rich Display System.\n",
    "    Trims long author lists, and adds a link to the paper's DOI (when available).\n",
    "    \"\"\"\n",
    "    s = Summaries[id]\n",
    "    lines = []\n",
    "    title = s.title\n",
    "    if s.doi != '':\n",
    "        title = '<a href=http://dx.doi.org/{:s}>{:s}</a>'.format(s.doi, title)\n",
    "    title = '<strong>' + title + '</strong>'\n",
    "    lines.append(title)\n",
    "    authors = ', '.join( s.authors[:20] ) + ('' if len(s.authors) <= 20 else ', ...')\n",
    "    lines.append(str(s.year) + '. ' + authors)\n",
    "    if (show_abstract):\n",
    "        lines.append('<small><strong>Abstract:</strong> <em>{:s}</em></small>'.format(Abstracts[id]))\n",
    "    if (show_id):\n",
    "        lines.append('[ID: {:d}]'.format(id))\n",
    "    if (extra_text != ''):\n",
    "         lines.append(extra_text)\n",
    "    display( HTML('<br>'.join(lines)) )\n",
    "\n",
    "display_summary(28102890)\n",
    "display_summary(28102890, show_abstract=True)"
   ]
  },
  {
   "cell_type": "markdown",
   "metadata": {},
   "source": [
    "## Creating our first index"
   ]
  },
  {
   "cell_type": "markdown",
   "metadata": {},
   "source": [
    "We will now create an _inverted index_ based on the words in the titles and abstracts of the papers in our dataset. We will implement our inverted index as a Python dictionary with term strings as keys and posting lists (implemented as Python lists) as values. We include all the tokens we can find in the title and (if available) in the abstract:"
   ]
  },
  {
   "cell_type": "code",
   "execution_count": 7,
   "metadata": {},
   "outputs": [],
   "source": [
    "from collections import defaultdict\n",
    "\n",
    "inverted_index = defaultdict(list)\n",
    "\n",
    "# This can take a few seconds:\n",
    "for id in sorted(Summaries.keys()):\n",
    "    term_set = set(preprocess(tokenize(Summaries[id].title)))\n",
    "    if id in Abstracts:\n",
    "        term_set.update(preprocess(tokenize(Abstracts[id])))\n",
    "    for term in term_set:\n",
    "        inverted_index[term].append(id)"
   ]
  },
  {
   "cell_type": "markdown",
   "metadata": {},
   "source": [
    "Let's see what's in the index for the example term 'amsterdam':"
   ]
  },
  {
   "cell_type": "code",
   "execution_count": 8,
   "metadata": {},
   "outputs": [
    {
     "name": "stdout",
     "output_type": "stream",
     "text": [
      "[10547144, 17888546, 18289505, 19004529, 20594617, 20969529, 21482441, 22049191, 23232034, 23802509, 23964225, 25114679, 25598195, 25631781, 25684214, 25877267, 26976043, 27148107, 28462387, 28671504, 29029762, 29209183, 29406610, 29843832, 29848469, 31026198, 31082289, 31547145, 31730165, 33008394, 34203041, 34408904, 34541288, 34925184, 35149261]\n"
     ]
    }
   ],
   "source": [
    "print(inverted_index['amsterdam'])"
   ]
  },
  {
   "cell_type": "markdown",
   "metadata": {},
   "source": [
    "We can now use this inverted index to answer simple one-word queries, for example to show all papers that contain the word 'utrecht':"
   ]
  },
  {
   "cell_type": "code",
   "execution_count": 9,
   "metadata": {},
   "outputs": [
    {
     "data": {
      "text/html": [
       "<strong><a href=http://dx.doi.org/10.1016/j.ejphar.2013.04.055>Sweet memories: 20 years of progress in research on cognitive functioning in diabetes.</a></strong><br>2013. Biessels GJ<br><small><strong>Abstract:</strong> <em>This paper appears in a special issue of the European Journal of Pharmacology that commemorates the retirement of Professor Willem Hendrik Gispen as distinguished professor of Utrecht University and as editor of the European Journal of Pharmacology. The paper provides an overview of a research line on the impact of diabetes on cognition that we started together 20 years ago, and that continues to this day. I will report how we more or less stumbled upon this topic, that was understudied, but proved to be of definite clinical relevance. I will discuss how we tried to establish animal models, how developments from clinical and experimental studies from around the world led us to reconsider our concepts, and how findings from research on diabetic neuropathy, insulin signaling in the brain, Alzheimer's disease and dementia, and vascular disease and stroke converged and helped to create new ideas and refute others. This voyage has not ended yet, because the ultimate goal is to offer patients with diabetes treatment that can protect them against accelerated cognitive decline. Although this could take another 20 years, the research from Willem Hendrik and his group brought us an important step in the right direction. </em></small><br>[ID: 23872409]"
      ],
      "text/plain": [
       "<IPython.core.display.HTML object>"
      ]
     },
     "metadata": {},
     "output_type": "display_data"
    },
    {
     "data": {
      "text/html": [
       "<strong><a href=http://dx.doi.org/10.1097/MRR.0000000000000198>Predictors of physical independence at discharge after stroke rehabilitation in a Dutch population.</a></strong><br>2017. Ten Brink AF, Hajos TR, van Bennekom C, Nachtegaal J, Meulenbelt HE, Fleuren JF, Kouwenhoven M, Luijkx MM, Wijffels MP, Post MW<br><small><strong>Abstract:</strong> <em>The aim of this study was to identify predictors, available at admission, of physical independence at discharge from inpatient rehabilitation. Secondary aims were to identify predictors of functional gain and length of stay (LOS). We included 1310 adult stroke patients who were admitted for inpatient rehabilitation in five Dutch rehabilitation centres. Data on the Utrecht Scale for Evaluation of Clinical Rehabilitation at admission and discharge (physical and cognitive independence, mood, pain and fatigue), age, sex and in a subsample stroke characteristics as well were collected. A prediction model was created using random coefficient analysis. None of the stroke characteristics were independently associated with physical independence or functional gain at discharge, or LOS. Higher physical and cognitive independence scores and severe pain at admission were predictors of higher physical independence scores at discharge. Furthermore, lower physical independence scores, higher cognitive independence scores, less pain at admission and younger age predicted more functional gain. Finally, lower physical and cognitive independence scores at admission and younger age predicted longer LOS. Physical independence at admission was the most robust predictor for rehabilitation outcome in a Dutch rehabilitation setting. To a lesser extent, age, cognitive independence and pain predicted rehabilitation outcome after stroke. Treatment of cognition and pain should be taken into account during rehabilitation. Further work needs to be carried out to establish whether focusing on these factors improves outcome after rehabilitation.</em></small><br>[ID: 27749516]"
      ],
      "text/plain": [
       "<IPython.core.display.HTML object>"
      ]
     },
     "metadata": {},
     "output_type": "display_data"
    },
    {
     "data": {
      "text/html": [
       "<strong><a href=http://dx.doi.org/10.1080/09602011.2017.1313746>Return to work after mild-to-moderate stroke: work satisfaction and predictive factors.</a></strong><br>2019. van der Kemp J, Kruithof WJ, Nijboer TCW, van Bennekom CAM, van Heugten C, Visser-Meily JMA<br><small><strong>Abstract:</strong> <em>A large proportion of stroke patients are unable to return to work (RTW), although figures vary greatly. A total of 121 mild-to-moderate stroke patients, who had a paid job at the time of their stroke were included (a) to quantify RTW and work satisfaction one-year post-stroke (using the Utrecht Scale for Evaluation of Rehabilitation-Participation) and (b) to determine factors predicting RTW post-stroke, based on stroke-related, personal and neuropsychological variables. Half of the patients were not in work (28%) or were working less (22%) than pre-stroke. Ninety percent of those in fulltime employment post-stroke were satisfied with their occupational situation, against 36% of the unemployed participants. In regards to factors predicting RTW, global cognitive functioning (r = .19, Montreal Cognitive Assessment) and depressive symptoms (r = -.16, Hospital Anxiety and Depression Scale) at two months post-stroke onset were associated with return to work within one year. Only global cognitive functioning was an independent predictor of RTW (11.3% variance, p = .013). Although the explained variance was not that high, neuropsychological factors probably play a pivotal role in returning to work and should be taken into account during rehabilitation after mild and moderate stroke.</em></small><br>[ID: 28441897]"
      ],
      "text/plain": [
       "<IPython.core.display.HTML object>"
      ]
     },
     "metadata": {},
     "output_type": "display_data"
    },
    {
     "data": {
      "text/html": [
       "<strong><a href=http://dx.doi.org/10.1080/09602011.2019.1692670>The relationship between social cognition and participation in the long term after stroke.</a></strong><br>2021. Stiekema APM, Nijsse B, de Kort PLM, Spikman JM, Visser-Meily JMA, van Heugten CM<br><small><strong>Abstract:</strong> <em>Social cognitive impairments may play a role in participation restrictions after stroke. Understanding their relationship could inform treatment approaches to improve participation. We investigated the relationship between social cognition and participation in the long term after stroke. Of 395 patients participating in a large prospective cohort study, cross-sectional data were available at 3-4 years post-stroke of 118 patients on tests for emotion recognition, theory of mind, empathy, and behaviour regulation. Participation was assessed with the Utrecht Scale for Evaluation of Rehabilitation - Participation (USER-P). Bivariate and multivariate regression analysis were used to examine the relationship between social cognitive domains and participation. The majority suffered from minor stroke (83.1% scored NIHSS 0-4). Only behaviour regulation was related to participation restrictions in bivariate analysis, but social cognitive impairments did not predict participation restrictions in multivariate regression in this group. To conclude, in a sample of minor stroke patients with mild impairments in theory of mind, emotion recognition and behavioural control, there were no associations with restrictions in participation. Research should examine whether a relationship is present in patients with more severe stroke. In addition, measuring social aspects of participation is necessary to further unravel this relationship, to determine treatment targets for improving participation.</em></small><br>[ID: 31854264]"
      ],
      "text/plain": [
       "<IPython.core.display.HTML object>"
      ]
     },
     "metadata": {},
     "output_type": "display_data"
    },
    {
     "data": {
      "text/html": [
       "<strong><a href=http://dx.doi.org/10.1080/09602011.2020.1769687>Which approach to measure cognitive functioning should be preferred when exploring the association between cognitive functioning and participation after stroke?</a></strong><br>2021. de Graaf JA, Nijsse B, Schepers VPM, van Heugten CM, Post MWM, Visser-Meily JMA<br><small><strong>Abstract:</strong> <em>A variety of approaches are currently used to explore the relationship between cognitive functioning and participation after stroke. We aimed to gain insight into the preferred approach to measure cognitive functioning when exploring the association between cognitive functioning and participation in the long term after stroke. In this inception cohort study 128 individuals with stroke participated and were assessed at a single time point three to four years after the event. Participation was measured using the Restrictions subscale of the Utrecht Scale for Evaluation of Rehabilitation-Participation. Subjective cognitive complaints were assessed using the Cognition subscale of the Checklist for Cognitive and Emotional Consequences (CLCE-24-C). Objective cognitive performance was measured using the Montreal Cognitive Assessment (MoCA) and a neuropsychological test battery (NTB) testing multiple cognitive domains. Participation showed a strong correlation (</em></small><br>[ID: 32496877]"
      ],
      "text/plain": [
       "<IPython.core.display.HTML object>"
      ]
     },
     "metadata": {},
     "output_type": "display_data"
    },
    {
     "data": {
      "text/html": [
       "<strong><a href=http://dx.doi.org/10.5964/ejop.v16i1.1832>Examining the Relationship Between Engagement and Perceived Stress-Related Cognitive Complaints in the Argentinian Working Population.</a></strong><br>2020. Miranda AR, Rivadero L, Bruera JÁ, Villarreal V, Bernio LY, de Los Ángeles Baydas L, Brizuela ML, Serra SV<br><small><strong>Abstract:</strong> <em>Stress has a negative impact on cognitive functioning and occupational well-being. The aim of this study was to assess the relationship among perceived stress, cognitive complaints and work engagement in public employees from Córdoba, Argentina. In this cross-sectional study, self-report questionnaires were administered to 240 participants. Spanish versions of the following instruments were used: Perceived Stress Scale (PSS), Utrecht Work Engagement Scale (UWES), Memory Failures in Everyday (MFE), Executive Complaint Questionnaire (ECQ). Statistical analysis included ANOVA, path analysis, and multiple logistic regression. Stressed workers showed lower work engagement and more cognitive complaints, even after adjusting for demographic variables. Negative associations were also observed between work engagement and cognitive complaints, suggesting that cognitive difficulties are related to engagement. Given the relation among stress, cognition, and work engagement, it is important to consider these factors to foster workers' health and work productivity.</em></small><br>[ID: 33680167]"
      ],
      "text/plain": [
       "<IPython.core.display.HTML object>"
      ]
     },
     "metadata": {},
     "output_type": "display_data"
    }
   ],
   "source": [
    "query_word = 'utrecht'\n",
    "for i in inverted_index[query_word]:\n",
    "    display_summary(i, show_abstract=True)"
   ]
  },
  {
   "cell_type": "markdown",
   "metadata": {},
   "source": [
    "----------"
   ]
  },
  {
   "cell_type": "markdown",
   "metadata": {},
   "source": [
    "# Tasks"
   ]
  },
  {
   "cell_type": "markdown",
   "metadata": {},
   "source": [
    "**Your name:** ..."
   ]
  },
  {
   "cell_type": "markdown",
   "metadata": {},
   "source": [
    "### Task 1\n",
    "\n",
    "Implement the function `and_merge` outlined below. This function takes two posting lists from the index that can be assumed to be sorted already, and it should return the result of the merging of the two lists with AND. The resulting list should therefore include all the elements that appear in both lists. As explained on the slides, this operation should take advantage of the input lists being sorted already, should not perform any additional sorting operation, and should go through each of the input lists just once. Then, test your function with an example."
   ]
  },
  {
   "cell_type": "code",
   "execution_count": 10,
   "metadata": {},
   "outputs": [
    {
     "name": "stdout",
     "output_type": "stream",
     "text": [
      "[2, 5]\n"
     ]
    }
   ],
   "source": [
    "def and_merge(sorted_list1, sorted_list2):  \n",
    "    merged_list = []  \n",
    "    # first we make copies of the lists, so we don't modify the existing lists in the index:\n",
    "    list1 = list(sorted_list1)  \n",
    "    list2 = list(sorted_list2)  \n",
    "    while (list1 and list2):  \n",
    "        if (list1[0] < list2[0]):  \n",
    "            list1.pop(0)  \n",
    "        elif (list1[0] > list2[0]):  \n",
    "            list2.pop(0)  \n",
    "        else:  \n",
    "            merged_list.append(list1[0])  \n",
    "            list1.pop(0)  \n",
    "            list2.pop(0)  \n",
    "    return merged_list  \n",
    "\n",
    "# testing:\n",
    "print(and_merge([1,2,5,6,9], [2,4,5,7,8]))  "
   ]
  },
  {
   "cell_type": "markdown",
   "metadata": {},
   "source": [
    "### Task 2\n",
    "\n",
    "Similarly as above, implement the function `or_merge` outlined below that executes an OR merging of the lists. The resulting list should therefore include all the elements that appear in at least one of the lists (note this is an 'inclusive OR' and not a 'XOR'). Again, this operation should take advantage of the input lists being sorted already, should not perform any additional sorting operation, and should go through each of the input lists just once. Elements that appear in both input list should only appear once in the output list. Test your function again with an example."
   ]
  },
  {
   "cell_type": "code",
   "execution_count": 11,
   "metadata": {},
   "outputs": [
    {
     "name": "stdout",
     "output_type": "stream",
     "text": [
      "[1, 2, 4, 5, 6, 7, 8, 9]\n"
     ]
    }
   ],
   "source": [
    "def or_merge(sorted_list1, sorted_list2):  \n",
    "    merged_list = []  \n",
    "    list1 = list(sorted_list1)  \n",
    "    list2 = list(sorted_list2)  \n",
    "    while (True):  \n",
    "        if (not list1):  \n",
    "            merged_list.extend(list2)  \n",
    "            break  \n",
    "        if (not list2):  \n",
    "            merged_list.extend(list1)  \n",
    "            break  \n",
    "        if (list1[0] < list2[0]):  \n",
    "            merged_list.append(list1[0])  \n",
    "            list1.pop(0)  \n",
    "        elif (list1[0] > list2[0]):  \n",
    "            merged_list.append(list2[0])  \n",
    "            list2.pop(0)  \n",
    "        else:  \n",
    "            merged_list.append(list1[0])  \n",
    "            list1.pop(0)  \n",
    "            list2.pop(0)  \n",
    "    return merged_list  \n",
    "\n",
    "print(or_merge([1,2,5,6,9], [2,4,5,7,8]))  "
   ]
  },
  {
   "cell_type": "markdown",
   "metadata": {},
   "source": [
    "### Task 3\n",
    "\n",
    "Construct a function called `and_query` that takes as input a single string, consisting of one or more words, and returns as function value a list of matching documents. `and_query`, as its name suggests, should require that all query terms are present in the documents of the result list.\n",
    "\n",
    "For that, access the variable `inverted_index` from above and use the method `and_merge` that you defined. Also use the `tokenize` and `preprocess` functions we defined above to tokenize and preprocess your query.\n",
    "\n",
    "Again demonstrate the working of your function with an example (choose one that leads to fewer than 100 hits to not overblow this notebook file)."
   ]
  },
  {
   "cell_type": "code",
   "execution_count": 12,
   "metadata": {},
   "outputs": [
    {
     "name": "stdout",
     "output_type": "stream",
     "text": [
      "Results for the AND-query 'work performance':\n"
     ]
    },
    {
     "data": {
      "text/html": [
       "<strong>The basal ganglia. A brief review and interpretation.</strong><br>1975. Villablanca JR, Marcus RJ<br>[ID: 797217]"
      ],
      "text/plain": [
       "<IPython.core.display.HTML object>"
      ]
     },
     "metadata": {},
     "output_type": "display_data"
    },
    {
     "data": {
      "text/html": [
       "<strong><a href=http://dx.doi.org/10.1016/0011-5029(92)90010-m>Alzheimer's disease.</a></strong><br>1992. Bennett DA, Evans DA<br>[ID: 1727391]"
      ],
      "text/plain": [
       "<IPython.core.display.HTML object>"
      ]
     },
     "metadata": {},
     "output_type": "display_data"
    },
    {
     "data": {
      "text/html": [
       "<strong><a href=http://dx.doi.org/10.1111/j.1749-6632.1991.tb00221.x>The impact of human immunodeficiency virus on cognitive function.</a></strong><br>1991. Stern Y<br>[ID: 1776742]"
      ],
      "text/plain": [
       "<IPython.core.display.HTML object>"
      ]
     },
     "metadata": {},
     "output_type": "display_data"
    },
    {
     "data": {
      "text/html": [
       "<strong><a href=http://dx.doi.org/10.1111/j.1532-5415.1990.tb03472.x>After reaching retirement age physical activity sustains cerebral perfusion and cognition.</a></strong><br>1990. Rogers RL, Meyer JS, Mortel KF<br>[ID: 2299115]"
      ],
      "text/plain": [
       "<IPython.core.display.HTML object>"
      ]
     },
     "metadata": {},
     "output_type": "display_data"
    },
    {
     "data": {
      "text/html": [
       "<strong>[Increase of physical activity by improvement of the nutritional status].</strong><br>1989. Torún B<br>[ID: 2518785]"
      ],
      "text/plain": [
       "<IPython.core.display.HTML object>"
      ]
     },
     "metadata": {},
     "output_type": "display_data"
    },
    {
     "data": {
      "text/html": [
       "<strong>The effects of moclobemide on cognition.</strong><br>1989. Wesnes KA, Simpson PM, Christmas L, Anand R, McClelland GR<br>[ID: 2677245]"
      ],
      "text/plain": [
       "<IPython.core.display.HTML object>"
      ]
     },
     "metadata": {},
     "output_type": "display_data"
    },
    {
     "data": {
      "text/html": [
       "<strong><a href=http://dx.doi.org/10.1097/00005053-198303000-00001>Brain disconnection, schizophrenia, and paranoia.</a></strong><br>1983. Magaro PA, Page J<br>[ID: 6827251]"
      ],
      "text/plain": [
       "<IPython.core.display.HTML object>"
      ]
     },
     "metadata": {},
     "output_type": "display_data"
    },
    {
     "data": {
      "text/html": [
       "<strong>Towards a cognition - performance model of coronary - prone behavior.</strong><br>1982. Siegrist J, Dittmann K, Matschinger H, Weber I<br>[ID: 7183059]"
      ],
      "text/plain": [
       "<IPython.core.display.HTML object>"
      ]
     },
     "metadata": {},
     "output_type": "display_data"
    },
    {
     "data": {
      "text/html": [
       "<strong><a href=http://dx.doi.org/10.1111/j.1467-6494.1980.tb00826.x>On the role of reduced auditory feedback and kinesic self-stimulation during Stroop Color-Word Performance.</a></strong><br>1980. Grand S, Breslow R, Freedman N<br>[ID: 7391918]"
      ],
      "text/plain": [
       "<IPython.core.display.HTML object>"
      ]
     },
     "metadata": {},
     "output_type": "display_data"
    },
    {
     "data": {
      "text/html": [
       "<strong>Validity of the Karnofsky Performance Status in an HIV-infected sample.</strong><br>1995. O'Dell MW, Lubeck DP, O'Driscoll P, Matsuno S<br>[ID: 7552497]"
      ],
      "text/plain": [
       "<IPython.core.display.HTML object>"
      ]
     },
     "metadata": {},
     "output_type": "display_data"
    },
    {
     "data": {
      "text/html": [
       "<strong><a href=http://dx.doi.org/10.1093/brain/118.3.697>A PET study of the functional neuroanatomy of writing impairment in Alzheimer's disease. The role of the left supramarginal and left angular gyri.</a></strong><br>1995. Penniello MJ, Lambert J, Eustache F, Petit-Taboué MC, Barré L, Viader F, Morin P, Lechevalier B, Baron JC<br>[ID: 7600087]"
      ],
      "text/plain": [
       "<IPython.core.display.HTML object>"
      ]
     },
     "metadata": {},
     "output_type": "display_data"
    },
    {
     "data": {
      "text/html": [
       "<strong><a href=http://dx.doi.org/10.4992/jjpsy.65.87>[Effects of goal setting and real-time feedback on performance and time estimation during VDT operation].</a></strong><br>1994. Fujiwara T, Kano S<br>[ID: 7933730]"
      ],
      "text/plain": [
       "<IPython.core.display.HTML object>"
      ]
     },
     "metadata": {},
     "output_type": "display_data"
    },
    {
     "data": {
      "text/html": [
       "<strong><a href=http://dx.doi.org/10.1093/clinids/18.supplement_1.s88>A controlled clinical trial with a specifically configured RNA drug, poly(I).poly(C12U), in chronic fatigue syndrome.</a></strong><br>1994. Strayer DR, Carter WA, Brodsky I, Cheney P, Peterson D, Salvato P, Thompson C, Loveless M, Shapiro DE, Elsasser W<br>[ID: 8148460]"
      ],
      "text/plain": [
       "<IPython.core.display.HTML object>"
      ]
     },
     "metadata": {},
     "output_type": "display_data"
    },
    {
     "data": {
      "text/html": [
       "<strong><a href=http://dx.doi.org/10.1037/0021-9010.79.1.34>Effects of work task cues and play task cues on information processing, judgment, and motivation.</a></strong><br>1994. Glynn MA<br>[ID: 8200873]"
      ],
      "text/plain": [
       "<IPython.core.display.HTML object>"
      ]
     },
     "metadata": {},
     "output_type": "display_data"
    },
    {
     "data": {
      "text/html": [
       "<strong><a href=http://dx.doi.org/10.1016/0926-6410(96)00013-4>Cognitive function in mammals: the evolutionary perspective.</a></strong><br>1996. Macphail EM<br>[ID: 8806029]"
      ],
      "text/plain": [
       "<IPython.core.display.HTML object>"
      ]
     },
     "metadata": {},
     "output_type": "display_data"
    },
    {
     "data": {
      "text/html": [
       "<strong>Cognition and aging in a complex work environment: relationships with performance among air traffic control specialists.</strong><br>1998. Becker JT, Milke RM<br>[ID: 9773894]"
      ],
      "text/plain": [
       "<IPython.core.display.HTML object>"
      ]
     },
     "metadata": {},
     "output_type": "display_data"
    },
    {
     "data": {
      "text/html": [
       "<strong><a href=http://dx.doi.org/10.1016/s1364-6613(98)01272-8>Episodic memory: what can animals remember about their past?</a></strong><br>1999. Griffiths D, Dickinson A, Clayton N<br>[ID: 10234230]"
      ],
      "text/plain": [
       "<IPython.core.display.HTML object>"
      ]
     },
     "metadata": {},
     "output_type": "display_data"
    },
    {
     "data": {
      "text/html": [
       "<strong><a href=http://dx.doi.org/10.1097/00005053-199905000-00003>Thought disorder and psychosocial functioning in schizophrenia: the concurrent and predictive relationships.</a></strong><br>1999. Racenstein JM, Penn D, Harrow M, Schleser R<br>[ID: 10348082]"
      ],
      "text/plain": [
       "<IPython.core.display.HTML object>"
      ]
     },
     "metadata": {},
     "output_type": "display_data"
    },
    {
     "data": {
      "text/html": [
       "<strong><a href=http://dx.doi.org/10.1016/s0010-0277(99)00046-3>Pulling smarties out of a bag: a Headed Records analysis of children's recall of their own past beliefs.</a></strong><br>1999. Barreau S, Morton J<br>[ID: 10536224]"
      ],
      "text/plain": [
       "<IPython.core.display.HTML object>"
      ]
     },
     "metadata": {},
     "output_type": "display_data"
    },
    {
     "data": {
      "text/html": [
       "<strong><a href=http://dx.doi.org/10.1093/brain/123.7.1349>Visual object and visuospatial cognition in Huntington's disease: implications for information processing in corticostriatal circuits.</a></strong><br>2000. Lawrence AD, Watkins LH, Sahakian BJ, Hodges JR, Robbins TW<br>[ID: 10869048]"
      ],
      "text/plain": [
       "<IPython.core.display.HTML object>"
      ]
     },
     "metadata": {},
     "output_type": "display_data"
    },
    {
     "data": {
      "text/html": [
       "<strong><a href=http://dx.doi.org/10.1007/978-3-7091-6781-6_23>Understanding the role of estrogen on cognition and dementia.</a></strong><br>2000. Sano M<br>[ID: 10961433]"
      ],
      "text/plain": [
       "<IPython.core.display.HTML object>"
      ]
     },
     "metadata": {},
     "output_type": "display_data"
    },
    {
     "data": {
      "text/html": [
       "<strong><a href=http://dx.doi.org/10.1016/s0031-9384(00)00274-2>Short-term behavioral and electrophysiological consequences of underwater trauma.</a></strong><br>2000. Wang J, Akirav I, Richter-Levin G<br>[ID: 11006431]"
      ],
      "text/plain": [
       "<IPython.core.display.HTML object>"
      ]
     },
     "metadata": {},
     "output_type": "display_data"
    },
    {
     "data": {
      "text/html": [
       "<strong><a href=http://dx.doi.org/10.1210/jcem.86.1.7092>Impairment in cognitive and exercise performance during prolonged antarctic residence: effect of thyroxine supplementation in the polar triiodothyronine syndrome.</a></strong><br>2001. Reed HL, Reedy KR, Palinkas LA, Van Do N, Finney NS, Case HS, LeMar HJ, Wright J, Thomas J<br>[ID: 11231986]"
      ],
      "text/plain": [
       "<IPython.core.display.HTML object>"
      ]
     },
     "metadata": {},
     "output_type": "display_data"
    },
    {
     "data": {
      "text/html": [
       "<strong><a href=http://dx.doi.org/10.1016/s0301-0511(00)00083-1>Anticholinergicity and cognitive processing in chronic schizophrenia.</a></strong><br>2001. Tracy JI, Monaco C, Giovannetti T, Abraham G, Josiassen RC<br>[ID: 11240312]"
      ],
      "text/plain": [
       "<IPython.core.display.HTML object>"
      ]
     },
     "metadata": {},
     "output_type": "display_data"
    },
    {
     "data": {
      "text/html": [
       "<strong>Rhythms of dialogue in infancy: coordinated timing in development.</strong><br>2001. Jaffe J, Beebe B, Feldstein S, Crown CL, Jasnow MD<br>[ID: 11428150]"
      ],
      "text/plain": [
       "<IPython.core.display.HTML object>"
      ]
     },
     "metadata": {},
     "output_type": "display_data"
    },
    {
     "data": {
      "text/html": [
       "<strong><a href=http://dx.doi.org/10.1016/s0028-3932(01)00095-1>Effects of visible and invisible cueing on line bisection and Landmark performance in hemispatial neglect.</a></strong><br>2002. Olk B, Harvey M<br>[ID: 11684161]"
      ],
      "text/plain": [
       "<IPython.core.display.HTML object>"
      ]
     },
     "metadata": {},
     "output_type": "display_data"
    },
    {
     "data": {
      "text/html": [
       "<strong><a href=http://dx.doi.org/10.1111/j.1749-6632.2002.tb02091.x>Enhancing cognitive function across the life span.</a></strong><br>2002. Korol DL<br>[ID: 11976194]"
      ],
      "text/plain": [
       "<IPython.core.display.HTML object>"
      ]
     },
     "metadata": {},
     "output_type": "display_data"
    },
    {
     "data": {
      "text/html": [
       "<strong><a href=http://dx.doi.org/10.1016/s0920-1211(02)00030-x>Aminophylline exacerbates status epilepticus-induced neuronal damages in immature rats: a morphological, motor and behavioral study.</a></strong><br>2002. Hung PL, Lai MC, Yang SN, Wang CL, Liou CW, Wu CL, Wang TJ, Huang LT<br>[ID: 12076843]"
      ],
      "text/plain": [
       "<IPython.core.display.HTML object>"
      ]
     },
     "metadata": {},
     "output_type": "display_data"
    },
    {
     "data": {
      "text/html": [
       "<strong><a href=http://dx.doi.org/10.1038/sj.npp.1300202>Psychoactive drugs and pilot performance: a comparison of nicotine, donepezil, and alcohol effects.</a></strong><br>2003. Mumenthaler MS, Yesavage JA, Taylor JL, O'Hara R, Friedman L, Lee H, Kraemer HC<br>[ID: 12784106]"
      ],
      "text/plain": [
       "<IPython.core.display.HTML object>"
      ]
     },
     "metadata": {},
     "output_type": "display_data"
    },
    {
     "data": {
      "text/html": [
       "<strong><a href=http://dx.doi.org/10.1037/0735-7044.117.3.478>Short-term beta-amyloid vaccinations do not improve cognitive performance in cognitively impaired APP + PS1 mice.</a></strong><br>2003. Austin L, Arendash GW, Gordon MN, Diamond DM, DiCarlo G, Dickey C, Ugen K, Morgan D<br>[ID: 12802876]"
      ],
      "text/plain": [
       "<IPython.core.display.HTML object>"
      ]
     },
     "metadata": {},
     "output_type": "display_data"
    },
    {
     "data": {
      "text/html": [
       "<strong>The role of catecholamines in retention performance of a partially baited radial eight-arm maze for rats.</strong><br>2002. Liao RM, Lai WS, Lin JY<br>[ID: 12817709]"
      ],
      "text/plain": [
       "<IPython.core.display.HTML object>"
      ]
     },
     "metadata": {},
     "output_type": "display_data"
    },
    {
     "data": {
      "text/html": [
       "<strong><a href=http://dx.doi.org/10.1016/j.neulet.2003.09.028>Somatotropic-axis deficiency affects brain substrates of selective attention in childhood-onset growth hormone deficient patients.</a></strong><br>2003. Lijffijt M, Van Dam PS, Kenemans JL, Koppeschaar HP, de Vries WR, Drent ML, Wittenberg A, Kemner C<br>[ID: 14664916]"
      ],
      "text/plain": [
       "<IPython.core.display.HTML object>"
      ]
     },
     "metadata": {},
     "output_type": "display_data"
    },
    {
     "data": {
      "text/html": [
       "<strong><a href=http://dx.doi.org/10.1101/lm.66204>Galantamine facilitates acquisition of a trace-conditioned eyeblink response in healthy, young rabbits.</a></strong><br>2004. Simon BB, Knuckley B, Powell DA<br>[ID: 14747525]"
      ],
      "text/plain": [
       "<IPython.core.display.HTML object>"
      ]
     },
     "metadata": {},
     "output_type": "display_data"
    },
    {
     "data": {
      "text/html": [
       "<strong><a href=http://dx.doi.org/10.1017/s1092852900008142>Beyond control of acute exacerbation: enhancing affective and cognitive outcomes.</a></strong><br>2003. Meltzer HY<br>[ID: 14978453]"
      ],
      "text/plain": [
       "<IPython.core.display.HTML object>"
      ]
     },
     "metadata": {},
     "output_type": "display_data"
    },
    {
     "data": {
      "text/html": [
       "<strong>Quantal synaptic failures enhance performance in a minimal hippocampal model.</strong><br>2004. Sullivan DW, Levy WB<br>[ID: 15022844]"
      ],
      "text/plain": [
       "<IPython.core.display.HTML object>"
      ]
     },
     "metadata": {},
     "output_type": "display_data"
    },
    {
     "data": {
      "text/html": [
       "<strong><a href=http://dx.doi.org/10.1007/s00213-004-1804-z>Effects of nicotine and mecamylamine on cognition in rhesus monkeys.</a></strong><br>2004. Katner SN, Davis SA, Kirsten AJ, Taffe MA<br>[ID: 15112030]"
      ],
      "text/plain": [
       "<IPython.core.display.HTML object>"
      ]
     },
     "metadata": {},
     "output_type": "display_data"
    },
    {
     "data": {
      "text/html": [
       "<strong><a href=http://dx.doi.org/10.1016/j.schres.2004.01.011>Cognitive and clinical predictors of success in vocational rehabilitation in schizophrenia.</a></strong><br>2004. Evans JD, Bond GR, Meyer PS, Kim HW, Lysaker PH, Gibson PJ, Tunis S<br>[ID: 15329308]"
      ],
      "text/plain": [
       "<IPython.core.display.HTML object>"
      ]
     },
     "metadata": {},
     "output_type": "display_data"
    },
    {
     "data": {
      "text/html": [
       "<strong><a href=http://dx.doi.org/10.1016/s0167-4943(01)00182-0>Abnormal behavior of residents in a long-term care facility and the associated stress of care staff members.</a></strong><br>2001. Nagatomo I, Akasaki Y, Tominaga M, Hashiguchi W, Uchida M, Takigawa M<br>[ID: 15374016]"
      ],
      "text/plain": [
       "<IPython.core.display.HTML object>"
      ]
     },
     "metadata": {},
     "output_type": "display_data"
    },
    {
     "data": {
      "text/html": [
       "<strong><a href=http://dx.doi.org/10.1016/j.bbr.2004.11.004>Piracetam counteracts the effects of amitriptyline on inhibitory avoidance in CD1 mice.</a></strong><br>2005. Everss E, Arenas MC, Vinader-Caerols C, Monleón S, Parra A<br>[ID: 15817186]"
      ],
      "text/plain": [
       "<IPython.core.display.HTML object>"
      ]
     },
     "metadata": {},
     "output_type": "display_data"
    },
    {
     "data": {
      "text/html": [
       "<strong><a href=http://dx.doi.org/10.3758/cabn.4.4.540>Integrating rewards and cognition in the frontal cortex.</a></strong><br>2004. Gilbert AM, Fiez JA<br>[ID: 15849896]"
      ],
      "text/plain": [
       "<IPython.core.display.HTML object>"
      ]
     },
     "metadata": {},
     "output_type": "display_data"
    },
    {
     "data": {
      "text/html": [
       "<strong>Mount Everest: a space analogue for speech monitoring of cognitive deficits and stress.</strong><br>2005. Lieberman P, Morey A, Hochstadt J, Larson M, Mather S<br>[ID: 15943213]"
      ],
      "text/plain": [
       "<IPython.core.display.HTML object>"
      ]
     },
     "metadata": {},
     "output_type": "display_data"
    },
    {
     "data": {
      "text/html": [
       "<strong>The development of a computer-assisted cognitive remediation program for patients with schizophrenia.</strong><br>2005. Bellack AS, Dickinson D, Morris SE, Tenhula WN<br>[ID: 16134402]"
      ],
      "text/plain": [
       "<IPython.core.display.HTML object>"
      ]
     },
     "metadata": {},
     "output_type": "display_data"
    },
    {
     "data": {
      "text/html": [
       "<strong><a href=http://dx.doi.org/10.1177/0269881105056644>Cannabis use, cognitive performance and mood in a sample of workers.</a></strong><br>2006. Wadsworth EJ, Moss SC, Simpson SA, Smith AP<br>[ID: 16204329]"
      ],
      "text/plain": [
       "<IPython.core.display.HTML object>"
      ]
     },
     "metadata": {},
     "output_type": "display_data"
    },
    {
     "data": {
      "text/html": [
       "<strong><a href=http://dx.doi.org/10.1016/j.cognition.2005.06.006>Unconscious inhibition and facilitation at the objective detection threshold: replicable and qualitatively different unconscious perceptual effects.</a></strong><br>2006. Snodgrass M, Shevrin H<br>[ID: 16289068]"
      ],
      "text/plain": [
       "<IPython.core.display.HTML object>"
      ]
     },
     "metadata": {},
     "output_type": "display_data"
    },
    {
     "data": {
      "text/html": [
       "<strong><a href=http://dx.doi.org/10.1080/13803390500360539>The relationship of the Brief Assessment of Cognition in Schizophrenia (BACS) to functional capacity and real-world functional outcome.</a></strong><br>2006. Keefe RS, Poe M, Walker TM, Harvey PD<br>[ID: 16484097]"
      ],
      "text/plain": [
       "<IPython.core.display.HTML object>"
      ]
     },
     "metadata": {},
     "output_type": "display_data"
    },
    {
     "data": {
      "text/html": [
       "<strong><a href=http://dx.doi.org/10.1016/j.bbr.2006.01.008>Chronic nicotine improves working and reference memory performance and reduces hippocampal NGF in aged female rats.</a></strong><br>2006. French KL, Granholm AC, Moore AB, Nelson ME, Bimonte-Nelson HA<br>[ID: 16488025]"
      ],
      "text/plain": [
       "<IPython.core.display.HTML object>"
      ]
     },
     "metadata": {},
     "output_type": "display_data"
    },
    {
     "data": {
      "text/html": [
       "<strong><a href=http://dx.doi.org/10.1016/j.neuropsychologia.2006.01.004>An investigation of learning strategy supporting transitive inference performance in humans compared to other species.</a></strong><br>2006. Moses SN, Villate C, Ryan JD<br>[ID: 16503340]"
      ],
      "text/plain": [
       "<IPython.core.display.HTML object>"
      ]
     },
     "metadata": {},
     "output_type": "display_data"
    },
    {
     "data": {
      "text/html": [
       "<strong><a href=http://dx.doi.org/10.1017/S0140525X06009034>How similar are fluid cognition and general intelligence? A developmental neuroscience perspective on fluid cognition as an aspect of human cognitive ability.</a></strong><br>2006. Blair C<br>[ID: 16606477]"
      ],
      "text/plain": [
       "<IPython.core.display.HTML object>"
      ]
     },
     "metadata": {},
     "output_type": "display_data"
    },
    {
     "data": {
      "text/html": [
       "<strong><a href=http://dx.doi.org/10.1016/j.schres.2006.04.011>Impact of intellectual status on response to cognitive task training in patients with schizophrenia.</a></strong><br>2006. Fiszdon JM, Choi J, Bryson GJ, Bell MD<br>[ID: 16737798]"
      ],
      "text/plain": [
       "<IPython.core.display.HTML object>"
      ]
     },
     "metadata": {},
     "output_type": "display_data"
    },
    {
     "data": {
      "text/html": [
       "<strong><a href=http://dx.doi.org/10.1007/s00702-006-0561-z>Nicotinic receptor agonists as neuroprotective/neurotrophic drugs. Progress in molecular mechanisms.</a></strong><br>2007. Mudo G, Belluardo N, Fuxe K<br>[ID: 16906354]"
      ],
      "text/plain": [
       "<IPython.core.display.HTML object>"
      ]
     },
     "metadata": {},
     "output_type": "display_data"
    },
    {
     "data": {
      "text/html": [
       "<strong><a href=http://dx.doi.org/10.1002/bem.20311>Cognitive effects of head-movements in stray fields generated by a 7 Tesla whole-body MRI magnet.</a></strong><br>2007. de Vocht F, Stevens T, Glover P, Sunderland A, Gowland P, Kromhout H<br>[ID: 17290435]"
      ],
      "text/plain": [
       "<IPython.core.display.HTML object>"
      ]
     },
     "metadata": {},
     "output_type": "display_data"
    },
    {
     "data": {
      "text/html": [
       "<strong><a href=http://dx.doi.org/10.1080/00207450600773483>Handedness and cognition across the healthy lifespan.</a></strong><br>2007. Gunstad J, Spitznagel MB, Luyster F, Cohen RA, Paul RH<br>[ID: 17365130]"
      ],
      "text/plain": [
       "<IPython.core.display.HTML object>"
      ]
     },
     "metadata": {},
     "output_type": "display_data"
    },
    {
     "data": {
      "text/html": [
       "<strong><a href=http://dx.doi.org/10.1016/j.jbi.2007.02.001>Distributed cognition in the heart room: how situation awareness arises from coordinated communications during cardiac surgery.</a></strong><br>2007. Hazlehurst B, McMullen CK, Gorman PN<br>[ID: 17368112]"
      ],
      "text/plain": [
       "<IPython.core.display.HTML object>"
      ]
     },
     "metadata": {},
     "output_type": "display_data"
    },
    {
     "data": {
      "text/html": [
       "<strong><a href=http://dx.doi.org/10.1016/j.concog.2007.03.009>Stable implicit motor processes despite aerobic locomotor fatigue.</a></strong><br>2008. Masters RS, Poolton JM, Maxwell JP<br>[ID: 17470398]"
      ],
      "text/plain": [
       "<IPython.core.display.HTML object>"
      ]
     },
     "metadata": {},
     "output_type": "display_data"
    },
    {
     "data": {
      "text/html": [
       "<strong>Neurocognitive monitors: toward the prevention of cognitive performance decrements and catastrophic failures in the operational environment.</strong><br>2007. Thomas ML, Russo MB<br>[ID: 17547315]"
      ],
      "text/plain": [
       "<IPython.core.display.HTML object>"
      ]
     },
     "metadata": {},
     "output_type": "display_data"
    },
    {
     "data": {
      "text/html": [
       "<strong><a href=http://dx.doi.org/10.1016/j.schres.2007.04.008>Cognition and functional outcome among deaf and hearing people with schizophrenia.</a></strong><br>2007. Horton HK, Silverstein SM<br>[ID: 17560083]"
      ],
      "text/plain": [
       "<IPython.core.display.HTML object>"
      ]
     },
     "metadata": {},
     "output_type": "display_data"
    },
    {
     "data": {
      "text/html": [
       "<strong><a href=http://dx.doi.org/10.1016/j.neuropharm.2007.06.028>The effects of JWB1-84-1 on memory-related task performance by amyloid Abeta transgenic mice and by young and aged monkeys.</a></strong><br>2007. Sood A, Warren Beach J, Webster SJ, Terry AV, Buccafusco JJ<br>[ID: 17698153]"
      ],
      "text/plain": [
       "<IPython.core.display.HTML object>"
      ]
     },
     "metadata": {},
     "output_type": "display_data"
    },
    {
     "data": {
      "text/html": [
       "<strong><a href=http://dx.doi.org/10.1016/S0079-6123(06)65006-1>Towards a unified theory of neocortex: laminar cortical circuits for vision and cognition.</a></strong><br>2007. Grossberg S<br>[ID: 17925241]"
      ],
      "text/plain": [
       "<IPython.core.display.HTML object>"
      ]
     },
     "metadata": {},
     "output_type": "display_data"
    },
    {
     "data": {
      "text/html": [
       "<strong><a href=http://dx.doi.org/10.1016/j.neuroscience.2007.09.014>Protracted effects of chronic oral haloperidol and risperidone on nerve growth factor, cholinergic neurons, and spatial reference learning in rats.</a></strong><br>2007. Terry AV Jr, Gearhart DA, Warner S, Hohnadel EJ, Middlemore ML, Zhang G, Bartlett MG, Mahadik SP<br>[ID: 17942237]"
      ],
      "text/plain": [
       "<IPython.core.display.HTML object>"
      ]
     },
     "metadata": {},
     "output_type": "display_data"
    },
    {
     "data": {
      "text/html": [
       "<strong><a href=http://dx.doi.org/10.1016/j.jecp.2007.10.004>The kindergarten path effect revisited: children's use of context in processing structural ambiguities.</a></strong><br>2008. Weighall AR<br>[ID: 18070628]"
      ],
      "text/plain": [
       "<IPython.core.display.HTML object>"
      ]
     },
     "metadata": {},
     "output_type": "display_data"
    },
    {
     "data": {
      "text/html": [
       "<strong><a href=http://dx.doi.org/10.1016/j.yfrne.2007.08.006>Uncovering the mechanisms of estrogen effects on hippocampal function.</a></strong><br>2008. Spencer JL, Waters EM, Romeo RD, Wood GE, Milner TA, McEwen BS<br>[ID: 18078984]"
      ],
      "text/plain": [
       "<IPython.core.display.HTML object>"
      ]
     },
     "metadata": {},
     "output_type": "display_data"
    },
    {
     "data": {
      "text/html": [
       "<strong><a href=http://dx.doi.org/10.1053/j.jrn.2007.10.029>Recombinant human erythropoietin in the treatment of human brain disease: focus on cognition.</a></strong><br>2008. Ehrenreich H, Bartels C, Sargin D, Stawicki S, Krampe H<br>[ID: 18089462]"
      ],
      "text/plain": [
       "<IPython.core.display.HTML object>"
      ]
     },
     "metadata": {},
     "output_type": "display_data"
    },
    {
     "data": {
      "text/html": [
       "<strong><a href=http://dx.doi.org/10.1123/jsep.29.6.783>Exercise and working memory: an individual differences investigation.</a></strong><br>2007. Sibley BA, Beilock SL<br>[ID: 18089904]"
      ],
      "text/plain": [
       "<IPython.core.display.HTML object>"
      ]
     },
     "metadata": {},
     "output_type": "display_data"
    },
    {
     "data": {
      "text/html": [
       "<strong><a href=http://dx.doi.org/10.1016/j.bbr.2007.11.020>Effects of chronic administration of SGS-111 during adulthood and during the pre- and post-natal periods on the cognitive deficits of Ts65Dn mice, a model of Down syndrome.</a></strong><br>2008. Rueda N, Flórez J, Martínez-Cué C<br>[ID: 18178265]"
      ],
      "text/plain": [
       "<IPython.core.display.HTML object>"
      ]
     },
     "metadata": {},
     "output_type": "display_data"
    },
    {
     "data": {
      "text/html": [
       "<strong><a href=http://dx.doi.org/10.1073/pnas.0711273105>Risperidone and ritanserin but not haloperidol block effect of dizocilpine on the active allothetic place avoidance task.</a></strong><br>2008. Bubenikova-Valesova V, Stuchlik A, Svoboda J, Bures J, Vales K<br>[ID: 18195350]"
      ],
      "text/plain": [
       "<IPython.core.display.HTML object>"
      ]
     },
     "metadata": {},
     "output_type": "display_data"
    },
    {
     "data": {
      "text/html": [
       "<strong><a href=http://dx.doi.org/10.1002/ajmg.b.30712>Cognitive dysfunction in mice deficient for TNF- and its receptors.</a></strong><br>2008. Baune BT, Wiede F, Braun A, Golledge J, Arolt V, Koerner H<br>[ID: 18286589]"
      ],
      "text/plain": [
       "<IPython.core.display.HTML object>"
      ]
     },
     "metadata": {},
     "output_type": "display_data"
    },
    {
     "data": {
      "text/html": [
       "<strong><a href=http://dx.doi.org/10.1098/rspb.2008.0111>Cooperative problem solving in rooks (Corvus frugilegus).</a></strong><br>2008. Seed AM, Clayton NS, Emery NJ<br>[ID: 18364318]"
      ],
      "text/plain": [
       "<IPython.core.display.HTML object>"
      ]
     },
     "metadata": {},
     "output_type": "display_data"
    },
    {
     "data": {
      "text/html": [
       "<strong><a href=http://dx.doi.org/10.1017/S0007114508971324>Lifestyle, glucose regulation and the cognitive effects of glucose load in middle-aged adults.</a></strong><br>2008. Riby LM, McLaughlin J, Riby DM, Graham C<br>[ID: 18377687]"
      ],
      "text/plain": [
       "<IPython.core.display.HTML object>"
      ]
     },
     "metadata": {},
     "output_type": "display_data"
    },
    {
     "data": {
      "text/html": [
       "<strong><a href=http://dx.doi.org/10.1179/147683008X301333>Diet-induced obesity and spatial cognition in young male rats.</a></strong><br>2008. Jurdak N, Lichtenstein AH, Kanarek RB<br>[ID: 18510803]"
      ],
      "text/plain": [
       "<IPython.core.display.HTML object>"
      ]
     },
     "metadata": {},
     "output_type": "display_data"
    },
    {
     "data": {
      "text/html": [
       "<strong><a href=http://dx.doi.org/10.1093/brain/awn112>Parkinson's disease and dopaminergic therapy--differential effects on movement, reward and cognition.</a></strong><br>2008. Rowe JB, Hughes L, Ghosh BC, Eckstein D, Williams-Gray CH, Fallon S, Barker RA, Owen AM<br>[ID: 18577547]"
      ],
      "text/plain": [
       "<IPython.core.display.HTML object>"
      ]
     },
     "metadata": {},
     "output_type": "display_data"
    },
    {
     "data": {
      "text/html": [
       "<strong><a href=http://dx.doi.org/10.1016/j.neuropsychologia.2008.09.014>Arithmetic and brain connectivity: mental calculation in adolescents with periventricular lesions.</a></strong><br>2009. Pavlova M, Sokolov AN, Krägeloh-Mann I<br>[ID: 18929585]"
      ],
      "text/plain": [
       "<IPython.core.display.HTML object>"
      ]
     },
     "metadata": {},
     "output_type": "display_data"
    },
    {
     "data": {
      "text/html": [
       "<strong><a href=http://dx.doi.org/10.1111/j.1460-9568.2008.06524.x>Brain-derived neurotrophic factor functions as a metabotrophin to mediate the effects of exercise on cognition.</a></strong><br>2008. Gomez-Pinilla F, Vaynman S, Ying Z<br>[ID: 19046371]"
      ],
      "text/plain": [
       "<IPython.core.display.HTML object>"
      ]
     },
     "metadata": {},
     "output_type": "display_data"
    },
    {
     "data": {
      "text/html": [
       "<strong><a href=http://dx.doi.org/10.1196/annals.1416.009>Neurocognitive basis of implicit learning of sequential structure and its relation to language processing.</a></strong><br>2008. Conway CM, Pisoni DB<br>[ID: 19076393]"
      ],
      "text/plain": [
       "<IPython.core.display.HTML object>"
      ]
     },
     "metadata": {},
     "output_type": "display_data"
    },
    {
     "data": {
      "text/html": [
       "<strong><a href=http://dx.doi.org/10.1016/j.jpsychires.2008.10.015>Effects of selective serotonin reuptake and dual serotonergic-noradrenergic reuptake treatments on memory and mental processing speed in patients with major depressive disorder.</a></strong><br>2009. Herrera-Guzmán I, Gudayol-Ferré E, Herrera-Guzmán D, Guàrdia-Olmos J, Hinojosa-Calvo E, Herrera-Abarca JE<br>[ID: 19128810]"
      ],
      "text/plain": [
       "<IPython.core.display.HTML object>"
      ]
     },
     "metadata": {},
     "output_type": "display_data"
    },
    {
     "data": {
      "text/html": [
       "<strong><a href=http://dx.doi.org/10.1016/j.brainres.2009.01.028>Interaction between nicotinic and dopaminergic therapies on cognition in a chronic Parkinson model.</a></strong><br>2009. Decamp E, Schneider JS<br>[ID: 19368843]"
      ],
      "text/plain": [
       "<IPython.core.display.HTML object>"
      ]
     },
     "metadata": {},
     "output_type": "display_data"
    },
    {
     "data": {
      "text/html": [
       "<strong><a href=http://dx.doi.org/10.1007/s12031-009-9205-8>Effect of BDNF Val66Met polymorphism on digital working memory and spatial localization in a healthy Chinese Han population.</a></strong><br>2009. Gong P, Zheng A, Chen D, Ge W, Lv C, Zhang K, Gao X, Zhang F<br>[ID: 19424874]"
      ],
      "text/plain": [
       "<IPython.core.display.HTML object>"
      ]
     },
     "metadata": {},
     "output_type": "display_data"
    },
    {
     "data": {
      "text/html": [
       "<strong><a href=http://dx.doi.org/10.1016/j.cortex.2009.03.008>Developmental changes in cerebral white matter microstructure in a disorder of lysosomal storage.</a></strong><br>2010. Bava S, Theilmann RJ, Sach M, May SJ, Frank LR, Hesselink JR, Vu D, Trauner DA<br>[ID: 19427638]"
      ],
      "text/plain": [
       "<IPython.core.display.HTML object>"
      ]
     },
     "metadata": {},
     "output_type": "display_data"
    },
    {
     "data": {
      "text/html": [
       "<strong><a href=http://dx.doi.org/10.1016/j.psychres.2008.10.028>Aspects of social cognition in anorexia nervosa: affective and cognitive theory of mind.</a></strong><br>2009. Russell TA, Schmidt U, Doherty L, Young V, Tchanturia K<br>[ID: 19467562]"
      ],
      "text/plain": [
       "<IPython.core.display.HTML object>"
      ]
     },
     "metadata": {},
     "output_type": "display_data"
    },
    {
     "data": {
      "text/html": [
       "<strong><a href=http://dx.doi.org/10.1016/S0079-6123(09)01301-6>Grounding cognition in action: expertise, comprehension, and judgment.</a></strong><br>2009. Beilock SL<br>[ID: 19477325]"
      ],
      "text/plain": [
       "<IPython.core.display.HTML object>"
      ]
     },
     "metadata": {},
     "output_type": "display_data"
    },
    {
     "data": {
      "text/html": [
       "<strong><a href=http://dx.doi.org/10.4161/cib.7600>Learning, specialization, efficiency and task allocation in social insects.</a></strong><br>2009. Chittka L, Muller H<br>[ID: 19513269]"
      ],
      "text/plain": [
       "<IPython.core.display.HTML object>"
      ]
     },
     "metadata": {},
     "output_type": "display_data"
    },
    {
     "data": {
      "text/html": [
       "<strong><a href=http://dx.doi.org/10.1097/WAD.0b013e31819e6881>Validity and reliability of the Korean version of the AD8 informant interview (K-AD8) in dementia.</a></strong><br>2009. Ryu HJ, Kim HJ, Han SH<br>[ID: 19561437]"
      ],
      "text/plain": [
       "<IPython.core.display.HTML object>"
      ]
     },
     "metadata": {},
     "output_type": "display_data"
    },
    {
     "data": {
      "text/html": [
       "<strong><a href=http://dx.doi.org/10.3389/neuro.08.008.2009>Comparison of the efficacy of two anticonvulsants, phenytoin and valproate to improve PCP and d-amphetamine induced deficits in a reversal learning task in the rat.</a></strong><br>2009. Idris NF, Neill JC, Large CH<br>[ID: 19562089]"
      ],
      "text/plain": [
       "<IPython.core.display.HTML object>"
      ]
     },
     "metadata": {},
     "output_type": "display_data"
    },
    {
     "data": {
      "text/html": [
       "<strong><a href=http://dx.doi.org/10.1016/j.beproc.2009.03.010>Visual and auditory conditional position discrimination in chimpanzees (Pan troglodytes).</a></strong><br>2009. Martinez L, Matsuzawa T<br>[ID: 19615618]"
      ],
      "text/plain": [
       "<IPython.core.display.HTML object>"
      ]
     },
     "metadata": {},
     "output_type": "display_data"
    },
    {
     "data": {
      "text/html": [
       "<strong><a href=http://dx.doi.org/10.1016/j.humov.2009.07.009>Posture and cognition interfere in later adulthood even without concurrent response production.</a></strong><br>2010. Smolders C, Doumas M, Krampe RT<br>[ID: 19786311]"
      ],
      "text/plain": [
       "<IPython.core.display.HTML object>"
      ]
     },
     "metadata": {},
     "output_type": "display_data"
    },
    {
     "data": {
      "text/html": [
       "<strong><a href=http://dx.doi.org/10.1007/s00421-009-1222-3>Electrophysiological correlates of cognition improve with nap during sleep deprivation.</a></strong><br>2010. Panjwani U, Ray K, Chatterjee A, Bhaumik S, Kumar S<br>[ID: 19865829]"
      ],
      "text/plain": [
       "<IPython.core.display.HTML object>"
      ]
     },
     "metadata": {},
     "output_type": "display_data"
    },
    {
     "data": {
      "text/html": [
       "<strong><a href=http://dx.doi.org/10.1162/jocn.2009.21373>Functional dissociations within the ventral object processing pathway: cognitive modules or a hierarchical continuum?</a></strong><br>2010. Cowell RA, Bussey TJ, Saksida LM<br>[ID: 19929757]"
      ],
      "text/plain": [
       "<IPython.core.display.HTML object>"
      ]
     },
     "metadata": {},
     "output_type": "display_data"
    },
    {
     "data": {
      "text/html": [
       "<strong><a href=http://dx.doi.org/10.1177/1352458509354552>Psychometrics and normative data for the Multiple Sclerosis Functional Composite: replacing the PASAT with the Symbol Digit Modalities Test.</a></strong><br>2010. Drake AS, Weinstock-Guttman B, Morrow SA, Hojnacki D, Munschauer FE, Benedict RH<br>[ID: 20028710]"
      ],
      "text/plain": [
       "<IPython.core.display.HTML object>"
      ]
     },
     "metadata": {},
     "output_type": "display_data"
    },
    {
     "data": {
      "text/html": [
       "<strong><a href=http://dx.doi.org/10.1038/ejhg.2010.2>Common genetic variation and performance on standardized cognitive tests.</a></strong><br>2010. Cirulli ET, Kasperaviciūte D, Attix DK, Need AC, Ge D, Gibson G, Goldstein DB<br>[ID: 20125193]"
      ],
      "text/plain": [
       "<IPython.core.display.HTML object>"
      ]
     },
     "metadata": {},
     "output_type": "display_data"
    },
    {
     "data": {
      "text/html": [
       "<strong><a href=http://dx.doi.org/10.1016/j.psyneuen.2010.01.015>Giving birth to a new brain: hormone exposures of pregnancy influence human memory.</a></strong><br>2010. Glynn LM<br>[ID: 20304563]"
      ],
      "text/plain": [
       "<IPython.core.display.HTML object>"
      ]
     },
     "metadata": {},
     "output_type": "display_data"
    },
    {
     "data": {
      "text/html": [
       "<strong><a href=http://dx.doi.org/10.1002/acp.1437>Remembering and Retelling Stories in Individual and Collaborative Contexts.</a></strong><br>2008. Gagnon LM, Dixon RA<br>[ID: 20333265]"
      ],
      "text/plain": [
       "<IPython.core.display.HTML object>"
      ]
     },
     "metadata": {},
     "output_type": "display_data"
    },
    {
     "data": {
      "text/html": [
       "<strong><a href=http://dx.doi.org/10.1016/j.tics.2010.03.007>Circadian clocks: genes, sleep, and cognition.</a></strong><br>2010. Kyriacou CP, Hastings MH<br>[ID: 20418150]"
      ],
      "text/plain": [
       "<IPython.core.display.HTML object>"
      ]
     },
     "metadata": {},
     "output_type": "display_data"
    },
    {
     "data": {
      "text/html": [
       "<strong><a href=http://dx.doi.org/10.1073/pnas.1001412107>Apolipoprotein E (APOE) genotype has dissociable effects on memory and attentional-executive network function in Alzheimer's disease.</a></strong><br>2010. Wolk DA, Dickerson BC, Alzheimer's Disease Neuroimaging Initiative.<br>[ID: 20479234]"
      ],
      "text/plain": [
       "<IPython.core.display.HTML object>"
      ]
     },
     "metadata": {},
     "output_type": "display_data"
    },
    {
     "data": {
      "text/html": [
       "<strong><a href=http://dx.doi.org/10.1177/0963721410364008>The Motivation-Cognition Interface in Learning and Decision-Making.</a></strong><br>2010. Maddox WT, Markman AB<br>[ID: 20556228]"
      ],
      "text/plain": [
       "<IPython.core.display.HTML object>"
      ]
     },
     "metadata": {},
     "output_type": "display_data"
    },
    {
     "data": {
      "text/html": [
       "<strong><a href=http://dx.doi.org/10.1016/j.jsmc.2009.03.001>Sleep Loss and Fatigue in Shift Work and Shift Work Disorder.</a></strong><br>2009. Akerstedt T, Wright KP Jr<br>[ID: 20640236]"
      ],
      "text/plain": [
       "<IPython.core.display.HTML object>"
      ]
     },
     "metadata": {},
     "output_type": "display_data"
    },
    {
     "data": {
      "text/html": [
       "<strong><a href=http://dx.doi.org/10.1016/j.bbr.2010.07.025>Methylphenidate improves cognitive deficits produced by infantile iron deficiency in rats.</a></strong><br>2011. Mohamed WM, Unger EL, Kambhampati SK, Jones BC<br>[ID: 20655955]"
      ],
      "text/plain": [
       "<IPython.core.display.HTML object>"
      ]
     },
     "metadata": {},
     "output_type": "display_data"
    },
    {
     "data": {
      "text/html": [
       "<strong><a href=http://dx.doi.org/10.2174/1874473711003020080>Cognitive and psychomotor performance during alcohol hangover.</a></strong><br>2010. Ling J, Stephens R, Heffernan TM<br>[ID: 20712592]"
      ],
      "text/plain": [
       "<IPython.core.display.HTML object>"
      ]
     },
     "metadata": {},
     "output_type": "display_data"
    },
    {
     "data": {
      "text/html": [
       "<strong><a href=http://dx.doi.org/10.1037/a0020016>Task-contingent conscientiousness as a unit of personality at work.</a></strong><br>2010. Minbashian A, Wood RE, Beckmann N<br>[ID: 20718521]"
      ],
      "text/plain": [
       "<IPython.core.display.HTML object>"
      ]
     },
     "metadata": {},
     "output_type": "display_data"
    },
    {
     "data": {
      "text/html": [
       "<strong><a href=http://dx.doi.org/10.1016/j.schres.2010.08.003>Vocational rehabilitation improves cognition and negative symptoms in schizophrenia.</a></strong><br>2011. Bio DS, Gattaz WF<br>[ID: 20800453]"
      ],
      "text/plain": [
       "<IPython.core.display.HTML object>"
      ]
     },
     "metadata": {},
     "output_type": "display_data"
    },
    {
     "data": {
      "text/html": [
       "<strong><a href=http://dx.doi.org/10.1016/j.yhbeh.2010.09.003>Increased memory load-related frontal activation after estradiol treatment in postmenopausal women.</a></strong><br>2010. Dumas JA, Kutz AM, Naylor MR, Johnson JV, Newhouse PA<br>[ID: 20849856]"
      ],
      "text/plain": [
       "<IPython.core.display.HTML object>"
      ]
     },
     "metadata": {},
     "output_type": "display_data"
    },
    {
     "data": {
      "text/html": [
       "<strong><a href=http://dx.doi.org/10.1002/chp.20075>Aging and cognitive performance: challenges and implications for physicians practicing in the 21st century.</a></strong><br>2010. Durning SJ, Artino AR, Holmboe E, Beckman TJ, van der Vleuten C, Schuwirth L<br>[ID: 20872769]"
      ],
      "text/plain": [
       "<IPython.core.display.HTML object>"
      ]
     },
     "metadata": {},
     "output_type": "display_data"
    },
    {
     "data": {
      "text/html": [
       "<strong><a href=http://dx.doi.org/10.1080/00140139.2010.539706>What could they have been thinking? How sociotechnical system design influences cognition: a case study of the Stockwell shooting.</a></strong><br>2011. Jenkins DP, Salmon PM, Stanton NA, Walker GH, Rafferty L<br>[ID: 21294009]"
      ],
      "text/plain": [
       "<IPython.core.display.HTML object>"
      ]
     },
     "metadata": {},
     "output_type": "display_data"
    },
    {
     "data": {
      "text/html": [
       "<strong><a href=http://dx.doi.org/10.1016/j.sleep.2010.09.010>A survey of sleep deprivation patterns and their effects on cognitive functions of residents and interns in Korea.</a></strong><br>2011. Kim HJ, Kim JH, Park KD, Choi KG, Lee HW<br>[ID: 21388879]"
      ],
      "text/plain": [
       "<IPython.core.display.HTML object>"
      ]
     },
     "metadata": {},
     "output_type": "display_data"
    },
    {
     "data": {
      "text/html": [
       "<strong><a href=http://dx.doi.org/10.1523/JNEUROSCI.5641-10.2011>The importance of being variable.</a></strong><br>2011. Garrett DD, Kovacevic N, McIntosh AR, Grady CL<br>[ID: 21430150]"
      ],
      "text/plain": [
       "<IPython.core.display.HTML object>"
      ]
     },
     "metadata": {},
     "output_type": "display_data"
    },
    {
     "data": {
      "text/html": [
       "<strong><a href=http://dx.doi.org/10.1016/j.neuropsychologia.2011.03.013>Higher intraindividual variability is associated with more forgetting and dedifferentiated memory functions in old age.</a></strong><br>2011. Papenberg G, Bäckman L, Chicherio C, Nagel IE, Heekeren HR, Lindenberger U, Li SC<br>[ID: 21439990]"
      ],
      "text/plain": [
       "<IPython.core.display.HTML object>"
      ]
     },
     "metadata": {},
     "output_type": "display_data"
    },
    {
     "data": {
      "text/html": [
       "<strong><a href=http://dx.doi.org/10.1016/j.conb.2011.03.003>Neural mechanisms and computations underlying stress effects on learning and memory.</a></strong><br>2011. Luksys G, Sandi C<br>[ID: 21501959]"
      ],
      "text/plain": [
       "<IPython.core.display.HTML object>"
      ]
     },
     "metadata": {},
     "output_type": "display_data"
    },
    {
     "data": {
      "text/html": [
       "<strong><a href=http://dx.doi.org/10.1016/B978-0-444-53817-8.00001-3>Cognition in circadian rhythm sleep disorders.</a></strong><br>2011. Reid KJ, McGee-Koch LL, Zee PC<br>[ID: 21531242]"
      ],
      "text/plain": [
       "<IPython.core.display.HTML object>"
      ]
     },
     "metadata": {},
     "output_type": "display_data"
    },
    {
     "data": {
      "text/html": [
       "<strong><a href=http://dx.doi.org/10.1016/B978-0-444-53817-8.00010-4>Predicting cognitive impairment and accident risk.</a></strong><br>2011. Raslear TG, Hursh SR, Van Dongen HP<br>[ID: 21531251]"
      ],
      "text/plain": [
       "<IPython.core.display.HTML object>"
      ]
     },
     "metadata": {},
     "output_type": "display_data"
    },
    {
     "data": {
      "text/html": [
       "<strong><a href=http://dx.doi.org/10.1016/j.neuroimage.2011.04.040>Individual differences in cognition, affect, and performance: behavioral, neuroimaging, and molecular genetic approaches.</a></strong><br>2012. Parasuraman R, Jiang Y<br>[ID: 21569853]"
      ],
      "text/plain": [
       "<IPython.core.display.HTML object>"
      ]
     },
     "metadata": {},
     "output_type": "display_data"
    },
    {
     "data": {
      "text/html": [
       "<strong><a href=http://dx.doi.org/10.1146/annurev-psych-120710-100328>Consequences of age-related cognitive declines.</a></strong><br>2012. Salthouse T<br>[ID: 21740223]"
      ],
      "text/plain": [
       "<IPython.core.display.HTML object>"
      ]
     },
     "metadata": {},
     "output_type": "display_data"
    },
    {
     "data": {
      "text/html": [
       "<strong><a href=http://dx.doi.org/10.1016/j.cppeds.2011.02.004>Becoming a parent: biobehavioral and brain science perspectives.</a></strong><br>2011. Swain JE<br>[ID: 21757136]"
      ],
      "text/plain": [
       "<IPython.core.display.HTML object>"
      ]
     },
     "metadata": {},
     "output_type": "display_data"
    },
    {
     "data": {
      "text/html": [
       "<strong><a href=http://dx.doi.org/10.1111/j.1365-2826.2011.02212.x>Neuroendocrinology of parental response to baby-cry.</a></strong><br>2011. Swain JE, Kim P, Ho SS<br>[ID: 21848646]"
      ],
      "text/plain": [
       "<IPython.core.display.HTML object>"
      ]
     },
     "metadata": {},
     "output_type": "display_data"
    },
    {
     "data": {
      "text/html": [
       "<strong><a href=http://dx.doi.org/10.1111/j.1365-2923.2011.04053.x>Context and clinical reasoning: understanding the perspective of the expert's voice.</a></strong><br>2011. Durning S, Artino AR Jr, Pangaro L, van der Vleuten CP, Schuwirth L<br>[ID: 21848721]"
      ],
      "text/plain": [
       "<IPython.core.display.HTML object>"
      ]
     },
     "metadata": {},
     "output_type": "display_data"
    },
    {
     "data": {
      "text/html": [
       "<strong><a href=http://dx.doi.org/10.1016/j.biopsych.2011.07.022>Differential sensitivity to psychostimulants across prefrontal cognitive tasks: differential involvement of noradrenergic α₁ - and α₂-receptors.</a></strong><br>2012. Berridge CW, Shumsky JS, Andrzejewski ME, McGaughy JA, Spencer RC, Devilbiss DM, Waterhouse BD<br>[ID: 21890109]"
      ],
      "text/plain": [
       "<IPython.core.display.HTML object>"
      ]
     },
     "metadata": {},
     "output_type": "display_data"
    },
    {
     "data": {
      "text/html": [
       "<strong><a href=http://dx.doi.org/10.1089/neu.2011.2084>Social cognition impairments in relation to general cognitive deficits, injury severity, and prefrontal lesions in traumatic brain injury patients.</a></strong><br>2012. Spikman JM, Timmerman ME, Milders MV, Veenstra WS, van der Naalt J<br>[ID: 21933011]"
      ],
      "text/plain": [
       "<IPython.core.display.HTML object>"
      ]
     },
     "metadata": {},
     "output_type": "display_data"
    },
    {
     "data": {
      "text/html": [
       "<strong><a href=http://dx.doi.org/10.1016/j.neuroimage.2011.10.008>The development of event-related fMRI designs.</a></strong><br>2012. Liu TT<br>[ID: 22037002]"
      ],
      "text/plain": [
       "<IPython.core.display.HTML object>"
      ]
     },
     "metadata": {},
     "output_type": "display_data"
    },
    {
     "data": {
      "text/html": [
       "<strong><a href=http://dx.doi.org/10.1111/j.1551-6709.2011.01209.x>Quantity recognition among speakers of an anumeric language.</a></strong><br>2012. Everett C, Madora K<br>[ID: 22050792]"
      ],
      "text/plain": [
       "<IPython.core.display.HTML object>"
      ]
     },
     "metadata": {},
     "output_type": "display_data"
    },
    {
     "data": {
      "text/html": [
       "<strong><a href=http://dx.doi.org/10.3389/fnevo.2011.00004>Affective infrastructures: toward a cultural neuropsychology of sport.</a></strong><br>2011. Heywood LL<br>[ID: 22069389]"
      ],
      "text/plain": [
       "<IPython.core.display.HTML object>"
      ]
     },
     "metadata": {},
     "output_type": "display_data"
    },
    {
     "data": {
      "text/html": [
       "<strong><a href=http://dx.doi.org/10.1093/schbul/sbr160>CNTRICS imaging biomarkers selection: Working memory.</a></strong><br>2012. Barch DM, Moore H, Nee DE, Manoach DS, Luck SJ<br>[ID: 22080498]"
      ],
      "text/plain": [
       "<IPython.core.display.HTML object>"
      ]
     },
     "metadata": {},
     "output_type": "display_data"
    },
    {
     "data": {
      "text/html": [
       "<strong><a href=http://dx.doi.org/10.1016/j.neuropsychologia.2011.11.017>Distinct critical cerebellar subregions for components of verbal working memory.</a></strong><br>2012. Cooper FE, Grube M, Von Kriegstein K, Kumar S, English P, Kelly TP, Chinnery PF, Griffiths TD<br>[ID: 22133495]"
      ],
      "text/plain": [
       "<IPython.core.display.HTML object>"
      ]
     },
     "metadata": {},
     "output_type": "display_data"
    },
    {
     "data": {
      "text/html": [
       "<strong><a href=http://dx.doi.org/10.1080/13825585.2011.633161>Prospective memory in young and older adults: the effects of ongoing-task load.</a></strong><br>2012. Smith RE, Horn SS, Bayen UJ<br>[ID: 22182306]"
      ],
      "text/plain": [
       "<IPython.core.display.HTML object>"
      ]
     },
     "metadata": {},
     "output_type": "display_data"
    },
    {
     "data": {
      "text/html": [
       "<strong><a href=http://dx.doi.org/10.1073/pnas.1112173109>Variation in cognitive functioning as a refined approach to comparing aging across countries.</a></strong><br>2012. Skirbekk V, Loichinger E, Weber D<br>[ID: 22184241]"
      ],
      "text/plain": [
       "<IPython.core.display.HTML object>"
      ]
     },
     "metadata": {},
     "output_type": "display_data"
    },
    {
     "data": {
      "text/html": [
       "<strong><a href=http://dx.doi.org/10.1523/JNEUROSCI.3689-11.2012>Echoes of the brain within the posterior cingulate cortex.</a></strong><br>2012. Leech R, Braga R, Sharp DJ<br>[ID: 22219283]"
      ],
      "text/plain": [
       "<IPython.core.display.HTML object>"
      ]
     },
     "metadata": {},
     "output_type": "display_data"
    },
    {
     "data": {
      "text/html": [
       "<strong><a href=http://dx.doi.org/10.1007/s11011-012-9276-z>Brain metabolism and spatial memory are affected by portal hypertension.</a></strong><br>2012. Arias N, Méndez M, Arias J, Arias JL<br>[ID: 22314871]"
      ],
      "text/plain": [
       "<IPython.core.display.HTML object>"
      ]
     },
     "metadata": {},
     "output_type": "display_data"
    },
    {
     "data": {
      "text/html": [
       "<strong><a href=http://dx.doi.org/10.1007/s11060-012-0812-9>Lessons from traumatic head injury for assessing functional status after brain tumour.</a></strong><br>2012. Wilson JT<br>[ID: 22327866]"
      ],
      "text/plain": [
       "<IPython.core.display.HTML object>"
      ]
     },
     "metadata": {},
     "output_type": "display_data"
    },
    {
     "data": {
      "text/html": [
       "<strong><a href=http://dx.doi.org/10.1093/geronb/gbr149>Personality stability is associated with better cognitive performance in adulthood: are the stable more able?</a></strong><br>2012. Graham EK, Lachman ME<br>[ID: 22357641]"
      ],
      "text/plain": [
       "<IPython.core.display.HTML object>"
      ]
     },
     "metadata": {},
     "output_type": "display_data"
    },
    {
     "data": {
      "text/html": [
       "<strong><a href=http://dx.doi.org/10.1055/s-0031-1301165>Longitudinal changes in discourse production in amyotrophic lateral sclerosis.</a></strong><br>2012. Roberts-South A, Findlater K, Strong MJ, Orange JB<br>[ID: 22362326]"
      ],
      "text/plain": [
       "<IPython.core.display.HTML object>"
      ]
     },
     "metadata": {},
     "output_type": "display_data"
    },
    {
     "data": {
      "text/html": [
       "<strong><a href=http://dx.doi.org/10.1037/a0027414>Sex differences in the cognitive effects of tobacco abstinence: a pilot study.</a></strong><br>2012. Merritt PS, Cobb AR, Cook GI<br>[ID: 22369669]"
      ],
      "text/plain": [
       "<IPython.core.display.HTML object>"
      ]
     },
     "metadata": {},
     "output_type": "display_data"
    },
    {
     "data": {
      "text/html": [
       "<strong><a href=http://dx.doi.org/10.1016/j.bbr.2012.02.031>An examination of the effects of subthalamic nucleus inhibition or μ-opioid receptor stimulation on food-directed motivation in the non-deprived rat.</a></strong><br>2012. Pratt WE, Choi E, Guy EG<br>[ID: 22391117]"
      ],
      "text/plain": [
       "<IPython.core.display.HTML object>"
      ]
     },
     "metadata": {},
     "output_type": "display_data"
    },
    {
     "data": {
      "text/html": [
       "<strong><a href=http://dx.doi.org/10.1007/BF03392772>Differing views of contingencies: How contiguous?</a></strong><br>1997. Lattal KA, Shahan TA<br>[ID: 22478289]"
      ],
      "text/plain": [
       "<IPython.core.display.HTML object>"
      ]
     },
     "metadata": {},
     "output_type": "display_data"
    },
    {
     "data": {
      "text/html": [
       "<strong><a href=http://dx.doi.org/10.1371/journal.pone.0032024>Old world monkeys compare to apes in the primate cognition test battery.</a></strong><br>2012. Schmitt V, Pankau B, Fischer J<br>[ID: 22485130]"
      ],
      "text/plain": [
       "<IPython.core.display.HTML object>"
      ]
     },
     "metadata": {},
     "output_type": "display_data"
    },
    {
     "data": {
      "text/html": [
       "<strong><a href=http://dx.doi.org/10.1080/00140139.2012.665497>Acute cold exposure and cognitive function: evidence for sustained impairment.</a></strong><br>2012. Muller MD, Gunstad J, Alosco ML, Miller LA, Updegraff J, Spitznagel MB, Glickman EL<br>[ID: 22506538]"
      ],
      "text/plain": [
       "<IPython.core.display.HTML object>"
      ]
     },
     "metadata": {},
     "output_type": "display_data"
    },
    {
     "data": {
      "text/html": [
       "<strong><a href=http://dx.doi.org/10.5665/sleep.1820>Increased fragmentation of rest-activity patterns is associated with a characteristic pattern of cognitive impairment in older individuals.</a></strong><br>2012. Lim AS, Yu L, Costa MD, Leurgans SE, Buchman AS, Bennett DA, Saper CB<br>[ID: 22547889]"
      ],
      "text/plain": [
       "<IPython.core.display.HTML object>"
      ]
     },
     "metadata": {},
     "output_type": "display_data"
    },
    {
     "data": {
      "text/html": [
       "<strong><a href=http://dx.doi.org/10.1109/TITB.2012.2198484>A feasibility study of enhancing independent task performance for people with cognitive impairments through use of a handheld location-based prompting system.</a></strong><br>2012. Chang YJ, Chen SF, Chou LD<br>[ID: 22581142]"
      ],
      "text/plain": [
       "<IPython.core.display.HTML object>"
      ]
     },
     "metadata": {},
     "output_type": "display_data"
    },
    {
     "data": {
      "text/html": [
       "<strong><a href=http://dx.doi.org/10.1016/j.bbr.2012.05.032>Impaired reward learning and intact motivation after serotonin depletion in rats.</a></strong><br>2012. Izquierdo A, Carlos K, Ostrander S, Rodriguez D, McCall-Craddolph A, Yagnik G, Zhou F<br>[ID: 22652392]"
      ],
      "text/plain": [
       "<IPython.core.display.HTML object>"
      ]
     },
     "metadata": {},
     "output_type": "display_data"
    },
    {
     "data": {
      "text/html": [
       "<strong><a href=http://dx.doi.org/10.1007/s10339-012-0499-z>Gaze and eye-tracking solutions for psychological research.</a></strong><br>2012. Mele ML, Federici S<br>[ID: 22810423]"
      ],
      "text/plain": [
       "<IPython.core.display.HTML object>"
      ]
     },
     "metadata": {},
     "output_type": "display_data"
    },
    {
     "data": {
      "text/html": [
       "<strong><a href=http://dx.doi.org/10.1093/schbul/sbs086>Neurocognition in the extended psychosis phenotype: performance of a community sample of adolescents with psychotic symptoms on the MATRICS neurocognitive battery.</a></strong><br>2013. Kelleher I, Clarke MC, Rawdon C, Murphy J, Cannon M<br>[ID: 22927672]"
      ],
      "text/plain": [
       "<IPython.core.display.HTML object>"
      ]
     },
     "metadata": {},
     "output_type": "display_data"
    },
    {
     "data": {
      "text/html": [
       "<strong><a href=http://dx.doi.org/10.1016/j.jpsychires.2012.08.023>Depression, anxiety and cognition in community-dwelling adults aged 70 years and over.</a></strong><br>2012. Bunce D, Batterham PJ, Mackinnon AJ, Christensen H<br>[ID: 23017811]"
      ],
      "text/plain": [
       "<IPython.core.display.HTML object>"
      ]
     },
     "metadata": {},
     "output_type": "display_data"
    },
    {
     "data": {
      "text/html": [
       "<strong><a href=http://dx.doi.org/10.1089/neu.2012.2782>Donepezil is ineffective in promoting motor and cognitive benefits after controlled cortical impact injury in male rats.</a></strong><br>2013. Shaw KE, Bondi CO, Light SH, Massimino LA, McAloon RL, Monaco CM, Kline AE<br>[ID: 23227953]"
      ],
      "text/plain": [
       "<IPython.core.display.HTML object>"
      ]
     },
     "metadata": {},
     "output_type": "display_data"
    },
    {
     "data": {
      "text/html": [
       "<strong><a href=http://dx.doi.org/10.1016/j.soard.2012.10.008>Patient reports of cognitive problems are not associated with neuropsychological test performance in bariatric surgery candidates.</a></strong><br>2013. Garcia S, Fedor A, Spitznagel MB, Strain G, Devlin MJ, Cohen RA, Paul RH, Crosby RD, Mitchell JE, Gunstad J<br>[ID: 23245496]"
      ],
      "text/plain": [
       "<IPython.core.display.HTML object>"
      ]
     },
     "metadata": {},
     "output_type": "display_data"
    },
    {
     "data": {
      "text/html": [
       "<strong><a href=http://dx.doi.org/10.1002/ptr.4864>An acute, double-blind, placebo-controlled crossover study of 320 mg and 640 mg doses of a special extract of Bacopa monnieri (CDRI 08) on sustained cognitive performance.</a></strong><br>2013. Downey LA, Kean J, Nemeh F, Lau A, Poll A, Gregory R, Murray M, Rourke J, Patak B, Pase MP, Zangara A, Lomas J, Scholey A, Stough C<br>[ID: 23281132]"
      ],
      "text/plain": [
       "<IPython.core.display.HTML object>"
      ]
     },
     "metadata": {},
     "output_type": "display_data"
    },
    {
     "data": {
      "text/html": [
       "<strong><a href=http://dx.doi.org/10.1037/a0031087>Temporal dynamics and the identification of musical key.</a></strong><br>2013. Farbood MM, Marcus G, Poeppel D<br>[ID: 23317116]"
      ],
      "text/plain": [
       "<IPython.core.display.HTML object>"
      ]
     },
     "metadata": {},
     "output_type": "display_data"
    },
    {
     "data": {
      "text/html": [
       "<strong><a href=http://dx.doi.org/10.3389/fpsyg.2012.00588>Imagining Other People's Experiences in a Person with Impaired Episodic Memory: The Role of Personal Familiarity.</a></strong><br>2012. Rabin JS, Carson N, Gilboa A, Stuss DT, Rosenbaum RS<br>[ID: 23355827]"
      ],
      "text/plain": [
       "<IPython.core.display.HTML object>"
      ]
     },
     "metadata": {},
     "output_type": "display_data"
    },
    {
     "data": {
      "text/html": [
       "<strong><a href=http://dx.doi.org/10.1007/s10071-013-0603-5>Taking personality selection bias seriously in animal cognition research: a case study in capuchin monkeys (Sapajus apella).</a></strong><br>2013. Morton FB, Lee PC, Buchanan-Smith HM<br>[ID: 23370784]"
      ],
      "text/plain": [
       "<IPython.core.display.HTML object>"
      ]
     },
     "metadata": {},
     "output_type": "display_data"
    },
    {
     "data": {
      "text/html": [
       "<strong><a href=http://dx.doi.org/10.1901/jeab.2004.81-189>Data in search of a principle: a review of relational frame theory: a post-Skinnerian account of human language and cognition.</a></strong><br>2004. Palmer DC<br>[ID: 23550325]"
      ],
      "text/plain": [
       "<IPython.core.display.HTML object>"
      ]
     },
     "metadata": {},
     "output_type": "display_data"
    },
    {
     "data": {
      "text/html": [
       "<strong><a href=http://dx.doi.org/10.5210/ojphi.v4i3.4270>Beyond information access: Support for complex cognitive activities in public health informatics tools.</a></strong><br>2012. Sedig K, Parsons P, Dittmer M, Ola O<br>[ID: 23569645]"
      ],
      "text/plain": [
       "<IPython.core.display.HTML object>"
      ]
     },
     "metadata": {},
     "output_type": "display_data"
    },
    {
     "data": {
      "text/html": [
       "<strong><a href=http://dx.doi.org/10.1146/annurev-nutr-071812-161205>Iron nutrition and premenopausal women: effects of poor iron status on physical and neuropsychological performance.</a></strong><br>2013. McClung JP, Murray-Kolb LE<br>[ID: 23642204]"
      ],
      "text/plain": [
       "<IPython.core.display.HTML object>"
      ]
     },
     "metadata": {},
     "output_type": "display_data"
    },
    {
     "data": {
      "text/html": [
       "<strong><a href=http://dx.doi.org/10.1016/j.jdiacomp.2013.04.004>The influence of subclinical cardiovascular disease and related risk factors on cognition in type 2 diabetes mellitus: The DHS-Mind study.</a></strong><br>2013. Hugenschmidt CE, Hsu FC, Hayasaka S, Carr JJ, Freedman BI, Nyenhuis DL, Williamson JD, Bowden DW<br>[ID: 23659774]"
      ],
      "text/plain": [
       "<IPython.core.display.HTML object>"
      ]
     },
     "metadata": {},
     "output_type": "display_data"
    },
    {
     "data": {
      "text/html": [
       "<strong><a href=http://dx.doi.org/10.1016/j.euroneuro.2013.05.006>The potential role of dopamine D₃ receptor neurotransmission in cognition.</a></strong><br>2013. Nakajima S, Gerretsen P, Takeuchi H, Caravaggio F, Chow T, Le Foll B, Mulsant B, Pollock B, Graff-Guerrero A<br>[ID: 23791072]"
      ],
      "text/plain": [
       "<IPython.core.display.HTML object>"
      ]
     },
     "metadata": {},
     "output_type": "display_data"
    },
    {
     "data": {
      "text/html": [
       "<strong><a href=http://dx.doi.org/10.1016/j.neuropsychologia.2013.06.031>Visuo-spatial working memory is an important source of domain-general vulnerability in the development of arithmetic cognition.</a></strong><br>2013. Ashkenazi S, Rosenberg-Lee M, Metcalfe AW, Swigart AG, Menon V<br>[ID: 23896444]"
      ],
      "text/plain": [
       "<IPython.core.display.HTML object>"
      ]
     },
     "metadata": {},
     "output_type": "display_data"
    },
    {
     "data": {
      "text/html": [
       "<strong><a href=http://dx.doi.org/10.1162/jocn.1991.3.3.242>Spatio-temporal cortical patterns evoked in monkeys by a discrimination task.</a></strong><br>1991. Krieger D, Sclabassi RJ, Coppola R, Nakamura R<br>[ID: 23964839]"
      ],
      "text/plain": [
       "<IPython.core.display.HTML object>"
      ]
     },
     "metadata": {},
     "output_type": "display_data"
    },
    {
     "data": {
      "text/html": [
       "<strong><a href=http://dx.doi.org/10.1037/a0034485>What I experienced yesterday is who I am today: relationship of work motivations and behaviors to within-individual variation in the five-factor model of personality.</a></strong><br>2014. Judge TA, Simon LS, Hurst C, Kelley K<br>[ID: 24099348]"
      ],
      "text/plain": [
       "<IPython.core.display.HTML object>"
      ]
     },
     "metadata": {},
     "output_type": "display_data"
    },
    {
     "data": {
      "text/html": [
       "<strong><a href=http://dx.doi.org/10.1016/j.schres.2013.09.026>Emotion recognition abilities across stimulus modalities in schizophrenia and the role of visual attention.</a></strong><br>2013. Simpson C, Pinkham AE, Kelsven S, Sasson NJ<br>[ID: 24126043]"
      ],
      "text/plain": [
       "<IPython.core.display.HTML object>"
      ]
     },
     "metadata": {},
     "output_type": "display_data"
    },
    {
     "data": {
      "text/html": [
       "<strong><a href=http://dx.doi.org/10.3758/s13415-013-0215-1>Is pressure stressful? The impact of pressure on the stress response and category learning.</a></strong><br>2014. McCoy SK, Hutchinson S, Hawthorne L, Cosley BJ, Ell SW<br>[ID: 24129964]"
      ],
      "text/plain": [
       "<IPython.core.display.HTML object>"
      ]
     },
     "metadata": {},
     "output_type": "display_data"
    },
    {
     "data": {
      "text/html": [
       "<strong><a href=http://dx.doi.org/10.1101/lm.031336.113>A secondary working memory challenge preserves primary place strategies despite overtraining.</a></strong><br>2013. Gardner RS, Uttaro MR, Fleming SE, Suarez DF, Ascoli GA, Dumas TC<br>[ID: 24136182]"
      ],
      "text/plain": [
       "<IPython.core.display.HTML object>"
      ]
     },
     "metadata": {},
     "output_type": "display_data"
    },
    {
     "data": {
      "text/html": [
       "<strong><a href=http://dx.doi.org/10.2466/29.30.PMS.116.3.905-917>Mental toughness of mixed martial arts athletes at different levels of competition.</a></strong><br>2013. Chen MA, Cheesman DJ<br>[ID: 24175462]"
      ],
      "text/plain": [
       "<IPython.core.display.HTML object>"
      ]
     },
     "metadata": {},
     "output_type": "display_data"
    },
    {
     "data": {
      "text/html": [
       "<strong>2013 SYR Accepted Poster Abstracts.</strong><br>2013. <br>[ID: 24176784]"
      ],
      "text/plain": [
       "<IPython.core.display.HTML object>"
      ]
     },
     "metadata": {},
     "output_type": "display_data"
    },
    {
     "data": {
      "text/html": [
       "<strong><a href=http://dx.doi.org/10.1016/j.beproc.2013.11.013>Familiarity with the experimenter influences the performance of Common ravens (Corvus corax) and Carrion crows (Corvus corone corone) in cognitive tasks.</a></strong><br>2014. Cibulski L, Wascher CA, Weiss BM, Kotrschal K<br>[ID: 24333226]"
      ],
      "text/plain": [
       "<IPython.core.display.HTML object>"
      ]
     },
     "metadata": {},
     "output_type": "display_data"
    },
    {
     "data": {
      "text/html": [
       "<strong><a href=http://dx.doi.org/10.1177/1533317513517036>Neuropsychological factors related to college ice hockey concussions.</a></strong><br>2014. Pedersen HA, Ferraro FR, Himle M, Schultz C, Poolman M<br>[ID: 24370620]"
      ],
      "text/plain": [
       "<IPython.core.display.HTML object>"
      ]
     },
     "metadata": {},
     "output_type": "display_data"
    },
    {
     "data": {
      "text/html": [
       "<strong><a href=http://dx.doi.org/10.1016/j.cognition.2013.11.016>The origins of belief representation: monkeys fail to automatically represent others' beliefs.</a></strong><br>2014. Martin A, Santos LR<br>[ID: 24374209]"
      ],
      "text/plain": [
       "<IPython.core.display.HTML object>"
      ]
     },
     "metadata": {},
     "output_type": "display_data"
    },
    {
     "data": {
      "text/html": [
       "<strong><a href=http://dx.doi.org/10.1016/j.pnpbp.2013.11.017>Role of the endocannabinoid system in brain functions relevant for schizophrenia: an overview of human challenge studies with cannabis or ∆9-tetrahydrocannabinol (THC).</a></strong><br>2014. Bossong MG, Jansma JM, Bhattacharyya S, Ramsey NF<br>[ID: 24380726]"
      ],
      "text/plain": [
       "<IPython.core.display.HTML object>"
      ]
     },
     "metadata": {},
     "output_type": "display_data"
    },
    {
     "data": {
      "text/html": [
       "<strong><a href=http://dx.doi.org/10.1111/bjop.12012>We can work it out: Group decision-making builds social identity and enhances the cognitive performance of care residents.</a></strong><br>2014. Haslam C, Alexander Haslam S, Knight C, Gleibs I, Ysseldyk R, McCloskey LG<br>[ID: 24387094]"
      ],
      "text/plain": [
       "<IPython.core.display.HTML object>"
      ]
     },
     "metadata": {},
     "output_type": "display_data"
    },
    {
     "data": {
      "text/html": [
       "<strong><a href=http://dx.doi.org/10.1016/j.jalz.2013.09.002>Performance of Spanish-speaking community-dwelling elders in the United States on the Uniform Data Set.</a></strong><br>2014. Benson G, de Felipe J, Xiaodong, Sano M<br>[ID: 24418057]"
      ],
      "text/plain": [
       "<IPython.core.display.HTML object>"
      ]
     },
     "metadata": {},
     "output_type": "display_data"
    },
    {
     "data": {
      "text/html": [
       "<strong><a href=http://dx.doi.org/10.1016/j.ntt.2014.01.002>Effects of perinatal bisphenol A exposure during early development on radial arm maze behavior in adult male and female rats.</a></strong><br>2014. Sadowski RN, Park P, Neese SL, Ferguson DC, Schantz SL, Juraska JM<br>[ID: 24440629]"
      ],
      "text/plain": [
       "<IPython.core.display.HTML object>"
      ]
     },
     "metadata": {},
     "output_type": "display_data"
    },
    {
     "data": {
      "text/html": [
       "<strong><a href=http://dx.doi.org/10.3233/WOR-141828>Social cognition and work performance of persons with schizophrenia in a Chinese population.</a></strong><br>2015. Lo P, Siu AM<br>[ID: 24448016]"
      ],
      "text/plain": [
       "<IPython.core.display.HTML object>"
      ]
     },
     "metadata": {},
     "output_type": "display_data"
    },
    {
     "data": {
      "text/html": [
       "<strong><a href=http://dx.doi.org/10.1016/j.psyneuen.2013.12.014>Impact of acute aerobic exercise and cardiorespiratory fitness on visuospatial attention performance and serum BDNF levels.</a></strong><br>2014. Tsai CL, Chen FC, Pan CY, Wang CH, Huang TH, Chen TC<br>[ID: 24495613]"
      ],
      "text/plain": [
       "<IPython.core.display.HTML object>"
      ]
     },
     "metadata": {},
     "output_type": "display_data"
    },
    {
     "data": {
      "text/html": [
       "<strong><a href=http://dx.doi.org/10.1016/j.neuroscience.2014.01.041>The nature of dual-task interference during gait in incident Parkinson's disease.</a></strong><br>2014. Rochester L, Galna B, Lord S, Burn D<br>[ID: 24508154]"
      ],
      "text/plain": [
       "<IPython.core.display.HTML object>"
      ]
     },
     "metadata": {},
     "output_type": "display_data"
    },
    {
     "data": {
      "text/html": [
       "<strong><a href=http://dx.doi.org/10.3233/NRE-1997-8105>Occupational therapy: current practice and training issues in the treatment of cognitive dysfunction.</a></strong><br>1997. Hanson CS, Shechtman O, Jackson Foss J, Krauss-Hooker A<br>[ID: 24525942]"
      ],
      "text/plain": [
       "<IPython.core.display.HTML object>"
      ]
     },
     "metadata": {},
     "output_type": "display_data"
    },
    {
     "data": {
      "text/html": [
       "<strong><a href=http://dx.doi.org/10.1016/j.neubiorev.2014.02.011>Moving forward: age effects on the cerebellum underlie cognitive and motor declines.</a></strong><br>2014. Bernard JA, Seidler RD<br>[ID: 24594194]"
      ],
      "text/plain": [
       "<IPython.core.display.HTML object>"
      ]
     },
     "metadata": {},
     "output_type": "display_data"
    },
    {
     "data": {
      "text/html": [
       "<strong><a href=http://dx.doi.org/10.3389/fpsyt.2014.00018>Genetics, cognition, and neurobiology of schizotypal personality: a review of the overlap with schizophrenia.</a></strong><br>2014. Ettinger U, Meyhöfer I, Steffens M, Wagner M, Koutsouleris N<br>[ID: 24600411]"
      ],
      "text/plain": [
       "<IPython.core.display.HTML object>"
      ]
     },
     "metadata": {},
     "output_type": "display_data"
    },
    {
     "data": {
      "text/html": [
       "<strong><a href=http://dx.doi.org/10.1167/14.3.11>Classification of visual and linguistic tasks using eye-movement features.</a></strong><br>2014. Coco MI, Keller F<br>[ID: 24610954]"
      ],
      "text/plain": [
       "<IPython.core.display.HTML object>"
      ]
     },
     "metadata": {},
     "output_type": "display_data"
    },
    {
     "data": {
      "text/html": [
       "<strong><a href=http://dx.doi.org/10.1055/s-0034-1365920>[Rehabilitation in persons with schizophrenic spectrum disorders: the impact of cognition and cognitive remediation therapy].</a></strong><br>2014. Weisbrod M, Aschenbrenner S, Pfüller U, Kaiser S, Roesch-Ely D<br>[ID: 24615583]"
      ],
      "text/plain": [
       "<IPython.core.display.HTML object>"
      ]
     },
     "metadata": {},
     "output_type": "display_data"
    },
    {
     "data": {
      "text/html": [
       "<strong><a href=http://dx.doi.org/10.1371/journal.pone.0091196>The role of education and verbal abilities in altering the effect of age-related gray matter differences on cognition.</a></strong><br>2014. Steffener J, Barulli D, Habeck C, O'Shea D, Razlighi Q, Stern Y<br>[ID: 24625888]"
      ],
      "text/plain": [
       "<IPython.core.display.HTML object>"
      ]
     },
     "metadata": {},
     "output_type": "display_data"
    },
    {
     "data": {
      "text/html": [
       "<strong>[Uncertain if physicians' shift work causes patient harm].</strong><br>2014. Amirian I, Rosenberg J, Gögenur I<br>[ID: 24629680]"
      ],
      "text/plain": [
       "<IPython.core.display.HTML object>"
      ]
     },
     "metadata": {},
     "output_type": "display_data"
    },
    {
     "data": {
      "text/html": [
       "<strong><a href=http://dx.doi.org/10.3758/s13415-014-0280-0>Dissociable influences of reward motivation and positive emotion on cognitive control.</a></strong><br>2014. Chiew KS, Braver TS<br>[ID: 24733296]"
      ],
      "text/plain": [
       "<IPython.core.display.HTML object>"
      ]
     },
     "metadata": {},
     "output_type": "display_data"
    },
    {
     "data": {
      "text/html": [
       "<strong><a href=http://dx.doi.org/10.1523/JNEUROSCI.4641-13.2014>Alpha power gates relevant information during working memory updating.</a></strong><br>2014. Manza P, Hau CL, Leung HC<br>[ID: 24760858]"
      ],
      "text/plain": [
       "<IPython.core.display.HTML object>"
      ]
     },
     "metadata": {},
     "output_type": "display_data"
    },
    {
     "data": {
      "text/html": [
       "<strong><a href=http://dx.doi.org/10.1016/j.psyneuen.2014.02.018>Basal salivary oxytocin level predicts extra- but not intra-personal dimensions of emotional intelligence.</a></strong><br>2014. Koven NS, Max LK<br>[ID: 24767616]"
      ],
      "text/plain": [
       "<IPython.core.display.HTML object>"
      ]
     },
     "metadata": {},
     "output_type": "display_data"
    },
    {
     "data": {
      "text/html": [
       "<strong><a href=http://dx.doi.org/10.1016/j.dcn.2014.04.001>Social cognition, face processing, and oxytocin receptor single nucleotide polymorphisms in typically developing children.</a></strong><br>2014. Slane MM, Lusk LG, Boomer KB, Hare AE, King MK, Evans DW<br>[ID: 24814480]"
      ],
      "text/plain": [
       "<IPython.core.display.HTML object>"
      ]
     },
     "metadata": {},
     "output_type": "display_data"
    },
    {
     "data": {
      "text/html": [
       "<strong><a href=http://dx.doi.org/10.1016/j.paid.2013.11.011>Personality Traits, Facets and Cognitive Performance: Age Differences in Their Relations.</a></strong><br>2014. Graham EK, Lachman ME<br>[ID: 24821992]"
      ],
      "text/plain": [
       "<IPython.core.display.HTML object>"
      ]
     },
     "metadata": {},
     "output_type": "display_data"
    },
    {
     "data": {
      "text/html": [
       "<strong><a href=http://dx.doi.org/10.1002/hup.2399>Cortisol awakening response and spatial working memory in man: a U-shaped relationship.</a></strong><br>2014. Moriarty AS, Bradley AJ, Anderson KN, Watson S, Gallagher P, McAllister-Williams RH<br>[ID: 24911579]"
      ],
      "text/plain": [
       "<IPython.core.display.HTML object>"
      ]
     },
     "metadata": {},
     "output_type": "display_data"
    },
    {
     "data": {
      "text/html": [
       "<strong><a href=http://dx.doi.org/10.1016/j.schres.2014.05.026>Investigating facial affect processing in psychosis: a study using the Comprehensive Affective Testing System.</a></strong><br>2014. Rossell SL, Van Rheenen TE, Joshua NR, O'Regan A, Gogos A<br>[ID: 24924406]"
      ],
      "text/plain": [
       "<IPython.core.display.HTML object>"
      ]
     },
     "metadata": {},
     "output_type": "display_data"
    },
    {
     "data": {
      "text/html": [
       "<strong><a href=http://dx.doi.org/10.1016/j.neuropsychologia.2014.06.021>A gene-brain-cognition pathway for the effect of an Alzheimer׳s risk gene on working memory in young adults.</a></strong><br>2014. Stevens BW, DiBattista AM, William Rebeck G, Green AE<br>[ID: 24967550]"
      ],
      "text/plain": [
       "<IPython.core.display.HTML object>"
      ]
     },
     "metadata": {},
     "output_type": "display_data"
    },
    {
     "data": {
      "text/html": [
       "<strong><a href=http://dx.doi.org/10.1080/09658211.2014.931436>Language facilitates event memory in early childhood: Child comprehension, adult-provided linguistic support and delayed recall at 16 months.</a></strong><br>2015. Lukowski AF, Phung JN, Milojevich HM<br>[ID: 24999740]"
      ],
      "text/plain": [
       "<IPython.core.display.HTML object>"
      ]
     },
     "metadata": {},
     "output_type": "display_data"
    },
    {
     "data": {
      "text/html": [
       "<strong><a href=http://dx.doi.org/10.1016/j.cognition.2014.06.011>Improving arithmetic performance with number sense training: an investigation of underlying mechanism.</a></strong><br>2014. Park J, Brannon EM<br>[ID: 25044247]"
      ],
      "text/plain": [
       "<IPython.core.display.HTML object>"
      ]
     },
     "metadata": {},
     "output_type": "display_data"
    },
    {
     "data": {
      "text/html": [
       "<strong><a href=http://dx.doi.org/10.3389/fnbeh.2014.00221>The development and malleability of executive control abilities.</a></strong><br>2014. Hsu NS, Novick JM, Jaeggi SM<br>[ID: 25071485]"
      ],
      "text/plain": [
       "<IPython.core.display.HTML object>"
      ]
     },
     "metadata": {},
     "output_type": "display_data"
    },
    {
     "data": {
      "text/html": [
       "<strong><a href=http://dx.doi.org/10.1016/j.jpsychires.2014.07.002>Cognitive functioning in complicated grief.</a></strong><br>2014. Hall CA, Reynolds CF 3rd, Butters M, Zisook S, Simon N, Corey-Bloom J, Lebowitz BD, Begley A, Mauro C, Shear MK<br>[ID: 25088285]"
      ],
      "text/plain": [
       "<IPython.core.display.HTML object>"
      ]
     },
     "metadata": {},
     "output_type": "display_data"
    },
    {
     "data": {
      "text/html": [
       "<strong><a href=http://dx.doi.org/10.1002/smi.2588>Cardiovascular and affective consequences of ruminating on a performance stressor depend on mode of thought.</a></strong><br>2014. Zoccola PM, Rabideau EM, Figueroa WS, Woody A<br>[ID: 25100270]"
      ],
      "text/plain": [
       "<IPython.core.display.HTML object>"
      ]
     },
     "metadata": {},
     "output_type": "display_data"
    },
    {
     "data": {
      "text/html": [
       "<strong><a href=http://dx.doi.org/10.3389/fpsyg.2014.00676>Social implications arise in embodied music cognition research which can counter musicological \"individualism\".</a></strong><br>2014. Moran N<br>[ID: 25101011]"
      ],
      "text/plain": [
       "<IPython.core.display.HTML object>"
      ]
     },
     "metadata": {},
     "output_type": "display_data"
    },
    {
     "data": {
      "text/html": [
       "<strong><a href=http://dx.doi.org/10.1016/j.actpsy.2014.07.002>Know thy sound: perceiving self and others in musical contexts.</a></strong><br>2014. Sevdalis V, Keller PE<br>[ID: 25113128]"
      ],
      "text/plain": [
       "<IPython.core.display.HTML object>"
      ]
     },
     "metadata": {},
     "output_type": "display_data"
    },
    {
     "data": {
      "text/html": [
       "<strong><a href=http://dx.doi.org/10.1016/j.neuropsychologia.2014.08.005>The construct of the multisensory temporal binding window and its dysregulation in developmental disabilities.</a></strong><br>2014. Wallace MT, Stevenson RA<br>[ID: 25128432]"
      ],
      "text/plain": [
       "<IPython.core.display.HTML object>"
      ]
     },
     "metadata": {},
     "output_type": "display_data"
    },
    {
     "data": {
      "text/html": [
       "<strong><a href=http://dx.doi.org/10.1016/j.jpsychires.2014.08.010>Impaired response inhibition and excess cortical thickness as candidate endophenotypes for trichotillomania.</a></strong><br>2014. Odlaug BL, Chamberlain SR, Derbyshire KL, Leppink EW, Grant JE<br>[ID: 25223951]"
      ],
      "text/plain": [
       "<IPython.core.display.HTML object>"
      ]
     },
     "metadata": {},
     "output_type": "display_data"
    },
    {
     "data": {
      "text/html": [
       "<strong><a href=http://dx.doi.org/10.1016/j.brainres.2014.09.010>COBRA: A prospective multimodal imaging study of dopamine, brain structure and function, and cognition.</a></strong><br>2015. Nevalainen N, Riklund K, Andersson M, Axelsson J, Ögren M, Lövdén M, Lindenberger U, Bäckman L, Nyberg L<br>[ID: 25239478]"
      ],
      "text/plain": [
       "<IPython.core.display.HTML object>"
      ]
     },
     "metadata": {},
     "output_type": "display_data"
    },
    {
     "data": {
      "text/html": [
       "<strong><a href=http://dx.doi.org/10.1037/a0037813>Social cognition and functional outcome in schizophrenia: The moderating role of cardiac vagal tone.</a></strong><br>2014. Hamilton HK, Sun JC, Green MF, Kee KS, Lee J, Sergi M, Sholty GL, Mathis KI, Jetton C, Williams TJ, Kern R, Horan W, Fiske A, Subotnik KL, Ventura J, Hellemann G, Nuechterlein KH, Yee CM<br>[ID: 25314266]"
      ],
      "text/plain": [
       "<IPython.core.display.HTML object>"
      ]
     },
     "metadata": {},
     "output_type": "display_data"
    },
    {
     "data": {
      "text/html": [
       "<strong><a href=http://dx.doi.org/10.5665/sleep.4256>Effects of armodafinil on simulated driving and alertness in shift work disorder.</a></strong><br>2014. Drake C, Gumenyuk V, Roth T, Howard R<br>[ID: 25325498]"
      ],
      "text/plain": [
       "<IPython.core.display.HTML object>"
      ]
     },
     "metadata": {},
     "output_type": "display_data"
    },
    {
     "data": {
      "text/html": [
       "<strong><a href=http://dx.doi.org/10.1111/1742-6723.12319>Current and future directions in clinical fatigue management: An update for emergency medicine practitioners.</a></strong><br>2014. Cheng YH, Roach GD, Petrilli RM<br>[ID: 25394226]"
      ],
      "text/plain": [
       "<IPython.core.display.HTML object>"
      ]
     },
     "metadata": {},
     "output_type": "display_data"
    },
    {
     "data": {
      "text/html": [
       "<strong><a href=http://dx.doi.org/10.3389/fpsyg.2014.01201>Action and familiarity effects on self and other expert musicians' Laban effort-shape analyses of expressive bodily behaviors in instrumental music performance: a case study approach.</a></strong><br>2014. Broughton MC, Davidson JW<br>[ID: 25400601]"
      ],
      "text/plain": [
       "<IPython.core.display.HTML object>"
      ]
     },
     "metadata": {},
     "output_type": "display_data"
    },
    {
     "data": {
      "text/html": [
       "<strong><a href=http://dx.doi.org/10.1093/scan/nsu148>Task-dependent and distinct roles of the temporoparietal junction and inferior frontal cortex in the control of imitation.</a></strong><br>2015. Hogeveen J, Obhi SS, Banissy MJ, Santiesteban I, Press C, Catmur C, Bird G<br>[ID: 25481003]"
      ],
      "text/plain": [
       "<IPython.core.display.HTML object>"
      ]
     },
     "metadata": {},
     "output_type": "display_data"
    },
    {
     "data": {
      "text/html": [
       "<strong><a href=http://dx.doi.org/10.4161/cc.29420>Isolated spinal cord contusion in rats induces chronic brain neuroinflammation, neurodegeneration, and cognitive impairment. Involvement of cell cycle activation.</a></strong><br>2014. Wu J, Stoica BA, Luo T, Sabirzhanov B, Zhao Z, Guanciale K, Nayar SK, Foss CA, Pomper MG, Faden AI<br>[ID: 25483194]"
      ],
      "text/plain": [
       "<IPython.core.display.HTML object>"
      ]
     },
     "metadata": {},
     "output_type": "display_data"
    },
    {
     "data": {
      "text/html": [
       "<strong><a href=http://dx.doi.org/10.3389/fpsyg.2014.01350>Cognition and emotional decision-making in chronic low back pain: an ERPs study during Iowa gambling task.</a></strong><br>2014. Tamburin S, Maier A, Schiff S, Lauriola MF, Di Rosa E, Zanette G, Mapelli D<br>[ID: 25505440]"
      ],
      "text/plain": [
       "<IPython.core.display.HTML object>"
      ]
     },
     "metadata": {},
     "output_type": "display_data"
    },
    {
     "data": {
      "text/html": [
       "<strong><a href=http://dx.doi.org/10.3389/fnins.2014.00395>Serotonin and dopamine receptors in motivational and cognitive disturbances of schizophrenia.</a></strong><br>2014. Sumiyoshi T, Kunugi H, Nakagome K<br>[ID: 25538549]"
      ],
      "text/plain": [
       "<IPython.core.display.HTML object>"
      ]
     },
     "metadata": {},
     "output_type": "display_data"
    },
    {
     "data": {
      "text/html": [
       "<strong><a href=http://dx.doi.org/10.1016/j.neuropsychologia.2015.01.030>Motor resonance meets motor performance.</a></strong><br>2015. Barchiesi G, Cattaneo L<br>[ID: 25619846]"
      ],
      "text/plain": [
       "<IPython.core.display.HTML object>"
      ]
     },
     "metadata": {},
     "output_type": "display_data"
    },
    {
     "data": {
      "text/html": [
       "<strong><a href=http://dx.doi.org/10.1016/j.jcomdis.2014.12.001>Exploring links between language and cognition in autism spectrum disorders: Complement sentences, false belief, and executive functioning.</a></strong><br>2015. Durrleman S, Franck J<br>[ID: 25637130]"
      ],
      "text/plain": [
       "<IPython.core.display.HTML object>"
      ]
     },
     "metadata": {},
     "output_type": "display_data"
    },
    {
     "data": {
      "text/html": [
       "<strong><a href=http://dx.doi.org/10.1002/hbm.22761>Exploring the brain's structural connectome: A quantitative stroke lesion-dysfunction mapping study.</a></strong><br>2015. Kuceyeski A, Navi BB, Kamel H, Relkin N, Villanueva M, Raj A, Toglia J, O'Dell M, Iadecola C<br>[ID: 25655204]"
      ],
      "text/plain": [
       "<IPython.core.display.HTML object>"
      ]
     },
     "metadata": {},
     "output_type": "display_data"
    },
    {
     "data": {
      "text/html": [
       "<strong><a href=http://dx.doi.org/10.1016/j.addbeh.2015.01.013>Cognitive performance in a placebo-controlled pharmacotherapy trial for youth with marijuana dependence.</a></strong><br>2015. Roten A, Baker NL, Gray KM<br>[ID: 25661990]"
      ],
      "text/plain": [
       "<IPython.core.display.HTML object>"
      ]
     },
     "metadata": {},
     "output_type": "display_data"
    },
    {
     "data": {
      "text/html": [
       "<strong><a href=http://dx.doi.org/10.1177/1545968315570326>Visual Priming Enhances the Effects of Nonspatial Cognitive Rehabilitation Training on Spatial Learning After Experimental Traumatic Brain Injury.</a></strong><br>2015. Edwards CM, Kumar K, Koesarie K, Brough E, Ritter AC, Brayer SW, Thiels E, Skidmore ER, Wagner AK<br>[ID: 25665829]"
      ],
      "text/plain": [
       "<IPython.core.display.HTML object>"
      ]
     },
     "metadata": {},
     "output_type": "display_data"
    },
    {
     "data": {
      "text/html": [
       "<strong><a href=http://dx.doi.org/10.1016/j.cortex.2015.01.005>Sequential movement skill in Parkinson's disease: a state-of-the-art.</a></strong><br>2015. Ruitenberg MF, Duthoo W, Santens P, Notebaert W, Abrahamse EL<br>[ID: 25681652]"
      ],
      "text/plain": [
       "<IPython.core.display.HTML object>"
      ]
     },
     "metadata": {},
     "output_type": "display_data"
    },
    {
     "data": {
      "text/html": [
       "<strong><a href=http://dx.doi.org/10.1016/j.jecp.2015.01.013>From rational numbers to algebra: separable contributions of decimal magnitude and relational understanding of fractions.</a></strong><br>2015. DeWolf M, Bassok M, Holyoak KJ<br>[ID: 25744594]"
      ],
      "text/plain": [
       "<IPython.core.display.HTML object>"
      ]
     },
     "metadata": {},
     "output_type": "display_data"
    },
    {
     "data": {
      "text/html": [
       "<strong><a href=http://dx.doi.org/10.1016/j.physbeh.2015.03.001>Strain-dependent effects on acquisition and reversal of visual and spatial tasks in a rat touchscreen battery of cognition.</a></strong><br>2015. Kumar G, Talpos J, Steckler T<br>[ID: 25744936]"
      ],
      "text/plain": [
       "<IPython.core.display.HTML object>"
      ]
     },
     "metadata": {},
     "output_type": "display_data"
    },
    {
     "data": {
      "text/html": [
       "<strong><a href=http://dx.doi.org/10.3389/fpsyg.2015.00180>How experimental trial context affects perceptual categorization.</a></strong><br>2015. Palmeri TJ, Mack ML<br>[ID: 25745412]"
      ],
      "text/plain": [
       "<IPython.core.display.HTML object>"
      ]
     },
     "metadata": {},
     "output_type": "display_data"
    },
    {
     "data": {
      "text/html": [
       "<strong><a href=http://dx.doi.org/10.3109/07420528.2015.1014096>Differences in planning performance, a neurocognitive endophenotype, are associated with a functional variant in PER3 gene.</a></strong><br>2015. González-Giraldo Y, González-Reyes RE, Mueller ST, Piper BJ, Adan A, Forero DA<br>[ID: 25798540]"
      ],
      "text/plain": [
       "<IPython.core.display.HTML object>"
      ]
     },
     "metadata": {},
     "output_type": "display_data"
    },
    {
     "data": {
      "text/html": [
       "<strong><a href=http://dx.doi.org/10.1017/S1355617715000193>Self-Efficacy Buffers the Relationship between Educational Disadvantage and Executive Functioning.</a></strong><br>2015. Zahodne LB, Nowinski CJ, Gershon RC, Manly JJ<br>[ID: 25877284]"
      ],
      "text/plain": [
       "<IPython.core.display.HTML object>"
      ]
     },
     "metadata": {},
     "output_type": "display_data"
    },
    {
     "data": {
      "text/html": [
       "<strong><a href=http://dx.doi.org/10.1016/S2213-2600(15)00090-9>Sleep apnoea and the brain: a complex relationship.</a></strong><br>2015. Rosenzweig I, Glasser M, Polsek D, Leschziner GD, Williams SC, Morrell MJ<br>[ID: 25887982]"
      ],
      "text/plain": [
       "<IPython.core.display.HTML object>"
      ]
     },
     "metadata": {},
     "output_type": "display_data"
    },
    {
     "data": {
      "text/html": [
       "<strong><a href=http://dx.doi.org/10.1007/s10548-015-0433-7>The Influence of Pre-stimulus EEG Activity on Reaction Time During a Verbal Sternberg Task is Related to Musical Expertise.</a></strong><br>2016. Klein C, Diaz Hernandez L, Koenig T, Kottlow M, Elmer S, Jäncke L<br>[ID: 25929715]"
      ],
      "text/plain": [
       "<IPython.core.display.HTML object>"
      ]
     },
     "metadata": {},
     "output_type": "display_data"
    },
    {
     "data": {
      "text/html": [
       "<strong><a href=http://dx.doi.org/10.1016/j.bbr.2015.04.031>Transcranial direct current stimulation (tDCS) of frontal cortex decreases performance on the WAIS-IV intelligence test.</a></strong><br>2015. Sellers KK, Mellin JM, Lustenberger CM, Boyle MR, Lee WH, Peterchev AV, Fröhlich F<br>[ID: 25934490]"
      ],
      "text/plain": [
       "<IPython.core.display.HTML object>"
      ]
     },
     "metadata": {},
     "output_type": "display_data"
    },
    {
     "data": {
      "text/html": [
       "<strong><a href=http://dx.doi.org/10.1186/2054-9369-1-23>Keeping the right time in space: importance of circadian clock and sleep for physiology and performance of astronauts.</a></strong><br>2014. Guo JH, Qu WM, Chen SG, Chen XP, Lv K, Huang ZL, Wu YL<br>[ID: 26000169]"
      ],
      "text/plain": [
       "<IPython.core.display.HTML object>"
      ]
     },
     "metadata": {},
     "output_type": "display_data"
    },
    {
     "data": {
      "text/html": [
       "<strong><a href=http://dx.doi.org/10.1016/j.neuropsychologia.2015.04.034>Free and cued memory in relation to biomarker-defined abnormalities in clinically normal older adults and those at risk for Alzheimer's disease.</a></strong><br>2015. Papp KV, Amariglio RE, Mormino EC, Hedden T, Dekhytar M, Johnson KA, Sperling RA, Rentz DM<br>[ID: 26002757]"
      ],
      "text/plain": [
       "<IPython.core.display.HTML object>"
      ]
     },
     "metadata": {},
     "output_type": "display_data"
    },
    {
     "data": {
      "text/html": [
       "<strong><a href=http://dx.doi.org/10.1016/j.jpsychires.2015.04.029>COMT genotype, gambling activity, and cognition.</a></strong><br>2015. Grant JE, Leppink EW, Redden SA, Odlaug BL, Chamberlain SR<br>[ID: 26028545]"
      ],
      "text/plain": [
       "<IPython.core.display.HTML object>"
      ]
     },
     "metadata": {},
     "output_type": "display_data"
    },
    {
     "data": {
      "text/html": [
       "<strong><a href=http://dx.doi.org/10.1080/09297049.2015.1046426>Working memory and fine motor skills predict early numeracy performance of children with cerebral palsy.</a></strong><br>2016. Van Rooijen M, Verhoeven L, Steenbergen B<br>[ID: 26070109]"
      ],
      "text/plain": [
       "<IPython.core.display.HTML object>"
      ]
     },
     "metadata": {},
     "output_type": "display_data"
    },
    {
     "data": {
      "text/html": [
       "<strong><a href=http://dx.doi.org/10.1093/icb/icv064>Social Complexity as a Driver of Communication and Cognition.</a></strong><br>2015. Sewall KB<br>[ID: 26078368]"
      ],
      "text/plain": [
       "<IPython.core.display.HTML object>"
      ]
     },
     "metadata": {},
     "output_type": "display_data"
    },
    {
     "data": {
      "text/html": [
       "<strong><a href=http://dx.doi.org/10.1080/13803395.2015.1039963>Staying on the job: The relationship between work performance and cognition in individuals diagnosed with multiple sclerosis.</a></strong><br>2015. Baughman BC, Basso MR, Sinclair RR, Combs DR, Roper BL<br>[ID: 26149071]"
      ],
      "text/plain": [
       "<IPython.core.display.HTML object>"
      ]
     },
     "metadata": {},
     "output_type": "display_data"
    },
    {
     "data": {
      "text/html": [
       "<strong><a href=http://dx.doi.org/10.1016/j.concog.2015.06.014>Examining the relationship between skilled music training and attention.</a></strong><br>2015. Wang X, Ossher L, Reuter-Lorenz PA<br>[ID: 26160137]"
      ],
      "text/plain": [
       "<IPython.core.display.HTML object>"
      ]
     },
     "metadata": {},
     "output_type": "display_data"
    },
    {
     "data": {
      "text/html": [
       "<strong><a href=http://dx.doi.org/10.1016/j.anbehav.2015.01.023>Brains, brawn and sociality: a hyaena's tale.</a></strong><br>2015. Holekamp KE, Dantzer B, Stricker G, Shaw Yoshida KC, Benson-Amram S<br>[ID: 26160980]"
      ],
      "text/plain": [
       "<IPython.core.display.HTML object>"
      ]
     },
     "metadata": {},
     "output_type": "display_data"
    },
    {
     "data": {
      "text/html": [
       "<strong><a href=http://dx.doi.org/10.1111/j.1539-6053.2009.01034.x>Enrichment Effects on Adult Cognitive Development: Can the Functional Capacity of Older Adults Be Preserved and Enhanced?</a></strong><br>2008. Hertzog C, Kramer AF, Wilson RS, Lindenberger U<br>[ID: 26162004]"
      ],
      "text/plain": [
       "<IPython.core.display.HTML object>"
      ]
     },
     "metadata": {},
     "output_type": "display_data"
    },
    {
     "data": {
      "text/html": [
       "<strong><a href=http://dx.doi.org/10.1016/j.yhbeh.2015.06.022>Estrogen-cholinergic interactions: Implications for cognitive aging.</a></strong><br>2015. Newhouse P, Dumas J<br>[ID: 26187712]"
      ],
      "text/plain": [
       "<IPython.core.display.HTML object>"
      ]
     },
     "metadata": {},
     "output_type": "display_data"
    },
    {
     "data": {
      "text/html": [
       "<strong><a href=http://dx.doi.org/10.1111/bjdp.12107>Theory of mind selectively predicts preschoolers' knowledge-based selective word learning.</a></strong><br>2015. Brosseau-Liard P, Penney D, Poulin-Dubois D<br>[ID: 26211504]"
      ],
      "text/plain": [
       "<IPython.core.display.HTML object>"
      ]
     },
     "metadata": {},
     "output_type": "display_data"
    },
    {
     "data": {
      "text/html": [
       "<strong><a href=http://dx.doi.org/10.1002/wcs.1354>Oxytocin enables novelty seeking and creative performance through upregulated approach: evidence and avenues for future research.</a></strong><br>2015. De Dreu CK, Baas M, Boot NC<br>[ID: 26267407]"
      ],
      "text/plain": [
       "<IPython.core.display.HTML object>"
      ]
     },
     "metadata": {},
     "output_type": "display_data"
    },
    {
     "data": {
      "text/html": [
       "<strong><a href=http://dx.doi.org/10.1080/00140139.2015.1074290>Studying distributed cognition of simulation-based team training with DiCoT.</a></strong><br>2016. Rybing J, Nilsson H, Jonson CO, Bang M<br>[ID: 26275026]"
      ],
      "text/plain": [
       "<IPython.core.display.HTML object>"
      ]
     },
     "metadata": {},
     "output_type": "display_data"
    },
    {
     "data": {
      "text/html": [
       "<strong><a href=http://dx.doi.org/10.1016/j.neuroimage.2015.08.074>Enhanced control of dorsolateral prefrontal cortex neurophysiology with real-time functional magnetic resonance imaging (rt-fMRI) neurofeedback training and working memory practice.</a></strong><br>2016. Sherwood MS, Kane JH, Weisend MP, Parker JG<br>[ID: 26348555]"
      ],
      "text/plain": [
       "<IPython.core.display.HTML object>"
      ]
     },
     "metadata": {},
     "output_type": "display_data"
    },
    {
     "data": {
      "text/html": [
       "<strong><a href=http://dx.doi.org/10.3233/JAD-150467>Destination Memory and Cognitive Theory of Mind in Alzheimer's Disease.</a></strong><br>2015. El Haj M, Gély-Nargeot MC, Raffard S<br>[ID: 26402016]"
      ],
      "text/plain": [
       "<IPython.core.display.HTML object>"
      ]
     },
     "metadata": {},
     "output_type": "display_data"
    },
    {
     "data": {
      "text/html": [
       "<strong><a href=http://dx.doi.org/10.3758/s13414-015-0988-0>Technology consumption and cognitive control: Contrasting action video game experience with media multitasking.</a></strong><br>2016. Cardoso-Leite P, Kludt R, Vignola G, Ma WJ, Green C, Bavelier D<br>[ID: 26474982]"
      ],
      "text/plain": [
       "<IPython.core.display.HTML object>"
      ]
     },
     "metadata": {},
     "output_type": "display_data"
    },
    {
     "data": {
      "text/html": [
       "<strong><a href=http://dx.doi.org/10.3390/ijerph121113807>Impact of Fatigue in Rheumatic Diseases in the Work Environment: A Qualitative Study.</a></strong><br>2015. Connolly D, Fitzpatrick C, O'Toole L, Doran M, O'Shea F<br>[ID: 26516896]"
      ],
      "text/plain": [
       "<IPython.core.display.HTML object>"
      ]
     },
     "metadata": {},
     "output_type": "display_data"
    },
    {
     "data": {
      "text/html": [
       "<strong><a href=http://dx.doi.org/10.1177/0301006615599906>Interaction of Number Magnitude and Auditory Localization.</a></strong><br>2016. Golob EJ, Lewald J, Jungilligens J, Getzmann S<br>[ID: 26562857]"
      ],
      "text/plain": [
       "<IPython.core.display.HTML object>"
      ]
     },
     "metadata": {},
     "output_type": "display_data"
    },
    {
     "data": {
      "text/html": [
       "<strong><a href=http://dx.doi.org/10.3389/fnbeh.2015.00294>Infusion of D1 Dopamine Receptor Agonist into Medial Frontal Cortex Disrupts Neural Correlates of Interval Timing.</a></strong><br>2015. Parker KL, Ruggiero RN, Narayanan NS<br>[ID: 26617499]"
      ],
      "text/plain": [
       "<IPython.core.display.HTML object>"
      ]
     },
     "metadata": {},
     "output_type": "display_data"
    },
    {
     "data": {
      "text/html": [
       "<strong><a href=http://dx.doi.org/10.1016/j.neuroimage.2015.11.049>Entorhinal volume, aerobic fitness, and recognition memory in healthy young adults: A voxel-based morphometry study.</a></strong><br>2016. Whiteman AS, Young DE, Budson AE, Stern CE, Schon K<br>[ID: 26631814]"
      ],
      "text/plain": [
       "<IPython.core.display.HTML object>"
      ]
     },
     "metadata": {},
     "output_type": "display_data"
    },
    {
     "data": {
      "text/html": [
       "<strong><a href=http://dx.doi.org/10.3389/fnagi.2015.00214>Rapid Responsiveness to Practice Predicts Longer-Term Retention of Upper Extremity Motor Skill in Non-Demented Older Adults.</a></strong><br>2015. Schaefer SY, Duff K<br>[ID: 26635601]"
      ],
      "text/plain": [
       "<IPython.core.display.HTML object>"
      ]
     },
     "metadata": {},
     "output_type": "display_data"
    },
    {
     "data": {
      "text/html": [
       "<strong><a href=http://dx.doi.org/10.1016/j.cortex.2015.10.025>Is less really more: Does a prefrontal efficiency genotype actually confer better performance when working memory becomes difficult?</a></strong><br>2016. Ihne JL, Gallagher NM, Sullivan M, Callicott JH, Green AE<br>[ID: 26649915]"
      ],
      "text/plain": [
       "<IPython.core.display.HTML object>"
      ]
     },
     "metadata": {},
     "output_type": "display_data"
    },
    {
     "data": {
      "text/html": [
       "<strong><a href=http://dx.doi.org/10.1016/j.ultrasmedbio.2015.11.025>Classification of Symptomatic and Asymptomatic Patients with and without Cognitive Decline Using Non-invasive Carotid Plaque Strain Indices as Biomarkers.</a></strong><br>2016. Wang X, Jackson DC, Mitchell CC, Varghese T, Wilbrand SM, Rocque BG, Hermann BP, Dempsey RJ<br>[ID: 26778288]"
      ],
      "text/plain": [
       "<IPython.core.display.HTML object>"
      ]
     },
     "metadata": {},
     "output_type": "display_data"
    },
    {
     "data": {
      "text/html": [
       "<strong><a href=http://dx.doi.org/10.1177/0956797615623770>Discouraged by Peer Excellence: Exposure to Exemplary Peer Performance Causes Quitting.</a></strong><br>2016. Rogers T, Feller A<br>[ID: 26825105]"
      ],
      "text/plain": [
       "<IPython.core.display.HTML object>"
      ]
     },
     "metadata": {},
     "output_type": "display_data"
    },
    {
     "data": {
      "text/html": [
       "<strong><a href=http://dx.doi.org/10.1080/13854046.2015.1136690>Informant Perceptions of the Cause of Activities of Daily Living Difficulties in Parkinson's Disease.</a></strong><br>2016. Benge JF, Balsis S<br>[ID: 26838807]"
      ],
      "text/plain": [
       "<IPython.core.display.HTML object>"
      ]
     },
     "metadata": {},
     "output_type": "display_data"
    },
    {
     "data": {
      "text/html": [
       "<strong><a href=http://dx.doi.org/10.1098/rsbl.2015.0871>Does absolute brain size really predict self-control? Hand-tracking training improves performance on the A-not-B task.</a></strong><br>2016. Jelbert SA, Taylor AH, Gray RD<br>[ID: 26843555]"
      ],
      "text/plain": [
       "<IPython.core.display.HTML object>"
      ]
     },
     "metadata": {},
     "output_type": "display_data"
    },
    {
     "data": {
      "text/html": [
       "<strong><a href=http://dx.doi.org/10.3389/fpsyg.2016.00023>Predicting Individual Action Switching in Covert and Continuous Interactive Tasks Using the Fluid Events Model.</a></strong><br>2016. Radvansky GA, D'Mello SK, Abbott RG, Bixler RE<br>[ID: 26858673]"
      ],
      "text/plain": [
       "<IPython.core.display.HTML object>"
      ]
     },
     "metadata": {},
     "output_type": "display_data"
    },
    {
     "data": {
      "text/html": [
       "<strong><a href=http://dx.doi.org/10.1016/j.jacr.2015.11.023>Let's Use Cognitive Science to Create Collaborative Workstations.</a></strong><br>2016. Reicher MA, Wolfe JM<br>[ID: 26873029]"
      ],
      "text/plain": [
       "<IPython.core.display.HTML object>"
      ]
     },
     "metadata": {},
     "output_type": "display_data"
    },
    {
     "data": {
      "text/html": [
       "<strong><a href=http://dx.doi.org/10.1016/j.yebeh.2016.01.001>Interictal epileptiform discharge effects on neuropsychological assessment and epilepsy surgical planning.</a></strong><br>2016. Drane DL, Ojemann JG, Kim MS, Gross RE, Miller JW, Faught RE Jr, Loring DW<br>[ID: 26874864]"
      ],
      "text/plain": [
       "<IPython.core.display.HTML object>"
      ]
     },
     "metadata": {},
     "output_type": "display_data"
    },
    {
     "data": {
      "text/html": [
       "<strong><a href=http://dx.doi.org/10.1016/j.psyneuen.2016.01.029>Hair cortisol and cognitive performance in working age adults.</a></strong><br>2016. McLennan SN, Ihle A, Steudte-Schmiedgen S, Kirschbaum C, Kliegel M<br>[ID: 26881835]"
      ],
      "text/plain": [
       "<IPython.core.display.HTML object>"
      ]
     },
     "metadata": {},
     "output_type": "display_data"
    },
    {
     "data": {
      "text/html": [
       "<strong><a href=http://dx.doi.org/10.3390/nu8020089>Is Higher Consumption of Animal Flesh Foods Associated with Better Iron Status among Adults in Developed Countries? A Systematic Review.</a></strong><br>2016. Jackson J, Williams R, McEvoy M, MacDonald-Wicks L, Patterson A<br>[ID: 26891320]"
      ],
      "text/plain": [
       "<IPython.core.display.HTML object>"
      ]
     },
     "metadata": {},
     "output_type": "display_data"
    },
    {
     "data": {
      "text/html": [
       "<strong><a href=http://dx.doi.org/10.3402/ejpt.v7.29061>Dissociative symptoms are associated with reduced neuropsychological performance in patients with recurrent depression and a history of trauma exposure.</a></strong><br>2016. Parlar M, Frewen PA, Oremus C, Lanius RA, McKinnon MC<br>[ID: 26927902]"
      ],
      "text/plain": [
       "<IPython.core.display.HTML object>"
      ]
     },
     "metadata": {},
     "output_type": "display_data"
    },
    {
     "data": {
      "text/html": [
       "<strong><a href=http://dx.doi.org/10.5665/sleep.5652>Delta Activity at Sleep Onset and Cognitive Performance in Community-Dwelling Older Adults.</a></strong><br>2016. Kawai M, Beaudreau SA, Gould CE, Hantke NC, Jordan JT, O'Hara R<br>[ID: 26943464]"
      ],
      "text/plain": [
       "<IPython.core.display.HTML object>"
      ]
     },
     "metadata": {},
     "output_type": "display_data"
    },
    {
     "data": {
      "text/html": [
       "<strong><a href=http://dx.doi.org/10.1007/s11682-016-9540-7>Cognitive reserve moderates the relationship between neuropsychological performance and white matter fiber bundle length in healthy older adults.</a></strong><br>2017. Baker LM, Laidlaw DH, Cabeen R, Akbudak E, Conturo TE, Correia S, Tate DF, Heaps-Woodruff JM, Brier MR, Bolzenius J, Salminen LE, Lane EM, McMichael AR, Paul RH<br>[ID: 26961092]"
      ],
      "text/plain": [
       "<IPython.core.display.HTML object>"
      ]
     },
     "metadata": {},
     "output_type": "display_data"
    },
    {
     "data": {
      "text/html": [
       "<strong><a href=http://dx.doi.org/10.1186/s12888-016-0771-3>Developing a clinical translational neuroscience taxonomy for anxiety and mood disorder: protocol for the baseline-follow up Research domain criteria Anxiety and Depression (\"RAD\") project.</a></strong><br>2016. Williams LM, Goldstein-Piekarski AN, Chowdhry N, Grisanzio KA, Haug NA, Samara Z, Etkin A, O'Hara R, Schatzberg AF, Suppes T, Yesavage J<br>[ID: 26980207]"
      ],
      "text/plain": [
       "<IPython.core.display.HTML object>"
      ]
     },
     "metadata": {},
     "output_type": "display_data"
    },
    {
     "data": {
      "text/html": [
       "<strong><a href=http://dx.doi.org/10.1111/nyas.13040>Drugs, games, and devices for enhancing cognition: implications for work and society.</a></strong><br>2016. Brühl AB, Sahakian BJ<br>[ID: 27043232]"
      ],
      "text/plain": [
       "<IPython.core.display.HTML object>"
      ]
     },
     "metadata": {},
     "output_type": "display_data"
    },
    {
     "data": {
      "text/html": [
       "<strong><a href=http://dx.doi.org/10.1016/j.tics.2016.03.005>What Cognitive Representations Support Primate Theory of Mind?</a></strong><br>2016. Martin A, Santos LR<br>[ID: 27052723]"
      ],
      "text/plain": [
       "<IPython.core.display.HTML object>"
      ]
     },
     "metadata": {},
     "output_type": "display_data"
    },
    {
     "data": {
      "text/html": [
       "<strong><a href=http://dx.doi.org/10.3758/s13420-016-0219-0>The oddity preference effect and the concept of difference in pigeons.</a></strong><br>2016. Daniel TA, Wright AA, Katz JS<br>[ID: 27059232]"
      ],
      "text/plain": [
       "<IPython.core.display.HTML object>"
      ]
     },
     "metadata": {},
     "output_type": "display_data"
    },
    {
     "data": {
      "text/html": [
       "<strong><a href=http://dx.doi.org/10.1016/j.jecp.2016.03.002>Changing the precision of preschoolers' approximate number system representations changes their symbolic math performance.</a></strong><br>2016. Wang JJ, Odic D, Halberda J, Feigenson L<br>[ID: 27061668]"
      ],
      "text/plain": [
       "<IPython.core.display.HTML object>"
      ]
     },
     "metadata": {},
     "output_type": "display_data"
    },
    {
     "data": {
      "text/html": [
       "<strong><a href=http://dx.doi.org/10.1016/j.bandc.2016.03.008>Functional independence in resting-state connectivity facilitates higher-order cognition.</a></strong><br>2016. James GA, Kearney-Ramos TE, Young JA, Kilts CD, Gess JL, Fausett JS<br>[ID: 27105037]"
      ],
      "text/plain": [
       "<IPython.core.display.HTML object>"
      ]
     },
     "metadata": {},
     "output_type": "display_data"
    },
    {
     "data": {
      "text/html": [
       "<strong><a href=http://dx.doi.org/10.1080/13546805.2016.1174681>The influence of subclinical psychopathic traits on responding to others' awkward requests.</a></strong><br>2016. Vyas K, Jameel L, Channon S<br>[ID: 27112215]"
      ],
      "text/plain": [
       "<IPython.core.display.HTML object>"
      ]
     },
     "metadata": {},
     "output_type": "display_data"
    },
    {
     "data": {
      "text/html": [
       "<strong><a href=http://dx.doi.org/10.1117/12.2216966>Improving Cerebellar Segmentation with Statistical Fusion.</a></strong><br>2016. Plassard AJ, Yang Z, Rane S, Prince JL, Claassen DO, Landman BA<br>[ID: 27127334]"
      ],
      "text/plain": [
       "<IPython.core.display.HTML object>"
      ]
     },
     "metadata": {},
     "output_type": "display_data"
    },
    {
     "data": {
      "text/html": [
       "<strong><a href=http://dx.doi.org/10.1037/emo0000183>Does leader-affective presence influence communication of creative ideas within work teams?</a></strong><br>2016. Madrid HP, Totterdell P, Niven K<br>[ID: 27177251]"
      ],
      "text/plain": [
       "<IPython.core.display.HTML object>"
      ]
     },
     "metadata": {},
     "output_type": "display_data"
    },
    {
     "data": {
      "text/html": [
       "<strong><a href=http://dx.doi.org/10.1016/j.neuroimage.2016.05.026>Predicting individualized clinical measures by a generalized prediction framework and multimodal fusion of MRI data.</a></strong><br>2017. Meng X, Jiang R, Lin D, Bustillo J, Jones T, Chen J, Yu Q, Du Y, Zhang Y, Jiang T, Sui J, Calhoun VD<br>[ID: 27177764]"
      ],
      "text/plain": [
       "<IPython.core.display.HTML object>"
      ]
     },
     "metadata": {},
     "output_type": "display_data"
    },
    {
     "data": {
      "text/html": [
       "<strong><a href=http://dx.doi.org/10.1016/j.chemosphere.2016.05.032>Acyl-homoserine lactone-based quorum sensing and quorum quenching hold promise to determine the performance of biological wastewater treatments: An overview.</a></strong><br>2016. Huang J, Shi Y, Zeng G, Gu Y, Chen G, Shi L, Hu Y, Tang B, Zhou J<br>[ID: 27213243]"
      ],
      "text/plain": [
       "<IPython.core.display.HTML object>"
      ]
     },
     "metadata": {},
     "output_type": "display_data"
    },
    {
     "data": {
      "text/html": [
       "<strong><a href=http://dx.doi.org/10.1371/journal.pcbi.1004994>Formal Models of the Network Co-occurrence Underlying Mental Operations.</a></strong><br>2016. Bzdok D, Varoquaux G, Grisel O, Eickenberg M, Poupon C, Thirion B<br>[ID: 27310288]"
      ],
      "text/plain": [
       "<IPython.core.display.HTML object>"
      ]
     },
     "metadata": {},
     "output_type": "display_data"
    },
    {
     "data": {
      "text/html": [
       "<strong><a href=http://dx.doi.org/10.1016/j.neuropharm.2016.06.019>Methylphenidate does not enhance visual working memory but benefits motivation in macaque monkeys.</a></strong><br>2016. Oemisch M, Johnston K, Paré M<br>[ID: 27329555]"
      ],
      "text/plain": [
       "<IPython.core.display.HTML object>"
      ]
     },
     "metadata": {},
     "output_type": "display_data"
    },
    {
     "data": {
      "text/html": [
       "<strong><a href=http://dx.doi.org/10.2147/CIA.S102126>The effects of strength training on cognitive performance in elderly women.</a></strong><br>2016. Smolarek Ade C, Ferreira LH, Mascarenhas LP, McAnulty SR, Varela KD, Dangui MC, de Barros MP, Utter AC, Souza-Junior TP<br>[ID: 27330282]"
      ],
      "text/plain": [
       "<IPython.core.display.HTML object>"
      ]
     },
     "metadata": {},
     "output_type": "display_data"
    },
    {
     "data": {
      "text/html": [
       "<strong><a href=http://dx.doi.org/10.1016/j.bbr.2016.06.012>Detrimental effects of a high fat/high cholesterol diet on memory and hippocampal markers in aged rats.</a></strong><br>2016. Ledreux A, Wang X, Schultzberg M, Granholm AC, Freeman LR<br>[ID: 27343935]"
      ],
      "text/plain": [
       "<IPython.core.display.HTML object>"
      ]
     },
     "metadata": {},
     "output_type": "display_data"
    },
    {
     "data": {
      "text/html": [
       "<strong><a href=http://dx.doi.org/10.1111/adb.12423>Varenicline, the clinically effective smoking cessation agent, restores probabilistic response reversal performance during withdrawal from nicotine.</a></strong><br>2017. Jackson A, Silk S, Buhidma Y, Shoaib M<br>[ID: 27440124]"
      ],
      "text/plain": [
       "<IPython.core.display.HTML object>"
      ]
     },
     "metadata": {},
     "output_type": "display_data"
    },
    {
     "data": {
      "text/html": [
       "<strong><a href=http://dx.doi.org/10.1093/schbul/sbw103>Depression in Schizophrenia: Associations With Cognition, Functional Capacity, Everyday Functioning, and Self-Assessment.</a></strong><br>2017. Harvey PD, Twamley EW, Pinkham AE, Depp CA, Patterson TL<br>[ID: 27440672]"
      ],
      "text/plain": [
       "<IPython.core.display.HTML object>"
      ]
     },
     "metadata": {},
     "output_type": "display_data"
    },
    {
     "data": {
      "text/html": [
       "<strong><a href=http://dx.doi.org/10.1007/s00221-016-4749-7>Does state boredom cause failures of attention? Examining the relations between trait boredom, state boredom, and sustained attention.</a></strong><br>2018. Hunter A, Eastwood JD<br>[ID: 27510405]"
      ],
      "text/plain": [
       "<IPython.core.display.HTML object>"
      ]
     },
     "metadata": {},
     "output_type": "display_data"
    },
    {
     "data": {
      "text/html": [
       "<strong><a href=http://dx.doi.org/10.20960/nh.288>Dance participation and academic performance in youth girls</a></strong><br>2016. Higueras-Fresnillo S, Martínez-Gómez D, Padilla-Moledo C, Conde-Caveda J, Esteban-Cornejo I<br>[ID: 27513515]"
      ],
      "text/plain": [
       "<IPython.core.display.HTML object>"
      ]
     },
     "metadata": {},
     "output_type": "display_data"
    },
    {
     "data": {
      "text/html": [
       "<strong><a href=http://dx.doi.org/10.1016/j.jecp.2016.06.016>A set for relational reasoning: Facilitation of algebraic modeling by a fraction task.</a></strong><br>2016. DeWolf M, Bassok M, Holyoak KJ<br>[ID: 27522528]"
      ],
      "text/plain": [
       "<IPython.core.display.HTML object>"
      ]
     },
     "metadata": {},
     "output_type": "display_data"
    },
    {
     "data": {
      "text/html": [
       "<strong><a href=http://dx.doi.org/10.1109/TNNLS.2016.2596787>Needs, Pains, and Motivations in Autonomous Agents.</a></strong><br>2017. Starzyk JA, Graham J, Puzio L<br>[ID: 27542184]"
      ],
      "text/plain": [
       "<IPython.core.display.HTML object>"
      ]
     },
     "metadata": {},
     "output_type": "display_data"
    },
    {
     "data": {
      "text/html": [
       "<strong><a href=http://dx.doi.org/10.1007/s10071-016-1029-7>Developmental lead exposure has mixed effects on butterfly cognitive processes.</a></strong><br>2017. Philips KH, Kobiela ME, Snell-Rood EC<br>[ID: 27576530]"
      ],
      "text/plain": [
       "<IPython.core.display.HTML object>"
      ]
     },
     "metadata": {},
     "output_type": "display_data"
    },
    {
     "data": {
      "text/html": [
       "<strong><a href=http://dx.doi.org/10.3389/fnhum.2016.00425>The Beat to Read: A Cross-Lingual Link between Rhythmic Regularity Perception and Reading Skill.</a></strong><br>2016. Bekius A, Cope TE, Grube M<br>[ID: 27630551]"
      ],
      "text/plain": [
       "<IPython.core.display.HTML object>"
      ]
     },
     "metadata": {},
     "output_type": "display_data"
    },
    {
     "data": {
      "text/html": [
       "<strong><a href=http://dx.doi.org/10.1016/j.apergo.2016.06.007>Cognitive consequences of sleep deprivation, shiftwork, and heat exposure for underground miners.</a></strong><br>2017. Legault G, Clement A, Kenny GP, Hardcastle S, Keller N<br>[ID: 27633207]"
      ],
      "text/plain": [
       "<IPython.core.display.HTML object>"
      ]
     },
     "metadata": {},
     "output_type": "display_data"
    },
    {
     "data": {
      "text/html": [
       "<strong><a href=http://dx.doi.org/10.1038/srep33591>Diurnal variations of hormonal secretion, alertness and cognition in extreme chronotypes under different lighting conditions.</a></strong><br>2016. Maierova L, Borisuit A, Scartezzini JL, Jaeggi SM, Schmidt C, Münch M<br>[ID: 27646174]"
      ],
      "text/plain": [
       "<IPython.core.display.HTML object>"
      ]
     },
     "metadata": {},
     "output_type": "display_data"
    },
    {
     "data": {
      "text/html": [
       "<strong><a href=http://dx.doi.org/10.1016/j.neuropsychologia.2016.09.012>Charting the effects of TMS with fMRI: Modulation of cortical recruitment within the distributed network supporting semantic control.</a></strong><br>2016. Hallam GP, Whitney C, Hymers M, Gouws AD, Jefferies E<br>[ID: 27650816]"
      ],
      "text/plain": [
       "<IPython.core.display.HTML object>"
      ]
     },
     "metadata": {},
     "output_type": "display_data"
    },
    {
     "data": {
      "text/html": [
       "<strong><a href=http://dx.doi.org/10.2174/1567205013666160930112625>Beyond Acetylcholinesterase Inhibitors: Novel Cholinergic Treatments for Alzheimer's Disease.</a></strong><br>2017. Kamkwalala AR, Newhouse PA<br>[ID: 27697062]"
      ],
      "text/plain": [
       "<IPython.core.display.HTML object>"
      ]
     },
     "metadata": {},
     "output_type": "display_data"
    },
    {
     "data": {
      "text/html": [
       "<strong><a href=http://dx.doi.org/10.3758/s13423-016-1118-2>Sex differences in virtual navigation influenced by scale and navigation experience.</a></strong><br>2017. Padilla LM, Creem-Regehr SH, Stefanucci JK, Cashdan EA<br>[ID: 27714666]"
      ],
      "text/plain": [
       "<IPython.core.display.HTML object>"
      ]
     },
     "metadata": {},
     "output_type": "display_data"
    },
    {
     "data": {
      "text/html": [
       "<strong><a href=http://dx.doi.org/10.1016/j.beproc.2016.10.005>Swarm intelligence in fish? The difficulty in demonstrating distributed and self-organised collective intelligence in (some) animal groups.</a></strong><br>2017. Ioannou CC<br>[ID: 27737770]"
      ],
      "text/plain": [
       "<IPython.core.display.HTML object>"
      ]
     },
     "metadata": {},
     "output_type": "display_data"
    },
    {
     "data": {
      "text/html": [
       "<strong><a href=http://dx.doi.org/10.1007/s10071-016-1043-9>Intuitive probabilistic inference in capuchin monkeys.</a></strong><br>2017. Tecwyn EC, Denison S, Messer EJ, Buchsbaum D<br>[ID: 27744528]"
      ],
      "text/plain": [
       "<IPython.core.display.HTML object>"
      ]
     },
     "metadata": {},
     "output_type": "display_data"
    },
    {
     "data": {
      "text/html": [
       "<strong><a href=http://dx.doi.org/10.3389/fnhum.2016.00555>Reward Anticipation Dynamics during Cognitive Control and Episodic Encoding: Implications for Dopamine.</a></strong><br>2016. Chiew KS, Stanek JK, Adcock RA<br>[ID: 27847474]"
      ],
      "text/plain": [
       "<IPython.core.display.HTML object>"
      ]
     },
     "metadata": {},
     "output_type": "display_data"
    },
    {
     "data": {
      "text/html": [
       "<strong><a href=http://dx.doi.org/10.1007/s10459-016-9736-z>The influence of first impressions on subsequent ratings within an OSCE station.</a></strong><br>2017. Wood TJ, Chan J, Humphrey-Murto S, Pugh D, Touchie C<br>[ID: 27848171]"
      ],
      "text/plain": [
       "<IPython.core.display.HTML object>"
      ]
     },
     "metadata": {},
     "output_type": "display_data"
    },
    {
     "data": {
      "text/html": [
       "<strong>Arts, Brain and Cognition.</strong><br>2016. Demarin V, Bedeković MR, Puretić MB, Pašić MB<br>[ID: 27855424]"
      ],
      "text/plain": [
       "<IPython.core.display.HTML object>"
      ]
     },
     "metadata": {},
     "output_type": "display_data"
    },
    {
     "data": {
      "text/html": [
       "<strong><a href=http://dx.doi.org/10.1111/cogs.12404>Incidental Learning of Melodic Structure of North Indian Music.</a></strong><br>2017. Rohrmeier M, Widdess R<br>[ID: 27859578]"
      ],
      "text/plain": [
       "<IPython.core.display.HTML object>"
      ]
     },
     "metadata": {},
     "output_type": "display_data"
    },
    {
     "data": {
      "text/html": [
       "<strong><a href=http://dx.doi.org/10.1097/SPC.0000000000000248>Cancer-related cognitive impairment and patients' ability to work: a current perspective.</a></strong><br>2017. Duijts SF, van der Beek AJ, Boelhouwer IG, Schagen SB<br>[ID: 27898512]"
      ],
      "text/plain": [
       "<IPython.core.display.HTML object>"
      ]
     },
     "metadata": {},
     "output_type": "display_data"
    },
    {
     "data": {
      "text/html": [
       "<strong><a href=http://dx.doi.org/10.1002/pon.4351>Intraindividual variability in reaction time before and after neoadjuvant chemotherapy in women diagnosed with breast cancer.</a></strong><br>2017. Yao C, Rich JB, Tirona K, Bernstein LJ<br>[ID: 28002893]"
      ],
      "text/plain": [
       "<IPython.core.display.HTML object>"
      ]
     },
     "metadata": {},
     "output_type": "display_data"
    },
    {
     "data": {
      "text/html": [
       "<strong><a href=http://dx.doi.org/10.1111/ane.12728>Deficits in temporal processing correlate with clinical progression in Huntington's disease.</a></strong><br>2017. Agostino PV, Gatto EM, Cesarini M, Etcheverry JL, Sanguinetti A, Golombek DA<br>[ID: 28052315]"
      ],
      "text/plain": [
       "<IPython.core.display.HTML object>"
      ]
     },
     "metadata": {},
     "output_type": "display_data"
    },
    {
     "data": {
      "text/html": [
       "<strong><a href=http://dx.doi.org/10.1017/S1355617716001156>Deficits in Social Cognition: An Unveiled Signature of Multiple Sclerosis.</a></strong><br>2017. Chalah MA, Ayache SS<br>[ID: 28069095]"
      ],
      "text/plain": [
       "<IPython.core.display.HTML object>"
      ]
     },
     "metadata": {},
     "output_type": "display_data"
    },
    {
     "data": {
      "text/html": [
       "<strong><a href=http://dx.doi.org/10.1007/s10339-017-0790-0>Turn left where you felt unhappy: how affect influences landmark-based wayfinding.</a></strong><br>2017. Balaban CZ, Karimpur H, Röser F, Hamburger K<br>[ID: 28070686]"
      ],
      "text/plain": [
       "<IPython.core.display.HTML object>"
      ]
     },
     "metadata": {},
     "output_type": "display_data"
    },
    {
     "data": {
      "text/html": [
       "<strong><a href=http://dx.doi.org/10.2147/NDT.S118818>A biopsychological review of gambling disorder.</a></strong><br>2017. Quintero GC<br>[ID: 28096672]"
      ],
      "text/plain": [
       "<IPython.core.display.HTML object>"
      ]
     },
     "metadata": {},
     "output_type": "display_data"
    },
    {
     "data": {
      "text/html": [
       "<strong><a href=http://dx.doi.org/10.1515/tnsci-2015-0003>Online cognitive training in healthy older adults: a preliminary study on the effects of single versus multi-domain training.</a></strong><br>2015. Walton CC, Kavanagh A, Downey LA, Lomas J, Camfield DA, Stough C<br>[ID: 28123787]"
      ],
      "text/plain": [
       "<IPython.core.display.HTML object>"
      ]
     },
     "metadata": {},
     "output_type": "display_data"
    },
    {
     "data": {
      "text/html": [
       "<strong><a href=http://dx.doi.org/10.1177/0018720816675053>Prefrontal Hemodynamics of Physical Activity and Environmental Complexity During Cognitive Work.</a></strong><br>2017. McKendrick R, Mehta R, Ayaz H, Scheldrup M, Parasuraman R<br>[ID: 28146680]"
      ],
      "text/plain": [
       "<IPython.core.display.HTML object>"
      ]
     },
     "metadata": {},
     "output_type": "display_data"
    },
    {
     "data": {
      "text/html": [
       "<strong><a href=http://dx.doi.org/10.23736/S0022-4707.17.07022-0>Acute ingestion of neuromuscular enhancement supplements do not improve power output, work capacity, and cognition.</a></strong><br>2018. Bunn JA, Crossley A, Timiney MD<br>[ID: 28222577]"
      ],
      "text/plain": [
       "<IPython.core.display.HTML object>"
      ]
     },
     "metadata": {},
     "output_type": "display_data"
    },
    {
     "data": {
      "text/html": [
       "<strong><a href=http://dx.doi.org/10.1016/j.humov.2017.02.011>The role of cognition for different stages of visuomotor adaptation in younger and older adults.</a></strong><br>2017. Simon A, Bock O<br>[ID: 28285156]"
      ],
      "text/plain": [
       "<IPython.core.display.HTML object>"
      ]
     },
     "metadata": {},
     "output_type": "display_data"
    },
    {
     "data": {
      "text/html": [
       "<strong><a href=http://dx.doi.org/10.1038/srep44222>Subjective experience of difficulty depends on multiple cues.</a></strong><br>2017. Desender K, Van Opstal F, Van den Bussche E<br>[ID: 28287137]"
      ],
      "text/plain": [
       "<IPython.core.display.HTML object>"
      ]
     },
     "metadata": {},
     "output_type": "display_data"
    },
    {
     "data": {
      "text/html": [
       "<strong><a href=http://dx.doi.org/10.1037/pag0000154>Socioeconomic, health, and psychosocial mediators of racial disparities in cognition in early, middle, and late adulthood.</a></strong><br>2017. Zahodne LB, Manly JJ, Smith J, Seeman T, Lachman ME<br>[ID: 28287782]"
      ],
      "text/plain": [
       "<IPython.core.display.HTML object>"
      ]
     },
     "metadata": {},
     "output_type": "display_data"
    },
    {
     "data": {
      "text/html": [
       "<strong><a href=http://dx.doi.org/10.1016/j.euroneuro.2017.02.004>Noradrenaline transporter blockade increases fronto-parietal functional connectivity relevant for working memory.</a></strong><br>2017. Hernaus D, Casales Santa MM, Offermann JS, Van Amelsvoort T<br>[ID: 28291572]"
      ],
      "text/plain": [
       "<IPython.core.display.HTML object>"
      ]
     },
     "metadata": {},
     "output_type": "display_data"
    },
    {
     "data": {
      "text/html": [
       "<strong><a href=http://dx.doi.org/10.1007/s10071-017-1083-9>Neophobia is negatively related to reversal learning ability in females of a generalist bird of prey, the Chimango Caracara, Milvago chimango.</a></strong><br>2017. Guido JM, Biondi LM, Vasallo AI, Muzio RN<br>[ID: 28343269]"
      ],
      "text/plain": [
       "<IPython.core.display.HTML object>"
      ]
     },
     "metadata": {},
     "output_type": "display_data"
    },
    {
     "data": {
      "text/html": [
       "<strong><a href=http://dx.doi.org/10.1016/j.neuroimage.2017.03.061>Aerobic fitness, hippocampal viscoelasticity, and relational memory performance.</a></strong><br>2017. Schwarb H, Johnson CL, Daugherty AM, Hillman CH, Kramer AF, Cohen NJ, Barbey AK<br>[ID: 28366763]"
      ],
      "text/plain": [
       "<IPython.core.display.HTML object>"
      ]
     },
     "metadata": {},
     "output_type": "display_data"
    },
    {
     "data": {
      "text/html": [
       "<strong><a href=http://dx.doi.org/10.1080/10826084.2016.1267223>Pharmaceutical Cognitive Enhancement in Greek University Students: Differences Between Users and Non-Users in Social Cognitive Variables, Burnout, and Engagement.</a></strong><br>2017. Lazuras L, Ypsilanti A, Lamprou E, Kontogiorgis C<br>[ID: 28426360]"
      ],
      "text/plain": [
       "<IPython.core.display.HTML object>"
      ]
     },
     "metadata": {},
     "output_type": "display_data"
    },
    {
     "data": {
      "text/html": [
       "<strong><a href=http://dx.doi.org/10.1111/bph.13826>Cross-species studies of cognition relevant to drug discovery: a translational approach.</a></strong><br>2017. Robbins TW<br>[ID: 28432778]"
      ],
      "text/plain": [
       "<IPython.core.display.HTML object>"
      ]
     },
     "metadata": {},
     "output_type": "display_data"
    },
    {
     "data": {
      "text/html": [
       "<strong><a href=http://dx.doi.org/10.1002/chem.201700883>Polyadenine-Modulated DNA Conformation Monitored by Surface-Enhanced Raman Scattering (SERS) on Multibranched Gold Nanoparticles and Its Sensing Application.</a></strong><br>2017. Guo J, Chen Y, Jiang Y, Ju H<br>[ID: 28504862]"
      ],
      "text/plain": [
       "<IPython.core.display.HTML object>"
      ]
     },
     "metadata": {},
     "output_type": "display_data"
    },
    {
     "data": {
      "text/html": [
       "<strong><a href=http://dx.doi.org/10.1159/000475559>Is Occupational Complexity Associated with Cognitive Performance or Decline? Results from the Australian Longitudinal Study of Ageing.</a></strong><br>2017. Lane AP, Windsor TD, Andel R, Luszcz MA<br>[ID: 28511173]"
      ],
      "text/plain": [
       "<IPython.core.display.HTML object>"
      ]
     },
     "metadata": {},
     "output_type": "display_data"
    },
    {
     "data": {
      "text/html": [
       "<strong><a href=http://dx.doi.org/10.1080/02643294.2017.1314264>The cart before the horse: When cognitive neuroscience precedes cognitive neuropsychology.</a></strong><br>2017. Agis D, Hillis AE<br>[ID: 28562194]"
      ],
      "text/plain": [
       "<IPython.core.display.HTML object>"
      ]
     },
     "metadata": {},
     "output_type": "display_data"
    },
    {
     "data": {
      "text/html": [
       "<strong><a href=http://dx.doi.org/10.1098/rsos.170169>Chimpanzee intellect: personality, performance and motivation with touchscreen tasks.</a></strong><br>2017. Altschul DM, Wallace EK, Sonnweber R, Tomonaga M, Weiss A<br>[ID: 28573025]"
      ],
      "text/plain": [
       "<IPython.core.display.HTML object>"
      ]
     },
     "metadata": {},
     "output_type": "display_data"
    },
    {
     "data": {
      "text/html": [
       "<strong><a href=http://dx.doi.org/10.1016/j.neuropsychologia.2017.05.029>Neural mechanisms underlying valence inferences to sound: The role of the right angular gyrus.</a></strong><br>2017. Bravo F, Cross I, Hawkins S, Gonzalez N, Docampo J, Bruno C, Stamatakis EA<br>[ID: 28602997]"
      ],
      "text/plain": [
       "<IPython.core.display.HTML object>"
      ]
     },
     "metadata": {},
     "output_type": "display_data"
    },
    {
     "data": {
      "text/html": [
       "<strong><a href=http://dx.doi.org/10.1080/02656736.2017.1345013>Thermal effects on cognition: a new quantitative synthesis.</a></strong><br>2018. López-Sánchez JI, Hancock PA<br>[ID: 28633613]"
      ],
      "text/plain": [
       "<IPython.core.display.HTML object>"
      ]
     },
     "metadata": {},
     "output_type": "display_data"
    },
    {
     "data": {
      "text/html": [
       "<strong><a href=http://dx.doi.org/10.1159/000477093>Blue-Enriched Morning Light as a Countermeasure to Light at the Wrong Time: Effects on Cognition, Sleepiness, Sleep, and Circadian Phase.</a></strong><br>2016. Münch M, Nowozin C, Regente J, Bes F, De Zeeuw J, Hädel S, Wahnschaffe A, Kunz D<br>[ID: 28637029]"
      ],
      "text/plain": [
       "<IPython.core.display.HTML object>"
      ]
     },
     "metadata": {},
     "output_type": "display_data"
    },
    {
     "data": {
      "text/html": [
       "<strong><a href=http://dx.doi.org/10.3389/fpsyg.2017.00966>What About Their Performance Do Free Jazz Improvisers Agree Upon? A Case Study.</a></strong><br>2017. Pras A, Schober MF, Spiro N<br>[ID: 28694785]"
      ],
      "text/plain": [
       "<IPython.core.display.HTML object>"
      ]
     },
     "metadata": {},
     "output_type": "display_data"
    },
    {
     "data": {
      "text/html": [
       "<strong><a href=http://dx.doi.org/10.3758/s13423-017-1353-1>Dissociable learning processes in comparative psychology.</a></strong><br>2018. Smith JD, Church BA<br>[ID: 28799092]"
      ],
      "text/plain": [
       "<IPython.core.display.HTML object>"
      ]
     },
     "metadata": {},
     "output_type": "display_data"
    },
    {
     "data": {
      "text/html": [
       "<strong><a href=http://dx.doi.org/10.1007/s10433-014-0331-y>The role of cognitive resources for subjective work ability and health in nursing.</a></strong><br>2015. Ihle A, Borella E, Rahnfeld M, Müller SR, Enge S, Hacker W, Wegge J, Oris M, Kliegel M<br>[ID: 28804351]"
      ],
      "text/plain": [
       "<IPython.core.display.HTML object>"
      ]
     },
     "metadata": {},
     "output_type": "display_data"
    },
    {
     "data": {
      "text/html": [
       "<strong><a href=http://dx.doi.org/10.1007/s00415-017-8571-3>Midlife work-related stress is associated with late-life cognition.</a></strong><br>2017. Sindi S, Kåreholt I, Solomon A, Hooshmand B, Soininen H, Kivipelto M<br>[ID: 28821958]"
      ],
      "text/plain": [
       "<IPython.core.display.HTML object>"
      ]
     },
     "metadata": {},
     "output_type": "display_data"
    },
    {
     "data": {
      "text/html": [
       "<strong><a href=http://dx.doi.org/10.1186/s12888-017-1457-1>Aerobic training for improved memory in patients with stress-related exhaustion: a randomized controlled trial.</a></strong><br>2017. Eskilsson T, Slunga Järvholm L, Malmberg Gavelin H, Stigsdotter Neely A, Boraxbekk CJ<br>[ID: 28865430]"
      ],
      "text/plain": [
       "<IPython.core.display.HTML object>"
      ]
     },
     "metadata": {},
     "output_type": "display_data"
    },
    {
     "data": {
      "text/html": [
       "<strong><a href=http://dx.doi.org/10.1002/ajp.22693>Are great apes able to reason from multi-item samples to populations of food items?</a></strong><br>2017. Eckert J, Rakoczy H, Call J<br>[ID: 28877364]"
      ],
      "text/plain": [
       "<IPython.core.display.HTML object>"
      ]
     },
     "metadata": {},
     "output_type": "display_data"
    },
    {
     "data": {
      "text/html": [
       "<strong><a href=http://dx.doi.org/10.1371/journal.pone.0184884>Acute exposure to blue wavelength light during memory consolidation improves verbal memory performance.</a></strong><br>2017. Alkozei A, Smith R, Dailey NS, Bajaj S, Killgore WDS<br>[ID: 28922397]"
      ],
      "text/plain": [
       "<IPython.core.display.HTML object>"
      ]
     },
     "metadata": {},
     "output_type": "display_data"
    },
    {
     "data": {
      "text/html": [
       "<strong><a href=http://dx.doi.org/10.7860/JCDR/2017/26029.10324>Effects of Sleep Deprivation on the Cognitive Performance of Nurses Working in Shift.</a></strong><br>2017. Kaliyaperumal D, Elango Y, Alagesan M, Santhanakrishanan I<br>[ID: 28969117]"
      ],
      "text/plain": [
       "<IPython.core.display.HTML object>"
      ]
     },
     "metadata": {},
     "output_type": "display_data"
    },
    {
     "data": {
      "text/html": [
       "<strong><a href=http://dx.doi.org/10.3389/fpsyg.2017.01701>Exploring the Multi-Layered Affordances of Composing and Performing Interactive Music with Responsive Technologies.</a></strong><br>2017. Einarsson A, Ziemke T<br>[ID: 29033880]"
      ],
      "text/plain": [
       "<IPython.core.display.HTML object>"
      ]
     },
     "metadata": {},
     "output_type": "display_data"
    },
    {
     "data": {
      "text/html": [
       "<strong><a href=http://dx.doi.org/10.3389/fpsyg.2017.01726>Deep Convolutional Neural Networks Outperform Feature-Based But Not Categorical Models in Explaining Object Similarity Judgments.</a></strong><br>2017. Jozwik KM, Kriegeskorte N, Storrs KR, Mur M<br>[ID: 29062291]"
      ],
      "text/plain": [
       "<IPython.core.display.HTML object>"
      ]
     },
     "metadata": {},
     "output_type": "display_data"
    },
    {
     "data": {
      "text/html": [
       "<strong><a href=http://dx.doi.org/10.1038/s41598-017-14729-7>Imaging the Creative Unconscious: Reflexive Neural Responses to Objects in the Visual and Parahippocampal Region Predicts State and Trait Creativity.</a></strong><br>2017. Friis-Olivarius M, Hulme OJ, Skov M, Ramsøy TZ, Siebner HR<br>[ID: 29089567]"
      ],
      "text/plain": [
       "<IPython.core.display.HTML object>"
      ]
     },
     "metadata": {},
     "output_type": "display_data"
    },
    {
     "data": {
      "text/html": [
       "<strong><a href=http://dx.doi.org/10.1080/09658211.2017.1399143>The contribution of disengagement to temporal discriminability.</a></strong><br>2018. Shipstead Z, Nespodzany A<br>[ID: 29119868]"
      ],
      "text/plain": [
       "<IPython.core.display.HTML object>"
      ]
     },
     "metadata": {},
     "output_type": "display_data"
    },
    {
     "data": {
      "text/html": [
       "<strong><a href=http://dx.doi.org/10.1177/1088868317734944>The Psychology of Rituals: An Integrative Review and Process-Based Framework.</a></strong><br>2018. Hobson NM, Schroeder J, Risen JL, Xygalatas D, Inzlicht M<br>[ID: 29130838]"
      ],
      "text/plain": [
       "<IPython.core.display.HTML object>"
      ]
     },
     "metadata": {},
     "output_type": "display_data"
    },
    {
     "data": {
      "text/html": [
       "<strong><a href=http://dx.doi.org/10.1111/jsr.12637>Sleep restriction and cognitive load affect performance on a simulated marksmanship task.</a></strong><br>2019. Smith CD, Cooper AD, Merullo DJ, Cohen BS, Heaton KJ, Claro PJ, Smith T<br>[ID: 29171171]"
      ],
      "text/plain": [
       "<IPython.core.display.HTML object>"
      ]
     },
     "metadata": {},
     "output_type": "display_data"
    },
    {
     "data": {
      "text/html": [
       "<strong><a href=http://dx.doi.org/10.1177/0018720817747731>Establishing Measurement Equivalence Across Computer- and Paper-Based Tests of Spatial Cognition.</a></strong><br>2018. Bailey SKT, Neigel AR, Dhanani LY, Sims VK<br>[ID: 29244530]"
      ],
      "text/plain": [
       "<IPython.core.display.HTML object>"
      ]
     },
     "metadata": {},
     "output_type": "display_data"
    },
    {
     "data": {
      "text/html": [
       "<strong><a href=http://dx.doi.org/10.1016/j.nutres.2017.10.011>Impulsiveness, postprandial blood glucose, and glucoregulation affect measures of behavioral flexibility.</a></strong><br>2017. Riby LM, Lai Teik Ong D, Azmie NBM, Ooi EL, Regina C, Yeo EKW, Massa J, Aquili L<br>[ID: 29246282]"
      ],
      "text/plain": [
       "<IPython.core.display.HTML object>"
      ]
     },
     "metadata": {},
     "output_type": "display_data"
    },
    {
     "data": {
      "text/html": [
       "<strong><a href=http://dx.doi.org/10.1016/j.neuroimage.2017.12.042>A probabilistic atlas of human brainstem pathways based on connectome imaging data.</a></strong><br>2018. Tang Y, Sun W, Toga AW, Ringman JM, Shi Y<br>[ID: 29253653]"
      ],
      "text/plain": [
       "<IPython.core.display.HTML object>"
      ]
     },
     "metadata": {},
     "output_type": "display_data"
    },
    {
     "data": {
      "text/html": [
       "<strong><a href=http://dx.doi.org/10.1016/j.bjoms.2017.12.002>Can dietary supplements improve a clinician's well-being and health?</a></strong><br>2018. Parry DA, Oeppen RS, Amin M, Brennan PA<br>[ID: 29254875]"
      ],
      "text/plain": [
       "<IPython.core.display.HTML object>"
      ]
     },
     "metadata": {},
     "output_type": "display_data"
    },
    {
     "data": {
      "text/html": [
       "<strong><a href=http://dx.doi.org/10.1098/rsos.170742>Incubation environment impacts the social cognition of adult lizards.</a></strong><br>2017. Siviter H, Deeming DC, van Giezen MFT, Wilkinson A<br>[ID: 29291066]"
      ],
      "text/plain": [
       "<IPython.core.display.HTML object>"
      ]
     },
     "metadata": {},
     "output_type": "display_data"
    },
    {
     "data": {
      "text/html": [
       "<strong><a href=http://dx.doi.org/10.3389/fpubh.2017.00346>Increased Physical Fitness Is Associated with Higher Executive Functioning in People with Dementia.</a></strong><br>2017. Hollamby A, Davelaar EJ, Cadar D<br>[ID: 29312919]"
      ],
      "text/plain": [
       "<IPython.core.display.HTML object>"
      ]
     },
     "metadata": {},
     "output_type": "display_data"
    },
    {
     "data": {
      "text/html": [
       "<strong><a href=http://dx.doi.org/10.1080/09638288.2018.1425744>Motor skills, cognition, and work performance of people with severe mental illness.</a></strong><br>2019. Lipskaya-Velikovsky L, Elgerisi D, Easterbrook A, Ratzon NZ<br>[ID: 29327599]"
      ],
      "text/plain": [
       "<IPython.core.display.HTML object>"
      ]
     },
     "metadata": {},
     "output_type": "display_data"
    },
    {
     "data": {
      "text/html": [
       "<strong><a href=http://dx.doi.org/10.1098/rspb.2017.2411>Trust your gut: using physiological states as a source of information is almost as effective as optimal Bayesian learning.</a></strong><br>2018. Higginson AD, Fawcett TW, Houston AI, McNamara JM<br>[ID: 29367396]"
      ],
      "text/plain": [
       "<IPython.core.display.HTML object>"
      ]
     },
     "metadata": {},
     "output_type": "display_data"
    },
    {
     "data": {
      "text/html": [
       "<strong><a href=http://dx.doi.org/10.1038/s41598-018-20441-x>Spatial memory is as important as weapon and body size for territorial ownership in a lekking hummingbird.</a></strong><br>2018. Araya-Salas M, Gonzalez-Gomez P, Wojczulanis-Jakubas K, López V 3rd, Wright TF<br>[ID: 29386557]"
      ],
      "text/plain": [
       "<IPython.core.display.HTML object>"
      ]
     },
     "metadata": {},
     "output_type": "display_data"
    },
    {
     "data": {
      "text/html": [
       "<strong><a href=http://dx.doi.org/10.1016/j.schres.2018.01.012>A randomized controlled trial examining a cognitive behavioral therapy intervention enhanced with cognitive remediation to improve work and neurocognition outcomes among persons with schizophrenia spectrum disorders.</a></strong><br>2018. Kukla M, Bell MD, Lysaker PH<br>[ID: 29422299]"
      ],
      "text/plain": [
       "<IPython.core.display.HTML object>"
      ]
     },
     "metadata": {},
     "output_type": "display_data"
    },
    {
     "data": {
      "text/html": [
       "<strong><a href=http://dx.doi.org/10.1038/s41598-018-20707-4>Daily circadian misalignment impairs human cognitive performance task-dependently.</a></strong><br>2018. Chellappa SL, Morris CJ, Scheer FAJL<br>[ID: 29445188]"
      ],
      "text/plain": [
       "<IPython.core.display.HTML object>"
      ]
     },
     "metadata": {},
     "output_type": "display_data"
    },
    {
     "data": {
      "text/html": [
       "<strong><a href=http://dx.doi.org/10.1101/lm.046300.117>A Barnes maze for juvenile rats delineates the emergence of spatial navigation ability.</a></strong><br>2018. McHail DG, Valibeigi N, Dumas TC<br>[ID: 29449458]"
      ],
      "text/plain": [
       "<IPython.core.display.HTML object>"
      ]
     },
     "metadata": {},
     "output_type": "display_data"
    },
    {
     "data": {
      "text/html": [
       "<strong><a href=http://dx.doi.org/10.1007/s10459-018-9823-4>Can physician examiners overcome their first impression when examinee performance changes?</a></strong><br>2018. Wood TJ, Pugh D, Touchie C, Chan J, Humphrey-Murto S<br>[ID: 29556923]"
      ],
      "text/plain": [
       "<IPython.core.display.HTML object>"
      ]
     },
     "metadata": {},
     "output_type": "display_data"
    },
    {
     "data": {
      "text/html": [
       "<strong><a href=http://dx.doi.org/10.1177/0033294118765227>15-Year Secular Trends in Cognitive Function Among Older Adults in the United States.</a></strong><br>2019. Frith E, Loprinzi PD<br>[ID: 29566595]"
      ],
      "text/plain": [
       "<IPython.core.display.HTML object>"
      ]
     },
     "metadata": {},
     "output_type": "display_data"
    },
    {
     "data": {
      "text/html": [
       "<strong><a href=http://dx.doi.org/10.1177/1745691617715310>The Error-Related Negativity.</a></strong><br>2018. Gehring WJ, Goss B, Coles MGH, Meyer DE, Donchin E<br>[ID: 29592655]"
      ],
      "text/plain": [
       "<IPython.core.display.HTML object>"
      ]
     },
     "metadata": {},
     "output_type": "display_data"
    },
    {
     "data": {
      "text/html": [
       "<strong><a href=http://dx.doi.org/10.3389/fpsyg.2018.00309>Efficiency in Rule- vs. Plan-Based Movements Is Modulated by Action-Mode.</a></strong><br>2018. Scheib JPP, Stoll S, Thürmer JL, Randerath J<br>[ID: 29593612]"
      ],
      "text/plain": [
       "<IPython.core.display.HTML object>"
      ]
     },
     "metadata": {},
     "output_type": "display_data"
    },
    {
     "data": {
      "text/html": [
       "<strong><a href=http://dx.doi.org/10.1016/j.neurol.2018.03.003>Impairment of social cognition in neurological diseases.</a></strong><br>2018. Duclos H, Desgranges B, Eustache F, Laisney M<br>[ID: 29609959]"
      ],
      "text/plain": [
       "<IPython.core.display.HTML object>"
      ]
     },
     "metadata": {},
     "output_type": "display_data"
    },
    {
     "data": {
      "text/html": [
       "<strong><a href=http://dx.doi.org/10.1007/s00221-018-5249-8>Do perturbation-evoked responses result in higher reaction time costs depending on the direction and magnitude of perturbation?</a></strong><br>2018. Inkol KA, Huntley AH, Vallis LA<br>[ID: 29623379]"
      ],
      "text/plain": [
       "<IPython.core.display.HTML object>"
      ]
     },
     "metadata": {},
     "output_type": "display_data"
    },
    {
     "data": {
      "text/html": [
       "<strong><a href=http://dx.doi.org/10.1371/journal.pcbi.1006092>Interactions of spatial strategies producing generalization gradient and blocking: A computational approach.</a></strong><br>2018. Dollé L, Chavarriaga R, Guillot A, Khamassi M<br>[ID: 29630600]"
      ],
      "text/plain": [
       "<IPython.core.display.HTML object>"
      ]
     },
     "metadata": {},
     "output_type": "display_data"
    },
    {
     "data": {
      "text/html": [
       "<strong><a href=http://dx.doi.org/10.3390/nu10040458>Lutein and Zeaxanthin Are Positively Associated with Visual-Spatial Functioning in Older Adults: An fMRI Study.</a></strong><br>2018. Mewborn CM, Lindbergh CA, Robinson TL, Gogniat MA, Terry DP, Jean KR, Hammond BR, Renzi-Hammond LM, Miller LS<br>[ID: 29642425]"
      ],
      "text/plain": [
       "<IPython.core.display.HTML object>"
      ]
     },
     "metadata": {},
     "output_type": "display_data"
    },
    {
     "data": {
      "text/html": [
       "<strong><a href=http://dx.doi.org/10.1037/dev0000529>Income gains predict cognitive functioning longitudinally throughout later childhood in poor children.</a></strong><br>2018. Raffington L, Prindle JJ, Shing YL<br>[ID: 29697998]"
      ],
      "text/plain": [
       "<IPython.core.display.HTML object>"
      ]
     },
     "metadata": {},
     "output_type": "display_data"
    },
    {
     "data": {
      "text/html": [
       "<strong><a href=http://dx.doi.org/10.1016/j.pscychresns.2018.04.009>Parkinsonism is associated to fronto-caudate disconnectivity and cognition in schizophrenia.</a></strong><br>2018. Molina V, Lubeiro A, Blanco J, Blanco JA, Rodríguez M, Rodríguez-Campos A, de Luis-García R<br>[ID: 29763834]"
      ],
      "text/plain": [
       "<IPython.core.display.HTML object>"
      ]
     },
     "metadata": {},
     "output_type": "display_data"
    },
    {
     "data": {
      "text/html": [
       "<strong><a href=http://dx.doi.org/10.1111/cns.12971>Cholinesterase targeting by polyphenols: A therapeutic approach for the treatment of Alzheimer's disease.</a></strong><br>2018. Jabir NR, Khan FR, Tabrez S<br>[ID: 29770579]"
      ],
      "text/plain": [
       "<IPython.core.display.HTML object>"
      ]
     },
     "metadata": {},
     "output_type": "display_data"
    },
    {
     "data": {
      "text/html": [
       "<strong><a href=http://dx.doi.org/10.1016/j.actpsy.2018.05.005>Negative social emotions and cognition: Shame, guilt and working memory impairments.</a></strong><br>2018. Cavalera C, Pepe A, Zurloni V, Diana B, Realdon O, Todisco P, Castelnuovo G, Molinari E, Pagnini F<br>[ID: 29800767]"
      ],
      "text/plain": [
       "<IPython.core.display.HTML object>"
      ]
     },
     "metadata": {},
     "output_type": "display_data"
    },
    {
     "data": {
      "text/html": [
       "<strong><a href=http://dx.doi.org/10.1038/s41537-018-0050-z>Impairment in delay discounting in schizophrenia and schizoaffective disorder but not primary mood disorders.</a></strong><br>2018. Brown HE, Hart KL, Snapper LA, Roffman JL, Perlis RH<br>[ID: 29808011]"
      ],
      "text/plain": [
       "<IPython.core.display.HTML object>"
      ]
     },
     "metadata": {},
     "output_type": "display_data"
    },
    {
     "data": {
      "text/html": [
       "<strong><a href=http://dx.doi.org/10.1186/s40779-018-0165-6>On-orbit sleep problems of astronauts and countermeasures.</a></strong><br>2018. Wu B, Wang Y, Wu X, Liu D, Xu D, Wang F<br>[ID: 29843821]"
      ],
      "text/plain": [
       "<IPython.core.display.HTML object>"
      ]
     },
     "metadata": {},
     "output_type": "display_data"
    },
    {
     "data": {
      "text/html": [
       "<strong><a href=http://dx.doi.org/10.3758/s13420-018-0327-0>Incidental spatial memory in the domestic dog (Canis familiaris).</a></strong><br>2018. Sluka CM, Stanko K, Campbell A, Cáceres J, Panoz-Brown D, Wheeler A, Bradley J, Allen C<br>[ID: 29845456]"
      ],
      "text/plain": [
       "<IPython.core.display.HTML object>"
      ]
     },
     "metadata": {},
     "output_type": "display_data"
    },
    {
     "data": {
      "text/html": [
       "<strong><a href=http://dx.doi.org/10.1111/cogs.12627>Modeling the Covariance Structure of Complex Datasets Using Cognitive Models: An Application to Individual Differences and the Heritability of Cognitive Ability.</a></strong><br>2018. Evans NJ, Steyvers M, Brown SD<br>[ID: 29873105]"
      ],
      "text/plain": [
       "<IPython.core.display.HTML object>"
      ]
     },
     "metadata": {},
     "output_type": "display_data"
    },
    {
     "data": {
      "text/html": [
       "<strong><a href=http://dx.doi.org/10.3389/fnagi.2018.00155>Associations of <i>MAP2K3</i> Gene Variants With Superior Memory in SuperAgers.</a></strong><br>2018. Huentelman MJ, Piras IS, Siniard AL, De Both MD, Richholt RF, Balak CD, Jamshidi P, Bigio EH, Weintraub S, Loyer ET, Mesulam MM, Geula C, Rogalski EJ<br>[ID: 29896098]"
      ],
      "text/plain": [
       "<IPython.core.display.HTML object>"
      ]
     },
     "metadata": {},
     "output_type": "display_data"
    },
    {
     "data": {
      "text/html": [
       "<strong><a href=http://dx.doi.org/10.1109/TNNLS.2018.2830119>Enhanced Robot Speech Recognition Using Biomimetic Binaural Sound Source Localization.</a></strong><br>2019. Davila-Chacon J, Liu J, Wermter S<br>[ID: 29993561]"
      ],
      "text/plain": [
       "<IPython.core.display.HTML object>"
      ]
     },
     "metadata": {},
     "output_type": "display_data"
    },
    {
     "data": {
      "text/html": [
       "<strong><a href=http://dx.doi.org/10.1016/j.nicl.2018.01.029>Complex spatial and temporally defined myelin and axonal degeneration in Huntington disease.</a></strong><br>2018. Rosas HD, Wilkens P, Salat DH, Mercaldo ND, Vangel M, Yendiki AY, Hersch SM<br>[ID: 30090698]"
      ],
      "text/plain": [
       "<IPython.core.display.HTML object>"
      ]
     },
     "metadata": {},
     "output_type": "display_data"
    },
    {
     "data": {
      "text/html": [
       "<strong><a href=http://dx.doi.org/10.1080/1028415X.2018.1507963>Biological sex and glucoregulation modulate postprandial cognition following dairy milk and fruit juice in healthy school-age children.</a></strong><br>2020. Anderson JR, Gunstad J, Updegraff J, Sato A, Hagerdorn PL, Spitznagel MB<br>[ID: 30095386]"
      ],
      "text/plain": [
       "<IPython.core.display.HTML object>"
      ]
     },
     "metadata": {},
     "output_type": "display_data"
    },
    {
     "data": {
      "text/html": [
       "<strong><a href=http://dx.doi.org/10.1098/rstb.2017.0287>Environmentally induced changes to brain morphology predict cognitive performance.</a></strong><br>2018. Pike TW, Ramsey M, Wilkinson A<br>[ID: 30104432]"
      ],
      "text/plain": [
       "<IPython.core.display.HTML object>"
      ]
     },
     "metadata": {},
     "output_type": "display_data"
    },
    {
     "data": {
      "text/html": [
       "<strong><a href=http://dx.doi.org/10.1176/appi.ps.201800073>Treatment Implications of Situational Variability in Cognitive and Negative Symptoms of Schizophrenia.</a></strong><br>2018. Mote J, Grant PM, Silverstein SM<br>[ID: 30122135]"
      ],
      "text/plain": [
       "<IPython.core.display.HTML object>"
      ]
     },
     "metadata": {},
     "output_type": "display_data"
    },
    {
     "data": {
      "text/html": [
       "<strong><a href=http://dx.doi.org/10.1007/s00415-018-9034-1>The Brief International Cognitive Assessment in Multiple Sclerosis (BICAMS): results from the German validation study.</a></strong><br>2018. Filser M, Schreiber H, Pöttgen J, Ullrich S, Lang M, Penner IK<br>[ID: 30171410]"
      ],
      "text/plain": [
       "<IPython.core.display.HTML object>"
      ]
     },
     "metadata": {},
     "output_type": "display_data"
    },
    {
     "data": {
      "text/html": [
       "<strong><a href=http://dx.doi.org/10.1098/rspb.2018.1386>Camouflage strategies interfere differently with observer search images.</a></strong><br>2018. Troscianko J, Skelhorn J, Stevens M<br>[ID: 30185636]"
      ],
      "text/plain": [
       "<IPython.core.display.HTML object>"
      ]
     },
     "metadata": {},
     "output_type": "display_data"
    },
    {
     "data": {
      "text/html": [
       "<strong><a href=http://dx.doi.org/10.3389/fpsyg.2018.01489>Creative Sparks or Paralysis Traps? The Effects of Contradictions on Creative Processing and Creative Products.</a></strong><br>2018. Calic G, Hélie S<br>[ID: 30186198]"
      ],
      "text/plain": [
       "<IPython.core.display.HTML object>"
      ]
     },
     "metadata": {},
     "output_type": "display_data"
    },
    {
     "data": {
      "text/html": [
       "<strong><a href=http://dx.doi.org/10.1017/S1092852918001062>Neuronal underpinnings of cognitive impairment and - improvement in mood disorders.</a></strong><br>2019. Miskowiak KW, Petersen CS<br>[ID: 30198479]"
      ],
      "text/plain": [
       "<IPython.core.display.HTML object>"
      ]
     },
     "metadata": {},
     "output_type": "display_data"
    },
    {
     "data": {
      "text/html": [
       "<strong><a href=http://dx.doi.org/10.3389/fpubh.2018.00239>Sedentary Behavior at Work and Cognitive Functioning: A Systematic Review.</a></strong><br>2018. Magnon V, Vallet GT, Auxiette C<br>[ID: 30234085]"
      ],
      "text/plain": [
       "<IPython.core.display.HTML object>"
      ]
     },
     "metadata": {},
     "output_type": "display_data"
    },
    {
     "data": {
      "text/html": [
       "<strong><a href=http://dx.doi.org/10.3389/fnins.2018.00610>Variable Neural Contributions to Explicit and Implicit Learning During Visuomotor Adaptation.</a></strong><br>2018. Liew SL, Thompson T, Ramirez J, Butcher PA, Taylor JA, Celnik PA<br>[ID: 30279645]"
      ],
      "text/plain": [
       "<IPython.core.display.HTML object>"
      ]
     },
     "metadata": {},
     "output_type": "display_data"
    },
    {
     "data": {
      "text/html": [
       "<strong><a href=http://dx.doi.org/10.3389/fpsyg.2018.01757>Shyness and Learning Adjustment in Senior High School Students: Mediating Roles of Goal Orientation and Academic Help Seeking.</a></strong><br>2018. Chen Y, Li L, Wang X, Li Y, Gao F<br>[ID: 30283394]"
      ],
      "text/plain": [
       "<IPython.core.display.HTML object>"
      ]
     },
     "metadata": {},
     "output_type": "display_data"
    },
    {
     "data": {
      "text/html": [
       "<strong><a href=http://dx.doi.org/10.1037/dev0000576>Attained SES as a moderator of adult cognitive performance: Testing gene-environment interaction in various cognitive domains.</a></strong><br>2018. Zavala C, Beam CR, Finch BK, Gatz M, Johnson W, Kremen WS, Neiderhiser JM, Pedersen NL, Reynolds CA<br>[ID: 30335430]"
      ],
      "text/plain": [
       "<IPython.core.display.HTML object>"
      ]
     },
     "metadata": {},
     "output_type": "display_data"
    },
    {
     "data": {
      "text/html": [
       "<strong><a href=http://dx.doi.org/10.1037/abn0000369>Effects of reward on spatial working memory in schizophrenia.</a></strong><br>2018. Cho YT, Lam NH, Starc M, Santamauro N, Savic A, Diehl CK, Schleifer CH, Moujaes F, Srihari VH, Repovs G, Murray JD, Anticevic A<br>[ID: 30335439]"
      ],
      "text/plain": [
       "<IPython.core.display.HTML object>"
      ]
     },
     "metadata": {},
     "output_type": "display_data"
    },
    {
     "data": {
      "text/html": [
       "<strong><a href=http://dx.doi.org/10.3389/fnagi.2018.00325>Differential Progression of Regional Hippocampal Atrophy in Aging and Parkinson's Disease.</a></strong><br>2018. Uribe C, Segura B, Baggio HC, Campabadal A, Abos A, Compta Y, Marti MJ, Valldeoriola F, Bargallo N, Junque C<br>[ID: 30364338]"
      ],
      "text/plain": [
       "<IPython.core.display.HTML object>"
      ]
     },
     "metadata": {},
     "output_type": "display_data"
    },
    {
     "data": {
      "text/html": [
       "<strong><a href=http://dx.doi.org/10.4081/or.2018.7559>Non-cognitive factors predicting success in orthopedic surgery residency.</a></strong><br>2018. Valley B, Camp C, Grawe B<br>[ID: 30370033]"
      ],
      "text/plain": [
       "<IPython.core.display.HTML object>"
      ]
     },
     "metadata": {},
     "output_type": "display_data"
    },
    {
     "data": {
      "text/html": [
       "<strong><a href=http://dx.doi.org/10.3389/fnhum.2018.00407>Expedition Cognition: A Review and Prospective of Subterranean Neuroscience With Spaceflight Applications.</a></strong><br>2018. Mogilever NB, Zuccarelli L, Burles F, Iaria G, Strapazzon G, Bessone L, Coffey EBJ<br>[ID: 30425628]"
      ],
      "text/plain": [
       "<IPython.core.display.HTML object>"
      ]
     },
     "metadata": {},
     "output_type": "display_data"
    },
    {
     "data": {
      "text/html": [
       "<strong><a href=http://dx.doi.org/10.3389/fneur.2018.00913>Cognitive Involvement in Balance, Gait and Dual-Tasking in Aging: A Focused Review From a Neuroscience of Aging Perspective.</a></strong><br>2018. Li KZH, Bherer L, Mirelman A, Maidan I, Hausdorff JM<br>[ID: 30425679]"
      ],
      "text/plain": [
       "<IPython.core.display.HTML object>"
      ]
     },
     "metadata": {},
     "output_type": "display_data"
    },
    {
     "data": {
      "text/html": [
       "<strong><a href=http://dx.doi.org/10.1016/j.socscimed.2018.11.019>Genetic effects and gene-by-education interactions on episodic memory performance and decline in an aging population.</a></strong><br>2021. Smith JA, Kho M, Zhao W, Yu M, Mitchell C, Faul JD<br>[ID: 30449520]"
      ],
      "text/plain": [
       "<IPython.core.display.HTML object>"
      ]
     },
     "metadata": {},
     "output_type": "display_data"
    },
    {
     "data": {
      "text/html": [
       "<strong><a href=http://dx.doi.org/10.1016/j.bbr.2018.11.032>Making waves: Comparing Morris water task performance in rats and prairie voles.</a></strong><br>2019. Blankenship PA, Normann MC, Donaldson TN, Baumeister J, McNeal N, Grippo AJ, Wallace DG<br>[ID: 30472112]"
      ],
      "text/plain": [
       "<IPython.core.display.HTML object>"
      ]
     },
     "metadata": {},
     "output_type": "display_data"
    },
    {
     "data": {
      "text/html": [
       "<strong><a href=http://dx.doi.org/10.1016/j.apergo.2018.09.002>The effects of sedentary behaviour interventions on work-related productivity and performance outcomes in real and simulated office work: A systematic review.</a></strong><br>2019. Sui W, Smith ST, Fagan MJ, Rollo S, Prapavessis H<br>[ID: 30509536]"
      ],
      "text/plain": [
       "<IPython.core.display.HTML object>"
      ]
     },
     "metadata": {},
     "output_type": "display_data"
    },
    {
     "data": {
      "text/html": [
       "<strong><a href=http://dx.doi.org/10.3389/fpsyg.2018.02133>Cyber Teaming and Role Specialization in a Cyber Security Defense Competition.</a></strong><br>2018. Buchler N, La Fleur CG, Hoffman B, Rajivan P, Marusich L, Lightner L<br>[ID: 30510527]"
      ],
      "text/plain": [
       "<IPython.core.display.HTML object>"
      ]
     },
     "metadata": {},
     "output_type": "display_data"
    },
    {
     "data": {
      "text/html": [
       "<strong><a href=http://dx.doi.org/10.1007/s10433-017-0450-3>Feeling older, walking slower-but only if someone's watching. Subjective age is associated with walking speed in the laboratory, but not in real life.</a></strong><br>2018. Notthoff N, Drewelies J, Kazanecka P, Steinhagen-Thiessen E, Norman K, Düzel S, Daumer M, Lindenberger U, Demuth I, Gerstorf D<br>[ID: 30532679]"
      ],
      "text/plain": [
       "<IPython.core.display.HTML object>"
      ]
     },
     "metadata": {},
     "output_type": "display_data"
    },
    {
     "data": {
      "text/html": [
       "<strong><a href=http://dx.doi.org/10.3758/s13421-018-0882-9>Dissociating visuo-spatial and verbal working memory: It's all in the features.</a></strong><br>2019. Poirier M, Yearsley JM, Saint-Aubin J, Fortin C, Gallant G, Guitard D<br>[ID: 30560471]"
      ],
      "text/plain": [
       "<IPython.core.display.HTML object>"
      ]
     },
     "metadata": {},
     "output_type": "display_data"
    },
    {
     "data": {
      "text/html": [
       "<strong><a href=http://dx.doi.org/10.1016/j.psychres.2018.12.062>Relationship between work functioning and self-reported cognitive complaints in patients with major depressive disorder treated with desvenlafaxine.</a></strong><br>2019. Alonso-Prieto E, Rubino C, Lucey M, Evans VC, Tam EM, Woo C, Iverson GL, Chakrabarty T, Yatham LN, Lam RW<br>[ID: 30583256]"
      ],
      "text/plain": [
       "<IPython.core.display.HTML object>"
      ]
     },
     "metadata": {},
     "output_type": "display_data"
    },
    {
     "data": {
      "text/html": [
       "<strong><a href=http://dx.doi.org/10.1016/j.neuropsychologia.2018.12.020>Understanding perirhinal contributions to perception and memory: Evidence through the lens of selective perirhinal damage.</a></strong><br>2019. Inhoff MC, Heusser AC, Tambini A, Martin CB, O'Neil EB, Köhler S, Meager MR, Blackmon K, Vazquez B, Devinsky O, Davachi L<br>[ID: 30594569]"
      ],
      "text/plain": [
       "<IPython.core.display.HTML object>"
      ]
     },
     "metadata": {},
     "output_type": "display_data"
    },
    {
     "data": {
      "text/html": [
       "<strong><a href=http://dx.doi.org/10.1186/s41039-018-0080-1>Computer-Supported Meta-reflective Learning Model via mathematical word problem learning for training metacognition.</a></strong><br>2018. Duangnamol T, Supnithi T, Srijuntongsiri G, Ikeda M<br>[ID: 30595742]"
      ],
      "text/plain": [
       "<IPython.core.display.HTML object>"
      ]
     },
     "metadata": {},
     "output_type": "display_data"
    },
    {
     "data": {
      "text/html": [
       "<strong><a href=http://dx.doi.org/10.1016/j.nlm.2019.01.002>Misaligned core body temperature rhythms impact cognitive performance of hospital shift work nurses.</a></strong><br>2019. Molzof HE, Prapanjaroensin A, Patel VH, Mokashi MV, Gamble KL, Patrician PA<br>[ID: 30611883]"
      ],
      "text/plain": [
       "<IPython.core.display.HTML object>"
      ]
     },
     "metadata": {},
     "output_type": "display_data"
    },
    {
     "data": {
      "text/html": [
       "<strong><a href=http://dx.doi.org/10.3389/fnhum.2018.00489>Investigating Neural Sensorimotor Mechanisms Underlying Flight Expertise in Pilots: Preliminary Data From an EEG Study.</a></strong><br>2018. Sestito M, Harel A, Nador J, Flach J<br>[ID: 30618676]"
      ],
      "text/plain": [
       "<IPython.core.display.HTML object>"
      ]
     },
     "metadata": {},
     "output_type": "display_data"
    },
    {
     "data": {
      "text/html": [
       "<strong><a href=http://dx.doi.org/10.3389/fpsyg.2018.02529>The Dynamics of Creative Ideation: Introducing a New Assessment Paradigm.</a></strong><br>2018. Barbot B<br>[ID: 30618952]"
      ],
      "text/plain": [
       "<IPython.core.display.HTML object>"
      ]
     },
     "metadata": {},
     "output_type": "display_data"
    },
    {
     "data": {
      "text/html": [
       "<strong><a href=http://dx.doi.org/10.1016/j.bbr.2019.01.024>Psycho-emotional status but not cognition is changed under the combined effect of ionizing radiations at doses related to deep space missions.</a></strong><br>2019. Kokhan VS, Shakhbazian EV, Markova NA<br>[ID: 30658066]"
      ],
      "text/plain": [
       "<IPython.core.display.HTML object>"
      ]
     },
     "metadata": {},
     "output_type": "display_data"
    },
    {
     "data": {
      "text/html": [
       "<strong><a href=http://dx.doi.org/10.1038/s41598-018-36762-w>Effects of circadian misalignment on cognition in chronic shift workers.</a></strong><br>2019. Chellappa SL, Morris CJ, Scheer FAJL<br>[ID: 30679522]"
      ],
      "text/plain": [
       "<IPython.core.display.HTML object>"
      ]
     },
     "metadata": {},
     "output_type": "display_data"
    },
    {
     "data": {
      "text/html": [
       "<strong><a href=http://dx.doi.org/10.1016/j.cortex.2018.11.019>Spontaneous representation of numerosity in typical and dyscalculic development.</a></strong><br>2019. Cicchini GM, Anobile G, Burr DC<br>[ID: 30683323]"
      ],
      "text/plain": [
       "<IPython.core.display.HTML object>"
      ]
     },
     "metadata": {},
     "output_type": "display_data"
    },
    {
     "data": {
      "text/html": [
       "<strong><a href=http://dx.doi.org/10.3389/fncel.2018.00524>Cerebellum, Predictions and Errors.</a></strong><br>2018. Popa LS, Ebner TJ<br>[ID: 30697149]"
      ],
      "text/plain": [
       "<IPython.core.display.HTML object>"
      ]
     },
     "metadata": {},
     "output_type": "display_data"
    },
    {
     "data": {
      "text/html": [
       "<strong><a href=http://dx.doi.org/10.1093/brain/awz025>Entorhinal cortex tau, amyloid-β, cortical thickness and memory performance in non-demented subjects.</a></strong><br>2019. Knopman DS, Lundt ES, Therneau TM, Vemuri P, Lowe VJ, Kantarci K, Gunter JL, Senjem ML, Mielke MM, Machulda MM, Boeve BF, Jones DT, Graff-Radford J, Albertson SM, Schwarz CG, Petersen RC, Jack CR<br>[ID: 30759182]"
      ],
      "text/plain": [
       "<IPython.core.display.HTML object>"
      ]
     },
     "metadata": {},
     "output_type": "display_data"
    },
    {
     "data": {
      "text/html": [
       "<strong><a href=http://dx.doi.org/10.1098/rsos.180454>The ecological roots of human susceptibility to social influence: a pre-registered study investigating the impact of early-life adversity.</a></strong><br>2019. Jacquet PO, Safra L, Wyart V, Baumard N, Chevallier C<br>[ID: 30800337]"
      ],
      "text/plain": [
       "<IPython.core.display.HTML object>"
      ]
     },
     "metadata": {},
     "output_type": "display_data"
    },
    {
     "data": {
      "text/html": [
       "<strong><a href=http://dx.doi.org/10.1016/j.mehy.2019.02.013>Hypothesis of the optimal therapeutic effect of transcranial direct current stimulation (tDCS) for psychiatric disorders: Integration of positive cognitive tasks during the neuroplastic process.</a></strong><br>2019. Lin SH, Yang YK<br>[ID: 30902132]"
      ],
      "text/plain": [
       "<IPython.core.display.HTML object>"
      ]
     },
     "metadata": {},
     "output_type": "display_data"
    },
    {
     "data": {
      "text/html": [
       "<strong><a href=http://dx.doi.org/10.1016/j.ijpsycho.2019.03.014>Training gains and transfer effects after mnemonic strategy training in mild cognitive impairment: A fMRI study.</a></strong><br>2020. Simon SS, Hampstead BM, Nucci MP, Duran FLS, Fonseca LM, Martin MDGM, Ávila R, Porto FHG, Brucki SMD, Martins CB, Tascone LS, Amaro E Jr, Busatto GF, Bottino CMC<br>[ID: 30936043]"
      ],
      "text/plain": [
       "<IPython.core.display.HTML object>"
      ]
     },
     "metadata": {},
     "output_type": "display_data"
    },
    {
     "data": {
      "text/html": [
       "<strong><a href=http://dx.doi.org/10.1016/j.neuroimage.2019.03.074>Meta-analyses of the n-back working memory task: fMRI evidence of age-related changes in prefrontal cortex involvement across the adult lifespan.</a></strong><br>2019. Yaple ZA, Stevens WD, Arsalidou M<br>[ID: 30954708]"
      ],
      "text/plain": [
       "<IPython.core.display.HTML object>"
      ]
     },
     "metadata": {},
     "output_type": "display_data"
    },
    {
     "data": {
      "text/html": [
       "<strong><a href=http://dx.doi.org/10.1162/neco_a_01192>Improving the Antinoise Ability of DNNs via a Bio-Inspired Noise Adaptive Activation Function Rand Softplus.</a></strong><br>2019. Chen Y, Mai Y, Xiao J, Zhang L<br>[ID: 30979351]"
      ],
      "text/plain": [
       "<IPython.core.display.HTML object>"
      ]
     },
     "metadata": {},
     "output_type": "display_data"
    },
    {
     "data": {
      "text/html": [
       "<strong><a href=http://dx.doi.org/10.1002/hbm.24594>Individual differences in sustained attention are associated with cortical thickness.</a></strong><br>2019. Mitko A, Rothlein D, Poole V, Robinson M, McGlinchey R, DeGutis J, Salat D, Esterman M<br>[ID: 30980462]"
      ],
      "text/plain": [
       "<IPython.core.display.HTML object>"
      ]
     },
     "metadata": {},
     "output_type": "display_data"
    },
    {
     "data": {
      "text/html": [
       "<strong><a href=http://dx.doi.org/10.3389/fneur.2019.00312>Cortical Gray Matter and Hippocampal Atrophy in Idiopathic Rapid Eye Movement Sleep Behavior Disorder.</a></strong><br>2019. Campabadal A, Segura B, Junque C, Serradell M, Abos A, Uribe C, Baggio HC, Gaig C, Santamaria J, Compta Y, Bargallo N, Iranzo A<br>[ID: 31024418]"
      ],
      "text/plain": [
       "<IPython.core.display.HTML object>"
      ]
     },
     "metadata": {},
     "output_type": "display_data"
    },
    {
     "data": {
      "text/html": [
       "<strong><a href=http://dx.doi.org/10.1002/hep.30690>Fecal Microbial Transplant Capsules Are Safe in Hepatic Encephalopathy: A Phase 1, Randomized, Placebo-Controlled Trial.</a></strong><br>2019. Bajaj JS, Salzman NH, Acharya C, Sterling RK, White MB, Gavis EA, Fagan A, Hayward M, Holtz ML, Matherly S, Lee H, Osman M, Siddiqui MS, Fuchs M, Puri P, Sikaroodi M, Gillevet PM<br>[ID: 31038755]"
      ],
      "text/plain": [
       "<IPython.core.display.HTML object>"
      ]
     },
     "metadata": {},
     "output_type": "display_data"
    },
    {
     "data": {
      "text/html": [
       "<strong><a href=http://dx.doi.org/10.3389/fpsyt.2019.00261>Early Trauma and Cognitive Functions of Patients With Schizophrenia.</a></strong><br>2019. Carrilho CG, Cougo SS, Bombassaro T, Varella AAB, Alves GS, Machado S, Murillo-Rodriguez E, Malaspina D, Nardi AE, Veras AB<br>[ID: 31057446]"
      ],
      "text/plain": [
       "<IPython.core.display.HTML object>"
      ]
     },
     "metadata": {},
     "output_type": "display_data"
    },
    {
     "data": {
      "text/html": [
       "<strong><a href=http://dx.doi.org/10.3758/s13414-019-01724-5>Perceptual sensitivity is modulated by what others can see.</a></strong><br>2019. Seow T, Fleming SM<br>[ID: 31062300]"
      ],
      "text/plain": [
       "<IPython.core.display.HTML object>"
      ]
     },
     "metadata": {},
     "output_type": "display_data"
    },
    {
     "data": {
      "text/html": [
       "<strong><a href=http://dx.doi.org/10.1016/bs.pbr.2019.03.015>A dynamic attentional control framework for understanding sleep deprivation effects on cognition.</a></strong><br>2019. Whitney P, Hinson JM, Nusbaum AT<br>[ID: 31072558]"
      ],
      "text/plain": [
       "<IPython.core.display.HTML object>"
      ]
     },
     "metadata": {},
     "output_type": "display_data"
    },
    {
     "data": {
      "text/html": [
       "<strong><a href=http://dx.doi.org/10.1016/j.yebeh.2019.04.015>Temporal lobe epilepsy is associated with distinct cognitive phenotypes.</a></strong><br>2019. Elverman KH, Resch ZJ, Quasney EE, Sabsevitz DS, Binder JR, Swanson SJ<br>[ID: 31077942]"
      ],
      "text/plain": [
       "<IPython.core.display.HTML object>"
      ]
     },
     "metadata": {},
     "output_type": "display_data"
    },
    {
     "data": {
      "text/html": [
       "<strong><a href=http://dx.doi.org/10.3389/fneur.2019.00372>Dual vs. Single Tasking During Circular Walking: What Better Reflects Progression in Parkinson's Disease?</a></strong><br>2019. Micó-Amigo ME, Kingma I, Heinzel S, Nussbaum S, Heger T, van Lummel RC, Berg D, Maetzler W, van Dieën JH<br>[ID: 31139130]"
      ],
      "text/plain": [
       "<IPython.core.display.HTML object>"
      ]
     },
     "metadata": {},
     "output_type": "display_data"
    },
    {
     "data": {
      "text/html": [
       "<strong><a href=http://dx.doi.org/10.1073/pnas.1818284116>Elephants have a nose for quantity.</a></strong><br>2019. Plotnik JM, Brubaker DL, Dale R, Tiller LN, Mumby HS, Clayton NS<br>[ID: 31160445]"
      ],
      "text/plain": [
       "<IPython.core.display.HTML object>"
      ]
     },
     "metadata": {},
     "output_type": "display_data"
    },
    {
     "data": {
      "text/html": [
       "<strong><a href=http://dx.doi.org/10.1016/j.jecp.2019.05.002>Fine motor skills and mental imagery: Is it all in the mind?</a></strong><br>2019. Martzog P, Suggate SP<br>[ID: 31200273]"
      ],
      "text/plain": [
       "<IPython.core.display.HTML object>"
      ]
     },
     "metadata": {},
     "output_type": "display_data"
    },
    {
     "data": {
      "text/html": [
       "<strong><a href=http://dx.doi.org/10.3389/fnagi.2019.00133>Mental Flexibility Influences the Association Between Poor Balance and Falls in Older People - A Secondary Analysis.</a></strong><br>2019. Pieruccini-Faria F, Lord SR, Toson B, Kemmler W, Schoene D<br>[ID: 31263408]"
      ],
      "text/plain": [
       "<IPython.core.display.HTML object>"
      ]
     },
     "metadata": {},
     "output_type": "display_data"
    },
    {
     "data": {
      "text/html": [
       "<strong><a href=http://dx.doi.org/10.1007/s00213-019-05316-x>Modeling the effects of methylphenidate on interference and evidence accumulation processes using the conflict linear ballistic accumulator.</a></strong><br>2019. Weigard A, Heathcote A, Sripada C<br>[ID: 31302719]"
      ],
      "text/plain": [
       "<IPython.core.display.HTML object>"
      ]
     },
     "metadata": {},
     "output_type": "display_data"
    },
    {
     "data": {
      "text/html": [
       "<strong><a href=http://dx.doi.org/10.1016/j.bbi.2019.07.018>Cannabidiol improves behavioural and neurochemical deficits in adult female offspring of the maternal immune activation (poly I:C) model of neurodevelopmental disorders.</a></strong><br>2019. Osborne AL, Solowij N, Babic I, Lum JS, Huang XF, Newell KA, Weston-Green K<br>[ID: 31326506]"
      ],
      "text/plain": [
       "<IPython.core.display.HTML object>"
      ]
     },
     "metadata": {},
     "output_type": "display_data"
    },
    {
     "data": {
      "text/html": [
       "<strong><a href=http://dx.doi.org/10.1038/s41380-019-0458-5>Brain expression of the vascular endothelial growth factor gene family in cognitive aging and alzheimer's disease.</a></strong><br>2021. Mahoney ER, Dumitrescu L, Moore AM, Cambronero FE, De Jager PL, Koran MEI, Petyuk VA, Robinson RAS, Goyal S, Schneider JA, Bennett DA, Jefferson AL, Hohman TJ<br>[ID: 31332262]"
      ],
      "text/plain": [
       "<IPython.core.display.HTML object>"
      ]
     },
     "metadata": {},
     "output_type": "display_data"
    },
    {
     "data": {
      "text/html": [
       "<strong><a href=http://dx.doi.org/10.1186/s11556-019-0217-2>Functional and/or structural brain changes in response to resistance exercises and resistance training lead to cognitive improvements - a systematic review.</a></strong><br>2019. Herold F, Törpel A, Schega L, Müller NG<br>[ID: 31333805]"
      ],
      "text/plain": [
       "<IPython.core.display.HTML object>"
      ]
     },
     "metadata": {},
     "output_type": "display_data"
    },
    {
     "data": {
      "text/html": [
       "<strong><a href=http://dx.doi.org/10.1111/desc.12889>Development of dopaminergic genetic associations with visuospatial, verbal and social working memory.</a></strong><br>2020. Dumontheil I, Kilford EJ, Blakemore SJ<br>[ID: 31336006]"
      ],
      "text/plain": [
       "<IPython.core.display.HTML object>"
      ]
     },
     "metadata": {},
     "output_type": "display_data"
    },
    {
     "data": {
      "text/html": [
       "<strong><a href=http://dx.doi.org/10.3390/medicina55080422>Exercise and Episodic Specificity Induction on Episodic Memory Function.</a></strong><br>2019. Loprinzi PD, McRaney K, Luca K, McDonald A<br>[ID: 31370283]"
      ],
      "text/plain": [
       "<IPython.core.display.HTML object>"
      ]
     },
     "metadata": {},
     "output_type": "display_data"
    },
    {
     "data": {
      "text/html": [
       "<strong><a href=http://dx.doi.org/10.3758/s13421-019-00958-w>Dynamic adjustments in working memory in the face of affective interference.</a></strong><br>2020. Witkin JE, Zanesco AP, Denkova E, Jha AP<br>[ID: 31385241]"
      ],
      "text/plain": [
       "<IPython.core.display.HTML object>"
      ]
     },
     "metadata": {},
     "output_type": "display_data"
    },
    {
     "data": {
      "text/html": [
       "<strong><a href=http://dx.doi.org/10.3233/SHTI190113>Distributed Cognition: Understanding Complex Sociotechnical Informatics.</a></strong><br>2019. Furniss D, Garfield S, Husson F, Blandford A, Franklin BD<br>[ID: 31411154]"
      ],
      "text/plain": [
       "<IPython.core.display.HTML object>"
      ]
     },
     "metadata": {},
     "output_type": "display_data"
    },
    {
     "data": {
      "text/html": [
       "<strong><a href=http://dx.doi.org/10.1002/aur.2195>Social cognition as a predictor of functional and social skills in autistic adults without intellectual disability.</a></strong><br>2020. Sasson NJ, Morrison KE, Kelsven S, Pinkham AE<br>[ID: 31419075]"
      ],
      "text/plain": [
       "<IPython.core.display.HTML object>"
      ]
     },
     "metadata": {},
     "output_type": "display_data"
    },
    {
     "data": {
      "text/html": [
       "<strong><a href=http://dx.doi.org/10.1016/j.neuroimage.2019.116089>Degrees of lateralisation in semantic cognition: Evidence from intrinsic connectivity.</a></strong><br>2019. Gonzalez Alam TRDJ, Karapanagiotidis T, Smallwood J, Jefferies E<br>[ID: 31419614]"
      ],
      "text/plain": [
       "<IPython.core.display.HTML object>"
      ]
     },
     "metadata": {},
     "output_type": "display_data"
    },
    {
     "data": {
      "text/html": [
       "<strong><a href=http://dx.doi.org/10.3389/fpsyg.2019.01685>Connecting the Dots: Finding Continuity Across Visuospatial Tasks and Development.</a></strong><br>2019. Perone S, Simmering VR<br>[ID: 31428009]"
      ],
      "text/plain": [
       "<IPython.core.display.HTML object>"
      ]
     },
     "metadata": {},
     "output_type": "display_data"
    },
    {
     "data": {
      "text/html": [
       "<strong><a href=http://dx.doi.org/10.1016/j.scog.2019.100153>Affective prosody and facial emotion recognition in first-episode schizophrenia: Associations with functioning &amp; symptoms.</a></strong><br>2019. Bonfils KA, Ventura J, Subotnik KL, Nuechterlein KH<br>[ID: 31497511]"
      ],
      "text/plain": [
       "<IPython.core.display.HTML object>"
      ]
     },
     "metadata": {},
     "output_type": "display_data"
    },
    {
     "data": {
      "text/html": [
       "<strong><a href=http://dx.doi.org/10.1186/s12877-019-1261-5>Impact of transition in work status and social participation on cognitive performance among elderly in India.</a></strong><br>2019. Chanda S, Mishra R<br>[ID: 31510923]"
      ],
      "text/plain": [
       "<IPython.core.display.HTML object>"
      ]
     },
     "metadata": {},
     "output_type": "display_data"
    },
    {
     "data": {
      "text/html": [
       "<strong><a href=http://dx.doi.org/10.1146/annurev-psych-010419-051112>Multisensory Integration as a Window into Orderly and Disrupted Cognition and Communication.</a></strong><br>2020. Wallace MT, Woynaroski TG, Stevenson RA<br>[ID: 31518523]"
      ],
      "text/plain": [
       "<IPython.core.display.HTML object>"
      ]
     },
     "metadata": {},
     "output_type": "display_data"
    },
    {
     "data": {
      "text/html": [
       "<strong><a href=http://dx.doi.org/10.1038/s41418-019-0411-9>Translating neural stem cells to neurons in the mammalian brain.</a></strong><br>2019. Zahr SK, Kaplan DR, Miller FD<br>[ID: 31551564]"
      ],
      "text/plain": [
       "<IPython.core.display.HTML object>"
      ]
     },
     "metadata": {},
     "output_type": "display_data"
    },
    {
     "data": {
      "text/html": [
       "<strong><a href=http://dx.doi.org/10.3389/fnins.2019.00953>Deficits in Auditory Rhythm Perception in Children With Auditory Processing Disorder Are Unrelated to Attention.</a></strong><br>2019. Sidiras C, Iliadou VV, Nimatoudis I, Grube M, Griffiths T, Bamiou DE<br>[ID: 31551701]"
      ],
      "text/plain": [
       "<IPython.core.display.HTML object>"
      ]
     },
     "metadata": {},
     "output_type": "display_data"
    },
    {
     "data": {
      "text/html": [
       "<strong><a href=http://dx.doi.org/10.1093/nop/npy059><i>BDNF</i>, <i>COMT</i>, and <i>DRD2</i> polymorphisms and ability to return to work in adult patients with low- and high-grade glioma.</a></strong><br>2019. Altshuler DB, Wang L, Zhao L, Miklja Z, Linzey J, Brezzell A, Kakaizada S, Krishna S, Orringer DA, Briceño EM, Gabel N, Hervey-Jumper SL<br>[ID: 31555452]"
      ],
      "text/plain": [
       "<IPython.core.display.HTML object>"
      ]
     },
     "metadata": {},
     "output_type": "display_data"
    },
    {
     "data": {
      "text/html": [
       "<strong><a href=http://dx.doi.org/10.3389/fneur.2019.00949>Neurocognitive Performance Deficits Related to Immediate and Acute Blast Overpressure Exposure.</a></strong><br>2019. LaValle CR, Carr WS, Egnoto MJ, Misistia AC, Salib JE, Ramos AN, Kamimori GH<br>[ID: 31572285]"
      ],
      "text/plain": [
       "<IPython.core.display.HTML object>"
      ]
     },
     "metadata": {},
     "output_type": "display_data"
    },
    {
     "data": {
      "text/html": [
       "<strong><a href=http://dx.doi.org/10.1371/journal.pone.0222995>Single session high definition transcranial direct current stimulation to the cerebellum does not impact higher cognitive function.</a></strong><br>2019. Maldonado T, Goen JRM, Imburgio MJ, Eakin SM, Bernard JA<br>[ID: 31600223]"
      ],
      "text/plain": [
       "<IPython.core.display.HTML object>"
      ]
     },
     "metadata": {},
     "output_type": "display_data"
    },
    {
     "data": {
      "text/html": [
       "<strong><a href=http://dx.doi.org/10.1111/jeb.13548>Yes, correct context is indeed the key: An answer to Haave-Audet et al. 2019.</a></strong><br>2019. Herczeg G, Urszán TJ, Orf S, Nagy G, Kotrschal A, Kolm N<br>[ID: 31604005]"
      ],
      "text/plain": [
       "<IPython.core.display.HTML object>"
      ]
     },
     "metadata": {},
     "output_type": "display_data"
    },
    {
     "data": {
      "text/html": [
       "<strong><a href=http://dx.doi.org/10.1016/j.neuropsychologia.2019.107227>Visual working memory impairments for single items following medial temporal lobe damage.</a></strong><br>2019. Goodrich RI, Baer TL, Quent JA, Yonelinas AP<br>[ID: 31614154]"
      ],
      "text/plain": [
       "<IPython.core.display.HTML object>"
      ]
     },
     "metadata": {},
     "output_type": "display_data"
    },
    {
     "data": {
      "text/html": [
       "<strong><a href=http://dx.doi.org/10.3389/fnagi.2019.00260>Study Protocol: Does an Acute Intervention of High-Intensity Physical Exercise Followed by a Brain Training Video Game Have Immediate Effects on Brain Activity of Older People During Stroop Task in fMRI?-A Randomized Controlled Trial With Crossover Design.</a></strong><br>2019. Himmelmeier RM, Nouchi R, Saito T, Burin D, Wiltfang J, Kawashima R<br>[ID: 31619984]"
      ],
      "text/plain": [
       "<IPython.core.display.HTML object>"
      ]
     },
     "metadata": {},
     "output_type": "display_data"
    },
    {
     "data": {
      "text/html": [
       "<strong><a href=http://dx.doi.org/10.1111/jsr.12919>Work by day and sleep by night, do not sleep too little or too much: Effects of sleep duration, time of day and circadian synchrony on flanker-task performance in internet brain-game users from teens to advanced age.</a></strong><br>2020. Richards A, Kanady JC, Huie JR, Straus LD, Inslicht SS, Levihn-Coon A, Metzler TJ, Neylan TC<br>[ID: 31631467]"
      ],
      "text/plain": [
       "<IPython.core.display.HTML object>"
      ]
     },
     "metadata": {},
     "output_type": "display_data"
    },
    {
     "data": {
      "text/html": [
       "<strong><a href=http://dx.doi.org/10.3389/fpsyg.2019.02277>Embodied Cognition in Performance: The Impact of Michael Chekhov's Acting Exercises on Affect and Height Perception.</a></strong><br>2019. Olenina AH, Amazeen EL, Eckard B, Papenfuss J<br>[ID: 31649594]"
      ],
      "text/plain": [
       "<IPython.core.display.HTML object>"
      ]
     },
     "metadata": {},
     "output_type": "display_data"
    },
    {
     "data": {
      "text/html": [
       "<strong><a href=http://dx.doi.org/10.1089/ham.2019.0012>Cognitive Effects of Repeated Acute Exposure to Very High Altitude Among Altitude-Experienced Workers at 5050 m.</a></strong><br>2019. Pun M, Guadagni V, Drogos LL, Pon C, Hartmann SE, Furian M, Lichtblau M, Muralt L, Bader PR, Moraga FA, Soza D, Lopez I, Rawling JM, Ulrich S, Bloch KE, Giesbrecht B, Poulin MJ<br>[ID: 31651199]"
      ],
      "text/plain": [
       "<IPython.core.display.HTML object>"
      ]
     },
     "metadata": {},
     "output_type": "display_data"
    },
    {
     "data": {
      "text/html": [
       "<strong><a href=http://dx.doi.org/10.1016/j.eatbeh.2019.101338>Obesity is associated with poor working memory in women, not men: Findings from a nationally representative dataset of U.S. adults.</a></strong><br>2019. Yang Y, Shields GS, Wu Q, Liu Y, Guo C<br>[ID: 31707244]"
      ],
      "text/plain": [
       "<IPython.core.display.HTML object>"
      ]
     },
     "metadata": {},
     "output_type": "display_data"
    },
    {
     "data": {
      "text/html": [
       "<strong><a href=http://dx.doi.org/10.1002/smi.2906>Work-related stress and cognitive performance among middle-aged adults: The Brazilian Longitudinal Study of Adult Health (ELSA-Brasil).</a></strong><br>2020. de Souza-Talarico JN, Suemoto CK, Santos IS, Griep RH, Yamaguti STF, Lotufo PA, Bensenõr IJM<br>[ID: 31721401]"
      ],
      "text/plain": [
       "<IPython.core.display.HTML object>"
      ]
     },
     "metadata": {},
     "output_type": "display_data"
    },
    {
     "data": {
      "text/html": [
       "<strong><a href=http://dx.doi.org/10.1093/milmed/usz189>Viability of tDCS in Military Environments for Performance Enhancement: A Systematic Review.</a></strong><br>2020. Feltman KA, Hayes AM, Bernhardt KA, Nwala E, Kelley AM<br>[ID: 31735955]"
      ],
      "text/plain": [
       "<IPython.core.display.HTML object>"
      ]
     },
     "metadata": {},
     "output_type": "display_data"
    },
    {
     "data": {
      "text/html": [
       "<strong><a href=http://dx.doi.org/10.1007/s11011-019-00518-w>Impact of different intensities of forced exercise on deficits of spatial and aversive memory, anxiety-like behavior, and hippocampal BDNF during morphine abstinence period in male rats.</a></strong><br>2020. Shahroodi A, Mohammadi F, Vafaei AA, Miladi-Gorji H, Bandegi AR, Rashidy-Pour A<br>[ID: 31773433]"
      ],
      "text/plain": [
       "<IPython.core.display.HTML object>"
      ]
     },
     "metadata": {},
     "output_type": "display_data"
    },
    {
     "data": {
      "text/html": [
       "<strong><a href=http://dx.doi.org/10.3390/ijerph16234721>Relationships between Physical Activity, Sedentary Behaviour and Cognitive Functions in Office Workers.</a></strong><br>2019. Bojsen-Møller E, Boraxbekk CJ, Ekblom Ö, Blom V, Ekblom MM<br>[ID: 31783476]"
      ],
      "text/plain": [
       "<IPython.core.display.HTML object>"
      ]
     },
     "metadata": {},
     "output_type": "display_data"
    },
    {
     "data": {
      "text/html": [
       "<strong><a href=http://dx.doi.org/10.1016/j.gpb.2019.09.003>How Big Data and High-performance Computing Drive Brain Science.</a></strong><br>2019. Chen S, He Z, Han X, He X, Li R, Zhu H, Zhao D, Dai C, Zhang Y, Lu Z, Chi X, Niu B<br>[ID: 31805369]"
      ],
      "text/plain": [
       "<IPython.core.display.HTML object>"
      ]
     },
     "metadata": {},
     "output_type": "display_data"
    },
    {
     "data": {
      "text/html": [
       "<strong><a href=http://dx.doi.org/10.1002/hbm.24899>Improved prediction of brain age using multimodal neuroimaging data.</a></strong><br>2020. Niu X, Zhang F, Kounios J, Liang H<br>[ID: 31837193]"
      ],
      "text/plain": [
       "<IPython.core.display.HTML object>"
      ]
     },
     "metadata": {},
     "output_type": "display_data"
    },
    {
     "data": {
      "text/html": [
       "<strong><a href=http://dx.doi.org/10.1016/j.bandc.2019.105509>Too late to be grounded? Motor resonance for action words acquired after middle childhood.</a></strong><br>2020. Kogan B, Muñoz E, Ibáñez A, García AM<br>[ID: 31855702]"
      ],
      "text/plain": [
       "<IPython.core.display.HTML object>"
      ]
     },
     "metadata": {},
     "output_type": "display_data"
    },
    {
     "data": {
      "text/html": [
       "<strong><a href=http://dx.doi.org/10.1016/j.nlm.2019.107141>Effects of circadian rhythm disorder on the hippocampus of SHR and WKY rats.</a></strong><br>2020. Wang Y, Zhang Y, Wang W, Liu X, Chi Y, Lei J, Zhang B, Zhang T<br>[ID: 31857218]"
      ],
      "text/plain": [
       "<IPython.core.display.HTML object>"
      ]
     },
     "metadata": {},
     "output_type": "display_data"
    },
    {
     "data": {
      "text/html": [
       "<strong><a href=http://dx.doi.org/10.7888/juoeh.41.375>Relationship Between Noise Annoyance and Cognitive Performance in Automotive Workers Exposed to Chronic Noise.</a></strong><br>2019. Alimohammadi I, Kanrash FA, Abolghasemi J, Vosoughi S, Rahmani K, Chalak MH<br>[ID: 31866655]"
      ],
      "text/plain": [
       "<IPython.core.display.HTML object>"
      ]
     },
     "metadata": {},
     "output_type": "display_data"
    },
    {
     "data": {
      "text/html": [
       "<strong><a href=http://dx.doi.org/10.3390/brainsci10010017>Understanding Social Cognition Using Virtual Reality: Are We still Nibbling around the Edges?</a></strong><br>2019. Calabrò RS, Naro A<br>[ID: 31905622]"
      ],
      "text/plain": [
       "<IPython.core.display.HTML object>"
      ]
     },
     "metadata": {},
     "output_type": "display_data"
    },
    {
     "data": {
      "text/html": [
       "<strong><a href=http://dx.doi.org/10.1007/s00422-019-00812-x>A computational model for spatial cognition combining dorsal and ventral hippocampal place field maps: multiscale navigation.</a></strong><br>2020. Scleidorovich P, Llofriu M, Fellous JM, Weitzenfeld A<br>[ID: 31915905]"
      ],
      "text/plain": [
       "<IPython.core.display.HTML object>"
      ]
     },
     "metadata": {},
     "output_type": "display_data"
    },
    {
     "data": {
      "text/html": [
       "<strong><a href=http://dx.doi.org/10.1007/s10071-020-01356-5>Animal cognition in the field: performance of wild vervet monkeys (Chlorocebus pygerythrus) on a reversal learning task.</a></strong><br>2020. Kumpan LT, Smeltzer EA, Teichroeb JA<br>[ID: 32026058]"
      ],
      "text/plain": [
       "<IPython.core.display.HTML object>"
      ]
     },
     "metadata": {},
     "output_type": "display_data"
    },
    {
     "data": {
      "text/html": [
       "<strong><a href=http://dx.doi.org/10.1177/0033294120905520>Effect of Peer Work Performance on the Focal Employee's Voice Taking: The Role of Trust and Self-Construal.</a></strong><br>2021. Zhang G, Chen S<br>[ID: 32089082]"
      ],
      "text/plain": [
       "<IPython.core.display.HTML object>"
      ]
     },
     "metadata": {},
     "output_type": "display_data"
    },
    {
     "data": {
      "text/html": [
       "<strong><a href=http://dx.doi.org/10.3389/fpsyg.2020.00059>A Multidimensional Perspective on Individual Differences in Multilingual Learners' L2 Chinese Speech Production.</a></strong><br>2020. Sun PP, Zhang LJ<br>[ID: 32140120]"
      ],
      "text/plain": [
       "<IPython.core.display.HTML object>"
      ]
     },
     "metadata": {},
     "output_type": "display_data"
    },
    {
     "data": {
      "text/html": [
       "<strong><a href=http://dx.doi.org/10.3758/s13415-020-00781-w>Neural bases of social feedback processing and self-other distinction in late childhood: The role of attachment and age.</a></strong><br>2020. Miller JG, Shrestha S, Reiss AL, Vrtička P<br>[ID: 32141028]"
      ],
      "text/plain": [
       "<IPython.core.display.HTML object>"
      ]
     },
     "metadata": {},
     "output_type": "display_data"
    },
    {
     "data": {
      "text/html": [
       "<strong><a href=http://dx.doi.org/10.1007/s10071-020-01367-2>Sex differences in cognitive performance and style across domains in mosquitofish (Gambusia affinis).</a></strong><br>2020. Wallace KJ, Rausch RT, Ramsey ME, Cummings ME<br>[ID: 32166514]"
      ],
      "text/plain": [
       "<IPython.core.display.HTML object>"
      ]
     },
     "metadata": {},
     "output_type": "display_data"
    },
    {
     "data": {
      "text/html": [
       "<strong><a href=http://dx.doi.org/10.1080/13825585.2020.1743230>Volunteering in older adulthood is associated with activity engagement and cognitive functioning.</a></strong><br>2021. Guiney H, Keall M, Machado L<br>[ID: 32223513]"
      ],
      "text/plain": [
       "<IPython.core.display.HTML object>"
      ]
     },
     "metadata": {},
     "output_type": "display_data"
    },
    {
     "data": {
      "text/html": [
       "<strong><a href=http://dx.doi.org/10.1080/13811118.2020.1746938>Neurocognitive Functioning in Adolescents at Risk for Suicidal Behaviors.</a></strong><br>2021. Ortuño-Sierra J, Aritio-Solana R, Del Casal ADG, Fonseca-Pedrero E<br>[ID: 32264769]"
      ],
      "text/plain": [
       "<IPython.core.display.HTML object>"
      ]
     },
     "metadata": {},
     "output_type": "display_data"
    },
    {
     "data": {
      "text/html": [
       "<strong><a href=http://dx.doi.org/10.1152/jn.00476.2019>Challenges to the central nervous system during human spaceflight missions to Mars.</a></strong><br>2020. Clément GR, Boyle RD, George KA, Nelson GA, Reschke MF, Williams TJ, Paloski WH<br>[ID: 32292116]"
      ],
      "text/plain": [
       "<IPython.core.display.HTML object>"
      ]
     },
     "metadata": {},
     "output_type": "display_data"
    },
    {
     "data": {
      "text/html": [
       "<strong><a href=http://dx.doi.org/10.1037/pha0000374>Baseline performance moderates stimulant effects on cognition in youth with ADHD.</a></strong><br>2021. Fosco WD, Rosch KS, Waxmonsky JG, Pelham WE, Hawk LW<br>[ID: 32297786]"
      ],
      "text/plain": [
       "<IPython.core.display.HTML object>"
      ]
     },
     "metadata": {},
     "output_type": "display_data"
    },
    {
     "data": {
      "text/html": [
       "<strong><a href=http://dx.doi.org/10.1037/pag0000468>Novel information processing at work across time is associated with cognitive change in later life: A 14-year longitudinal study.</a></strong><br>2020. Staudinger UM, Yu YL, Cheng B<br>[ID: 32309980]"
      ],
      "text/plain": [
       "<IPython.core.display.HTML object>"
      ]
     },
     "metadata": {},
     "output_type": "display_data"
    },
    {
     "data": {
      "text/html": [
       "<strong><a href=http://dx.doi.org/10.1038/s41562-020-0854-5>Investigating the effect of changing parameters when building prediction models for post-stroke aphasia.</a></strong><br>2020. Halai AD, Woollams AM, Lambon Ralph MA<br>[ID: 32313234]"
      ],
      "text/plain": [
       "<IPython.core.display.HTML object>"
      ]
     },
     "metadata": {},
     "output_type": "display_data"
    },
    {
     "data": {
      "text/html": [
       "<strong><a href=http://dx.doi.org/10.1523/ENEURO.0395-19.2020>ErbB4 Null Mice Display Altered Mesocorticolimbic and Nigrostriatal Dopamine Levels as well as Deficits in Cognitive and Motivational Behaviors.</a></strong><br>2020. Skirzewski M, Cronin ME, Murphy R, Fobbs W, Kravitz AV, Buonanno A<br>[ID: 32354758]"
      ],
      "text/plain": [
       "<IPython.core.display.HTML object>"
      ]
     },
     "metadata": {},
     "output_type": "display_data"
    },
    {
     "data": {
      "text/html": [
       "<strong><a href=http://dx.doi.org/10.1109/JTEHM.2020.2989768>Integrated Development Environment for EEG-Driven Cognitive-Neuropsychological Research.</a></strong><br>2020. Jacobsen S, Meiron O, Salomon DY, Kraizler N, Factor H, Jaul E, Tsur EE<br>[ID: 32431963]"
      ],
      "text/plain": [
       "<IPython.core.display.HTML object>"
      ]
     },
     "metadata": {},
     "output_type": "display_data"
    },
    {
     "data": {
      "text/html": [
       "<strong><a href=http://dx.doi.org/10.1007/s11126-020-09755-0>Cognitive Impairment Among Tunisian Bipolar Patients: a Case-Control Study.</a></strong><br>2021. Ben Ammar H, Hamdi G, Khelifa E, Khouadja S, Elhechmi Z<br>[ID: 32440813]"
      ],
      "text/plain": [
       "<IPython.core.display.HTML object>"
      ]
     },
     "metadata": {},
     "output_type": "display_data"
    },
    {
     "data": {
      "text/html": [
       "<strong><a href=http://dx.doi.org/10.3390/jpm10020043>Targeted Nutritional Intervention for Patients with Mild Cognitive Impairment: The Cognitive impAiRmEnt Study (CARES) Trial 1.</a></strong><br>2020. Power R, Nolan JM, Prado-Cabrero A, Coen R, Roche W, Power T, Howard AN, Mulcahy R<br>[ID: 32466168]"
      ],
      "text/plain": [
       "<IPython.core.display.HTML object>"
      ]
     },
     "metadata": {},
     "output_type": "display_data"
    },
    {
     "data": {
      "text/html": [
       "<strong><a href=http://dx.doi.org/10.1016/j.sleep.2020.03.029>Associations between pain, objective sleep efficiency and cognition in patients with implantable cardioverter defibrillators.</a></strong><br>2020. Curtis AF, Roth AJ, Sears SF, Conti JB, Berry RB, Dzierzewski JM, McCrae CS<br>[ID: 32615460]"
      ],
      "text/plain": [
       "<IPython.core.display.HTML object>"
      ]
     },
     "metadata": {},
     "output_type": "display_data"
    },
    {
     "data": {
      "text/html": [
       "<strong><a href=http://dx.doi.org/10.1016/j.biopsych.2020.05.010>Brain Mechanisms Supporting Flexible Cognition and Behavior in Adolescents With Autism Spectrum Disorder.</a></strong><br>2021. Uddin LQ<br>[ID: 32709415]"
      ],
      "text/plain": [
       "<IPython.core.display.HTML object>"
      ]
     },
     "metadata": {},
     "output_type": "display_data"
    },
    {
     "data": {
      "text/html": [
       "<strong><a href=http://dx.doi.org/10.1016/j.neuroimage.2020.117203>Predicting Alzheimer's disease progression using deep recurrent neural networks.</a></strong><br>2020. Nguyen M, He T, An L, Alexander DC, Feng J, Yeo BTT, Alzheimer's Disease Neuroimaging Initiative.<br>[ID: 32763427]"
      ],
      "text/plain": [
       "<IPython.core.display.HTML object>"
      ]
     },
     "metadata": {},
     "output_type": "display_data"
    },
    {
     "data": {
      "text/html": [
       "<strong><a href=http://dx.doi.org/10.1016/bs.pbr.2020.04.002>The effects of visual training on sports skill in volleyball players.</a></strong><br>2020. Zhou Y, Chen CT, Muggleton NG<br>[ID: 32771124]"
      ],
      "text/plain": [
       "<IPython.core.display.HTML object>"
      ]
     },
     "metadata": {},
     "output_type": "display_data"
    },
    {
     "data": {
      "text/html": [
       "<strong><a href=http://dx.doi.org/10.1016/j.intell.2019.101420>Differential associations between rumination and intelligence subtypes.</a></strong><br>2020. du Pont A, Karbin Z, Rhee SH, Corley RP, Hewitt JK, Friedman NP<br>[ID: 32863476]"
      ],
      "text/plain": [
       "<IPython.core.display.HTML object>"
      ]
     },
     "metadata": {},
     "output_type": "display_data"
    },
    {
     "data": {
      "text/html": [
       "<strong><a href=http://dx.doi.org/10.1038/s41598-020-71235-z>Auditory cognition and perception of action video game players.</a></strong><br>2020. Stewart HJ, Martinez JL, Perdew A, Green CS, Moore DR<br>[ID: 32873819]"
      ],
      "text/plain": [
       "<IPython.core.display.HTML object>"
      ]
     },
     "metadata": {},
     "output_type": "display_data"
    },
    {
     "data": {
      "text/html": [
       "<strong><a href=http://dx.doi.org/10.1093/eurpub/ckaa173>Examining gender differentials in the association of low control work with cognitive performance in older workers.</a></strong><br>2021. Ford KJ, Batty GD, Leist AK<br>[ID: 32929485]"
      ],
      "text/plain": [
       "<IPython.core.display.HTML object>"
      ]
     },
     "metadata": {},
     "output_type": "display_data"
    },
    {
     "data": {
      "text/html": [
       "<strong><a href=http://dx.doi.org/10.3233/JAD-200514>Cognitive Dispersion Is Not Associated with Cerebrospinal Fluid Biomarkers of Alzheimer's Disease: Results from the European Prevention of Alzheimer's Dementia (EPAD) v500.0 Cohort.</a></strong><br>2020. Watermeyer T, Marroig A, Ritchie CW, Ritchie K, Blennow K, Muniz-Terrera G, EPAD Consortium.<br>[ID: 32955462]"
      ],
      "text/plain": [
       "<IPython.core.display.HTML object>"
      ]
     },
     "metadata": {},
     "output_type": "display_data"
    },
    {
     "data": {
      "text/html": [
       "<strong><a href=http://dx.doi.org/10.3389/fpsyg.2020.02140>Meshed Architecture of Performance as a Model of Situated Cognition.</a></strong><br>2020. Gallagher S, Varga S<br>[ID: 32973637]"
      ],
      "text/plain": [
       "<IPython.core.display.HTML object>"
      ]
     },
     "metadata": {},
     "output_type": "display_data"
    },
    {
     "data": {
      "text/html": [
       "<strong><a href=http://dx.doi.org/10.1093/deafed/enaa030>A Positive Relationship Between Sign Language Comprehension and Mental Rotation Abilities.</a></strong><br>2021. Kubicek E, Quandt LC<br>[ID: 32978623]"
      ],
      "text/plain": [
       "<IPython.core.display.HTML object>"
      ]
     },
     "metadata": {},
     "output_type": "display_data"
    },
    {
     "data": {
      "text/html": [
       "<strong><a href=http://dx.doi.org/10.3389/fpsyg.2020.01835>Validity of Cognitive Tests for Non-human Animals: Pitfalls and Prospects.</a></strong><br>2020. Schubiger MN, Fichtel C, Burkart JM<br>[ID: 32982822]"
      ],
      "text/plain": [
       "<IPython.core.display.HTML object>"
      ]
     },
     "metadata": {},
     "output_type": "display_data"
    },
    {
     "data": {
      "text/html": [
       "<strong><a href=http://dx.doi.org/10.1007/s10459-020-09992-9>Does walking improve diagnosis of skin conditions at varying levels of medical expertise?</a></strong><br>2021. Kaminska ME, Rikers RMJP<br>[ID: 32986221]"
      ],
      "text/plain": [
       "<IPython.core.display.HTML object>"
      ]
     },
     "metadata": {},
     "output_type": "display_data"
    },
    {
     "data": {
      "text/html": [
       "<strong><a href=http://dx.doi.org/10.1667/RADE-20-00069.1>Initial Steps Towards a Clinical FLASH Radiotherapy System: Pediatric Whole Brain Irradiation with 40 MeV Electrons at FLASH Dose Rates.</a></strong><br>2020. Breitkreutz DY, Shumail M, Bush KK, Tantawi SG, Maxime PG, Loo BW<br>[ID: 32991725]"
      ],
      "text/plain": [
       "<IPython.core.display.HTML object>"
      ]
     },
     "metadata": {},
     "output_type": "display_data"
    },
    {
     "data": {
      "text/html": [
       "<strong><a href=http://dx.doi.org/10.1080/23328940.2019.1631730>Impact of passive heat stress on persons with spinal cord injury: Implications for Olympic spectators.</a></strong><br>2019. Trbovich MB, Handrakis JP, Kumar NS, Price MJ<br>[ID: 33015240]"
      ],
      "text/plain": [
       "<IPython.core.display.HTML object>"
      ]
     },
     "metadata": {},
     "output_type": "display_data"
    },
    {
     "data": {
      "text/html": [
       "<strong><a href=http://dx.doi.org/10.1080/17588928.2020.1813699>Structural variation within the left globus pallidus is associated with task-switching, not stimulus updating or distractor filtering.</a></strong><br>2020. Zacharopoulos G, Klingberg T, Cohen Kadosh R<br>[ID: 33040664]"
      ],
      "text/plain": [
       "<IPython.core.display.HTML object>"
      ]
     },
     "metadata": {},
     "output_type": "display_data"
    },
    {
     "data": {
      "text/html": [
       "<strong><a href=http://dx.doi.org/10.1111/jsr.13212>Optimising sleep and performance during night float: A systematic review of evidence and implications for graduate medical education trainees.</a></strong><br>2021. Sholtes D, Kravitz HM, Deka A, Westrick J, Fogg LF, Gottlieb M<br>[ID: 33058426]"
      ],
      "text/plain": [
       "<IPython.core.display.HTML object>"
      ]
     },
     "metadata": {},
     "output_type": "display_data"
    },
    {
     "data": {
      "text/html": [
       "<strong><a href=http://dx.doi.org/10.3389/fpsyg.2020.574097>Driving Into the Future.</a></strong><br>2020. Hancock PA<br>[ID: 33071910]"
      ],
      "text/plain": [
       "<IPython.core.display.HTML object>"
      ]
     },
     "metadata": {},
     "output_type": "display_data"
    },
    {
     "data": {
      "text/html": [
       "<strong><a href=http://dx.doi.org/10.3389/fnhum.2020.00346>Brain Network Modularity Predicts Improvements in Cognitive and Scholastic Performance in Children Involved in a Physical Activity Intervention.</a></strong><br>2020. Chaddock-Heyman L, Weng TB, Kienzler C, Weisshappel R, Drollette ES, Raine LB, Westfall DR, Kao SC, Baniqued P, Castelli DM, Hillman CH, Kramer AF<br>[ID: 33100988]"
      ],
      "text/plain": [
       "<IPython.core.display.HTML object>"
      ]
     },
     "metadata": {},
     "output_type": "display_data"
    },
    {
     "data": {
      "text/html": [
       "<strong><a href=http://dx.doi.org/10.1177/1073191120952888>Capturing Fluctuations in Gendered Cognition With Novel Intensive Longitudinal Measures.</a></strong><br>2021. Kelly DP, Beltz AM<br>[ID: 33106024]"
      ],
      "text/plain": [
       "<IPython.core.display.HTML object>"
      ]
     },
     "metadata": {},
     "output_type": "display_data"
    },
    {
     "data": {
      "text/html": [
       "<strong><a href=http://dx.doi.org/10.1093/icb/icaa113>Integrative Comparative Cognition: Can Neurobiology and Neurogenomics Inform Comparative Analyses of Cognitive Phenotype?</a></strong><br>2020. Burmeister SS, Liu Y<br>[ID: 33141899]"
      ],
      "text/plain": [
       "<IPython.core.display.HTML object>"
      ]
     },
     "metadata": {},
     "output_type": "display_data"
    },
    {
     "data": {
      "text/html": [
       "<strong><a href=http://dx.doi.org/10.3389/fpsyg.2020.534741>Evidence of an Effect of Gaming Experience on Visuospatial Attention in Deaf but Not in Hearing Individuals.</a></strong><br>2020. Holmer E, Rudner M, Schönström K, Andin J<br>[ID: 33192776]"
      ],
      "text/plain": [
       "<IPython.core.display.HTML object>"
      ]
     },
     "metadata": {},
     "output_type": "display_data"
    },
    {
     "data": {
      "text/html": [
       "<strong><a href=http://dx.doi.org/10.3390/brainsci10110859>Converging Evidence Supporting the Cognitive Link between Exercise and Esport Performance: A Dual Systematic Review.</a></strong><br>2020. Toth AJ, Ramsbottom N, Kowal M, Campbell MJ<br>[ID: 33203067]"
      ],
      "text/plain": [
       "<IPython.core.display.HTML object>"
      ]
     },
     "metadata": {},
     "output_type": "display_data"
    },
    {
     "data": {
      "text/html": [
       "<strong><a href=http://dx.doi.org/10.1016/j.pbb.2020.173074>Acute ethanol administration produces larger spatial and nonspatial memory impairments in 29-33 month old rats compared to adult and 18-24 month old rats.</a></strong><br>2020. Matthews DB, Scaletty S, Schreiber A, Trapp S<br>[ID: 33212145]"
      ],
      "text/plain": [
       "<IPython.core.display.HTML object>"
      ]
     },
     "metadata": {},
     "output_type": "display_data"
    },
    {
     "data": {
      "text/html": [
       "<strong><a href=http://dx.doi.org/10.1016/j.addbeh.2020.106731>The impact of emotional face stimuli on working memory performance among men and women with alcohol use disorder.</a></strong><br>2021. Lewis B, Price JL, Garcia CC, Ebner NC, Nixon SJ<br>[ID: 33218841]"
      ],
      "text/plain": [
       "<IPython.core.display.HTML object>"
      ]
     },
     "metadata": {},
     "output_type": "display_data"
    },
    {
     "data": {
      "text/html": [
       "<strong><a href=http://dx.doi.org/10.1016/j.cortex.2020.08.023>Social cognition impairment in genetic frontotemporal dementia within the GENFI cohort.</a></strong><br>2020. Russell LL, Greaves CV, Bocchetta M, Nicholas J, Convery RS, Moore K, Cash DM, van Swieten J, Jiskoot L, Moreno F, Sanchez-Valle R, Borroni B, Laforce R Jr, Masellis M, Tartaglia MC, Graff C, Rotondo E, Galimberti D, Rowe JB, Finger E, ...<br>[ID: 33221702]"
      ],
      "text/plain": [
       "<IPython.core.display.HTML object>"
      ]
     },
     "metadata": {},
     "output_type": "display_data"
    },
    {
     "data": {
      "text/html": [
       "<strong><a href=http://dx.doi.org/10.1038/s41598-020-77220-w>A comparison of machine learning methods for survival analysis of high-dimensional clinical data for dementia prediction.</a></strong><br>2020. Spooner A, Chen E, Sowmya A, Sachdev P, Kochan NA, Trollor J, Brodaty H<br>[ID: 33230128]"
      ],
      "text/plain": [
       "<IPython.core.display.HTML object>"
      ]
     },
     "metadata": {},
     "output_type": "display_data"
    },
    {
     "data": {
      "text/html": [
       "<strong><a href=http://dx.doi.org/10.1037/pspp0000375>Jumping to conclusions: Implications for reasoning errors, false belief, knowledge corruption, and impeded learning.</a></strong><br>2021. Sanchez C, Dunning D<br>[ID: 33252973]"
      ],
      "text/plain": [
       "<IPython.core.display.HTML object>"
      ]
     },
     "metadata": {},
     "output_type": "display_data"
    },
    {
     "data": {
      "text/html": [
       "<strong><a href=http://dx.doi.org/10.1177/1747021820982602>Encoding and referent event influence on retrospective memory.</a></strong><br>2021. O'Rear AE, Radvansky GA<br>[ID: 33295234]"
      ],
      "text/plain": [
       "<IPython.core.display.HTML object>"
      ]
     },
     "metadata": {},
     "output_type": "display_data"
    },
    {
     "data": {
      "text/html": [
       "<strong><a href=http://dx.doi.org/10.4018/jgcms.2013070105>How Interventions Might Improve Cognition in Healthy Older Adults.</a></strong><br>2013. Zelinski EM<br>[ID: 33329761]"
      ],
      "text/plain": [
       "<IPython.core.display.HTML object>"
      ]
     },
     "metadata": {},
     "output_type": "display_data"
    },
    {
     "data": {
      "text/html": [
       "<strong><a href=http://dx.doi.org/10.3389/fpsyg.2020.576751>Method Development for Multimodal Data Corpus Analysis of Expressive Instrumental Music Performance.</a></strong><br>2020. Visi FG, Östersjö S, Ek R, Röijezon U<br>[ID: 33343452]"
      ],
      "text/plain": [
       "<IPython.core.display.HTML object>"
      ]
     },
     "metadata": {},
     "output_type": "display_data"
    },
    {
     "data": {
      "text/html": [
       "<strong><a href=http://dx.doi.org/10.1016/j.physbeh.2020.113296>Effects of workload on human cognitive performance of exposure to extremely cold environment.</a></strong><br>2021. Yang L, Wu J, Hu Z, Gao F, Hu X<br>[ID: 33352146]"
      ],
      "text/plain": [
       "<IPython.core.display.HTML object>"
      ]
     },
     "metadata": {},
     "output_type": "display_data"
    },
    {
     "data": {
      "text/html": [
       "<strong><a href=http://dx.doi.org/10.1007/s11682-020-00419-y>Neural correlates of working memory's suppression of aversive olfactory distraction effects.</a></strong><br>2021. Weigard A, Wilson SJ, Shapiro Z, Galloway-Long H, Huang-Pollock C<br>[ID: 33405095]"
      ],
      "text/plain": [
       "<IPython.core.display.HTML object>"
      ]
     },
     "metadata": {},
     "output_type": "display_data"
    },
    {
     "data": {
      "text/html": [
       "<strong><a href=http://dx.doi.org/10.1177/1747021820986353>The efficiency of visual search for a frequently changed target is preserved in older adults.</a></strong><br>2021. Yabuki H, Goodhew SC<br>[ID: 33427081]"
      ],
      "text/plain": [
       "<IPython.core.display.HTML object>"
      ]
     },
     "metadata": {},
     "output_type": "display_data"
    },
    {
     "data": {
      "text/html": [
       "<strong><a href=http://dx.doi.org/10.3389/frobt.2020.00015>Child-Robot Collaborative Problem-Solving and the Importance of Child's Voluntary Interaction: A Developmental Perspective.</a></strong><br>2020. Charisi V, Gomez E, Mier G, Merino L, Gomez R<br>[ID: 33501184]"
      ],
      "text/plain": [
       "<IPython.core.display.HTML object>"
      ]
     },
     "metadata": {},
     "output_type": "display_data"
    },
    {
     "data": {
      "text/html": [
       "<strong><a href=http://dx.doi.org/10.1155/2021/8852087>Social Cognition in Patients with Early-Onset Parkinson's Disease.</a></strong><br>2021. Seubert-Ravelo AN, Yáñez-Téllez MG, Lazo-Barriga ML, Calderón Vallejo A, Martínez-Cortés CE, Hernández-Galván A<br>[ID: 33505651]"
      ],
      "text/plain": [
       "<IPython.core.display.HTML object>"
      ]
     },
     "metadata": {},
     "output_type": "display_data"
    },
    {
     "data": {
      "text/html": [
       "<strong><a href=http://dx.doi.org/10.3389/fpsyg.2020.599429>Interoception and Empathy Impact Perspective Taking.</a></strong><br>2020. Heydrich L, Walker F, Blättler L, Herbelin B, Blanke O, Aspell JE<br>[ID: 33536971]"
      ],
      "text/plain": [
       "<IPython.core.display.HTML object>"
      ]
     },
     "metadata": {},
     "output_type": "display_data"
    },
    {
     "data": {
      "text/html": [
       "<strong><a href=http://dx.doi.org/10.1007/s12311-021-01235-w>The Polarity-Specific Nature of Single-Session High-definition Transcranial Direct Current Stimulation to the Cerebellum and Prefrontal Cortex on Motor and Non-motor Task Performance.</a></strong><br>2021. Maldonado T, Bernard JA<br>[ID: 33544371]"
      ],
      "text/plain": [
       "<IPython.core.display.HTML object>"
      ]
     },
     "metadata": {},
     "output_type": "display_data"
    },
    {
     "data": {
      "text/html": [
       "<strong><a href=http://dx.doi.org/10.1016/j.neuropharm.2021.108489>Aged rhesus monkeys: Cognitive performance categorizations and preclinical drug testing.</a></strong><br>2021. Plagenhoef MR, Callahan PM, Beck WD, Blake DT, Terry AV Jr<br>[ID: 33561449]"
      ],
      "text/plain": [
       "<IPython.core.display.HTML object>"
      ]
     },
     "metadata": {},
     "output_type": "display_data"
    },
    {
     "data": {
      "text/html": [
       "<strong><a href=http://dx.doi.org/10.1007/s10071-021-01485-5>Macaque species with varying social tolerance show no differences in understanding what other agents perceive.</a></strong><br>2021. Arre AM, Stumph E, Santos LR<br>[ID: 33590410]"
      ],
      "text/plain": [
       "<IPython.core.display.HTML object>"
      ]
     },
     "metadata": {},
     "output_type": "display_data"
    },
    {
     "data": {
      "text/html": [
       "<strong><a href=http://dx.doi.org/10.3389/fnhum.2020.578119>Directly Exploring the Neural Correlates of Feedback-Related Reward Saliency and Valence During Real-Time fMRI-Based Neurofeedback.</a></strong><br>2020. Direito B, Ramos M, Pereira J, Sayal A, Sousa T, Castelo-Branco M<br>[ID: 33613202]"
      ],
      "text/plain": [
       "<IPython.core.display.HTML object>"
      ]
     },
     "metadata": {},
     "output_type": "display_data"
    },
    {
     "data": {
      "text/html": [
       "<strong><a href=http://dx.doi.org/10.1037/apl0000854>Ethical conflict: Conceptualization, measurement, and an examination of consequences.</a></strong><br>2022. Brown ME, Vogel RM, Akben M<br>[ID: 33630619]"
      ],
      "text/plain": [
       "<IPython.core.display.HTML object>"
      ]
     },
     "metadata": {},
     "output_type": "display_data"
    },
    {
     "data": {
      "text/html": [
       "<strong><a href=http://dx.doi.org/10.1093/cercor/bhab001>A Structure-Function Substrate of Memory for Spatial Configurations in Medial and Lateral Temporal Cortices.</a></strong><br>2021. Tavakol S, Li Q, Royer J, Vos de Wael R, Larivière S, Lowe A, Paquola C, Jefferies E, Hartley T, Bernasconi A, Bernasconi N, Smallwood J, Bohbot V, Caciagli L, Bernhardt B<br>[ID: 33667310]"
      ],
      "text/plain": [
       "<IPython.core.display.HTML object>"
      ]
     },
     "metadata": {},
     "output_type": "display_data"
    },
    {
     "data": {
      "text/html": [
       "<strong><a href=http://dx.doi.org/10.1007/s10071-021-01491-7>Is cognition the secret to working dog success?</a></strong><br>2021. Hare B, Ferrans M<br>[ID: 33687597]"
      ],
      "text/plain": [
       "<IPython.core.display.HTML object>"
      ]
     },
     "metadata": {},
     "output_type": "display_data"
    },
    {
     "data": {
      "text/html": [
       "<strong><a href=http://dx.doi.org/10.1007/s10071-021-01498-0>Equal performance but distinct behaviors: sex differences in a novel object recognition task and spatial maze in a highly social cichlid fish.</a></strong><br>2021. Wallace KJ, Hofmann HA<br>[ID: 33718996]"
      ],
      "text/plain": [
       "<IPython.core.display.HTML object>"
      ]
     },
     "metadata": {},
     "output_type": "display_data"
    },
    {
     "data": {
      "text/html": [
       "<strong><a href=http://dx.doi.org/10.1016/j.biopsycho.2021.108072>The relationship between testosterone and social cognition in younger and older adults.</a></strong><br>2021. Grainger SA, Mead JK, Vanman EJ, Henry JD<br>[ID: 33722565]"
      ],
      "text/plain": [
       "<IPython.core.display.HTML object>"
      ]
     },
     "metadata": {},
     "output_type": "display_data"
    },
    {
     "data": {
      "text/html": [
       "<strong><a href=http://dx.doi.org/10.3389/fpsyg.2021.553015>Analysis of Communication, Team Situational Awareness, and Feedback in a Three-Person Intelligent Team Tutoring System.</a></strong><br>2021. Ouverson KM, Ostrander AG, Walton J, Kohl A, Gilbert SB, Dorneich MC, Winer E, Sinatra AM<br>[ID: 33732174]"
      ],
      "text/plain": [
       "<IPython.core.display.HTML object>"
      ]
     },
     "metadata": {},
     "output_type": "display_data"
    },
    {
     "data": {
      "text/html": [
       "<strong><a href=http://dx.doi.org/10.1093/brain/awab092>To what degree is late life cognitive decline driven by age-related neuropathologies?</a></strong><br>2021. Boyle PA, Wang T, Yu L, Wilson RS, Dawe R, Arfanakis K, Schneider JA, Bennett DA<br>[ID: 33742668]"
      ],
      "text/plain": [
       "<IPython.core.display.HTML object>"
      ]
     },
     "metadata": {},
     "output_type": "display_data"
    },
    {
     "data": {
      "text/html": [
       "<strong><a href=http://dx.doi.org/10.1109/TVCG.2021.3067693>Exploring the SenseMaking Process through Interactions and fNIRS in Immersive Visualization.</a></strong><br>2021. Galati A, Schoppa R, Lu A<br>[ID: 33750695]"
      ],
      "text/plain": [
       "<IPython.core.display.HTML object>"
      ]
     },
     "metadata": {},
     "output_type": "display_data"
    },
    {
     "data": {
      "text/html": [
       "<strong><a href=http://dx.doi.org/10.1037/pag0000584>Complexity of work with people: Associations with cognitive functioning and change after retirement.</a></strong><br>2021. Vélez-Coto M, Andel R, Pérez-García M, Caracuel A<br>[ID: 33764095]"
      ],
      "text/plain": [
       "<IPython.core.display.HTML object>"
      ]
     },
     "metadata": {},
     "output_type": "display_data"
    },
    {
     "data": {
      "text/html": [
       "<strong><a href=http://dx.doi.org/10.3389/fpsyg.2021.620867>Activity Engagement and Cognitive Performance Amongst Older Adults.</a></strong><br>2021. Weaver AN, Jaeggi SM<br>[ID: 33776844]"
      ],
      "text/plain": [
       "<IPython.core.display.HTML object>"
      ]
     },
     "metadata": {},
     "output_type": "display_data"
    },
    {
     "data": {
      "text/html": [
       "<strong><a href=http://dx.doi.org/10.1016/j.cognition.2021.104676>The hunt for structure-dependent interpretation: The case of Principle C.</a></strong><br>2021. Lidz J, Lukyanenko C, Sutton M<br>[ID: 33812653]"
      ],
      "text/plain": [
       "<IPython.core.display.HTML object>"
      ]
     },
     "metadata": {},
     "output_type": "display_data"
    },
    {
     "data": {
      "text/html": [
       "<strong><a href=http://dx.doi.org/10.1016/j.brainres.2021.147495>Increased volumes of lobule VI in a valproic acid model of autism are associated with worse set-shifting performance in male Long-Evan rats.</a></strong><br>2021. Payne M, Mali I, McKinnell ZE, Vangsness L, Shrestha TB, Bossmann SH, Plakke B<br>[ID: 33894224]"
      ],
      "text/plain": [
       "<IPython.core.display.HTML object>"
      ]
     },
     "metadata": {},
     "output_type": "display_data"
    },
    {
     "data": {
      "text/html": [
       "<strong><a href=http://dx.doi.org/10.1093/brain/awab007>A robust brain signature region approach for episodic memory performance in older adults.</a></strong><br>2021. Fletcher E, Gavett B, Crane P, Soldan A, Hohman T, Farias S, Widaman K, Groot C, Renteria MA, Zahodne L, DeCarli C, Mungas D, Alzheimer's Disease Neuroimaging Initiative.<br>[ID: 33895818]"
      ],
      "text/plain": [
       "<IPython.core.display.HTML object>"
      ]
     },
     "metadata": {},
     "output_type": "display_data"
    },
    {
     "data": {
      "text/html": [
       "<strong><a href=http://dx.doi.org/10.3389/fnagi.2021.645258>Exercise Training-Related Changes in Cortical Gray Matter Diffusivity and Cognitive Function in Mild Cognitive Impairment and Healthy Older Adults.</a></strong><br>2021. Callow DD, Won J, Pena GS, Jordan LS, Arnold-Nedimala NA, Kommula Y, Nielson KA, Smith JC<br>[ID: 33897407]"
      ],
      "text/plain": [
       "<IPython.core.display.HTML object>"
      ]
     },
     "metadata": {},
     "output_type": "display_data"
    },
    {
     "data": {
      "text/html": [
       "<strong><a href=http://dx.doi.org/10.3390/brainsci11050552>Mindfulness and Other Simple Neuroscience-Based Proposals to Promote the Learning Performance and Mental Health of Students during the COVID-19 Pandemic.</a></strong><br>2021. Tortella GR, Seabra AB, Padrão J, Díaz-San Juan R<br>[ID: 33925627]"
      ],
      "text/plain": [
       "<IPython.core.display.HTML object>"
      ]
     },
     "metadata": {},
     "output_type": "display_data"
    },
    {
     "data": {
      "text/html": [
       "<strong><a href=http://dx.doi.org/10.1097/QAD.0000000000002927>Predicting occupational outcomes from neuropsychological test performance in older people with HIV.</a></strong><br>2021. Brouillette MJ, Koski L, Forcellino L, Gasparri J, Brew BJ, Fellows LK, Mayo NE, Cysique LA<br>[ID: 33927088]"
      ],
      "text/plain": [
       "<IPython.core.display.HTML object>"
      ]
     },
     "metadata": {},
     "output_type": "display_data"
    },
    {
     "data": {
      "text/html": [
       "<strong><a href=http://dx.doi.org/10.3389/fneur.2021.658823>Social Cognition in Neurodevelopmental Disorders and Epilepsy.</a></strong><br>2021. Pastorino GMG, Operto FF, Padovano C, Vivenzio V, Scuoppo C, Pastorino N, Roccella M, Vetri L, Carotenuto M, Coppola G<br>[ID: 33935956]"
      ],
      "text/plain": [
       "<IPython.core.display.HTML object>"
      ]
     },
     "metadata": {},
     "output_type": "display_data"
    },
    {
     "data": {
      "text/html": [
       "<strong><a href=http://dx.doi.org/10.1111/jsr.13359>Subjective cognitive abilities correlate with poor sleep among day-shift and night-shift nurses.</a></strong><br>2021. Veal BM, Mu CX, Small BJ, Lee S<br>[ID: 33987895]"
      ],
      "text/plain": [
       "<IPython.core.display.HTML object>"
      ]
     },
     "metadata": {},
     "output_type": "display_data"
    },
    {
     "data": {
      "text/html": [
       "<strong><a href=http://dx.doi.org/10.1098/rsos.201940>Brain size predicts learning abilities in bees.</a></strong><br>2021. Collado MÁ, Montaner CM, Molina FP, Sol D, Bartomeus I<br>[ID: 34017597]"
      ],
      "text/plain": [
       "<IPython.core.display.HTML object>"
      ]
     },
     "metadata": {},
     "output_type": "display_data"
    },
    {
     "data": {
      "text/html": [
       "<strong><a href=http://dx.doi.org/10.1016/j.exger.2021.111431>The influence of a 16-week exercise program, APOE status, and age on executive function task performance: A randomized trial.</a></strong><br>2021. Martin-Willett R, Morris B, Wilcox R, Giordano G, Andrews-Hanna J, Banich M, Bryan AB<br>[ID: 34062261]"
      ],
      "text/plain": [
       "<IPython.core.display.HTML object>"
      ]
     },
     "metadata": {},
     "output_type": "display_data"
    },
    {
     "data": {
      "text/html": [
       "<strong><a href=http://dx.doi.org/10.1016/j.psyneuen.2021.105285>Examining the role of ovarian hormones in the association between worry and working memory across the menstrual cycle.</a></strong><br>2021. Gloe LM, Kashy DA, Jacobs EG, Klump KL, Moser JS<br>[ID: 34090137]"
      ],
      "text/plain": [
       "<IPython.core.display.HTML object>"
      ]
     },
     "metadata": {},
     "output_type": "display_data"
    },
    {
     "data": {
      "text/html": [
       "<strong><a href=http://dx.doi.org/10.3389/fnins.2021.650430>Spatio-Temporal Sequential Memory Model With Mini-Column Neural Network.</a></strong><br>2021. Lan Y, Wang X, Wang Y<br>[ID: 34121986]"
      ],
      "text/plain": [
       "<IPython.core.display.HTML object>"
      ]
     },
     "metadata": {},
     "output_type": "display_data"
    },
    {
     "data": {
      "text/html": [
       "<strong><a href=http://dx.doi.org/10.1080/13811118.2021.1939209>Theory of Mind and Suicidality: A Meta-Analysis.</a></strong><br>2021. Nestor BA, Sutherland S<br>[ID: 34157246]"
      ],
      "text/plain": [
       "<IPython.core.display.HTML object>"
      ]
     },
     "metadata": {},
     "output_type": "display_data"
    },
    {
     "data": {
      "text/html": [
       "<strong><a href=http://dx.doi.org/10.1038/s41598-021-92438-y>The effects of dynamic daylight-like light on the rhythm, cognition, and mood of irregular shift workers in closed environment.</a></strong><br>2021. Nie J, Zhou T, Chen Z, Dang W, Jiao F, Zhan J, Chen Y, Chen Y, Pan Z, Kang X, Wang Y, Wang Q, Tang Y, Dong W, Zhou S, Ma Y, Yu X, Zhang G, Shen B<br>[ID: 34158564]"
      ],
      "text/plain": [
       "<IPython.core.display.HTML object>"
      ]
     },
     "metadata": {},
     "output_type": "display_data"
    },
    {
     "data": {
      "text/html": [
       "<strong><a href=http://dx.doi.org/10.1080/13546805.2021.1946386>Does comprehensive cognitive remediation improve emotion perception?</a></strong><br>2021. Wright AC, McGurk SR, Shaya Y, Feldman K, Mueser KT<br>[ID: 34180363]"
      ],
      "text/plain": [
       "<IPython.core.display.HTML object>"
      ]
     },
     "metadata": {},
     "output_type": "display_data"
    },
    {
     "data": {
      "text/html": [
       "<strong><a href=http://dx.doi.org/10.1016/j.neuroimage.2021.118324>The cortical organization of listening effort: New insight from functional near-infrared spectroscopy.</a></strong><br>2021. White BE, Langdon C<br>[ID: 34217787]"
      ],
      "text/plain": [
       "<IPython.core.display.HTML object>"
      ]
     },
     "metadata": {},
     "output_type": "display_data"
    },
    {
     "data": {
      "text/html": [
       "<strong><a href=http://dx.doi.org/10.1123/jab.2020-0388>Evaluating the Spectrum of Cognitive-Motor Relationships During Dual-Task Jump Landing.</a></strong><br>2021. Fischer PD, Hutchison KA, Becker JN, Monfort SM<br>[ID: 34271547]"
      ],
      "text/plain": [
       "<IPython.core.display.HTML object>"
      ]
     },
     "metadata": {},
     "output_type": "display_data"
    },
    {
     "data": {
      "text/html": [
       "<strong><a href=http://dx.doi.org/10.3389/fnagi.2021.657308>Compromised Brain Activity With Age During a Game-Like Dynamic Balance Task: Single- vs. Dual-Task Performance.</a></strong><br>2021. de Rond V, Orcioli-Silva D, Dijkstra BW, Orban de Xivry JJ, Pantall A, Nieuwboer A<br>[ID: 34290599]"
      ],
      "text/plain": [
       "<IPython.core.display.HTML object>"
      ]
     },
     "metadata": {},
     "output_type": "display_data"
    },
    {
     "data": {
      "text/html": [
       "<strong><a href=http://dx.doi.org/10.3389/fspor.2021.685286>Playing <i>Minecraft</i> Improves Hippocampal-Associated Memory for Details in Middle Aged Adults.</a></strong><br>2021. Stark CEL, Clemenson GD, Aluru U, Hatamian N, Stark SM<br>[ID: 34291204]"
      ],
      "text/plain": [
       "<IPython.core.display.HTML object>"
      ]
     },
     "metadata": {},
     "output_type": "display_data"
    },
    {
     "data": {
      "text/html": [
       "<strong><a href=http://dx.doi.org/10.1016/j.nicl.2021.102768>ARTS: A novel In-vivo classifier of arteriolosclerosis for the older adult brain.</a></strong><br>2021. Makkinejad N, Evia AM, Tamhane AA, Javierre-Petit C, Leurgans SE, Lamar M, Barnes LL, Alzheimer's Disease Neuroimaging Initiative., Bennett DA, Schneider JA, Arfanakis K<br>[ID: 34330087]"
      ],
      "text/plain": [
       "<IPython.core.display.HTML object>"
      ]
     },
     "metadata": {},
     "output_type": "display_data"
    },
    {
     "data": {
      "text/html": [
       "<strong><a href=http://dx.doi.org/10.3389/fneur.2021.644533>Arm Ergometry to Improve Mobility in Progressive Multiple Sclerosis (AMBOS)-Results of a Pilot Randomized Controlled Trial.</a></strong><br>2021. Heinrich I, Rosenthal F, Patra S, Schulz KH, Welsch GH, Vettorazzi E, Rosenkranz SC, Stellmann JP, Ramien C, Pöttgen J, Gold SM, Heesen C<br>[ID: 34349716]"
      ],
      "text/plain": [
       "<IPython.core.display.HTML object>"
      ]
     },
     "metadata": {},
     "output_type": "display_data"
    },
    {
     "data": {
      "text/html": [
       "<strong><a href=http://dx.doi.org/10.1038/s41598-021-96177-y>Quantifying changes over 1 year in motor and cognitive skill after transient ischemic attack (TIA) using robotics.</a></strong><br>2021. Simmatis LER, Scott SH, Jin AY<br>[ID: 34426586]"
      ],
      "text/plain": [
       "<IPython.core.display.HTML object>"
      ]
     },
     "metadata": {},
     "output_type": "display_data"
    },
    {
     "data": {
      "text/html": [
       "<strong><a href=http://dx.doi.org/10.3390/brainsci11081006>Emotion-Attention Interaction in the Right Hemisphere.</a></strong><br>2021. Hartikainen KM<br>[ID: 34439624]"
      ],
      "text/plain": [
       "<IPython.core.display.HTML object>"
      ]
     },
     "metadata": {},
     "output_type": "display_data"
    },
    {
     "data": {
      "text/html": [
       "<strong><a href=http://dx.doi.org/10.1080/00140139.2021.1968041>A review of the effects of head-worn displays on teamwork for emergency response.</a></strong><br>2022. Davidson TJ, Sanderson PM<br>[ID: 34445922]"
      ],
      "text/plain": [
       "<IPython.core.display.HTML object>"
      ]
     },
     "metadata": {},
     "output_type": "display_data"
    },
    {
     "data": {
      "text/html": [
       "<strong><a href=http://dx.doi.org/10.1007/s40670-020-00944-x>Collaborative Testing in Medical Education: Student Perceptions and Long-Term Knowledge Retention.</a></strong><br>2020. Eastwood JL, Kleinberg KA, Rodenbaugh DW<br>[ID: 34457732]"
      ],
      "text/plain": [
       "<IPython.core.display.HTML object>"
      ]
     },
     "metadata": {},
     "output_type": "display_data"
    },
    {
     "data": {
      "text/html": [
       "<strong><a href=http://dx.doi.org/10.1016/j.gaitpost.2021.08.013>Role of age and sex on dual tasking using a treadmill desk while performing cognitive tests.</a></strong><br>2021. Marshall MR, Duckworth SC, Currie MR, Schmid D, Rogers RR<br>[ID: 34481265]"
      ],
      "text/plain": [
       "<IPython.core.display.HTML object>"
      ]
     },
     "metadata": {},
     "output_type": "display_data"
    },
    {
     "data": {
      "text/html": [
       "<strong><a href=http://dx.doi.org/10.1016/j.infbeh.2021.101642>How 9-month-old crawling infants profit from visual-manual rotations in a mental rotation task.</a></strong><br>2021. Kelch A, Schwarzer G, Gehb G, Jovanovic B<br>[ID: 34509099]"
      ],
      "text/plain": [
       "<IPython.core.display.HTML object>"
      ]
     },
     "metadata": {},
     "output_type": "display_data"
    },
    {
     "data": {
      "text/html": [
       "<strong><a href=http://dx.doi.org/10.3389/fnbeh.2021.721069>A Kiosk Station for the Assessment of Multiple Cognitive Domains and Cognitive Enrichment of Monkeys.</a></strong><br>2021. Womelsdorf T, Thomas C, Neumann A, Watson MR, Banaie Boroujeni K, Hassani SA, Parker J, Hoffman KL<br>[ID: 34512289]"
      ],
      "text/plain": [
       "<IPython.core.display.HTML object>"
      ]
     },
     "metadata": {},
     "output_type": "display_data"
    },
    {
     "data": {
      "text/html": [
       "<strong><a href=http://dx.doi.org/10.1038/s41562-021-01194-6>Capturing the objects of vision with neural networks.</a></strong><br>2021. Peters B, Kriegeskorte N<br>[ID: 34545237]"
      ],
      "text/plain": [
       "<IPython.core.display.HTML object>"
      ]
     },
     "metadata": {},
     "output_type": "display_data"
    },
    {
     "data": {
      "text/html": [
       "<strong><a href=http://dx.doi.org/10.1080/09297049.2021.1979950>[Formula: see text]Unity or diversity of executive functioning in children and adolescents with post-traumatic stress symptoms? A systematic review and meta-analysis.</a></strong><br>2022. Nyvold O, Nygaard E, Augusti EM, Tamnes CK<br>[ID: 34553675]"
      ],
      "text/plain": [
       "<IPython.core.display.HTML object>"
      ]
     },
     "metadata": {},
     "output_type": "display_data"
    },
    {
     "data": {
      "text/html": [
       "<strong><a href=http://dx.doi.org/10.1016/j.bbih.2020.100075>Sex differences in offspring neurodevelopment, cognitive performance and microglia morphology associated with maternal diabetes: Putative targets for insulin therapy.</a></strong><br>2020. Sousa FJ, Correia RG, Cruz AF, Martins JM, Rodrigues MS, Gomes CA, Ambrósio AF, Baptista FI<br>[ID: 34589855]"
      ],
      "text/plain": [
       "<IPython.core.display.HTML object>"
      ]
     },
     "metadata": {},
     "output_type": "display_data"
    },
    {
     "data": {
      "text/html": [
       "<strong><a href=http://dx.doi.org/10.1111/tops.12571>Symbolic Deep Networks: A Psychologically Inspired Lightweight and Efficient Approach to Deep Learning.</a></strong><br>2021. Veksler VD, Hoffman BE, Buchler N<br>[ID: 34609080]"
      ],
      "text/plain": [
       "<IPython.core.display.HTML object>"
      ]
     },
     "metadata": {},
     "output_type": "display_data"
    },
    {
     "data": {
      "text/html": [
       "<strong><a href=http://dx.doi.org/10.1109/TVCG.2021.3114805>Professional Differences: A Comparative Study of Visualization Task Performance and Spatial Ability Across Disciplines.</a></strong><br>2022. Hall KW, Kouroupis A, Bezerianos A, Szafir DA, Collins C<br>[ID: 34648448]"
      ],
      "text/plain": [
       "<IPython.core.display.HTML object>"
      ]
     },
     "metadata": {},
     "output_type": "display_data"
    },
    {
     "data": {
      "text/html": [
       "<strong><a href=http://dx.doi.org/10.3758/s13415-021-00955-0>Activation of the default network during a theory of mind task predicts individual differences in agreeableness and social cognitive ability.</a></strong><br>2022. Udochi AL, Blain SD, Sassenberg TA, Burton PC, Medrano L, DeYoung CG<br>[ID: 34668171]"
      ],
      "text/plain": [
       "<IPython.core.display.HTML object>"
      ]
     },
     "metadata": {},
     "output_type": "display_data"
    },
    {
     "data": {
      "text/html": [
       "<strong><a href=http://dx.doi.org/10.3389/fpsyg.2021.718742>No Evidence of Robust Noun-Referent Associations in German-Learning 6- to 14-Month-Olds.</a></strong><br>2021. Steil JN, Friedrich CK, Schild U<br>[ID: 34690875]"
      ],
      "text/plain": [
       "<IPython.core.display.HTML object>"
      ]
     },
     "metadata": {},
     "output_type": "display_data"
    },
    {
     "data": {
      "text/html": [
       "<strong><a href=http://dx.doi.org/10.1016/j.scog.2021.100215>Preserved metacognition despite impaired perception of intentionality cues in schizophrenia.</a></strong><br>2022. Muthesius A, Grothey F, Cunningham C, Hölzer S, Vogeley K, Schultz J<br>[ID: 34692428]"
      ],
      "text/plain": [
       "<IPython.core.display.HTML object>"
      ]
     },
     "metadata": {},
     "output_type": "display_data"
    },
    {
     "data": {
      "text/html": [
       "<strong><a href=http://dx.doi.org/10.1016/j.neurobiolaging.2021.09.015>Sex differences in cognitive aging: a 4-year longitudinal study in marmosets.</a></strong><br>2022. Rothwell ES, Workman KP, Wang D, Lacreuse A<br>[ID: 34700200]"
      ],
      "text/plain": [
       "<IPython.core.display.HTML object>"
      ]
     },
     "metadata": {},
     "output_type": "display_data"
    },
    {
     "data": {
      "text/html": [
       "<strong><a href=http://dx.doi.org/10.1111/1365-2656.13602>On the importance of accounting for alternative foraging tactics when assessing cognitive performance in wild animals.</a></strong><br>2021. Vernouillet A<br>[ID: 34734419]"
      ],
      "text/plain": [
       "<IPython.core.display.HTML object>"
      ]
     },
     "metadata": {},
     "output_type": "display_data"
    },
    {
     "data": {
      "text/html": [
       "<strong><a href=http://dx.doi.org/10.1016/j.neunet.2021.10.004>Meta-learning, social cognition and consciousness in brains and machines.</a></strong><br>2022. Langdon A, Botvinick M, Nakahara H, Tanaka K, Matsumoto M, Kanai R<br>[ID: 34735893]"
      ],
      "text/plain": [
       "<IPython.core.display.HTML object>"
      ]
     },
     "metadata": {},
     "output_type": "display_data"
    },
    {
     "data": {
      "text/html": [
       "<strong><a href=http://dx.doi.org/10.1371/journal.pone.0259163>Media use, attention, mental health and academic performance among 8 to 12 year old children.</a></strong><br>2021. Cardoso-Leite P, Buchard A, Tissieres I, Mussack D, Bavelier D<br>[ID: 34788306]"
      ],
      "text/plain": [
       "<IPython.core.display.HTML object>"
      ]
     },
     "metadata": {},
     "output_type": "display_data"
    },
    {
     "data": {
      "text/html": [
       "<strong><a href=http://dx.doi.org/10.1111/tops.12584>Knowledge Gaps: A Challenge for Agent-Based Automatic Task Completion.</a></strong><br>2021. Bajaj G, Current S, Schmidt D, Bandyopadhyay B, Myers CW, Parthasarathy S<br>[ID: 34837720]"
      ],
      "text/plain": [
       "<IPython.core.display.HTML object>"
      ]
     },
     "metadata": {},
     "output_type": "display_data"
    },
    {
     "data": {
      "text/html": [
       "<strong><a href=http://dx.doi.org/10.1093/nc/niab040>Measuring metacognitive performance: type 1 performance dependence and test-retest reliability.</a></strong><br>2021. Guggenmos M<br>[ID: 34858637]"
      ],
      "text/plain": [
       "<IPython.core.display.HTML object>"
      ]
     },
     "metadata": {},
     "output_type": "display_data"
    },
    {
     "data": {
      "text/html": [
       "<strong><a href=http://dx.doi.org/10.1007/s10071-021-01580-7>Spaced training enhances equine learning performance.</a></strong><br>2022. Holcomb FR, Multhaup KS, Erwin SR, Daniels SE<br>[ID: 34860336]"
      ],
      "text/plain": [
       "<IPython.core.display.HTML object>"
      ]
     },
     "metadata": {},
     "output_type": "display_data"
    },
    {
     "data": {
      "text/html": [
       "<strong><a href=http://dx.doi.org/10.3389/frai.2021.730990>Extended Goal Recognition: Lessons from Magic.</a></strong><br>2021. Masters P, Smith W, Kirley M<br>[ID: 34870184]"
      ],
      "text/plain": [
       "<IPython.core.display.HTML object>"
      ]
     },
     "metadata": {},
     "output_type": "display_data"
    },
    {
     "data": {
      "text/html": [
       "<strong><a href=http://dx.doi.org/10.3389/fpsyg.2021.780234>\"Because I'm Bad at the Game!\" A Microanalytic Study of Self Regulated Learning in League of Legends.</a></strong><br>2021. Kleinman E, Gayle C, Seif El-Nasr M<br>[ID: 34925183]"
      ],
      "text/plain": [
       "<IPython.core.display.HTML object>"
      ]
     },
     "metadata": {},
     "output_type": "display_data"
    },
    {
     "data": {
      "text/html": [
       "<strong><a href=http://dx.doi.org/10.2147/PRBM.S342562>Impact of Performance Lower Than Expectations on Work Behaviors: The Moderating Effect of Status Mutability and Mediating Role of Regulatory Focus.</a></strong><br>2021. Kumar N, Hossain MY, Jin Y, Safeer AA, Chen T<br>[ID: 35002343]"
      ],
      "text/plain": [
       "<IPython.core.display.HTML object>"
      ]
     },
     "metadata": {},
     "output_type": "display_data"
    },
    {
     "data": {
      "text/html": [
       "<strong><a href=http://dx.doi.org/10.1016/j.neuroscience.2022.01.005>High Level Forebrain Expression of Active Tau Kinase p38γ Exacerbates Cognitive Dysfunction in Aged APP-transgenic Alzheimer's Mice.</a></strong><br>2022. Asih PR, Stefanoska K, Prikas E, Ittner A<br>[ID: 35031398]"
      ],
      "text/plain": [
       "<IPython.core.display.HTML object>"
      ]
     },
     "metadata": {},
     "output_type": "display_data"
    },
    {
     "data": {
      "text/html": [
       "<strong><a href=http://dx.doi.org/10.1111/cogs.13081>Characterizing the Details of Spatial Construction: Cognitive Constraints and Variability.</a></strong><br>2022. Shelton AL, Davis EE, Cortesa CS, Jones JD, Hager GD, Khudanpur S, Landau B<br>[ID: 35066920]"
      ],
      "text/plain": [
       "<IPython.core.display.HTML object>"
      ]
     },
     "metadata": {},
     "output_type": "display_data"
    },
    {
     "data": {
      "text/html": [
       "<strong><a href=http://dx.doi.org/10.1109/TMI.2022.3147690>Path Signature Neural Network of Cortical Features for Prediction of Infant Cognitive Scores.</a></strong><br>2022. Cheng J, Zhang X, Ni H, Li C, Xu X, Wu Z, Wang L, Lin W, Li G<br>[ID: 35089858]"
      ],
      "text/plain": [
       "<IPython.core.display.HTML object>"
      ]
     },
     "metadata": {},
     "output_type": "display_data"
    },
    {
     "data": {
      "text/html": [
       "<strong><a href=http://dx.doi.org/10.2486/indhealth.2021-0174>Does breaking up sitting in office-based settings result in cognitive performance improvements which last throughout the day? A review of the evidence.</a></strong><br>2022. Tuckwell GA, Vincent GE, Gupta CC, Ferguson SA<br>[ID: 35095033]"
      ],
      "text/plain": [
       "<IPython.core.display.HTML object>"
      ]
     },
     "metadata": {},
     "output_type": "display_data"
    },
    {
     "data": {
      "text/html": [
       "<strong><a href=http://dx.doi.org/10.3389/fpsyg.2021.602779>From Contact to Enact: Reducing Prejudice Toward Physical Disability Using Engagement Strategies.</a></strong><br>2021. Martiny KM, Scott-Fordsmand H, Jensen AR, Juhl A, Nielsen DE, Corneliussen T<br>[ID: 35095626]"
      ],
      "text/plain": [
       "<IPython.core.display.HTML object>"
      ]
     },
     "metadata": {},
     "output_type": "display_data"
    },
    {
     "data": {
      "text/html": [
       "<strong><a href=http://dx.doi.org/10.1002/glia.24155>Oligodendrogenesis is a key process for cognitive performance improvement induced by voluntary physical activity.</a></strong><br>2022. Eugenin von Bernhardi J, Dimou L<br>[ID: 35104015]"
      ],
      "text/plain": [
       "<IPython.core.display.HTML object>"
      ]
     },
     "metadata": {},
     "output_type": "display_data"
    },
    {
     "data": {
      "text/html": [
       "<strong><a href=http://dx.doi.org/10.1038/s41598-022-05843-2>Need for cognition moderates the impairment of decision making caused by nightshift work in nurses.</a></strong><br>2022. Peng J, Lu H, Zhang J, Shao Y, Wang L, Lv J<br>[ID: 35110674]"
      ],
      "text/plain": [
       "<IPython.core.display.HTML object>"
      ]
     },
     "metadata": {},
     "output_type": "display_data"
    },
    {
     "data": {
      "text/html": [
       "<strong><a href=http://dx.doi.org/10.1002/smtd.202101510>Computational Optimizing the Electromagnetic Wave Reflectivity of Double-Layered Polymer Nanocomposites.</a></strong><br>2022. Wei L, Ma J, Ma L, Zhao C, Xu M, Qi Q, Zhang W, Zhang L, He X, Park CB<br>[ID: 35146970]"
      ],
      "text/plain": [
       "<IPython.core.display.HTML object>"
      ]
     },
     "metadata": {},
     "output_type": "display_data"
    },
    {
     "data": {
      "text/html": [
       "<strong><a href=http://dx.doi.org/10.3389/fneur.2021.769345>T2 FLAIR Hyperintensity Volume Is Associated With Cognitive Function and Quality of Life in Clinically Stable Patients With Lower Grade Gliomas.</a></strong><br>2021. Luks TL, Villanueva-Meyer JE, Weyer-Jamora C, Gehring K, Jakary A, Hervey-Jumper SL, Braunstein SE, Bracci PM, Brie MS, Smith EM, Chang SM, Taylor JW<br>[ID: 35153976]"
      ],
      "text/plain": [
       "<IPython.core.display.HTML object>"
      ]
     },
     "metadata": {},
     "output_type": "display_data"
    },
    {
     "data": {
      "text/html": [
       "<strong><a href=http://dx.doi.org/10.1186/s13643-021-01874-4>Effects of high-intensity interval training on blood lactate levels and cognition in healthy adults: protocol for systematic review and network meta-analyses.</a></strong><br>2022. Jacob N, So I, Sharma B, Marzolini S, Tartaglia MC, Green R<br>[ID: 35183245]"
      ],
      "text/plain": [
       "<IPython.core.display.HTML object>"
      ]
     },
     "metadata": {},
     "output_type": "display_data"
    },
    {
     "data": {
      "text/html": [
       "<strong><a href=http://dx.doi.org/10.1038/s41598-022-05418-1>Multimodal investigation of the association between shift work and the brain in a population-based sample of older adults.</a></strong><br>2022. Bittner N, Korf HW, Stumme J, Jockwitz C, Moebus S, Schmidt B, Dragano N, Caspers S<br>[ID: 35194054]"
      ],
      "text/plain": [
       "<IPython.core.display.HTML object>"
      ]
     },
     "metadata": {},
     "output_type": "display_data"
    },
    {
     "data": {
      "text/html": [
       "<strong><a href=http://dx.doi.org/10.1111/nyas.14761>Testing the specificity of links between anxiety and performance within mathematics and spatial reasoning.</a></strong><br>2022. Daker RJ, Delage V, Maloney EA, Lyons IM<br>[ID: 35220582]"
      ],
      "text/plain": [
       "<IPython.core.display.HTML object>"
      ]
     },
     "metadata": {},
     "output_type": "display_data"
    },
    {
     "data": {
      "text/html": [
       "<strong><a href=http://dx.doi.org/10.1159/000521898>The Link between APOE4 Presence and Neuropsychological Test Performance among Mexican Americans and Non-Hispanic Whites of the Multiethnic Health &amp;amp; Aging Brain Study - Health Disparities Cohort.</a></strong><br>2022. O'Bryant SE, Barber RC, Philips N, Johnson LA, Hall JR, Subasinghe K, Petersen M, Toga AW, Yaffe K, Rissman RA, HABS-HD Study Team.<br>[ID: 35226898]"
      ],
      "text/plain": [
       "<IPython.core.display.HTML object>"
      ]
     },
     "metadata": {},
     "output_type": "display_data"
    },
    {
     "data": {
      "text/html": [
       "<strong><a href=http://dx.doi.org/10.1038/s41598-022-07568-8>A specific relationship between musical sophistication and auditory working memory.</a></strong><br>2022. Lad M, Billig AJ, Kumar S, Griffiths TD<br>[ID: 35241747]"
      ],
      "text/plain": [
       "<IPython.core.display.HTML object>"
      ]
     },
     "metadata": {},
     "output_type": "display_data"
    },
    {
     "data": {
      "text/html": [
       "<strong><a href=http://dx.doi.org/10.3233/WOR-213631>Investigating the effect of background music on cognitive and skill performance: A cross-sectional study.</a></strong><br>2022. Taheri S, Razeghi M, Choobineh A, Kazemi R, Rasipisheh P, Vali M<br>[ID: 35253719]"
      ],
      "text/plain": [
       "<IPython.core.display.HTML object>"
      ]
     },
     "metadata": {},
     "output_type": "display_data"
    },
    {
     "data": {
      "text/html": [
       "<strong><a href=http://dx.doi.org/10.1155/2022/3008947>Research on the Relationship between Employee Mental Health and Enterprise Work Performance.</a></strong><br>2022. Yan N<br>[ID: 35265296]"
      ],
      "text/plain": [
       "<IPython.core.display.HTML object>"
      ]
     },
     "metadata": {},
     "output_type": "display_data"
    },
    {
     "data": {
      "text/html": [
       "<strong><a href=http://dx.doi.org/10.1177/23982128221088794>Modelling falls in Parkinson's disease and normal ageing in mice using a complex motor task.</a></strong><br>2022. Jackson MG, Brennan LJ, Henderson EJ, Robinson ESJ<br>[ID: 35341069]"
      ],
      "text/plain": [
       "<IPython.core.display.HTML object>"
      ]
     },
     "metadata": {},
     "output_type": "display_data"
    },
    {
     "data": {
      "text/html": [
       "<strong><a href=http://dx.doi.org/10.1016/j.bandc.2022.105862>Decreased cognitive function is associated with impaired spatiotemporal gait performance in community dwelling older adults with chronic musculoskeletal pain.</a></strong><br>2022. Lipat AL, Peterson JA, Clark DJ, Cruz-Almeida Y<br>[ID: 35358922]"
      ],
      "text/plain": [
       "<IPython.core.display.HTML object>"
      ]
     },
     "metadata": {},
     "output_type": "display_data"
    },
    {
     "data": {
      "text/html": [
       "<strong><a href=http://dx.doi.org/10.1016/j.psyneuen.2022.105750>Developmental exposure to intranasal vasopressin impacts adult prairie vole spatial memory.</a></strong><br>2022. Finton CJ, Ophir AG<br>[ID: 35397260]"
      ],
      "text/plain": [
       "<IPython.core.display.HTML object>"
      ]
     },
     "metadata": {},
     "output_type": "display_data"
    },
    {
     "data": {
      "text/html": [
       "<strong><a href=http://dx.doi.org/10.3389/fpsyt.2022.851296>Modulation of Spatial Memory Deficit and Hyperactivity in Dopamine Transporter Knockout Rats <i>via</i> α2A-Adrenoceptors.</a></strong><br>2022. Kurzina N, Belskaya A, Gromova A, Ignashchenkova A, Gainetdinov RR, Volnova A<br>[ID: 35401264]"
      ],
      "text/plain": [
       "<IPython.core.display.HTML object>"
      ]
     },
     "metadata": {},
     "output_type": "display_data"
    },
    {
     "data": {
      "text/html": [
       "<strong><a href=http://dx.doi.org/10.1016/j.cortex.2022.03.003>People can identify the likely owner of heartbeats by looking at individuals' faces.</a></strong><br>2022. Galvez-Pol A, Antoine S, Li C, Kilner JM<br>[ID: 35430451]"
      ],
      "text/plain": [
       "<IPython.core.display.HTML object>"
      ]
     },
     "metadata": {},
     "output_type": "display_data"
    },
    {
     "data": {
      "text/html": [
       "<strong><a href=http://dx.doi.org/10.3389/fpsyg.2022.867978>Restoration of Attention by Rest in a Multitasking World: Theory, Methodology, and Empirical Evidence.</a></strong><br>2022. Schumann F, Steinborn MB, Kürten J, Cao L, Händel BF, Huestegge L<br>[ID: 35432083]"
      ],
      "text/plain": [
       "<IPython.core.display.HTML object>"
      ]
     },
     "metadata": {},
     "output_type": "display_data"
    },
    {
     "data": {
      "text/html": [
       "<strong><a href=http://dx.doi.org/10.1073/pnas.2120529119>Methylphenidate as a causal test of translational and basic neural coding hypotheses.</a></strong><br>2022. Ni AM, Bowes BS, Ruff DA, Cohen MR<br>[ID: 35467980]"
      ],
      "text/plain": [
       "<IPython.core.display.HTML object>"
      ]
     },
     "metadata": {},
     "output_type": "display_data"
    },
    {
     "data": {
      "text/html": [
       "<strong><a href=http://dx.doi.org/10.1016/j.heliyon.2022.e09271>The effect of trust and its antecedents towards determining users' behavioral intention with voice-based consumer electronic devices.</a></strong><br>2022. Pal D, Roy P, Arpnikanondt C, Thapliyal H<br>[ID: 35469331]"
      ],
      "text/plain": [
       "<IPython.core.display.HTML object>"
      ]
     },
     "metadata": {},
     "output_type": "display_data"
    },
    {
     "data": {
      "text/html": [
       "<strong><a href=http://dx.doi.org/10.1080/13825585.2022.2067319>Does age-related hearing loss deteriorate attentional resources?</a></strong><br>2022. Bonmassar C, Pavani F, Spinella D, Frau GN, van Zoest W<br>[ID: 35531868]"
      ],
      "text/plain": [
       "<IPython.core.display.HTML object>"
      ]
     },
     "metadata": {},
     "output_type": "display_data"
    },
    {
     "data": {
      "text/html": [
       "<strong><a href=http://dx.doi.org/10.1371/journal.pone.0264972>Value-based cost-cognizant test case prioritization for regression testing.</a></strong><br>2022. Ahmed FS, Majeed A, Khan TA, Bhatti SN<br>[ID: 35580089]"
      ],
      "text/plain": [
       "<IPython.core.display.HTML object>"
      ]
     },
     "metadata": {},
     "output_type": "display_data"
    },
    {
     "data": {
      "text/html": [
       "<strong><a href=http://dx.doi.org/10.3389/fpsyg.2022.871391>Olfaction and Executive Cognitive Performance: A Systematic Review.</a></strong><br>2022. Challakere Ramaswamy VM, Schofield PW<br>[ID: 35615205]"
      ],
      "text/plain": [
       "<IPython.core.display.HTML object>"
      ]
     },
     "metadata": {},
     "output_type": "display_data"
    },
    {
     "data": {
      "text/html": [
       "<strong><a href=http://dx.doi.org/10.1016/j.visres.2022.108072>Gaze behaviour: A window into distinct cognitive processes revealed by the Tower of London test.</a></strong><br>2022. Ayala N, Zafar A, Niechwiej-Szwedo E<br>[ID: 35623185]"
      ],
      "text/plain": [
       "<IPython.core.display.HTML object>"
      ]
     },
     "metadata": {},
     "output_type": "display_data"
    },
    {
     "data": {
      "text/html": [
       "<strong><a href=http://dx.doi.org/10.1016/j.ridd.2022.104262>Event rate effects on children with attention-deficit/hyperactive disorder: Test predictions from the moderate brain arousal model and the neuro-energetics theory using the diffusion decision model.</a></strong><br>2022. Zhou Q, Luo Y<br>[ID: 35636262]"
      ],
      "text/plain": [
       "<IPython.core.display.HTML object>"
      ]
     },
     "metadata": {},
     "output_type": "display_data"
    },
    {
     "data": {
      "text/html": [
       "<strong><a href=http://dx.doi.org/10.3758/s13420-022-00532-6>Texas field crickets (Gryllus texensis) use visual cues to place learn but perform poorly when intra- and extra-maze cues conflict.</a></strong><br>2022. Kozlovsky DY, Poirier MA, Hermer E, Bertram SM, Morand-Ferron J<br>[ID: 35680700]"
      ],
      "text/plain": [
       "<IPython.core.display.HTML object>"
      ]
     },
     "metadata": {},
     "output_type": "display_data"
    },
    {
     "data": {
      "text/html": [
       "<strong><a href=http://dx.doi.org/10.31729/jnma.7521>Finding and Maintaining Motivation in Medical School.</a></strong><br>2022. Shrestha R, Bohaju A, K C S, Pathak A<br>[ID: 35690972]"
      ],
      "text/plain": [
       "<IPython.core.display.HTML object>"
      ]
     },
     "metadata": {},
     "output_type": "display_data"
    },
    {
     "data": {
      "text/html": [
       "<strong><a href=http://dx.doi.org/10.3389/fpsyg.2022.861973>M/EEG Dynamics Underlying Reserve, Resilience, and Maintenance in Aging: A Review.</a></strong><br>2022. Jauny G, Eustache F, Hinault TT<br>[ID: 35693495]"
      ],
      "text/plain": [
       "<IPython.core.display.HTML object>"
      ]
     },
     "metadata": {},
     "output_type": "display_data"
    },
    {
     "data": {
      "text/html": [
       "<strong><a href=http://dx.doi.org/10.1098/rsos.212001>Links between personality traits and problem-solving performance in zebra finches (<i>Taeniopygia guttata</i>).</a></strong><br>2022. Barrett LP, Marsh JL, Boogert NJ, Templeton CN, Benson-Amram S<br>[ID: 35706654]"
      ],
      "text/plain": [
       "<IPython.core.display.HTML object>"
      ]
     },
     "metadata": {},
     "output_type": "display_data"
    },
    {
     "data": {
      "text/html": [
       "<strong><a href=http://dx.doi.org/10.1159/000524666>A Decade Later on How to \"Use It\" So We Don't \"Lose It\": An Update on the Unanswered Questions about the Influence of Activity Participation on Cognitive Performance in Older Age.</a></strong><br>2022. Bielak AAM, Gow AJ<br>[ID: 35709704]"
      ],
      "text/plain": [
       "<IPython.core.display.HTML object>"
      ]
     },
     "metadata": {},
     "output_type": "display_data"
    },
    {
     "data": {
      "text/html": [
       "<strong><a href=http://dx.doi.org/10.3389/fnbeh.2022.856276>The Cycling Brain in the Workplace: Does Workload Modulate the Menstrual Cycle Effect on Cognition?</a></strong><br>2022. Xu M, Chen D, Li H, Wang H, Yang LZ<br>[ID: 35722191]"
      ],
      "text/plain": [
       "<IPython.core.display.HTML object>"
      ]
     },
     "metadata": {},
     "output_type": "display_data"
    },
    {
     "data": {
      "text/html": [
       "<strong><a href=http://dx.doi.org/10.1111/ejn.15743>Systemic D1-R and D2-R antagonists in non-human primates differentially impact learning and memory while impairing motivation and motor performance.</a></strong><br>2022. Marino RA, Gaprielian P, Levy R<br>[ID: 35746869]"
      ],
      "text/plain": [
       "<IPython.core.display.HTML object>"
      ]
     },
     "metadata": {},
     "output_type": "display_data"
    },
    {
     "data": {
      "text/html": [
       "<strong><a href=http://dx.doi.org/10.1016/j.cpnec.2022.100131>Within subject rise in serum TNFα to IL-10 ratio is associated with poorer attention, decision-making and working memory in jockeys.</a></strong><br>2022. Piantella S, O'Brien WT, Hale MW, Maruff P, McDonald SJ, Wright BJ<br>[ID: 35755205]"
      ],
      "text/plain": [
       "<IPython.core.display.HTML object>"
      ]
     },
     "metadata": {},
     "output_type": "display_data"
    },
    {
     "data": {
      "text/html": [
       "<strong><a href=http://dx.doi.org/10.1038/s41598-022-14761-2>Dimensional label learning contributes to the development of executive functions.</a></strong><br>2022. Lowery K, Nikam B, Buss AT<br>[ID: 35773365]"
      ],
      "text/plain": [
       "<IPython.core.display.HTML object>"
      ]
     },
     "metadata": {},
     "output_type": "display_data"
    },
    {
     "data": {
      "text/html": [
       "<strong><a href=http://dx.doi.org/10.1177/17470218221113555>Arithmetic operations without symbols are unimpaired in adults with math anxiety.</a></strong><br>2022. Zaleznik E, Comeau O, Park J<br>[ID: 35775834]"
      ],
      "text/plain": [
       "<IPython.core.display.HTML object>"
      ]
     },
     "metadata": {},
     "output_type": "display_data"
    },
    {
     "data": {
      "text/html": [
       "<strong><a href=http://dx.doi.org/10.1007/s11764-022-01223-x>Neuropsychological test performance and self-reported cognitive functioning associated with work-related outcomes in occupationally active cancer survivors with cognitive complaints.</a></strong><br>2022. Klaver KM, Duijts SFA, Geusgens CAV, Aarts MJB, Ponds RWHM, van der Beek AJ, Schagen SB<br>[ID: 35776235]"
      ],
      "text/plain": [
       "<IPython.core.display.HTML object>"
      ]
     },
     "metadata": {},
     "output_type": "display_data"
    },
    {
     "data": {
      "text/html": [
       "<strong><a href=http://dx.doi.org/10.3389/fpsyg.2022.857043>Inquiry of the Practice of Leadership in Chengguan: A Study Based on the Ethnographic Research of Z City.</a></strong><br>2022. Li H, Li Y<br>[ID: 35800957]"
      ],
      "text/plain": [
       "<IPython.core.display.HTML object>"
      ]
     },
     "metadata": {},
     "output_type": "display_data"
    },
    {
     "data": {
      "text/html": [
       "<strong><a href=http://dx.doi.org/10.1093/cercor/bhac247>Masked features of task states found in individual brain networks.</a></strong><br>2022. Porter A, Nielsen A, Dorn M, Dworetsky A, Edmonds D, Gratton C<br>[ID: 35802477]"
      ],
      "text/plain": [
       "<IPython.core.display.HTML object>"
      ]
     },
     "metadata": {},
     "output_type": "display_data"
    },
    {
     "data": {
      "text/html": [
       "<strong><a href=http://dx.doi.org/10.1080/20008198.2022.2093036>Study development and protocol for a cohort study examining the impact of baseline social cognition on response to treatment for people living with post-traumatic stress disorder.</a></strong><br>2022. Wiseman C, Lawrence AD, Bisson JI, Hotham J, Karl A, Zammit S<br>[ID: 35849639]"
      ],
      "text/plain": [
       "<IPython.core.display.HTML object>"
      ]
     },
     "metadata": {},
     "output_type": "display_data"
    },
    {
     "data": {
      "text/html": [
       "<strong><a href=http://dx.doi.org/10.1371/journal.pone.0269974>Horses' attentional characteristics differ according to the type of work.</a></strong><br>2022. Rochais C, Stomp M, Sébilleau M, Houdebine M, Henry S, Hausberger M<br>[ID: 35877616]"
      ],
      "text/plain": [
       "<IPython.core.display.HTML object>"
      ]
     },
     "metadata": {},
     "output_type": "display_data"
    },
    {
     "data": {
      "text/html": [
       "<strong><a href=http://dx.doi.org/10.1016/j.ajp.2022.103202>Modeling the interplay of age at onset and sex on cognition in Schizophrenia.</a></strong><br>2022. Buonocore M, Bosia M, Martini F, Bechi M, Spangaro M, Agostoni G, Diddi O, Cocchi F, Cuoco F, Cavallaro R<br>[ID: 35907340]"
      ],
      "text/plain": [
       "<IPython.core.display.HTML object>"
      ]
     },
     "metadata": {},
     "output_type": "display_data"
    },
    {
     "data": {
      "text/html": [
       "<strong><a href=http://dx.doi.org/10.1016/j.psyneuen.2022.105870>Peripheral inflammation marker relationships to cognition in healthy older adults - A systematic review.</a></strong><br>2022. Fard MT, Savage KM, Stough CK<br>[ID: 35908534]"
      ],
      "text/plain": [
       "<IPython.core.display.HTML object>"
      ]
     },
     "metadata": {},
     "output_type": "display_data"
    },
    {
     "data": {
      "text/html": [
       "<strong><a href=http://dx.doi.org/10.1371/journal.pone.0269398>Dividing attention during the Timed Up and Go enhances associations of several subtask performances with MCI and cognition.</a></strong><br>2022. Poole VN, Dawe RJ, Lamar M, Esterman M, Barnes L, Leurgans SE, Bennett DA, Hausdorff JM, Buchman AS<br>[ID: 35921260]"
      ],
      "text/plain": [
       "<IPython.core.display.HTML object>"
      ]
     },
     "metadata": {},
     "output_type": "display_data"
    },
    {
     "data": {
      "text/html": [
       "<strong><a href=http://dx.doi.org/10.1162/artl_a_00372>Using the Comparative Hybrid Approach to Disentangle the Role of Substrate Choice on the Evolution of Cognition.</a></strong><br>2022. Bohm C, Albani S, Ofria C, Ackles A<br>[ID: 35929774]"
      ],
      "text/plain": [
       "<IPython.core.display.HTML object>"
      ]
     },
     "metadata": {},
     "output_type": "display_data"
    },
    {
     "data": {
      "text/html": [
       "<strong><a href=http://dx.doi.org/10.1016/j.ijpsycho.2022.07.011>Need for cognition is associated with the interaction of reward and task-load on effort: A verification and extension study.</a></strong><br>2022. Zhang M, Palmer CV, Pratt SR, McNeil MR, Siegle GJ<br>[ID: 35931237]"
      ],
      "text/plain": [
       "<IPython.core.display.HTML object>"
      ]
     },
     "metadata": {},
     "output_type": "display_data"
    },
    {
     "data": {
      "text/html": [
       "<strong><a href=http://dx.doi.org/10.1016/j.neuroimage.2022.119531>Combination of structural and functional connectivity explains unique variation in specific domains of cognitive function.</a></strong><br>2022. Litwińczuk MC, Muhlert N, Cloutman L, Trujillo-Barreto N, Woollams A<br>[ID: 35931312]"
      ],
      "text/plain": [
       "<IPython.core.display.HTML object>"
      ]
     },
     "metadata": {},
     "output_type": "display_data"
    },
    {
     "data": {
      "text/html": [
       "<strong><a href=http://dx.doi.org/10.1007/s00429-022-02539-1>Presence or absence of a prefrontal sulcus is linked to reasoning performance during child development.</a></strong><br>2022. Willbrand EH, Voorhies WI, Yao JK, Weiner KS, Bunge SA<br>[ID: 35932310]"
      ],
      "text/plain": [
       "<IPython.core.display.HTML object>"
      ]
     },
     "metadata": {},
     "output_type": "display_data"
    },
    {
     "data": {
      "text/html": [
       "<strong><a href=http://dx.doi.org/10.1177/07334648221120080>Job Demands May Determine Cognitive and Physical Aging After Retirement.</a></strong><br>2022. Calatayud E, Lozano-Berges G, Peralta-Marrupe P, Latorre E, Gomez-Soria I<br>[ID: 35959648]"
      ],
      "text/plain": [
       "<IPython.core.display.HTML object>"
      ]
     },
     "metadata": {},
     "output_type": "display_data"
    },
    {
     "data": {
      "text/html": [
       "<strong><a href=http://dx.doi.org/10.3389/fnhum.2022.924845>Psychological well-being and cognitive aging in Black, Native American, and White Alzheimer's Disease Research Center participants.</a></strong><br>2022. Wyman MF, Van Hulle CA, Umucu E, Livingston S, Lambrou NH, Carter FP, Johnson SC, Asthana S, Gleason CE, Zuelsdorff M<br>[ID: 35967004]"
      ],
      "text/plain": [
       "<IPython.core.display.HTML object>"
      ]
     },
     "metadata": {},
     "output_type": "display_data"
    },
    {
     "data": {
      "text/html": [
       "<strong><a href=http://dx.doi.org/10.1016/j.neurobiolaging.2022.07.008>Regional white matter hyperintensities in posterior cortical atrophy and logopenic progressive aphasia.</a></strong><br>2022. Pham NTT, Graff-Radford J, Machulda MM, Spychalla AJ, Schwarz CG, Senjem ML, Lowe VJ, Vemuri P, Kantarci K, Knopman DS, Petersen RC, Jack CR, Josephs KA, Whitwell JL<br>[ID: 35970009]"
      ],
      "text/plain": [
       "<IPython.core.display.HTML object>"
      ]
     },
     "metadata": {},
     "output_type": "display_data"
    },
    {
     "data": {
      "text/html": [
       "<strong><a href=http://dx.doi.org/10.1007/s11482-022-10094-4>Being Virtuous Together: A One-Year Prospective Study on Organizational Virtuousness, Well-Being, and Organizational Commitment.</a></strong><br>2022. Ho HCY, Hou WK, Poon KT, Leung ANM, Kwan JLY<br>[ID: 35971462]"
      ],
      "text/plain": [
       "<IPython.core.display.HTML object>"
      ]
     },
     "metadata": {},
     "output_type": "display_data"
    },
    {
     "data": {
      "text/html": [
       "<strong><a href=http://dx.doi.org/10.1016/j.yhbeh.2022.105244>Medaka as a model for seasonal plasticity: Photoperiod-mediated changes in behaviour, cognition, and hormones.</a></strong><br>2022. Lucon-Xiccato T, Montalbano G, Frigato E, Loosli F, Foulkes NS, Bertolucci C<br>[ID: 35988451]"
      ],
      "text/plain": [
       "<IPython.core.display.HTML object>"
      ]
     },
     "metadata": {},
     "output_type": "display_data"
    },
    {
     "data": {
      "text/html": [
       "<strong><a href=http://dx.doi.org/10.1080/09297049.2022.2112559>The influence of methylphenidate on sustained attention in paediatric acquired brain injury: a meta-analytical review.</a></strong><br>2022. Hagan AJ, Verity SJ<br>[ID: 36000579]"
      ],
      "text/plain": [
       "<IPython.core.display.HTML object>"
      ]
     },
     "metadata": {},
     "output_type": "display_data"
    },
    {
     "data": {
      "text/html": [
       "<strong><a href=http://dx.doi.org/10.1080/10803548.2022.2120288>How spiritual leadership affects team safety performance: the role of team reflexivity and work interdependence.</a></strong><br>2022. Liu P, Liu Y, Hou W, Yuan Y, Li B<br>[ID: 36052813]"
      ],
      "text/plain": [
       "<IPython.core.display.HTML object>"
      ]
     },
     "metadata": {},
     "output_type": "display_data"
    },
    {
     "data": {
      "text/html": [
       "<strong><a href=http://dx.doi.org/10.1093/braincomms/fcac228>Longitudinal grey matter and metabolic contributions to cognitive changes in amyotrophic lateral sclerosis.</a></strong><br>2022. Hinault T, Segobin S, Benbrika S, Carluer L, Doidy F, Eustache F, Viader F, Desgranges B<br>[ID: 36128222]"
      ],
      "text/plain": [
       "<IPython.core.display.HTML object>"
      ]
     },
     "metadata": {},
     "output_type": "display_data"
    },
    {
     "data": {
      "text/html": [
       "<strong><a href=http://dx.doi.org/10.1155/2022/6321101>Optimization of Residential Landscape Design and Supply Chain System Using Intelligent Fuzzy Cognitive Map and Genetic Algorithm.</a></strong><br>2022. Deng T<br>[ID: 36148425]"
      ],
      "text/plain": [
       "<IPython.core.display.HTML object>"
      ]
     },
     "metadata": {},
     "output_type": "display_data"
    },
    {
     "data": {
      "text/html": [
       "<strong><a href=http://dx.doi.org/10.1007/7854_2022_391>Cognitive [Computational] Neuroscience Test Reliability and Clinical Applications for Serious Mental Illness (CNTRaCS) Consortium: Progress and Future Directions.</a></strong><br>2022. Barch DM, Boudewyn MA, Carter CC, Erickson M, Frank MJ, Gold JM, Luck SJ, MacDonald AW 3rd, Ragland JD, Ranganath C, Silverstein SM, Yonelinas A<br>[ID: 36173600]"
      ],
      "text/plain": [
       "<IPython.core.display.HTML object>"
      ]
     },
     "metadata": {},
     "output_type": "display_data"
    },
    {
     "data": {
      "text/html": [
       "<strong><a href=http://dx.doi.org/10.3389/fnagi.2022.854928>Resting-state electroencephalographic correlates of cognitive reserve: Moderating the age-related worsening in cognitive function.</a></strong><br>2022. Buján A, Sampaio A, Pinal D<br>[ID: 36185469]"
      ],
      "text/plain": [
       "<IPython.core.display.HTML object>"
      ]
     },
     "metadata": {},
     "output_type": "display_data"
    },
    {
     "data": {
      "text/html": [
       "<strong><a href=http://dx.doi.org/10.3389/fresc.2021.754118>Relating Global Cognition With Upper-Extremity Motor Skill Retention in Individuals With Mild-to-Moderate Parkinson's Disease.</a></strong><br>2021. Lingo VanGilder J, Lopez-Lennon C, Paul SS, Dibble LE, Duff K, Schaefer SY<br>[ID: 36188810]"
      ],
      "text/plain": [
       "<IPython.core.display.HTML object>"
      ]
     },
     "metadata": {},
     "output_type": "display_data"
    },
    {
     "data": {
      "text/html": [
       "<strong><a href=http://dx.doi.org/10.3389/fresc.2021.754468>Rehabilitation and Return-to-Work of Patients Acquiring COVID-19 in the Workplace: A Study Protocol for an Observational Cohort Study.</a></strong><br>2021. Müller K, Zwingmann K, Auerswald T, Berger I, Thomas A, Schultz AL, Wilhelm E, Weber RC, Kolb F, Wastlhuber A, Meder S, Stegbauer M<br>[ID: 36188830]"
      ],
      "text/plain": [
       "<IPython.core.display.HTML object>"
      ]
     },
     "metadata": {},
     "output_type": "display_data"
    }
   ],
   "source": [
    "def and_query(query_string):  \n",
    "    query_words = preprocess(tokenize(query_string))  \n",
    "    first_word = query_words[0]  \n",
    "    remaining_words = query_words[1:]  \n",
    "    and_list = inverted_index[first_word]  \n",
    "    for t in remaining_words:  \n",
    "        and_list = and_merge(and_list, inverted_index[t])  \n",
    "    return and_list  \n",
    "\n",
    "example_query = \"work performance\"  \n",
    "example_result = and_query(example_query)  \n",
    "print(\"Results for the AND-query '\" + example_query + \"':\")  \n",
    "for paper in example_result:  \n",
    "    display_summary(paper)  "
   ]
  },
  {
   "cell_type": "markdown",
   "metadata": {},
   "source": [
    "### Task 4\n",
    "\n",
    "Construct another function called `or_query` that works in the same way as `and_query` you just implemented, but returns as function value the documents that contain _at least one_ of the words in the query, using the `or_merge` function you defined.\n",
    "\n",
    "Demonstrate the working of this function also with an example (again, choose one that leads to fewer than 100 hits)."
   ]
  },
  {
   "cell_type": "code",
   "execution_count": 13,
   "metadata": {},
   "outputs": [
    {
     "name": "stdout",
     "output_type": "stream",
     "text": [
      "Results for the OR-query 'rotterdam utrecht':\n"
     ]
    },
    {
     "data": {
      "text/html": [
       "<strong><a href=http://dx.doi.org/10.1007/s001250050588>Association of diabetes mellitus and dementia: the Rotterdam Study.</a></strong><br>1996. Ott A, Stolk RP, Hofman A, van Harskamp F, Grobbee DE, Breteler MM<br>[ID: 8933010]"
      ],
      "text/plain": [
       "<IPython.core.display.HTML object>"
      ]
     },
     "metadata": {},
     "output_type": "display_data"
    },
    {
     "data": {
      "text/html": [
       "<strong><a href=http://dx.doi.org/10.1210/jcem.83.10.5164>A prospective study on cortisol, dehydroepiandrosterone sulfate, and cognitive function in the elderly.</a></strong><br>1998. Kalmijn S, Launer LJ, Stolk RP, de Jong FH, Pols HA, Hofman A, Breteler MM, Lamberts SW<br>[ID: 9768651]"
      ],
      "text/plain": [
       "<IPython.core.display.HTML object>"
      ]
     },
     "metadata": {},
     "output_type": "display_data"
    },
    {
     "data": {
      "text/html": [
       "<strong><a href=http://dx.doi.org/10.1212/01.wnl.0000038345.77753.46>Diet and risk of dementia: Does fat matter?: The Rotterdam Study.</a></strong><br>2002. Engelhart MJ, Geerlings MI, Ruitenberg A, Van Swieten JC, Hofman A, Witteman JC, Breteler MM<br>[ID: 12499483]"
      ],
      "text/plain": [
       "<IPython.core.display.HTML object>"
      ]
     },
     "metadata": {},
     "output_type": "display_data"
    },
    {
     "data": {
      "text/html": [
       "<strong><a href=http://dx.doi.org/10.1038/jcbfm.2008.62>Total cerebral blood flow in relation to cognitive function: the Rotterdam Scan Study.</a></strong><br>2008. Poels MM, Ikram MA, Vernooij MW, Krestin GP, Hofman A, Niessen WJ, van der Lugt A, Breteler MM<br>[ID: 18575459]"
      ],
      "text/plain": [
       "<IPython.core.display.HTML object>"
      ]
     },
     "metadata": {},
     "output_type": "display_data"
    },
    {
     "data": {
      "text/html": [
       "<strong><a href=http://dx.doi.org/10.1016/j.neurobiolaging.2008.10.004>Genetic variation in homocysteine metabolism, cognition, and white matter lesions.</a></strong><br>2010. de Lau LM, van Meurs JB, Uitterlinden AG, Smith AD, Refsum H, Johnston C, Breteler MM<br>[ID: 19019492]"
      ],
      "text/plain": [
       "<IPython.core.display.HTML object>"
      ]
     },
     "metadata": {},
     "output_type": "display_data"
    },
    {
     "data": {
      "text/html": [
       "<strong><a href=http://dx.doi.org/10.1212/WNL.0b013e3182452928>Cerebral microbleeds are associated with worse cognitive function: the Rotterdam Scan Study.</a></strong><br>2012. Poels MM, Ikram MA, van der Lugt A, Hofman A, Niessen WJ, Krestin GP, Breteler MM, Vernooij MW<br>[ID: 22262748]"
      ],
      "text/plain": [
       "<IPython.core.display.HTML object>"
      ]
     },
     "metadata": {},
     "output_type": "display_data"
    },
    {
     "data": {
      "text/html": [
       "<strong><a href=http://dx.doi.org/10.1159/000346606>The relation of uric acid to brain atrophy and cognition: the Rotterdam Scan Study.</a></strong><br>2013. Verhaaren BF, Vernooij MW, Dehghan A, Vrooman HA, de Boer R, Hofman A, Witteman JC, Niessen WJ, Breteler MM, van der Lugt A, Ikram MA<br>[ID: 23548762]"
      ],
      "text/plain": [
       "<IPython.core.display.HTML object>"
      ]
     },
     "metadata": {},
     "output_type": "display_data"
    },
    {
     "data": {
      "text/html": [
       "<strong><a href=http://dx.doi.org/10.1016/j.ejphar.2013.04.055>Sweet memories: 20 years of progress in research on cognitive functioning in diabetes.</a></strong><br>2013. Biessels GJ<br>[ID: 23872409]"
      ],
      "text/plain": [
       "<IPython.core.display.HTML object>"
      ]
     },
     "metadata": {},
     "output_type": "display_data"
    },
    {
     "data": {
      "text/html": [
       "<strong><a href=http://dx.doi.org/10.1007/s10654-014-9885-4>Patterns of cognitive function in aging: the Rotterdam Study.</a></strong><br>2014. Hoogendam YY, Hofman A, van der Geest JN, van der Lugt A, Ikram MA<br>[ID: 24553905]"
      ],
      "text/plain": [
       "<IPython.core.display.HTML object>"
      ]
     },
     "metadata": {},
     "output_type": "display_data"
    },
    {
     "data": {
      "text/html": [
       "<strong><a href=http://dx.doi.org/10.1016/j.jagp.2014.03.001>Anxiety is not associated with the risk of dementia or cognitive decline: the Rotterdam Study.</a></strong><br>2014. de Bruijn RF, Direk N, Mirza SS, Hofman A, Koudstaal PJ, Tiemeier H, Ikram MA<br>[ID: 24745561]"
      ],
      "text/plain": [
       "<IPython.core.display.HTML object>"
      ]
     },
     "metadata": {},
     "output_type": "display_data"
    },
    {
     "data": {
      "text/html": [
       "<strong><a href=http://dx.doi.org/10.1016/j.neurobiolaging.2015.11.021>Altered tract-specific white matter microstructure is related to poorer cognitive performance: The Rotterdam Study.</a></strong><br>2016. Cremers LG, de Groot M, Hofman A, Krestin GP, van der Lugt A, Niessen WJ, Vernooij MW, Ikram MA<br>[ID: 26923407]"
      ],
      "text/plain": [
       "<IPython.core.display.HTML object>"
      ]
     },
     "metadata": {},
     "output_type": "display_data"
    },
    {
     "data": {
      "text/html": [
       "<strong><a href=http://dx.doi.org/10.1111/ene.13066>Migraine is associated with better cognition in the middle-aged and elderly: the Rotterdam Study.</a></strong><br>2016. Wen K, Nguyen NT, Hofman A, Ikram MA, Franco OH<br>[ID: 27346448]"
      ],
      "text/plain": [
       "<IPython.core.display.HTML object>"
      ]
     },
     "metadata": {},
     "output_type": "display_data"
    },
    {
     "data": {
      "text/html": [
       "<strong><a href=http://dx.doi.org/10.1097/MRR.0000000000000198>Predictors of physical independence at discharge after stroke rehabilitation in a Dutch population.</a></strong><br>2017. Ten Brink AF, Hajos TR, van Bennekom C, Nachtegaal J, Meulenbelt HE, Fleuren JF, Kouwenhoven M, Luijkx MM, Wijffels MP, Post MW<br>[ID: 27749516]"
      ],
      "text/plain": [
       "<IPython.core.display.HTML object>"
      ]
     },
     "metadata": {},
     "output_type": "display_data"
    },
    {
     "data": {
      "text/html": [
       "<strong><a href=http://dx.doi.org/10.3233/JAD-160871>Aortic Valve Calcification and the Risk of dementia: A Population-Based Study.</a></strong><br>2017. Wolters FJ, Bos D, Vernooij MW, Franco OH, Heart-Brain Connection collaborative research group., Hofman A, Koudstaal PJ, van der Lugt A, Ikram MA<br>[ID: 27767996]"
      ],
      "text/plain": [
       "<IPython.core.display.HTML object>"
      ]
     },
     "metadata": {},
     "output_type": "display_data"
    },
    {
     "data": {
      "text/html": [
       "<strong><a href=http://dx.doi.org/10.1093/brain/aww291>Trajectories of prediagnostic functioning in Parkinson's disease.</a></strong><br>2017. Darweesh SK, Verlinden VJ, Stricker BH, Hofman A, Koudstaal PJ, Ikram MA<br>[ID: 28082300]"
      ],
      "text/plain": [
       "<IPython.core.display.HTML object>"
      ]
     },
     "metadata": {},
     "output_type": "display_data"
    },
    {
     "data": {
      "text/html": [
       "<strong><a href=http://dx.doi.org/10.1016/j.maturitas.2016.12.002>Design of a frailty index among community living middle-aged and older people: The Rotterdam study.</a></strong><br>2017. Schoufour JD, Erler NS, Jaspers L, Kiefte-de Jong JC, Voortman T, Ziere G, Lindemans J, Klaver CC, Tiemeier H, Stricker B, Ikram AM, Laven JS, Brusselle GG, Rivadeneira F, Franco OH<br>[ID: 28159055]"
      ],
      "text/plain": [
       "<IPython.core.display.HTML object>"
      ]
     },
     "metadata": {},
     "output_type": "display_data"
    },
    {
     "data": {
      "text/html": [
       "<strong><a href=http://dx.doi.org/10.3389/fnagi.2017.00002>Hearing Impairment Is Associated with Smaller Brain Volume in Aging.</a></strong><br>2017. Rigters SC, Bos D, Metselaar M, Roshchupkin GV, Baatenburg de Jong RJ, Ikram MA, Vernooij MW, Goedegebure A<br>[ID: 28163683]"
      ],
      "text/plain": [
       "<IPython.core.display.HTML object>"
      ]
     },
     "metadata": {},
     "output_type": "display_data"
    },
    {
     "data": {
      "text/html": [
       "<strong><a href=http://dx.doi.org/10.1017/S0033291717000381>Subjective measures of health and all-cause mortality - the Rotterdam Study.</a></strong><br>2017. Sajjad A, Freak-Poli RL, Hofman A, Roza SJ, Ikram MA, Tiemeier H<br>[ID: 28287059]"
      ],
      "text/plain": [
       "<IPython.core.display.HTML object>"
      ]
     },
     "metadata": {},
     "output_type": "display_data"
    },
    {
     "data": {
      "text/html": [
       "<strong><a href=http://dx.doi.org/10.3233/JAD-170063>Smoking, APOE Genotype, and Cognitive Decline: The Rotterdam Study.</a></strong><br>2017. Wingbermühle R, Wen KX, Wolters FJ, Ikram MA, Bos D<br>[ID: 28304310]"
      ],
      "text/plain": [
       "<IPython.core.display.HTML object>"
      ]
     },
     "metadata": {},
     "output_type": "display_data"
    },
    {
     "data": {
      "text/html": [
       "<strong><a href=http://dx.doi.org/10.1080/09602011.2017.1313746>Return to work after mild-to-moderate stroke: work satisfaction and predictive factors.</a></strong><br>2019. van der Kemp J, Kruithof WJ, Nijboer TCW, van Bennekom CAM, van Heugten C, Visser-Meily JMA<br>[ID: 28441897]"
      ],
      "text/plain": [
       "<IPython.core.display.HTML object>"
      ]
     },
     "metadata": {},
     "output_type": "display_data"
    },
    {
     "data": {
      "text/html": [
       "<strong><a href=http://dx.doi.org/10.1001/jamaneurol.2017.2248>Association Between Poor Cognitive Functioning and Risk of Incident Parkinsonism: The Rotterdam Study.</a></strong><br>2017. Darweesh SKL, Wolters FJ, Postuma RB, Stricker BH, Hofman A, Koudstaal PJ, Ikram MK, Ikram MA<br>[ID: 28973176]"
      ],
      "text/plain": [
       "<IPython.core.display.HTML object>"
      ]
     },
     "metadata": {},
     "output_type": "display_data"
    },
    {
     "data": {
      "text/html": [
       "<strong><a href=http://dx.doi.org/10.3233/JAD-170458>Plasma Amyloid-β Levels, Cerebral Small Vessel Disease, and Cognition: The Rotterdam Study.</a></strong><br>2017. Hilal S, Akoudad S, van Duijn CM, Niessen WJ, Verbeek MM, Vanderstichele H, Stoops E, Ikram MA, Vernooij MW<br>[ID: 28984600]"
      ],
      "text/plain": [
       "<IPython.core.display.HTML object>"
      ]
     },
     "metadata": {},
     "output_type": "display_data"
    },
    {
     "data": {
      "text/html": [
       "<strong><a href=http://dx.doi.org/10.3233/JAD-180055>Subjective Sleep Quality is not Associated with Incident Dementia: The Rotterdam Study.</a></strong><br>2018. Lysen TS, Wolters FJ, Luik AI, Ikram MK, Tiemeier H, Ikram MA<br>[ID: 29865066]"
      ],
      "text/plain": [
       "<IPython.core.display.HTML object>"
      ]
     },
     "metadata": {},
     "output_type": "display_data"
    },
    {
     "data": {
      "text/html": [
       "<strong><a href=http://dx.doi.org/10.1016/j.jaad.2018.07.046>Psoriasis is not associated with cognition, brain imaging markers, and risk for dementia: The Rotterdam Study.</a></strong><br>2021. Pezzolo E, Mutlu U, Vernooij MW, Dowlatshahi EA, Gisondi P, Girolomoni G, Nijsten T, Ikram MA, Wakkee M<br>[ID: 30092331]"
      ],
      "text/plain": [
       "<IPython.core.display.HTML object>"
      ]
     },
     "metadata": {},
     "output_type": "display_data"
    },
    {
     "data": {
      "text/html": [
       "<strong><a href=http://dx.doi.org/10.1016/j.neuroimage.2018.08.037>Disconnection due to white matter hyperintensities is associated with lower cognitive scores.</a></strong><br>2018. Langen CD, Cremers LGM, de Groot M, White T, Ikram MA, Niessen WJ, Vernooij MW<br>[ID: 30144572]"
      ],
      "text/plain": [
       "<IPython.core.display.HTML object>"
      ]
     },
     "metadata": {},
     "output_type": "display_data"
    },
    {
     "data": {
      "text/html": [
       "<strong><a href=http://dx.doi.org/10.1159/000492203>Progression of Hearing Loss in the Aging Population: Repeated Auditory Measurements in the Rotterdam Study.</a></strong><br>2018. Rigters SC, van der Schroeff MP, Papageorgiou G, Baatenburg de Jong RJ, Goedegebure A<br>[ID: 30537711]"
      ],
      "text/plain": [
       "<IPython.core.display.HTML object>"
      ]
     },
     "metadata": {},
     "output_type": "display_data"
    },
    {
     "data": {
      "text/html": [
       "<strong><a href=http://dx.doi.org/10.1161/JAHA.118.009847>Association of Blood Pressure and Arterial Stiffness With Cognition in 2 Population-Based Child and Adult Cohorts.</a></strong><br>2018. Lamballais S, Sajjad A, Leening MJG, Gaillard R, Franco OH, Mattace-Raso FUS, Jaddoe VWV, Roza SJ, Tiemeier H, Ikram MA<br>[ID: 30608188]"
      ],
      "text/plain": [
       "<IPython.core.display.HTML object>"
      ]
     },
     "metadata": {},
     "output_type": "display_data"
    },
    {
     "data": {
      "text/html": [
       "<strong><a href=http://dx.doi.org/10.18632/aging.101844>Genetic variation underlying cognition and its relation with neurological outcomes and brain imaging.</a></strong><br>2019. Knol MJ, Heshmatollah A, Cremers LGM, Ikram MK, Uitterlinden AG, van Duijn CM, Niessen WJ, Vernooij MW, Ikram MA, Adams HHH<br>[ID: 30830859]"
      ],
      "text/plain": [
       "<IPython.core.display.HTML object>"
      ]
     },
     "metadata": {},
     "output_type": "display_data"
    },
    {
     "data": {
      "text/html": [
       "<strong><a href=http://dx.doi.org/10.1212/WNL.0000000000008090>Prevalence and clinical relevance of diffusion-weighted imaging lesions: The Rotterdam study.</a></strong><br>2019. Hilal S, Baaij LGA, de Groot M, Niessen WJ, Ikram MK, Ikram MA, Vernooij MW<br>[ID: 31391244]"
      ],
      "text/plain": [
       "<IPython.core.display.HTML object>"
      ]
     },
     "metadata": {},
     "output_type": "display_data"
    },
    {
     "data": {
      "text/html": [
       "<strong><a href=http://dx.doi.org/10.3390/medicina55110737>Transition-Age Young Adults with Cerebral Palsy: Level of Participation and the Influencing Factors.</a></strong><br>2019. Rožkalne Z, Mukāns M, Vētra A<br>[ID: 31739609]"
      ],
      "text/plain": [
       "<IPython.core.display.HTML object>"
      ]
     },
     "metadata": {},
     "output_type": "display_data"
    },
    {
     "data": {
      "text/html": [
       "<strong><a href=http://dx.doi.org/10.1080/09602011.2019.1692670>The relationship between social cognition and participation in the long term after stroke.</a></strong><br>2021. Stiekema APM, Nijsse B, de Kort PLM, Spikman JM, Visser-Meily JMA, van Heugten CM<br>[ID: 31854264]"
      ],
      "text/plain": [
       "<IPython.core.display.HTML object>"
      ]
     },
     "metadata": {},
     "output_type": "display_data"
    },
    {
     "data": {
      "text/html": [
       "<strong><a href=http://dx.doi.org/10.3389/fneur.2019.01276>Application of an Imaging-Based Sum Score for Cerebral Amyloid Angiopathy to the General Population: Risk of Major Neurological Diseases and Mortality.</a></strong><br>2019. Yilmaz P, Ikram MA, Ikram MK, Niessen WJ, Viswanathan A, Charidimou A, Vernooij MW<br>[ID: 31866930]"
      ],
      "text/plain": [
       "<IPython.core.display.HTML object>"
      ]
     },
     "metadata": {},
     "output_type": "display_data"
    },
    {
     "data": {
      "text/html": [
       "<strong><a href=http://dx.doi.org/10.1016/j.neuroimage.2020.116637>Cortical gyrification in relation to age and cognition in older adults.</a></strong><br>2020. Lamballais S, Vinke EJ, Vernooij MW, Ikram MA, Muetzel RL<br>[ID: 32081782]"
      ],
      "text/plain": [
       "<IPython.core.display.HTML object>"
      ]
     },
     "metadata": {},
     "output_type": "display_data"
    },
    {
     "data": {
      "text/html": [
       "<strong><a href=http://dx.doi.org/10.1038/s41598-020-63295-y>Cognitive and physical impairment and the risk of stroke - A prospective cohort study.</a></strong><br>2020. Heshmatollah A, Mutlu U, Koudstaal PJ, Ikram MA, Ikram MK<br>[ID: 32286410]"
      ],
      "text/plain": [
       "<IPython.core.display.HTML object>"
      ]
     },
     "metadata": {},
     "output_type": "display_data"
    },
    {
     "data": {
      "text/html": [
       "<strong><a href=http://dx.doi.org/10.1080/09602011.2020.1769687>Which approach to measure cognitive functioning should be preferred when exploring the association between cognitive functioning and participation after stroke?</a></strong><br>2021. de Graaf JA, Nijsse B, Schepers VPM, van Heugten CM, Post MWM, Visser-Meily JMA<br>[ID: 32496877]"
      ],
      "text/plain": [
       "<IPython.core.display.HTML object>"
      ]
     },
     "metadata": {},
     "output_type": "display_data"
    },
    {
     "data": {
      "text/html": [
       "<strong><a href=http://dx.doi.org/10.5964/ejop.v16i1.1832>Examining the Relationship Between Engagement and Perceived Stress-Related Cognitive Complaints in the Argentinian Working Population.</a></strong><br>2020. Miranda AR, Rivadero L, Bruera JÁ, Villarreal V, Bernio LY, de Los Ángeles Baydas L, Brizuela ML, Serra SV<br>[ID: 33680167]"
      ],
      "text/plain": [
       "<IPython.core.display.HTML object>"
      ]
     },
     "metadata": {},
     "output_type": "display_data"
    },
    {
     "data": {
      "text/html": [
       "<strong><a href=http://dx.doi.org/10.1038/s41598-021-87963-9>Herpes simplex virus 1 and the risk of dementia: a population-based study.</a></strong><br>2021. Murphy MJ, Fani L, Ikram MK, Ghanbari M, Ikram MA<br>[ID: 33888766]"
      ],
      "text/plain": [
       "<IPython.core.display.HTML object>"
      ]
     },
     "metadata": {},
     "output_type": "display_data"
    },
    {
     "data": {
      "text/html": [
       "<strong><a href=http://dx.doi.org/10.1007/s11357-021-00485-0>Seasonality of cognitive function in the general population: the Rotterdam Study.</a></strong><br>2022. Mooldijk SS, Licher S, Vernooij MW, Ikram MK, Ikram MA<br>[ID: 34750718]"
      ],
      "text/plain": [
       "<IPython.core.display.HTML object>"
      ]
     },
     "metadata": {},
     "output_type": "display_data"
    },
    {
     "data": {
      "text/html": [
       "<strong><a href=http://dx.doi.org/10.1007/s00415-022-11027-9>Lung function impairment in relation to cognition and vascular brain lesions: the Rotterdam Study.</a></strong><br>2022. Xiao T, Wijnant SRA, van der Velpen I, Terzikhan N, Lahousse L, Ikram MK, Vernooij MW, Brusselle GG, Ikram MA<br>[ID: 35267082]"
      ],
      "text/plain": [
       "<IPython.core.display.HTML object>"
      ]
     },
     "metadata": {},
     "output_type": "display_data"
    },
    {
     "data": {
      "text/html": [
       "<strong><a href=http://dx.doi.org/10.1212/WNL.0000000000200770>Association of Nonalcoholic Fatty Liver Disease and Fibrosis With Incident Dementia and Cognition: The Rotterdam Study.</a></strong><br>2022. Xiao T, van Kleef L, Ikram MK, De Knegt R, Ikram MA<br>[ID: 35618435]"
      ],
      "text/plain": [
       "<IPython.core.display.HTML object>"
      ]
     },
     "metadata": {},
     "output_type": "display_data"
    },
    {
     "data": {
      "text/html": [
       "<strong><a href=http://dx.doi.org/10.1007/s00415-022-11374-7>The association of serum immunoglobulins with cognition and dementia: the Rotterdam Study.</a></strong><br>2022. Khan SR, Yaqub A, Ikram MK, van Hagen PM, Peeters RP, Dalm VASH, Chaker L, Ikram MA<br>[ID: 36123443]"
      ],
      "text/plain": [
       "<IPython.core.display.HTML object>"
      ]
     },
     "metadata": {},
     "output_type": "display_data"
    },
    {
     "data": {
      "text/html": [
       "<strong><a href=http://dx.doi.org/10.1007/s10654-022-00902-4>The long-term relation between physical activity and executive function in the Rotterdam Study.</a></strong><br>2022. Galle SA, Liu J, Bonnechère B, Amin N, Milders MM, Deijen JB, Scherder EJA, Drent ML, Voortman T, Ikram MA, van Duijn CM<br>[ID: 36166135]"
      ],
      "text/plain": [
       "<IPython.core.display.HTML object>"
      ]
     },
     "metadata": {},
     "output_type": "display_data"
    }
   ],
   "source": [
    "def or_query(query_string):  \n",
    "    query_words = preprocess(tokenize(query_string))  \n",
    "    first_word = query_words[0]  \n",
    "    remaining_words = query_words[1:]  \n",
    "    or_list = inverted_index[first_word]  \n",
    "    for t in remaining_words:  \n",
    "        or_list = or_merge(or_list, inverted_index[t])  \n",
    "    return or_list  \n",
    "\n",
    "example_query = \"rotterdam utrecht\"  \n",
    "example_result = or_query(example_query)  \n",
    "print(\"Results for the OR-query '\" + example_query + \"':\")  \n",
    "for paper in example_result:  \n",
    "    display_summary(paper)  "
   ]
  },
  {
   "cell_type": "markdown",
   "metadata": {},
   "source": [
    "### Task 5\n",
    "\n",
    "Why does `and_query('adult handgrip strength')` not return our example paper 28102890, even though it mentions handgrip strength and adults in the abstract? (You do not have to implement anything to fix this yet!)"
   ]
  },
  {
   "cell_type": "markdown",
   "metadata": {},
   "source": [
    "**Answer:** This article contains the phrase \"adults\" but not its singular form \"adult\". No stemming or lemmatization is performed, and so these are considered different terms. Furthermore, \"experiment\" occurs in the abstract, but is always followed by a comma, which has the effect that the token \"experiment,\" is stored in the index, which is not equal to \"experiment\". For these two reasons, paper 34648542 does not appear in the search results (but it does appear for a modified query `and_query('adult handgrip strength,')`."
   ]
  },
  {
   "cell_type": "markdown",
   "metadata": {},
   "source": [
    "# Submission"
   ]
  },
  {
   "cell_type": "markdown",
   "metadata": {},
   "source": [
    "Submit the answers to the assignment via Canvas as a modified version of this Notebook file (file with `.ipynb` extension) that includes your code and your answers.\n",
    "\n",
    "Before submitting, restart the kernel and re-run the complete code (**Kernel > Restart & Run All**), and then check whether your assignment code still works as expected.\n",
    "\n",
    "Don't forget to add your name, and remember that the assignments have to be done **individually**, and that code sharing or copying are **strictly forbidden** and will be punished."
   ]
  }
 ],
 "metadata": {
  "kernelspec": {
   "display_name": "Python 3.8.0 64-bit",
   "language": "python",
   "name": "python3"
  },
  "language_info": {
   "codemirror_mode": {
    "name": "ipython",
    "version": 3
   },
   "file_extension": ".py",
   "mimetype": "text/x-python",
   "name": "python",
   "nbconvert_exporter": "python",
   "pygments_lexer": "ipython3",
   "version": "3.8.0"
  },
  "vscode": {
   "interpreter": {
    "hash": "082e9a3bcad0a290d0001e938aa60b99250c6c2ef33a923c00b70f9826caf4b7"
   }
  }
 },
 "nbformat": 4,
 "nbformat_minor": 4
}
