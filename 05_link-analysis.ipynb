{
 "cells": [
  {
   "cell_type": "markdown",
   "metadata": {},
   "source": [
    "# Assignment 5: Link Analysis"
   ]
  },
  {
   "cell_type": "markdown",
   "metadata": {},
   "source": [
    "In this assignment, we will use network-based algorithms, such as PageRank, to improve our search results. After the last assignment on evaluating IR systems, we go back to our PubMed dataset of scientific papers. In this dataset, we look at two graphs in particular: the co-authorship network and the citation network.\n",
    "\n",
    "The citation network is similar to the link network of the web: Citations are like web links pointing to other documents. We can therefore apply the same network-based ranking methods."
   ]
  },
  {
   "cell_type": "markdown",
   "metadata": {},
   "source": [
    "## Code from previous assignments"
   ]
  },
  {
   "cell_type": "code",
   "execution_count": 1,
   "metadata": {},
   "outputs": [],
   "source": [
    "import pickle, bz2\n",
    "from collections import defaultdict, namedtuple, Counter\n",
    "from math import log10, sqrt\n",
    "from IPython.display import display, HTML\n",
    "import matplotlib.pyplot as plt\n",
    "\n",
    "# show plots inline within the notebook\n",
    "%matplotlib inline\n",
    "# set plots' resolution\n",
    "plt.rcParams['savefig.dpi'] = 100"
   ]
  },
  {
   "cell_type": "code",
   "execution_count": 2,
   "metadata": {},
   "outputs": [],
   "source": [
    "Ids_file = 'data/cognition_Ids.pkl.bz2'\n",
    "Summaries_file = 'data/cognition_Summaries.pkl.bz2'\n",
    "Citations_file = 'data/cognition_Citations.pkl.bz2'\n",
    "Abstracts_file = 'data/cognition_Abstracts.pkl.bz2'\n",
    "\n",
    "Ids = pickle.load( bz2.BZ2File( Ids_file, 'rb' ) )\n",
    "Summaries = pickle.load( bz2.BZ2File( Summaries_file, 'rb' ) )\n",
    "Citations = pickle.load( bz2.BZ2File( Citations_file, 'rb' ) )\n",
    "Abstracts = pickle.load( bz2.BZ2File( Abstracts_file, 'rb' ) )\n",
    "\n",
    "paper = namedtuple( 'paper', ['title', 'authors', 'year', 'doi'] )\n",
    "\n",
    "for (id, paper_info) in Summaries.items():\n",
    "    Summaries[id] = paper( *paper_info )"
   ]
  },
  {
   "cell_type": "code",
   "execution_count": 3,
   "metadata": {},
   "outputs": [],
   "source": [
    "def display_summary( id, show_abstract=False, show_id=True, extra_text='' ):\n",
    "    \"\"\"\n",
    "    Function for printing a paper's summary through IPython's Rich Display System.\n",
    "    Trims long author lists, and adds a link to the paper's DOI (when available).\n",
    "    \"\"\"\n",
    "    s = Summaries[id]\n",
    "    lines = []\n",
    "    title = s.title\n",
    "    \n",
    "    if s.doi != '':\n",
    "        title = '<a href=http://dx.doi.org/{:s}>{:s}</a>'.format(s.doi, title)\n",
    "    title = '<strong>' + title + '</strong>'\n",
    "    lines.append(title)\n",
    "    authors = ', '.join( s.authors[:20] ) + ('' if len(s.authors) <= 20 else ', ...')\n",
    "    lines.append(str(s.year) + '. ' + authors)\n",
    "    if (show_abstract):\n",
    "        lines.append('<small><strong>Abstract:</strong> <em>{:s}</em></small>'.format(Abstracts[id]))\n",
    "    if (show_id):\n",
    "        lines.append('[ID: {:d}]'.format(id))\n",
    "    if (extra_text != ''):\n",
    "         lines.append(extra_text)\n",
    "    display( HTML('<br>'.join(lines)) )\n",
    "\n"
   ]
  },
  {
   "cell_type": "code",
   "execution_count": 4,
   "metadata": {},
   "outputs": [],
   "source": [
    "def tokenize(text):\n",
    "    return text.split(' ')\n",
    "\n",
    "def preprocess(tokens):\n",
    "    result = []\n",
    "    for token in tokens:\n",
    "        result.append(token.lower())\n",
    "    return result"
   ]
  },
  {
   "cell_type": "code",
   "execution_count": 5,
   "metadata": {},
   "outputs": [],
   "source": [
    "inverted_index = defaultdict(list)\n",
    "\n",
    "for id in sorted(Summaries.keys()):\n",
    "    term_set = set(preprocess(tokenize(Summaries[id].title)))\n",
    "    if id in Abstracts:\n",
    "        term_set.update(preprocess(tokenize(Abstracts[id])))\n",
    "    for term in term_set:\n",
    "        inverted_index[term].append(id)\n",
    "\n",
    "tf_matrix = defaultdict(Counter)\n",
    "\n",
    "for doc_id in Summaries.keys():\n",
    "    tokens = preprocess(tokenize(Summaries[doc_id].title))\n",
    "    if (doc_id in Abstracts):\n",
    "        tokens.extend(preprocess(tokenize(Abstracts[doc_id])))\n",
    "    tf_matrix[doc_id] = Counter(tokens)\n",
    "\n",
    "def tf(t,d):\n",
    "    return float(tf_matrix[d][t])\n",
    "\n",
    "def df(t):\n",
    "    return float(len(inverted_index[t]))\n",
    "\n",
    "num_documents = float(len(Summaries))\n",
    "\n",
    "def idf(t):\n",
    "    return log10((num_documents + 1)/(df(t) + 1))\n",
    "\n",
    "def tfidf(t,d):\n",
    "    return tf(t,d) * idf(t)"
   ]
  },
  {
   "cell_type": "markdown",
   "metadata": {},
   "source": [
    "## Co-authorship network"
   ]
  },
  {
   "cell_type": "markdown",
   "metadata": {},
   "source": [
    "We start by building a mapping from authors to the set of identifiers of papers they authored.  We'll be using Python sets again for that purpose."
   ]
  },
  {
   "cell_type": "code",
   "execution_count": 6,
   "metadata": {},
   "outputs": [],
   "source": [
    "papers_of_author = defaultdict(set)\n",
    "\n",
    "for (id, p) in Summaries.items():\n",
    "    for a in p.authors:\n",
    "        papers_of_author[a].add(id)"
   ]
  },
  {
   "cell_type": "markdown",
   "metadata": {},
   "source": [
    "Let's try it out:"
   ]
  },
  {
   "cell_type": "code",
   "execution_count": 7,
   "metadata": {},
   "outputs": [
    {
     "data": {
      "text/plain": [
       "{26860092, 26973573, 31649584, 33190365, 33471320}"
      ]
     },
     "execution_count": 7,
     "metadata": {},
     "output_type": "execute_result"
    }
   ],
   "source": [
    "papers_of_author['Jensen C']"
   ]
  },
  {
   "cell_type": "code",
   "execution_count": 8,
   "metadata": {},
   "outputs": [
    {
     "data": {
      "text/html": [
       "<strong><a href=http://dx.doi.org/10.3389/fpsyg.2016.00277>Australian University Students' Coping Strategies and Use of Pharmaceutical Stimulants as Cognitive Enhancers.</a></strong><br>2016. Jensen C, Forlini C, Partridge B, Hall W<br>[ID: 26973573]"
      ],
      "text/plain": [
       "<IPython.core.display.HTML object>"
      ]
     },
     "metadata": {},
     "output_type": "display_data"
    },
    {
     "data": {
      "text/html": [
       "<strong><a href=http://dx.doi.org/10.3389/fpsyg.2019.02233>Occupational Rehabilitation Is Associated With Improvements in Cognitive Functioning.</a></strong><br>2019. Johansen T, Jensen C, Eriksen HR, Lyby PS, Dittrich WH, Holsen IN, Jakobsen H, Øyeflaten I<br>[ID: 31649584]"
      ],
      "text/plain": [
       "<IPython.core.display.HTML object>"
      ]
     },
     "metadata": {},
     "output_type": "display_data"
    },
    {
     "data": {
      "text/html": [
       "<strong><a href=http://dx.doi.org/10.1007/s10926-020-09944-5>Sustained Attention and Working Memory Predict the Number of Days on Health-Related Benefits in the Year Following Occupational Rehabilitation.</a></strong><br>2021. Johansen T, Øyeflaten I, Eriksen HR, Lyby PS, Dittrich WH, Holsen I, Jakobsen H, Del Risco Kollerud R, Jensen C<br>[ID: 33471320]"
      ],
      "text/plain": [
       "<IPython.core.display.HTML object>"
      ]
     },
     "metadata": {},
     "output_type": "display_data"
    },
    {
     "data": {
      "text/html": [
       "<strong><a href=http://dx.doi.org/10.1007/s00415-016-8035-1>Prevalence and symptoms of intracranial arachnoid cysts: a population-based study.</a></strong><br>2016. Rabiei K, Jaraj D, Marlow T, Jensen C, Skoog I, Wikkelsø C<br>[ID: 26860092]"
      ],
      "text/plain": [
       "<IPython.core.display.HTML object>"
      ]
     },
     "metadata": {},
     "output_type": "display_data"
    },
    {
     "data": {
      "text/html": [
       "<strong><a href=http://dx.doi.org/10.1111/dar.13190>Study drug use among university students in Western Australia: Results of a web survey and their policy and practice implications.</a></strong><br>2021. Nelson M, Jensen C, Lenton S<br>[ID: 33190365]"
      ],
      "text/plain": [
       "<IPython.core.display.HTML object>"
      ]
     },
     "metadata": {},
     "output_type": "display_data"
    }
   ],
   "source": [
    "for id in papers_of_author['Jensen C']:\n",
    "    display_summary(id)"
   ]
  },
  {
   "cell_type": "markdown",
   "metadata": {},
   "source": [
    "We can now build a co-authorship network, that is a graph linking authors to the set of co-authors they have published with:"
   ]
  },
  {
   "cell_type": "code",
   "execution_count": 9,
   "metadata": {},
   "outputs": [],
   "source": [
    "coauthors = defaultdict(set)\n",
    "\n",
    "for p in Summaries.values():\n",
    "    for a in p.authors:\n",
    "        coauthors[a].update(p.authors)\n",
    "\n",
    "# The code above results in each author being listed as having co-authored with himself/herself.\n",
    "# We remove these self-references here:\n",
    "for (a, ca) in coauthors.items():\n",
    "    ca.remove(a)"
   ]
  },
  {
   "cell_type": "markdown",
   "metadata": {},
   "source": [
    "And let's try it out again:"
   ]
  },
  {
   "cell_type": "code",
   "execution_count": 10,
   "metadata": {},
   "outputs": [
    {
     "name": "stdout",
     "output_type": "stream",
     "text": [
      "Johansen T, Dittrich WH, Forlini C, Lyby PS, Del Risco Kollerud R, Holsen IN, Marlow T, Nelson M, Rabiei K, Øyeflaten I, Lenton S, Holsen I, Eriksen HR, Jakobsen H, Jaraj D, Partridge B, Skoog I, Wikkelsø C, Hall W\n"
     ]
    }
   ],
   "source": [
    "print(', '.join( coauthors['Jensen C'] ))"
   ]
  },
  {
   "cell_type": "markdown",
   "metadata": {},
   "source": [
    "Unlike a citation or link network, the edges of this co-authorship network are not directed: There is no direction (no arrow) in the link between author 'Jensen C' and 'Holsen IN', for example. With our chosen implementation, each of these links in fact appears twice in our data, as we also get 'Jensen C' as co-author when we look for 'Holsen IN':"
   ]
  },
  {
   "cell_type": "code",
   "execution_count": 11,
   "metadata": {},
   "outputs": [
    {
     "name": "stdout",
     "output_type": "stream",
     "text": [
      "Johansen T, Dittrich WH, Jensen C, Eriksen HR, Jakobsen H, Øyeflaten I, Lyby PS\n"
     ]
    }
   ],
   "source": [
    "print(', '.join( coauthors['Holsen IN'] ))"
   ]
  },
  {
   "cell_type": "markdown",
   "metadata": {},
   "source": [
    "With that in mind, we can calculate some basic statistics about our graph:"
   ]
  },
  {
   "cell_type": "code",
   "execution_count": 12,
   "metadata": {},
   "outputs": [
    {
     "name": "stdout",
     "output_type": "stream",
     "text": [
      "Number of nodes (authors):  232358\n",
      "Number of links (co-authorship relations):  1999606\n"
     ]
    }
   ],
   "source": [
    "print('Number of nodes (authors): ', len(coauthors))\n",
    "\n",
    "# We divide by two here to account for the fact that each edge is represented twice (see above):\n",
    "coauthor_rel_count = int(sum( len(c) for c in coauthors.values() ) / 2)\n",
    "print('Number of links (co-authorship relations): ', coauthor_rel_count)"
   ]
  },
  {
   "cell_type": "markdown",
   "metadata": {},
   "source": [
    "With this data at hand, we can plot the [degree distribution](https://en.wikipedia.org/wiki/Degree_distribution) by showing the number of collaborators a scientist has published with:"
   ]
  },
  {
   "cell_type": "code",
   "execution_count": 13,
   "metadata": {},
   "outputs": [
    {
     "data": {
      "image/png": "[encoded data removed]",
      "text/plain": [
       "<Figure size 640x480 with 1 Axes>"
      ]
     },
     "metadata": {},
     "output_type": "display_data"
    }
   ],
   "source": [
    "plt.hist( x=[ len(ca) for ca in coauthors.values() ], bins=range(60) )\n",
    "plt.xlabel('number of co-authors')\n",
    "plt.ylabel('number of researchers')\n",
    "plt.xlim(0,51);"
   ]
  },
  {
   "cell_type": "markdown",
   "metadata": {},
   "source": [
    "Now that we have explored this network, let's move to the citation network."
   ]
  },
  {
   "cell_type": "markdown",
   "metadata": {},
   "source": [
    "## Citations network"
   ]
  },
  {
   "cell_type": "markdown",
   "metadata": {},
   "source": [
    "Next, we can look at the citation network. In contrast to the co-authorship network, the citation network is a _directed_ network, where edges can be drawn as arrows. We'll start by expanding the our data about citations into two mappings: \n",
    "\n",
    "* `papers_citing[id]`: papers citing a given paper\n",
    "* `cited_by[id]`: papers cited by a given paper (in other words: its list of references)\n",
    "\n",
    "`papers_citing` will give us the list of a node's incoming links, whereas `cited_by` will give us the list of its outgoing links."
   ]
  },
  {
   "cell_type": "code",
   "execution_count": 14,
   "metadata": {},
   "outputs": [],
   "source": [
    "papers_citing = Citations  # no changes needed, this is what we are storing already in the Citations dataset\n",
    "\n",
    "cited_by = defaultdict(list)\n",
    "\n",
    "for ref, papers_citing_ref in papers_citing.items():\n",
    "    for id in papers_citing_ref:\n",
    "        cited_by[ id ].append( ref )"
   ]
  },
  {
   "cell_type": "markdown",
   "metadata": {},
   "source": [
    "As we are dealing with a subset of the data (the papers mentioning \"cognition\"), `papers_citing` can contain references to papers outside of our subset. On the other hand, the way we created `cited_by`, it will only contain backward references from within our dataset, meaning that it is incomplete with respect to the whole dataset. Nethertheless, we can use this citation network on our subset of emotion-related papers to implement link analysis techniques.\n",
    "\n",
    "Let us now look at an exemplary paper, let's say the one with identifier 26784347. We can now use the `cited_by` mapping to retrieve its (incomplete) list of references:"
   ]
  },
  {
   "cell_type": "code",
   "execution_count": 15,
   "metadata": {},
   "outputs": [
    {
     "name": "stdout",
     "output_type": "stream",
     "text": [
      "2 references found for paper 26973573\n"
     ]
    },
    {
     "data": {
      "text/plain": [
       "{24606831: 'Life context of pharmacological academic performance enhancement among university students--a qualitative approach.',\n",
       " 23486311: 'Just How Cognitive Is \"Cognitive Enhancement\"? On the Significance of Emotions in University Students\\' Experiences with Study Drugs.'}"
      ]
     },
     "execution_count": 15,
     "metadata": {},
     "output_type": "execute_result"
    }
   ],
   "source": [
    "paper_id = 26973573\n",
    "refs = { id : Summaries[id].title for id in cited_by[paper_id] }\n",
    "print(len(refs), 'references found for paper', paper_id)\n",
    "refs"
   ]
  },
  {
   "cell_type": "markdown",
   "metadata": {},
   "source": [
    "If we lookup the same paper in `papers_citing`, we now see that some of the cited papers are themselves in our dataset, but others are not (shown below as `'??'`):"
   ]
  },
  {
   "cell_type": "code",
   "execution_count": 16,
   "metadata": {},
   "outputs": [
    {
     "data": {
      "text/plain": [
       "{35742024: '??',\n",
       " 35478516: '??',\n",
       " 35081158: '??',\n",
       " 34964411: '??',\n",
       " 34485541: '??',\n",
       " 33897499: '??',\n",
       " 33802176: '??',\n",
       " 31934382: '??',\n",
       " 31554263: '??',\n",
       " 31391711: 'Developing expertise, customising sleep, enhancing study practices: exploring the legitimisation of modafinil use within the accounts of UK undergraduate students.',\n",
       " 31143791: '??',\n",
       " 30681970: '??',\n",
       " 30453936: '??',\n",
       " 29904327: '??',\n",
       " 28554200: 'The Memory-Enhancing Effects of Liquiritigenin by Activation of NMDA Receptors and the CREB Signaling Pathway in Mice.'}"
      ]
     },
     "execution_count": 16,
     "metadata": {},
     "output_type": "execute_result"
    }
   ],
   "source": [
    "{ id : Summaries.get(id,['??'])[0]  for id in papers_citing[paper_id] }"
   ]
  },
  {
   "cell_type": "markdown",
   "metadata": {},
   "source": [
    "Paper 35742024, for example, is not in our dataset and we do not have any direct information about it, but its repeated occurrence in other papers' citation lists does allow us to reconstruct some of its references. Below is the list of papers in our dataset cited by that paper:"
   ]
  },
  {
   "cell_type": "code",
   "execution_count": 17,
   "metadata": {},
   "outputs": [
    {
     "name": "stdout",
     "output_type": "stream",
     "text": [
      "6 references identified for the paper with id 35742024\n"
     ]
    },
    {
     "data": {
      "text/plain": [
       "{35206801: 'Can Nutrients and Dietary Supplements Potentially Improve Cognitive Performance Also in Esports?',\n",
       " 31101387: 'The influence of environmental pressure on Internet Use Disorder in adolescents: The potential mediating role of cognitive function.',\n",
       " 27706797: 'Repurposing Drugs for Cognition in Schizophrenia.',\n",
       " 26973573: \"Australian University Students' Coping Strategies and Use of Pharmaceutical Stimulants as Cognitive Enhancers.\",\n",
       " 19300592: \"Potential cognitive enhancing and disease modification effects of SSRIs for Alzheimer's disease.\",\n",
       " 15330974: 'Cognition-enhancing drugs.'}"
      ]
     },
     "execution_count": 17,
     "metadata": {},
     "output_type": "execute_result"
    }
   ],
   "source": [
    "paper_id2 = 35742024\n",
    "refs2 = { id : Summaries[id].title for id in cited_by[paper_id2] }\n",
    "print(len(refs2), 'references identified for the paper with id', paper_id2)\n",
    "refs2"
   ]
  },
  {
   "cell_type": "markdown",
   "metadata": {},
   "source": [
    "Now that we have a better understanding about the data we're dealing with, let us obtain again some basic statistics about our graph."
   ]
  },
  {
   "cell_type": "code",
   "execution_count": 18,
   "metadata": {},
   "outputs": [
    {
     "name": "stdout",
     "output_type": "stream",
     "text": [
      "Number of papers in our subset: 102128 (100.00 %)\n",
      "Number of papers cited at least once: 82163 (80.45 %)\n",
      "Number of isolated nodes:  14342 (14.04 %)\n"
     ]
    }
   ],
   "source": [
    "n = len(Ids)\n",
    "print('Number of papers in our subset: {:d} ({:.2f} %)'.format(n, 100.0) )\n",
    "\n",
    "with_citation = [ id for id in Ids if papers_citing[id] != [] ]\n",
    "with_citation_rel = 100. * len(with_citation) / n\n",
    "print('Number of papers cited at least once: {:d} ({:.2f} %)'.format(len(with_citation), with_citation_rel) )\n",
    "\n",
    "isolated = set( id for id in Ids if papers_citing[id] == [] and id not in cited_by )\n",
    "isolated_rel = 100. * len(isolated) / n\n",
    "print('Number of isolated nodes:  {:d} ({:.2f} %)'.format(len(isolated), isolated_rel) )"
   ]
  },
  {
   "cell_type": "code",
   "execution_count": 19,
   "metadata": {},
   "outputs": [
    {
     "name": "stdout",
     "output_type": "stream",
     "text": [
      "Overall number of nodes: 591542 (100.00 %)\n",
      "Number of non-isolated nodes: 577200 (97.58 %)\n",
      "Number of nodes outside our subset: 489414 (82.74 %)\n"
     ]
    }
   ],
   "source": [
    "id_set = set( Ids )\n",
    "citing_set = set( cited_by.keys() )\n",
    "\n",
    "outsiders = citing_set - id_set   # set difference\n",
    "nodes = citing_set | id_set   # set union\n",
    "non_isolated = nodes - isolated   # set difference\n",
    "\n",
    "print('Overall number of nodes: {:d} ({:.2f} %)'.format(len(nodes), 100.0) )\n",
    "\n",
    "non_isolated_rel = 100. * len(non_isolated) / len(nodes)\n",
    "print('Number of non-isolated nodes: {:d} ({:.2f} %)'.format(len(non_isolated), non_isolated_rel) )\n",
    "\n",
    "outsiders_rel = 100. * len(outsiders) / len(nodes)\n",
    "print('Number of nodes outside our subset: {:d} ({:.2f} %)'.format( len(outsiders), outsiders_rel ) )"
   ]
  },
  {
   "cell_type": "code",
   "execution_count": 20,
   "metadata": {},
   "outputs": [
    {
     "name": "stdout",
     "output_type": "stream",
     "text": [
      "Overall number of links (citations): 1481661 (100.00 %)\n",
      "Citations outside the subset: 1215358 (82.03 %)\n"
     ]
    }
   ],
   "source": [
    "all_citations = [ c for citing in papers_citing.values() for c in citing ]\n",
    "outsider_citations = [ c for citing in papers_citing.values() for c in citing if c in outsiders ]\n",
    "\n",
    "print('Overall number of links (citations): {:d} ({:.2f} %)'.format(len(all_citations), 100.0) )\n",
    "\n",
    "outsider_citations_rel = 100. * len(outsider_citations) / len(all_citations)\n",
    "print('Citations outside the subset: {:d} ({:.2f} %)'.format(len(outsider_citations), outsider_citations_rel) )"
   ]
  },
  {
   "cell_type": "markdown",
   "metadata": {},
   "source": [
    "Let us now find our which 10 papers are the most cited in our dataset."
   ]
  },
  {
   "cell_type": "code",
   "execution_count": 21,
   "metadata": {},
   "outputs": [
    {
     "data": {
      "text/html": [
       "<strong><a href=http://dx.doi.org/10.1196/annals.1440.011>The brain's default network: anatomy, function, and relevance to disease.</a></strong><br>2008. Buckner RL, Andrews-Hanna JR, Schacter DL<br>[ID: 18400922]<br>Citation count: 3553"
      ],
      "text/plain": [
       "<IPython.core.display.HTML object>"
      ]
     },
     "metadata": {},
     "output_type": "display_data"
    },
    {
     "data": {
      "text/html": [
       "<strong><a href=http://dx.doi.org/10.1016/j.jalz.2011.03.003>Toward defining the preclinical stages of Alzheimer's disease: recommendations from the National Institute on Aging-Alzheimer's Association workgroups on diagnostic guidelines for Alzheimer's disease.</a></strong><br>2011. Sperling RA, Aisen PS, Beckett LA, Bennett DA, Craft S, Fagan AM, Iwatsubo T, Jack CR Jr, Kaye J, Montine TJ, Park DC, Reiman EM, Rowe CC, Siemers E, Stern Y, Yaffe K, Carrillo MC, Thies B, Morrison-Bogorad M, Wagster MV, ...<br>[ID: 21514248]<br>Citation count: 2461"
      ],
      "text/plain": [
       "<IPython.core.display.HTML object>"
      ]
     },
     "metadata": {},
     "output_type": "display_data"
    },
    {
     "data": {
      "text/html": [
       "<strong><a href=http://dx.doi.org/10.1152/jn.00338.2011>The organization of the human cerebral cortex estimated by intrinsic functional connectivity.</a></strong><br>2011. Yeo BT, Krienen FM, Sepulcre J, Sabuncu MR, Lashkari D, Hollinshead M, Roffman JL, Smoller JW, Zöllei L, Polimeni JR, Fischl B, Liu H, Buckner RL<br>[ID: 21653723]<br>Citation count: 2433"
      ],
      "text/plain": [
       "<IPython.core.display.HTML object>"
      ]
     },
     "metadata": {},
     "output_type": "display_data"
    },
    {
     "data": {
      "text/html": [
       "<strong><a href=http://dx.doi.org/10.1016/S2215-0366(20)30168-1>Multidisciplinary research priorities for the COVID-19 pandemic: a call for action for mental health science.</a></strong><br>2020. Holmes EA, O'Connor RC, Perry VH, Tracey I, Wessely S, Arseneault L, Ballard C, Christensen H, Cohen Silver R, Everall I, Ford T, John A, Kabir T, King K, Madan I, Michie S, Przybylski AK, Shafran R, Sweeney A, Worthman CM, ...<br>[ID: 32304649]<br>Citation count: 1970"
      ],
      "text/plain": [
       "<IPython.core.display.HTML object>"
      ]
     },
     "metadata": {},
     "output_type": "display_data"
    },
    {
     "data": {
      "text/html": [
       "<strong><a href=http://dx.doi.org/10.1007/s00429-010-0262-0>Saliency, switching, attention and control: a network model of insula function.</a></strong><br>2010. Menon V, Uddin LQ<br>[ID: 20512370]<br>Citation count: 1922"
      ],
      "text/plain": [
       "<IPython.core.display.HTML object>"
      ]
     },
     "metadata": {},
     "output_type": "display_data"
    },
    {
     "data": {
      "text/html": [
       "<strong><a href=http://dx.doi.org/10.1503/cmaj.050051>A global clinical measure of fitness and frailty in elderly people.</a></strong><br>2005. Rockwood K, Song X, MacKnight C, Bergman H, Hogan DB, McDowell I, Mitnitski A<br>[ID: 16129869]<br>Citation count: 1810"
      ],
      "text/plain": [
       "<IPython.core.display.HTML object>"
      ]
     },
     "metadata": {},
     "output_type": "display_data"
    },
    {
     "data": {
      "text/html": [
       "<strong><a href=http://dx.doi.org/10.1016/s1364-6613(00)01483-2>Cognitive and emotional influences in anterior cingulate cortex.</a></strong><br>2000. Bush G, Luu P, Posner MI<br>[ID: 10827444]<br>Citation count: 1726"
      ],
      "text/plain": [
       "<IPython.core.display.HTML object>"
      ]
     },
     "metadata": {},
     "output_type": "display_data"
    },
    {
     "data": {
      "text/html": [
       "<strong><a href=http://dx.doi.org/10.1038/nrn2639>Effects of stress throughout the lifespan on the brain, behaviour and cognition.</a></strong><br>2009. Lupien SJ, McEwen BS, Gunnar MR, Heim C<br>[ID: 19401723]<br>Citation count: 1647"
      ],
      "text/plain": [
       "<IPython.core.display.HTML object>"
      ]
     },
     "metadata": {},
     "output_type": "display_data"
    },
    {
     "data": {
      "text/html": [
       "<strong><a href=http://dx.doi.org/10.1016/j.neuron.2008.04.017>The reorienting system of the human brain: from environment to theory of mind.</a></strong><br>2008. Corbetta M, Patel G, Shulman GL<br>[ID: 18466742]<br>Citation count: 1298"
      ],
      "text/plain": [
       "<IPython.core.display.HTML object>"
      ]
     },
     "metadata": {},
     "output_type": "display_data"
    },
    {
     "data": {
      "text/html": [
       "<strong><a href=http://dx.doi.org/10.1038/nrn1884>Meeting of minds: the medial frontal cortex and social cognition.</a></strong><br>2006. Amodio DM, Frith CD<br>[ID: 16552413]<br>Citation count: 1238"
      ],
      "text/plain": [
       "<IPython.core.display.HTML object>"
      ]
     },
     "metadata": {},
     "output_type": "display_data"
    }
   ],
   "source": [
    "citation_count_per_paper = [ (id, len(citations)) for (id,citations) in papers_citing.items() ]\n",
    "sorted_by_citation_count = sorted(citation_count_per_paper, key=lambda i:i[1], reverse=True)\n",
    "\n",
    "for (id, c) in sorted_by_citation_count[:10]:\n",
    "    display_summary(id, extra_text = 'Citation count: ' + str(c))"
   ]
  },
  {
   "cell_type": "markdown",
   "metadata": {},
   "source": [
    "Before we can start calculating some interesting network metrics, we will first have a closer look at the Python package that we are going to use for that."
   ]
  },
  {
   "cell_type": "markdown",
   "metadata": {},
   "source": [
    "## Link Analysis for Search Engines"
   ]
  },
  {
   "cell_type": "markdown",
   "metadata": {},
   "source": [
    "In order to use the citation network, we need to be able to perform some complex graph algorithms on it. To make our lives easier, we will use [NetworkX](https://pypi.python.org/pypi/networkx), a Python package for dealing with complex networks:"
   ]
  },
  {
   "cell_type": "code",
   "execution_count": 22,
   "metadata": {},
   "outputs": [
    {
     "name": "stdout",
     "output_type": "stream",
     "text": [
      "Requirement already satisfied: networkx in /Users/ryan/Library/Python/3.9/lib/python/site-packages (2.8.8)\n"
     ]
    }
   ],
   "source": [
    "! pip3 install --user networkx"
   ]
  },
  {
   "cell_type": "code",
   "execution_count": 23,
   "metadata": {},
   "outputs": [],
   "source": [
    "import networkx as nx\n",
    "\n",
    "G = nx.DiGraph(cited_by)"
   ]
  },
  {
   "cell_type": "markdown",
   "metadata": {},
   "source": [
    "We now have a NetworkX Directed Graph stored in `G`, where a node represents a paper, and an edge represents a citation. This means we can now apply the [algorithms](http://networkx.github.io/documentation/networkx-1.10/reference/algorithms.html) and [functions](http://networkx.github.io/documentation/networkx-1.10/reference/functions.html) of NetworkX to our graph:"
   ]
  },
  {
   "cell_type": "code",
   "execution_count": 24,
   "metadata": {},
   "outputs": [
    {
     "name": "stderr",
     "output_type": "stream",
     "text": [
      "/var/folders/gm/j6b9d4fx06q0g89jjy_7y21w0000gn/T/ipykernel_81036/1622351100.py:1: DeprecationWarning: info is deprecated and will be removed in version 3.0.\n",
      "\n",
      "  print(nx.info(G))\n"
     ]
    },
    {
     "name": "stdout",
     "output_type": "stream",
     "text": [
      "DiGraph with 577200 nodes and 1481661 edges\n",
      "Directed graph: True\n",
      "Density of graph: 4.447305434486632e-06\n"
     ]
    }
   ],
   "source": [
    "print(nx.info(G))\n",
    "print('Directed graph:', nx.is_directed(G))\n",
    "print('Density of graph:', nx.density(G))"
   ]
  },
  {
   "cell_type": "markdown",
   "metadata": {},
   "source": [
    "As this graph was generated from citations only, we need to add all isolated nodes (nodes that are not cited and do not cite other papers) as well:"
   ]
  },
  {
   "cell_type": "code",
   "execution_count": 25,
   "metadata": {},
   "outputs": [],
   "source": [
    "G.add_nodes_from(isolated)"
   ]
  },
  {
   "cell_type": "markdown",
   "metadata": {},
   "source": [
    "And now we get slightly different values:"
   ]
  },
  {
   "cell_type": "code",
   "execution_count": 26,
   "metadata": {},
   "outputs": [
    {
     "name": "stderr",
     "output_type": "stream",
     "text": [
      "/var/folders/gm/j6b9d4fx06q0g89jjy_7y21w0000gn/T/ipykernel_81036/1622351100.py:1: DeprecationWarning: info is deprecated and will be removed in version 3.0.\n",
      "\n",
      "  print(nx.info(G))\n"
     ]
    },
    {
     "name": "stdout",
     "output_type": "stream",
     "text": [
      "DiGraph with 591542 nodes and 1481661 edges\n",
      "Directed graph: True\n",
      "Density of graph: 4.2342686892270706e-06\n"
     ]
    }
   ],
   "source": [
    "print(nx.info(G))\n",
    "print('Directed graph:', nx.is_directed(G))\n",
    "print('Density of graph:', nx.density(G))"
   ]
  },
  {
   "cell_type": "markdown",
   "metadata": {},
   "source": [
    "Now we are ready to use this package for our tasks."
   ]
  },
  {
   "cell_type": "markdown",
   "metadata": {},
   "source": [
    "----------"
   ]
  },
  {
   "cell_type": "markdown",
   "metadata": {},
   "source": [
    "# Tasks"
   ]
  },
  {
   "cell_type": "markdown",
   "metadata": {},
   "source": [
    "**Your name:** Ryan Ott"
   ]
  },
  {
   "cell_type": "markdown",
   "metadata": {},
   "source": [
    "### Task 1\n",
    "\n",
    "Plot the in-degree distribution (that is, the distribution of the number of incoming links; see [here](https://en.wikipedia.org/wiki/Degree_distribution) and [here](http://mathinsight.org/degree_distribution) for more detailed explanations) for the citation network. What can you tell about the shape of this distribution, and what does this tell us about the network?"
   ]
  },
  {
   "cell_type": "markdown",
   "metadata": {},
   "source": [
    "**Answer:** \n"
   ]
  },
  {
   "cell_type": "code",
   "execution_count": 27,
   "metadata": {},
   "outputs": [
    {
     "data": {
      "image/png": "[encoded data removed]",
      "text/plain": [
       "<Figure size 640x480 with 1 Axes>"
      ]
     },
     "metadata": {},
     "output_type": "display_data"
    }
   ],
   "source": [
    "citations_per_paper = [ len(citations) for (_,citations) in papers_citing.items() ]\n",
    "plt.hist(x=citations_per_paper, bins=range(min(citations_per_paper), max(citations_per_paper)+1), density=True)\n",
    "plt.xlabel('number of citations')\n",
    "plt.ylabel('fraction of papers')\n",
    "plt.xticks(range(0, 21, 1))\n",
    "plt.xlim(0,20);"
   ]
  },
  {
   "cell_type": "markdown",
   "metadata": {},
   "source": [
    "### Task 2\n",
    "\n",
    "Using the [Link Analysis](https://networkx.org/documentation/stable/reference/algorithms/link_analysis.html) algorithms provided by NetworkX, calculate the PageRank score for all nodes in the citation network, and store the result in a variable called `pageranks`.\n",
    "\n",
    "To test this, create first a list of all papers that are cited by exactly 10 other papers (using `papers_citing` defined above). Then sort these papers by their PageRank and retrieve the paper IDs with the maximum and minimum PageRank values. Print these minimum and maximum PageRank values together with their paper IDs.\n",
    "\n",
    "To print PageRank values, you might want to use commands like `print('{:.6f}'.format(var))` to use regular decimal notation with a fixed number of decimal places."
   ]
  },
  {
   "cell_type": "code",
   "execution_count": 28,
   "metadata": {},
   "outputs": [
    {
     "name": "stdout",
     "output_type": "stream",
     "text": [
      "Highest ranked paper cited 10 times: 9236629 - PageRank: 0.000057\n",
      "Lowest ranked paper cited 10 times: 23379271 - PageRank: 0.000001\n"
     ]
    }
   ],
   "source": [
    "pageranks = nx.pagerank(G)\n",
    "\n",
    "papers_cited_10_times = [id for id in Ids if len(papers_citing[id]) == 10]\n",
    "papers_cited_10_times.sort(key=lambda id: pageranks[id], reverse=True)\n",
    "best_pr = papers_cited_10_times[0]\n",
    "worst_pr = papers_cited_10_times[-1]\n",
    "print(f\"Highest ranked paper cited 10 times: {best_pr} - PageRank: {pageranks[best_pr]:.6f}\")\n",
    "print(f\"Lowest ranked paper cited 10 times: {worst_pr} - PageRank: {pageranks[worst_pr]:.6f}\")"
   ]
  },
  {
   "cell_type": "markdown",
   "metadata": {},
   "source": [
    "### Task 3\n",
    "\n",
    "Why do the two papers above have such different PageRank values? Write code below to investigate and show the cause of this, and then explain the cause of this difference based on the results generated by your code."
   ]
  },
  {
   "cell_type": "code",
   "execution_count": 29,
   "metadata": {},
   "outputs": [
    {
     "name": "stdout",
     "output_type": "stream",
     "text": [
      "Info about paper 9236629\n",
      "1: 33308067 - PR: 0.000001 - # of out-links: 4 => Add: 0.0000002\n",
      "2: 29684402 - PR: 0.000002 - # of out-links: 36 => Add: 0.0000001\n",
      "3: 28588527 - PR: 0.000001 - # of out-links: 4 => Add: 0.0000002\n",
      "4: 26839123 - PR: 0.000001 - # of out-links: 1 => Add: 0.0000007\n",
      "5: 25180980 - PR: 0.000001 - # of out-links: 4 => Add: 0.0000002\n",
      "6: 23874416 - PR: 0.000001 - # of out-links: 2 => Add: 0.0000004\n",
      "7: 22586384 - PR: 0.000001 - # of out-links: 5 => Add: 0.0000001\n",
      "8: 18990119 - PR: 0.000001 - # of out-links: 9 => Add: 0.0000001\n",
      "9: 17500630 - PR: 0.000122 - # of out-links: 2 => Add: 0.0000609\n",
      "10: 10466154 - PR: 0.000001 - # of out-links: 3 => Add: 0.0000002\n",
      "Total score: 0.0000631\n",
      "-----------------------------------\n",
      "Info about paper 23379271\n",
      "1: 35422471 - PR: 0.000001 - # of out-links: 13 => Add: 0.0000001\n",
      "2: 34281109 - PR: 0.000001 - # of out-links: 28 => Add: 0.0000000\n",
      "3: 34188592 - PR: 0.000001 - # of out-links: 12 => Add: 0.0000001\n",
      "4: 33897481 - PR: 0.000001 - # of out-links: 21 => Add: 0.0000000\n",
      "5: 33433606 - PR: 0.000001 - # of out-links: 65 => Add: 0.0000000\n",
      "6: 32614046 - PR: 0.000001 - # of out-links: 37 => Add: 0.0000000\n",
      "7: 31832344 - PR: 0.000001 - # of out-links: 20 => Add: 0.0000000\n",
      "8: 29740360 - PR: 0.000004 - # of out-links: 91 => Add: 0.0000000\n",
      "9: 29535646 - PR: 0.000001 - # of out-links: 48 => Add: 0.0000000\n",
      "10: 27281040 - PR: 0.000001 - # of out-links: 23 => Add: 0.0000001\n",
      "Total score: 0.0000004\n",
      "-----------------------------------\n"
     ]
    }
   ],
   "source": [
    "def print_node_info(id):\n",
    "    print(\"Info about paper\", id)\n",
    "    total_score = 0\n",
    "    for i, paper in enumerate(papers_citing[id], 1):\n",
    "        pr = pageranks[paper]\n",
    "        outlink_count = len(cited_by[paper])\n",
    "        score = pr/outlink_count\n",
    "        total_score += score\n",
    "        print(f\"{i}: {paper} - PR: {pr:.6f} - # of out-links: {outlink_count} => Add: {score:.7f}\")\n",
    "    print(f\"Total score: {total_score:.7f}\")\n",
    "    print(\"-----------------------------------\")\n",
    "\n",
    "print_node_info(best_pr)\n",
    "print_node_info(worst_pr)"
   ]
  },
  {
   "cell_type": "markdown",
   "metadata": {},
   "source": [
    "**Explanation:** PageRank is a measure of the importance of a node/document/page based on the sum of values of incomming edges/citations/links (+ the random surfer model). The value of an incoming link to page a is the PageRank of the page b from where the link is coming over the number of outgoing links from page b.\n",
    "We can therefore understand the difference in PageRank of our two papers by looking at the PageRanks of documents linking to our papers and the number of links outgoing from each paper linking.\n",
    "\n",
    "Above code shows this, for the high PageRank paper 9236629, we have a bunch of low PageRank papers linking to it but paper 17500630 has a very high value and more importantly only has two outgoing links. This indicates that this highly valueable paper felt that 9236629 was so important that it had to be one of the only two outgoing links (citations). This gives 9236629 a high PageRank.\n",
    "\n",
    "Low PageRank paper 23379271 on the other hand has no valuable paper citing it, moreover the papers that do cite it tend to have a lot of outgoing citations, dilluting the value of the incoming link for 23379271.\n",
    "\n",
    "The different in above seen score and actual PageRank value is the random surfer model, but this is the same between the two papers so irrelevant for this comparisson."
   ]
  },
  {
   "cell_type": "markdown",
   "metadata": {},
   "source": [
    "### Task 4\n",
    "\n",
    "Copy the scoring function `score_ntn_nnn` from Task 4 of assignment 3. Rename it to `score_ntn_nnn_pagerank` and change its code to incorporate a paper's PageRank score in it's final score, in addition to tf-idf. In other words, the new function should accept a `list` of query tokens and a document ID, and should return a single `float` value that is calculated based on both scores (PageRank and tf-idf). Note that a `tf-idf` function is already provided above. Explain your decision on how to combine the two scores."
   ]
  },
  {
   "cell_type": "code",
   "execution_count": 30,
   "metadata": {},
   "outputs": [],
   "source": [
    "def score_ntn_nnn_pagerank(query_words, doc_id):  \n",
    "    score = 0  \n",
    "    for t in query_words:  \n",
    "        score += tfidf(t,doc_id) * pageranks[doc_id]\n",
    "    return score  "
   ]
  },
  {
   "cell_type": "markdown",
   "metadata": {},
   "source": [
    "**Answer:** When determining the score of a document for a given query, we want to put more weight on the documents that have a high pagerank. As such, for each term in the search query we scale the tfidf score by the pagerank of the document (thus summing over the _products_).\n",
    "This makes it such that we highly score documents with both high tfidf score _and_ a high pagerank, which is a better predictor of relevance to an information need than for example if we took the _sum_ of tfidf and pagerank, which would allow a high pagerank to overpower and still highly score a document even if the specific query terms aren't prevelant."
   ]
  },
  {
   "cell_type": "markdown",
   "metadata": {},
   "source": [
    "### Task 5\n",
    "\n",
    "Copy the query function `query_ntn_nnn` from Task 4 of assignment 3 (also copy `or_merge`). Rename it to `query_ntn_nnn_pagerank` and change the code to use our new scoring function `score_ntn_nnn_pagerank` from task 4 above. Demonstrate these functions with an example query that returns paper 12094212 as the top result."
   ]
  },
  {
   "cell_type": "code",
   "execution_count": 31,
   "metadata": {},
   "outputs": [],
   "source": [
    "def or_merge(sorted_list1, sorted_list2):  \n",
    "    merged_list = []  \n",
    "    list1 = list(sorted_list1)  \n",
    "    list2 = list(sorted_list2)  \n",
    "    while (True):  \n",
    "        if (not list1):  \n",
    "            merged_list.extend(list2)  \n",
    "            break  \n",
    "        if (not list2):  \n",
    "            merged_list.extend(list1)  \n",
    "            break  \n",
    "        if (list1[0] < list2[0]):  \n",
    "            merged_list.append(list1[0])  \n",
    "            list1.pop(0)  \n",
    "        elif (list1[0] > list2[0]):  \n",
    "            merged_list.append(list2[0])  \n",
    "            list2.pop(0)  \n",
    "        else:  \n",
    "            merged_list.append(list1[0])  \n",
    "            list1.pop(0)  \n",
    "            list2.pop(0)  \n",
    "    return merged_list\n",
    "\n",
    "def query_ntn_nnn_pagerank(query_string):  \n",
    "    query_words = preprocess(tokenize(query_string))  \n",
    "    first_word = query_words[0]  \n",
    "    remaining_words = query_words[1:]  \n",
    "    or_list = inverted_index[first_word]  \n",
    "    for t in remaining_words:  \n",
    "        or_list = or_merge(or_list, inverted_index[t])  \n",
    "    for paper_id in sorted(or_list, key=lambda i: score_ntn_nnn_pagerank(query_words,i), reverse=True)[:10]:  \n",
    "        paper = Summaries[paper_id]  \n",
    "        print(str(paper_id) + ' ' + paper.title + ' (score: ' + str(score_ntn_nnn_pagerank(query_words,paper_id)) + ')')"
   ]
  },
  {
   "cell_type": "code",
   "execution_count": 32,
   "metadata": {},
   "outputs": [
    {
     "data": {
      "text/html": [
       "<strong><a href=http://dx.doi.org/10.1038/nrn875>The amygdala and reward.</a></strong><br>2002. Baxter MG, Murray EA<br><small><strong>Abstract:</strong> <em>The amygdala -- an almond-shaped group of nuclei at the heart of the telencephalon -- has been associated with a range of cognitive functions, including emotion, learning, memory, attention and perception. Most current views of amygdala function emphasize its role in negative emotions, such as fear, and in linking negative emotions with other aspects of cognition, such as learning and memory. However, recent evidence supports a role for the amygdala in processing positive emotions as well as negative ones, including learning about the beneficial biological value of stimuli. Indeed, the amygdala's role in stimulus-reward learning might be just as important as its role in processing negative affect and fear conditioning.</em></small><br>[ID: 12094212]"
      ],
      "text/plain": [
       "<IPython.core.display.HTML object>"
      ]
     },
     "metadata": {},
     "output_type": "display_data"
    }
   ],
   "source": [
    "display_summary(12094212, show_abstract=True) "
   ]
  },
  {
   "cell_type": "code",
   "execution_count": 33,
   "metadata": {},
   "outputs": [
    {
     "name": "stdout",
     "output_type": "stream",
     "text": [
      "12094212 The amygdala and reward. (score: 0.0017097807269492217)\n",
      "16339042 Oxytocin modulates neural circuitry for social cognition and fear in humans. (score: 0.0016118934787243346)\n",
      "23329160 Animal models of traumatic brain injury. (score: 0.0012917579929345895)\n",
      "7895011 Contributions of anterior cingulate cortex to behaviour. (score: 0.0011996709230434107)\n",
      "19401723 Effects of stress throughout the lifespan on the brain, behaviour and cognition. (score: 0.0009421261865610295)\n",
      "12724159 Extended amygdala and basal forebrain. (score: 0.0008063435643625588)\n",
      "15152031 Contrasting roles of basolateral amygdala and orbitofrontal cortex in impulsive choice. (score: 0.0006964930821797626)\n",
      "17804629 Delineation of multiple subpallial progenitor domains by the combinatorial expression of transcriptional codes. (score: 0.0006963803525688533)\n",
      "15155523 The impact of early and late damage to the human amygdala on 'theory of mind' reasoning. (score: 0.0006715350395704113)\n",
      "8725964 The amygdala and emotion. (score: 0.0006096124630289387)\n"
     ]
    }
   ],
   "source": [
    "query_ntn_nnn_pagerank(\"amygdala animal\")"
   ]
  },
  {
   "cell_type": "markdown",
   "metadata": {},
   "source": [
    "# Submission"
   ]
  },
  {
   "cell_type": "markdown",
   "metadata": {},
   "source": [
    "Submit the answers to the assignment via Canvas as a modified version of this Notebook file (file with `.ipynb` extension) that includes your code and your answers.\n",
    "\n",
    "Before submitting, restart the kernel and re-run the complete code (**Kernel > Restart & Run All**), and then check whether your assignment code still works as expected.\n",
    "\n",
    "Don't forget to add your name, and remember that the assignments have to be done **individually**, and that code sharing or copying are **strictly forbidden** and will be punished."
   ]
  }
 ],
 "metadata": {
  "kernelspec": {
   "display_name": "Python 3.9.6 64-bit",
   "language": "python",
   "name": "python3"
  },
  "language_info": {
   "codemirror_mode": {
    "name": "ipython",
    "version": 3
   },
   "file_extension": ".py",
   "mimetype": "text/x-python",
   "name": "python",
   "nbconvert_exporter": "python",
   "pygments_lexer": "ipython3",
   "version": "3.9.6"
  },
  "vscode": {
   "interpreter": {
    "hash": "31f2aee4e71d21fbe5cf8b01ff0e069b9275f58929596ceb00d14d90e3e16cd6"
   }
  }
 },
 "nbformat": 4,
 "nbformat_minor": 4
}
