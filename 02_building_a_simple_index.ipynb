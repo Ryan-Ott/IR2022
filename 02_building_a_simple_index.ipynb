{
 "cells": [
  {
   "cell_type": "markdown",
   "metadata": {},
   "source": [
    "# Assignment 2: Building a Simple Index"
   ]
  },
  {
   "cell_type": "markdown",
   "metadata": {},
   "source": [
    "In this assignment, we will build a simple search index, which we will use later for Boolean retrieval. The assignment tasks are again at the bottom of this document."
   ]
  },
  {
   "cell_type": "markdown",
   "metadata": {},
   "source": [
    "## Loading the Data"
   ]
  },
  {
   "cell_type": "code",
   "execution_count": 1,
   "metadata": {},
   "outputs": [],
   "source": [
    "Summaries_file = 'data/cognition_Summaries.pkl.bz2'\n",
    "Abstracts_file = 'data/cognition_Abstracts.pkl.bz2'"
   ]
  },
  {
   "cell_type": "code",
   "execution_count": 2,
   "metadata": {},
   "outputs": [],
   "source": [
    "import pickle, bz2\n",
    "from collections import namedtuple\n",
    "\n",
    "Summaries = pickle.load( bz2.BZ2File( Summaries_file, 'rb' ) )\n",
    "\n",
    "paper = namedtuple( 'paper', ['title', 'authors', 'year', 'doi'] )\n",
    "\n",
    "for (id, paper_info) in Summaries.items():\n",
    "    \n",
    "    Summaries[id] = paper( *paper_info )\n",
    "    \n",
    "Abstracts = pickle.load( bz2.BZ2File( Abstracts_file, 'rb' ) )"
   ]
  },
  {
   "cell_type": "markdown",
   "metadata": {},
   "source": [
    "Let's have a look at what the data looks like for an example of a paper:"
   ]
  },
  {
   "cell_type": "code",
   "execution_count": 3,
   "metadata": {},
   "outputs": [
    {
     "data": {
      "text/plain": [
       "paper(title='Handgrip Strength in Old and Very Old Adults: Mood, Cognition, Function, and Mortality.', authors=['Stessman J', 'Rottenberg Y', 'Fischer M', 'Hammerman-Rozenberg A', 'Jacobs JM'], year=2017, doi='10.1111/jgs.14509')"
      ]
     },
     "execution_count": 3,
     "metadata": {},
     "output_type": "execute_result"
    }
   ],
   "source": [
    "Summaries[28102890]"
   ]
  },
  {
   "cell_type": "code",
   "execution_count": 4,
   "metadata": {},
   "outputs": [
    {
     "data": {
      "text/plain": [
       "'To determine the trajectory of handgrip strength (HGS) from age 70 to 90 and its association with mood, cognition, functional status, and mortality.'"
      ]
     },
     "execution_count": 4,
     "metadata": {},
     "output_type": "execute_result"
    }
   ],
   "source": [
    "Abstracts[28102890]"
   ]
  },
  {
   "cell_type": "markdown",
   "metadata": {},
   "source": [
    "## Some Utility Functions"
   ]
  },
  {
   "cell_type": "markdown",
   "metadata": {},
   "source": [
    "We'll define some utility functions that allow us to tokenize a string into terms, perform linguistic preprocessing on a list of terms, as well as a function to display information about a paper in a nice way. Note that these tokenization and preprocessing functions are rather naive. We will improve them in a later assignment."
   ]
  },
  {
   "cell_type": "code",
   "execution_count": 5,
   "metadata": {},
   "outputs": [
    {
     "name": "stdout",
     "output_type": "stream",
     "text": [
      "['lorem', 'ipsum', 'dolor', 'sit', 'amet']\n"
     ]
    }
   ],
   "source": [
    "def tokenize(text):\n",
    "    \"\"\"\n",
    "    Function that tokenizes a string in a rather naive way. Can be extended later.\n",
    "    \"\"\"\n",
    "    return text.split(' ')\n",
    "\n",
    "def preprocess(tokens):\n",
    "    \"\"\"\n",
    "    Perform linguistic preprocessing on a list of tokens. Can be extended later.\n",
    "    \"\"\"\n",
    "    result = []\n",
    "    for token in tokens:\n",
    "        result.append(token.lower())\n",
    "    return result\n",
    "\n",
    "print(preprocess(tokenize(\"Lorem ipsum dolor sit AMET\")))"
   ]
  },
  {
   "cell_type": "code",
   "execution_count": 6,
   "metadata": {},
   "outputs": [
    {
     "data": {
      "text/html": [
       "<strong><a href=http://dx.doi.org/10.1111/jgs.14509>Handgrip Strength in Old and Very Old Adults: Mood, Cognition, Function, and Mortality.</a></strong><br>2017. Stessman J, Rottenberg Y, Fischer M, Hammerman-Rozenberg A, Jacobs JM<br>[ID: 28102890]"
      ],
      "text/plain": [
       "<IPython.core.display.HTML object>"
      ]
     },
     "metadata": {},
     "output_type": "display_data"
    },
    {
     "data": {
      "text/html": [
       "<strong><a href=http://dx.doi.org/10.1111/jgs.14509>Handgrip Strength in Old and Very Old Adults: Mood, Cognition, Function, and Mortality.</a></strong><br>2017. Stessman J, Rottenberg Y, Fischer M, Hammerman-Rozenberg A, Jacobs JM<br><small><strong>Abstract:</strong> <em>To determine the trajectory of handgrip strength (HGS) from age 70 to 90 and its association with mood, cognition, functional status, and mortality.</em></small><br>[ID: 28102890]"
      ],
      "text/plain": [
       "<IPython.core.display.HTML object>"
      ]
     },
     "metadata": {},
     "output_type": "display_data"
    }
   ],
   "source": [
    "from IPython.display import display, HTML\n",
    "import re\n",
    "\n",
    "def display_summary( id, show_abstract=False, show_id=True, extra_text='' ):\n",
    "    \"\"\"\n",
    "    Function for printing a paper's summary through IPython's Rich Display System.\n",
    "    Trims long author lists, and adds a link to the paper's DOI (when available).\n",
    "    \"\"\"\n",
    "    s = Summaries[id]\n",
    "    lines = []\n",
    "    title = s.title\n",
    "    if s.doi != '':\n",
    "        title = '<a href=http://dx.doi.org/{:s}>{:s}</a>'.format(s.doi, title)\n",
    "    title = '<strong>' + title + '</strong>'\n",
    "    lines.append(title)\n",
    "    authors = ', '.join( s.authors[:20] ) + ('' if len(s.authors) <= 20 else ', ...')\n",
    "    lines.append(str(s.year) + '. ' + authors)\n",
    "    if (show_abstract):\n",
    "        lines.append('<small><strong>Abstract:</strong> <em>{:s}</em></small>'.format(Abstracts[id]))\n",
    "    if (show_id):\n",
    "        lines.append('[ID: {:d}]'.format(id))\n",
    "    if (extra_text != ''):\n",
    "         lines.append(extra_text)\n",
    "    display( HTML('<br>'.join(lines)) )\n",
    "\n",
    "display_summary(28102890)\n",
    "display_summary(28102890, show_abstract=True)"
   ]
  },
  {
   "cell_type": "markdown",
   "metadata": {},
   "source": [
    "## Creating our first index"
   ]
  },
  {
   "cell_type": "markdown",
   "metadata": {},
   "source": [
    "We will now create an _inverted index_ based on the words in the titles and abstracts of the papers in our dataset. We will implement our inverted index as a Python dictionary with term strings as keys and posting lists (implemented as Python lists) as values. We include all the tokens we can find in the title and (if available) in the abstract:"
   ]
  },
  {
   "cell_type": "code",
   "execution_count": 7,
   "metadata": {},
   "outputs": [],
   "source": [
    "from collections import defaultdict\n",
    "\n",
    "inverted_index = defaultdict(list)\n",
    "\n",
    "# This can take a few seconds:\n",
    "for id in sorted(Summaries.keys()):\n",
    "    term_set = set(preprocess(tokenize(Summaries[id].title)))\n",
    "    if id in Abstracts:\n",
    "        term_set.update(preprocess(tokenize(Abstracts[id])))\n",
    "    for term in term_set:\n",
    "        inverted_index[term].append(id)"
   ]
  },
  {
   "cell_type": "markdown",
   "metadata": {},
   "source": [
    "Let's see what's in the index for the example term 'amsterdam':"
   ]
  },
  {
   "cell_type": "code",
   "execution_count": 8,
   "metadata": {},
   "outputs": [
    {
     "name": "stdout",
     "output_type": "stream",
     "text": [
      "[10547144, 17888546, 18289505, 19004529, 20594617, 20969529, 21482441, 22049191, 23232034, 23802509, 23964225, 25114679, 25598195, 25631781, 25684214, 25877267, 26976043, 27148107, 28462387, 28671504, 29029762, 29209183, 29406610, 29843832, 29848469, 31026198, 31082289, 31547145, 31730165, 33008394, 34203041, 34408904, 34541288, 34925184, 35149261]\n"
     ]
    }
   ],
   "source": [
    "print(inverted_index['amsterdam'])"
   ]
  },
  {
   "cell_type": "markdown",
   "metadata": {},
   "source": [
    "We can now use this inverted index to answer simple one-word queries, for example to show all papers that contain the word 'utrecht':"
   ]
  },
  {
   "cell_type": "code",
   "execution_count": 9,
   "metadata": {},
   "outputs": [
    {
     "data": {
      "text/html": [
       "<strong><a href=http://dx.doi.org/10.1016/j.ejphar.2013.04.055>Sweet memories: 20 years of progress in research on cognitive functioning in diabetes.</a></strong><br>2013. Biessels GJ<br><small><strong>Abstract:</strong> <em>This paper appears in a special issue of the European Journal of Pharmacology that commemorates the retirement of Professor Willem Hendrik Gispen as distinguished professor of Utrecht University and as editor of the European Journal of Pharmacology. The paper provides an overview of a research line on the impact of diabetes on cognition that we started together 20 years ago, and that continues to this day. I will report how we more or less stumbled upon this topic, that was understudied, but proved to be of definite clinical relevance. I will discuss how we tried to establish animal models, how developments from clinical and experimental studies from around the world led us to reconsider our concepts, and how findings from research on diabetic neuropathy, insulin signaling in the brain, Alzheimer's disease and dementia, and vascular disease and stroke converged and helped to create new ideas and refute others. This voyage has not ended yet, because the ultimate goal is to offer patients with diabetes treatment that can protect them against accelerated cognitive decline. Although this could take another 20 years, the research from Willem Hendrik and his group brought us an important step in the right direction. </em></small><br>[ID: 23872409]"
      ],
      "text/plain": [
       "<IPython.core.display.HTML object>"
      ]
     },
     "metadata": {},
     "output_type": "display_data"
    },
    {
     "data": {
      "text/html": [
       "<strong><a href=http://dx.doi.org/10.1097/MRR.0000000000000198>Predictors of physical independence at discharge after stroke rehabilitation in a Dutch population.</a></strong><br>2017. Ten Brink AF, Hajos TR, van Bennekom C, Nachtegaal J, Meulenbelt HE, Fleuren JF, Kouwenhoven M, Luijkx MM, Wijffels MP, Post MW<br><small><strong>Abstract:</strong> <em>The aim of this study was to identify predictors, available at admission, of physical independence at discharge from inpatient rehabilitation. Secondary aims were to identify predictors of functional gain and length of stay (LOS). We included 1310 adult stroke patients who were admitted for inpatient rehabilitation in five Dutch rehabilitation centres. Data on the Utrecht Scale for Evaluation of Clinical Rehabilitation at admission and discharge (physical and cognitive independence, mood, pain and fatigue), age, sex and in a subsample stroke characteristics as well were collected. A prediction model was created using random coefficient analysis. None of the stroke characteristics were independently associated with physical independence or functional gain at discharge, or LOS. Higher physical and cognitive independence scores and severe pain at admission were predictors of higher physical independence scores at discharge. Furthermore, lower physical independence scores, higher cognitive independence scores, less pain at admission and younger age predicted more functional gain. Finally, lower physical and cognitive independence scores at admission and younger age predicted longer LOS. Physical independence at admission was the most robust predictor for rehabilitation outcome in a Dutch rehabilitation setting. To a lesser extent, age, cognitive independence and pain predicted rehabilitation outcome after stroke. Treatment of cognition and pain should be taken into account during rehabilitation. Further work needs to be carried out to establish whether focusing on these factors improves outcome after rehabilitation.</em></small><br>[ID: 27749516]"
      ],
      "text/plain": [
       "<IPython.core.display.HTML object>"
      ]
     },
     "metadata": {},
     "output_type": "display_data"
    },
    {
     "data": {
      "text/html": [
       "<strong><a href=http://dx.doi.org/10.1080/09602011.2017.1313746>Return to work after mild-to-moderate stroke: work satisfaction and predictive factors.</a></strong><br>2019. van der Kemp J, Kruithof WJ, Nijboer TCW, van Bennekom CAM, van Heugten C, Visser-Meily JMA<br><small><strong>Abstract:</strong> <em>A large proportion of stroke patients are unable to return to work (RTW), although figures vary greatly. A total of 121 mild-to-moderate stroke patients, who had a paid job at the time of their stroke were included (a) to quantify RTW and work satisfaction one-year post-stroke (using the Utrecht Scale for Evaluation of Rehabilitation-Participation) and (b) to determine factors predicting RTW post-stroke, based on stroke-related, personal and neuropsychological variables. Half of the patients were not in work (28%) or were working less (22%) than pre-stroke. Ninety percent of those in fulltime employment post-stroke were satisfied with their occupational situation, against 36% of the unemployed participants. In regards to factors predicting RTW, global cognitive functioning (r = .19, Montreal Cognitive Assessment) and depressive symptoms (r = -.16, Hospital Anxiety and Depression Scale) at two months post-stroke onset were associated with return to work within one year. Only global cognitive functioning was an independent predictor of RTW (11.3% variance, p = .013). Although the explained variance was not that high, neuropsychological factors probably play a pivotal role in returning to work and should be taken into account during rehabilitation after mild and moderate stroke.</em></small><br>[ID: 28441897]"
      ],
      "text/plain": [
       "<IPython.core.display.HTML object>"
      ]
     },
     "metadata": {},
     "output_type": "display_data"
    },
    {
     "data": {
      "text/html": [
       "<strong><a href=http://dx.doi.org/10.1080/09602011.2019.1692670>The relationship between social cognition and participation in the long term after stroke.</a></strong><br>2021. Stiekema APM, Nijsse B, de Kort PLM, Spikman JM, Visser-Meily JMA, van Heugten CM<br><small><strong>Abstract:</strong> <em>Social cognitive impairments may play a role in participation restrictions after stroke. Understanding their relationship could inform treatment approaches to improve participation. We investigated the relationship between social cognition and participation in the long term after stroke. Of 395 patients participating in a large prospective cohort study, cross-sectional data were available at 3-4 years post-stroke of 118 patients on tests for emotion recognition, theory of mind, empathy, and behaviour regulation. Participation was assessed with the Utrecht Scale for Evaluation of Rehabilitation - Participation (USER-P). Bivariate and multivariate regression analysis were used to examine the relationship between social cognitive domains and participation. The majority suffered from minor stroke (83.1% scored NIHSS 0-4). Only behaviour regulation was related to participation restrictions in bivariate analysis, but social cognitive impairments did not predict participation restrictions in multivariate regression in this group. To conclude, in a sample of minor stroke patients with mild impairments in theory of mind, emotion recognition and behavioural control, there were no associations with restrictions in participation. Research should examine whether a relationship is present in patients with more severe stroke. In addition, measuring social aspects of participation is necessary to further unravel this relationship, to determine treatment targets for improving participation.</em></small><br>[ID: 31854264]"
      ],
      "text/plain": [
       "<IPython.core.display.HTML object>"
      ]
     },
     "metadata": {},
     "output_type": "display_data"
    },
    {
     "data": {
      "text/html": [
       "<strong><a href=http://dx.doi.org/10.1080/09602011.2020.1769687>Which approach to measure cognitive functioning should be preferred when exploring the association between cognitive functioning and participation after stroke?</a></strong><br>2021. de Graaf JA, Nijsse B, Schepers VPM, van Heugten CM, Post MWM, Visser-Meily JMA<br><small><strong>Abstract:</strong> <em>A variety of approaches are currently used to explore the relationship between cognitive functioning and participation after stroke. We aimed to gain insight into the preferred approach to measure cognitive functioning when exploring the association between cognitive functioning and participation in the long term after stroke. In this inception cohort study 128 individuals with stroke participated and were assessed at a single time point three to four years after the event. Participation was measured using the Restrictions subscale of the Utrecht Scale for Evaluation of Rehabilitation-Participation. Subjective cognitive complaints were assessed using the Cognition subscale of the Checklist for Cognitive and Emotional Consequences (CLCE-24-C). Objective cognitive performance was measured using the Montreal Cognitive Assessment (MoCA) and a neuropsychological test battery (NTB) testing multiple cognitive domains. Participation showed a strong correlation (</em></small><br>[ID: 32496877]"
      ],
      "text/plain": [
       "<IPython.core.display.HTML object>"
      ]
     },
     "metadata": {},
     "output_type": "display_data"
    },
    {
     "data": {
      "text/html": [
       "<strong><a href=http://dx.doi.org/10.5964/ejop.v16i1.1832>Examining the Relationship Between Engagement and Perceived Stress-Related Cognitive Complaints in the Argentinian Working Population.</a></strong><br>2020. Miranda AR, Rivadero L, Bruera JÁ, Villarreal V, Bernio LY, de Los Ángeles Baydas L, Brizuela ML, Serra SV<br><small><strong>Abstract:</strong> <em>Stress has a negative impact on cognitive functioning and occupational well-being. The aim of this study was to assess the relationship among perceived stress, cognitive complaints and work engagement in public employees from Córdoba, Argentina. In this cross-sectional study, self-report questionnaires were administered to 240 participants. Spanish versions of the following instruments were used: Perceived Stress Scale (PSS), Utrecht Work Engagement Scale (UWES), Memory Failures in Everyday (MFE), Executive Complaint Questionnaire (ECQ). Statistical analysis included ANOVA, path analysis, and multiple logistic regression. Stressed workers showed lower work engagement and more cognitive complaints, even after adjusting for demographic variables. Negative associations were also observed between work engagement and cognitive complaints, suggesting that cognitive difficulties are related to engagement. Given the relation among stress, cognition, and work engagement, it is important to consider these factors to foster workers' health and work productivity.</em></small><br>[ID: 33680167]"
      ],
      "text/plain": [
       "<IPython.core.display.HTML object>"
      ]
     },
     "metadata": {},
     "output_type": "display_data"
    }
   ],
   "source": [
    "query_word = 'utrecht'\n",
    "for i in inverted_index[query_word]:\n",
    "    display_summary(i, show_abstract=True)"
   ]
  },
  {
   "cell_type": "markdown",
   "metadata": {},
   "source": [
    "----------"
   ]
  },
  {
   "cell_type": "markdown",
   "metadata": {},
   "source": [
    "# Tasks"
   ]
  },
  {
   "cell_type": "markdown",
   "metadata": {},
   "source": [
    "**Your name:** Ryan Ott"
   ]
  },
  {
   "cell_type": "markdown",
   "metadata": {},
   "source": [
    "### Task 1\n",
    "\n",
    "Implement the function `and_merge` outlined below. This function takes two posting lists from the index that can be assumed to be sorted already, and it should return the result of the merging of the two lists with AND. The resulting list should therefore include all the elements that appear in both lists. As explained on the slides, this operation should take advantage of the input lists being sorted already, should not perform any additional sorting operation, and should go through each of the input lists just once. Then, test your function with an example."
   ]
  },
  {
   "cell_type": "code",
   "execution_count": 10,
   "metadata": {},
   "outputs": [
    {
     "data": {
      "text/html": [
       "<strong><a href=http://dx.doi.org/10.1016/j.jneumeth.2004.07.002>Visual landmark orientation by flying bats at a large-scale touch and walk screen for bats, birds and rodents.</a></strong><br>2005. Winter Y, von Merten S, Kleindienst HU<br><small><strong>Abstract:</strong> <em>Orientation depends on multi-modal information about the locally perceptible environment (local view) in many situations. We developed a behavioural paradigm for investigating visual orientation of flying bats based on a large-scale touch screen (1.2 m x 1.8 m). It functions by a grid of rows and columns of infra-red beams just in front of a screen with back-projected visual stimuli. Approaching animals interrupt the beams and thus permit automatic recording of the time and place of an animal's locational choice. We used it as a vertical touch surface. Installed as a horizontal walk surface, it may also serve as a more natural 'firm ground', circular arena analogue to the 'Morris water maze' for investigating orientation behaviour and spatial cognition from rodents to birds while offering automatic real-time recording of paths, times and latencies with enhanced possibilities to score details of motor behaviour and to control stimuli interactively. Bats offer a unique possibility to investigate the use of both echo-acoustic and visual information processing pathways for the process of self-localization and orientation. In our first experiment, a bat was presented with five identical targets, one central and four peripheral and had to choose the central target. After task acquisition, the array was shifted by the distance between targets, so that a formerly peripheral landmark was now in the absolute location of the formerly central target. At small inter-target distances, the bat 'went with' the array, and chose the new central target (at a new absolute location). With 30 cm or more of inter-target distance (60 cm across the landmark configuration), however, the bat went with absolute location, and chose a peripheral target. In experiment 2, the bat was presented with two landmarks 30 cm apart and an unmarked target located at midline beneath them. On tests, the landmarks either maintained training distance or were expanded to 50 cm apart. On such expansion tests, the bat chose most the location at the correct vector from the right landmark. This showed that the bat first identified a single landmark by the configuration and then applied a previously learnt vector (angle and distance) to locate the target. Glossophaga did not orient by pure angular geometry between landmarks and target.</em></small><br>[ID: 15661311]"
      ],
      "text/plain": [
       "<IPython.core.display.HTML object>"
      ]
     },
     "metadata": {},
     "output_type": "display_data"
    },
    {
     "data": {
      "text/html": [
       "<strong><a href=http://dx.doi.org/10.1016/j.toxlet.2008.11.003>ZnT-1, ZnT-3, CaMK II, PRG-1 expressions in hippocampus following neonatal seizure-induced cognitive deficit in rats.</a></strong><br>2009. Ni H, Jiang YW, Tao LY, Jin MF, Wu XR<br><small><strong>Abstract:</strong> <em>Epilepsy in children is associated with a broad spectrum of cognitive deficits, which is associated with hippocampal mossy fiber sprouting. The underlying molecular mechanisms involved in mossy fiber sprouting in hippocampus following developmental seizures are not completely known. We studied the timing of cognitive dysfunction following neonatal seizures and the relation of this cognitive impairment to zinc transporter 1 (ZnT-1), 3 (ZnT-3), calcium/calmodulin-dependent protein kinase II (CaMK II), plasticity-related gene 1 (PRG-1) expression in hippocampus. A seizure was induced by inhalant flurothyl daily in neonatal Sprague-Dawley rats from postnatal day 6 (P6). Rats were assigned into the single-seizure group (SS), the recurrent-seizure group (RS, seizures induced in six consecutive days), and the control group. During P41-P46 and P85-P90, the rats were tested for spatial learning and memory abilities with automatic Morris water maze task. At P90, mossy fiber sprouting and gene expression in hippocampus were determined subsequently by Timm staining and RT-PCR methods. The escape latencies from the water maze were significantly longer in rats of RS group than those of the control and SS groups at d4 of the first maze test and at d3, d4 of the second maze test. As far as Spatial Probe Test was concerned, the frequency of passing through the platform quadrant was significantly decreased in RS group than that in control and SS groups in the entire two probe tests. In rats with recurrent seizures (RS group), there was an increased distribution of Timm granules in both the supragranular region of the dentate gyrus and the stratum pyramidale of CA3 subfield in RS group, while remaining barely visible in control and SS groups; the Timm scores in CA3 and dentate gyrus in the RS animals were significantly higher than that in the control and SS groups. RT-PCR densitometry analysis showed that the ratios of hippocampal ZnT-1 to beta-actin of SS and RS group were decreased significantly compared with that of control group. Meanwhile, CaMK II to beta-actin of RS group was markedly lower compared with those of SS and control groups. Our results suggest that the long-term adverse effects of recurrent neonatal seizures on cognition and mossy fiber sprouting may be associated with the down-regulated expression of ZnT-1 and CaMK II in hippocampus.</em></small><br>[ID: 19059322]"
      ],
      "text/plain": [
       "<IPython.core.display.HTML object>"
      ]
     },
     "metadata": {},
     "output_type": "display_data"
    },
    {
     "data": {
      "text/html": [
       "<strong><a href=http://dx.doi.org/10.1016/j.bbr.2009.11.022>Search strategies in a human water maze analogue analyzed with automatic classification methods.</a></strong><br>2010. Schoenfeld R, Moenich N, Mueller FJ, Lehmann W, Leplow B<br><small><strong>Abstract:</strong> <em>Although human spatial cognition is at the focus of intense research efforts, experimental evidence on how search strategies differ among age and gender groups remains elusive. To address this problem, we investigated the interaction between age, sex, and strategy usage within a novel virtual water maze-like procedure (VWM). We studied 28 young adults 20-29 years (14 males) and 30 middle-aged adults 50-59 years (15 males). Younger age groups outperformed older groups with respect to place learning. We also observed a moderate sex effect, with males outperforming females. Unbiased classification of human search behavior within this paradigm was done by means of an exploratory method using sparse non-negative matrix factorization (SNMF) and a parameter-based algorithm as an a priori classifier. Analyses of search behavior with the SNMF and the parameter-based method showed that the older group relied on less efficient search strategies, but females did not drop so dramatically. Place learning was related to the adaptation of elaborated search strategies. Participants using place-directed strategies obtained the highest score on place learning, and deterioration of place learning in the elderly was due to the use of less efficient non-specific strategies. A high convergence of the SNMF and the parameter-based classifications could be shown. Furthermore, the SNMF classification was cross validated with the traditional eyeballing method. As a result of this analysis, we conclude that SNMF is a robust exploratory method for the classification of search behavior in water maze procedures.</em></small><br>[ID: 19931570]"
      ],
      "text/plain": [
       "<IPython.core.display.HTML object>"
      ]
     },
     "metadata": {},
     "output_type": "display_data"
    },
    {
     "data": {
      "text/html": [
       "<strong><a href=http://dx.doi.org/10.1016/j.neuroscience.2016.09.007>Adenosine A1 receptor antagonist mitigates deleterious effects of sleep deprivation on adult neurogenesis and spatial reference memory in rats.</a></strong><br>2016. Chauhan G, Ray K, Sahu S, Roy K, Jain V, Wadhwa M, Panjwani U, Kishore K, Singh SB<br><small><strong>Abstract:</strong> <em>Sleep deprivation (SD) upsurges intracellular levels of adenosine, impairs adult neuronal cell proliferation (NCP) and cognition while caffeine, a non-selective adenosine A1 receptor (A1R) antagonist improves cognition and adult NCP during SD. We examined the selective antagonistic effects of adenosine A1R using 8-cyclopentyl-1,3-dimethylxanthine (8-CPT) on impairment of spatial reference memory and adult NCP during 48h SD. Adult male Sprague Dawley rats were sleep deprived for 48h, using an automatic cage vibrating stimulus based on animal activity. Spatial reference memory was tested as a measure of cognitive performance employing Morris Water Maze. Rats were given 8-CPT dissolved in 50% dimethyl sulfoxide (DMSO), twice daily (10mg/kg, i.p.) along with 5-bromo-2-deoxyuridine (BrdU) (50mg/kg/day, i.p.). The rats treated with 8-CPT showed significantly short mean latency and path-length to reach the platform compared to the SD rats. Consistent with these findings, 8-CPT-treated group was found to have significantly increased the number of BrdU, Ki-67 and doublecortin (DCX) positive cells. However, no significant difference was seen in NeuN expression in the Dentate Gyrus (DG). Brain-derived neurotropic factor (BDNF) expression in the DG and CA1 region was observed to decrease significantly after SD and be rescued by 8-CPT treatment. Furthermore, latency to reach platform showed a negative correlation with number of BrdU, DCX type-1 cells and BDNF expression in DG. Thus, it may be concluded that treatment with 8-CPT, an adenosine A1R antagonist during SD mitigates SD induced decline in spatial reference memory and adult NCP possibly via up regulation of BDNF levels in DG and CA1 regions.</em></small><br>[ID: 27623393]"
      ],
      "text/plain": [
       "<IPython.core.display.HTML object>"
      ]
     },
     "metadata": {},
     "output_type": "display_data"
    },
    {
     "data": {
      "text/html": [
       "<strong><a href=http://dx.doi.org/10.3389/fpsyg.2017.01000>Executive Functions of Divers Are Selectively Impaired at 20-Meter Water Depth.</a></strong><br>2017. Steinberg F, Doppelmayr M<br><small><strong>Abstract:</strong> <em>Moving and acting underwater within recreational or occupational activities require intact executive functions, since they subserve higher cognitive functions such as successful self-regulation, coping with novel situations, and decision making; all of which could be influenced by nitrogen narcosis due to elevated partial pressure under water. However, specific executive functions that could provide a differentiated view on humans' cognitive performance ability have not yet been systematically analyzed in full-water immersion, which is a research gap addressed within this approach to contribute to a better understanding of nitrogen narcosis. In this study, 20 young, healthy, and certified recreational divers participated and performed three different executive-function tests: the Stroop test (Inhibition), the Number/Letter test (Task switching), the 2-back test (Updating/Working memory), and a simple reaction time test (Psychomotor performance). These tests were performed once on land, at 5-meter (m) water depth, and at 20-meter (m) water depth of an indoor diving facility in standardized test conditions (26°C in all water depths). A water-proofed and fully operational tablet computer was used to present visual stimuli and to register reaction times. Performance of the simple reaction time test was not different between underwater and land testing, suggesting that reaction times were not biased by the utilization of the tablet in water immersion. Executive functions were not affected by the shallow water immersion of 5-m water depth. However, performance scores in 20-m water depth revealed a decreased performance in the incongruent test condition (i.e., an index of inhibitory control ability) of the Stroop test, while all other tests were unaffected. Even though only one out of the three tested cognitive domains was affected, the impairment of inhibitory control ability even in relatively shallow water of 20-m is a critical component that should be considered for diver's safety, since inhibition is required in self-control requiring situations where impulsive and automatic behavior must be inhibited. Our interpretation of these selective impairments is based on a discussion suggesting that different neural networks within the central nervous system, which process specific executive functions, are affected differently by nitrogen narcosis.</em></small><br>[ID: 28676772]"
      ],
      "text/plain": [
       "<IPython.core.display.HTML object>"
      ]
     },
     "metadata": {},
     "output_type": "display_data"
    }
   ],
   "source": [
    "def and_merge(pos1, pos2):\n",
    "    result = []\n",
    "    i = j = 0\n",
    "    while i < len(pos1) and j < len(pos2):\n",
    "        if pos1[i] == pos2[j]:\n",
    "            result.append(pos1[i])\n",
    "            i += 1\n",
    "            j += 1\n",
    "        elif pos1[i] < pos2[j]:\n",
    "            i += 1\n",
    "        else:\n",
    "            j += 1\n",
    "    return result\n",
    "\n",
    "# Papers that include the terms \"automatic\" AND \"water\"\n",
    "for paper in and_merge(inverted_index[\"automatic\"], inverted_index[\"water\"]):\n",
    "    display_summary(paper, show_abstract=True)"
   ]
  },
  {
   "cell_type": "markdown",
   "metadata": {},
   "source": [
    "### Task 2\n",
    "\n",
    "Similarly as above, implement the function `or_merge` outlined below that executes an OR merging of the lists. The resulting list should therefore include all the elements that appear in at least one of the lists (note this is an 'inclusive OR' and not a 'XOR'). Again, this operation should take advantage of the input lists being sorted already, should not perform any additional sorting operation, and should go through each of the input lists just once. Elements that appear in both input list should only appear once in the output list. Test your function again with an example."
   ]
  },
  {
   "cell_type": "code",
   "execution_count": 11,
   "metadata": {},
   "outputs": [
    {
     "data": {
      "text/html": [
       "<strong><a href=http://dx.doi.org/10.1002/dev.420110402>Competitive social strategies in groups of deprived and experienced rhesus monkeys.</a></strong><br>1978. Anderson CO, Mason WA<br><small><strong>Abstract:</strong> <em>Behavior during competition for water was observed in 2 social groups of young rhesus monkeys (3 females, 3 males in each). Monkeys in one group were socially deprived and those in the other were socially experienced (raised with mother and agemates). Social status, based on dyadic recording of displacements at the water bottle, was predictive of a number of measures related to water consumption and social orientation in both groups, but this measure was less reliable and predictive for the experienced group than for the deprived groups, but this measure was less reliable and predictive for the experienced group than for the deprived group. A major reason for the comparatively low predictive value and reliability of status among experienced monkeys was their ability to influence the behavior of higher status members through responses directed to a 3rd party and other elaborate social strategies, many of which depended on responding to status relations between 2nd and 3rd parties. The fact that such strategies were only observed in the experienced group is a clear indication that the development of higher orders of social cognition is dependent on early social experience.</em></small><br>[ID: 97110]"
      ],
      "text/plain": [
       "<IPython.core.display.HTML object>"
      ]
     },
     "metadata": {},
     "output_type": "display_data"
    },
    {
     "data": {
      "text/html": [
       "<strong>[Correlations of cognition disorders and the EEG data in elderly patients with circulatory encephalopathy].</strong><br>1992. Plachinda IuI, Belonog RP, Noshchenko AG, Bachinskaia NIu<br><small><strong>Abstract:</strong> <em>The possibilities of the use of electroencephalography for evaluating intellectual-mnemonic disorders in elderly patients with cerebral atherosclerosis have been studied. The study included 95 subjects aged 60 to 74 years with varying intensity of circulatory atherosclerotic encephalopathy (without brain stroke). The psychological tests were performed according to Wechsler's methods. To evaluate the EEG, visual and automatic spectral analyses were employed. The data obtained were analyzed by means of discriminant, correlation and regression methods. A certain relationship was found between the results of the psychological tests and the EEG readings. The method of automatic EEG analysis is proposed, which allows revealing intellectual disorders in patients suffering from cerebral atherosclerosis. Its comparability with the data obtained by means of visual EEG analysis is discussed.</em></small><br>[ID: 1319645]"
      ],
      "text/plain": [
       "<IPython.core.display.HTML object>"
      ]
     },
     "metadata": {},
     "output_type": "display_data"
    },
    {
     "data": {
      "text/html": [
       "<strong>Dietary aluminum selectively decreases MAP-2 in brains of developing and adult rats.</strong><br>1992. Johnson GV, Watson AL Jr, Lartius R, Uemura E, Jope RS<br><small><strong>Abstract:</strong> <em>Administration of 0.3% aluminum in drinking water elevated serum aluminum concentrations 8-fold in rats. Further, chronic treatment with aluminum for 2-3 mon, in both developing and adult rats, significantly decreased the levels of MAP-2 in brain, as determined by quantitative immunoblot analysis. Aluminum treatment also decreased the level of brain spectrin, but only in the hippocampus of adult rats. These were selective effects, since the levels of tubulin, tau and the three proteins of the neurofilament triplet were unaltered. In the aluminum-treated adult rats MAP-2 levels were significantly decreased in the hippocampus and brainstem to 71% and 56% of control values, respectively. In developing rats, MAP-2 levels were significantly decreased in the cortex and brainstem (65 and 64% of control values, respectively) but not in the hippocampus. In support of these findings, immunohistochemical examination revealed that the intensity of hippocampal MAP-2 immunoreactivity was significantly decreased to 88% of control values with aluminum treatment in adult rats. To determine a possible mechanism by which MAP-2 levels are reduced, the effect of aluminum on calpain-induced proteolysis of MAP-2 was examined in vitro. At the aluminum concentrations tested, there was no apparent effect on calpain-induced proteolysis of MAP-2. In the developing rats, aluminum administration significantly increased the hippocampal cyclic AMP concentration, as reported previously in adult aluminum-treated rats, and decreased the inositol 1,4,5-trisphosphate concentration. These results demonstrate that chronic oral aluminum administration to rats selectively decreases the levels of MAP-2 in specific brain regions independent of calpain proteolysis. This decrease may be associated with increased cyclic AMP and protein phosphorylation, and the impairment of cognition previously observed in this model of aluminum intoxication.</em></small><br>[ID: 1331920]"
      ],
      "text/plain": [
       "<IPython.core.display.HTML object>"
      ]
     },
     "metadata": {},
     "output_type": "display_data"
    },
    {
     "data": {
      "text/html": [
       "<strong><a href=http://dx.doi.org/10.1016/0006-8993(92)91483-u>AF102B, a novel M1 agonist, enhanced spatial learning in C57BL/10 mice with a long duration of action.</a></strong><br>1992. Vincent GP, Sepinwall J<br><small><strong>Abstract:</strong> <em>Orally administered AF102B, a selective muscarinic M1 cholinergic agonist, improved spatial learning in C57BL/10 mice in the Morris water maze. In four experiments in which all drug-treated animals received only one single administration of AF102B, improvement of acquisition depended on two factors: pretreatment time (tp) and dose. When a standard tp of 1 h was used, AF102B exhibited a U-shaped dose-response curve that is characteristic of many nootropic agents: learning was significantly improved by dose levels ranging from 0.1 to 1 mg/kg p.o. When the tp was extended out to as long as 8 days, two new effects emerged: (a) 1 mg/kg, the dose that had been the peak active dose at 1 h, exhibited a biphasic time course of action, being active at 1 h or at all tp intervals from 3 h to 5 days, but not at 1.5 h; (b) 0.03 mg/kg, a dose that had been inactive at a tp of 1 h, was active at all tp intervals from 3 h to 5 days, but not at shorter (1 and 2 h) or longer (6-8 days) tp intervals. In another experiment, animals received 0.03 mg/kg for 1-5 consecutive days: this dose level was active if the tp interval between the last dose and the learning session was 24-120 h, but not if it was only 1 h. Thus AF102B enhanced cognition in mice with a longer duration of action than reported for traditional muscarinic agonists.</em></small><br>[ID: 1472998]"
      ],
      "text/plain": [
       "<IPython.core.display.HTML object>"
      ]
     },
     "metadata": {},
     "output_type": "display_data"
    },
    {
     "data": {
      "text/html": [
       "<strong>Effects of the new cognition-enhancing agent nefiracetam in rats with cerebral embolism.</strong><br>1992. Tanaka S, Watabe S, Kakihata K, Sakurai T, Endo W, Yamaguchi H, Ashida S<br><small><strong>Abstract:</strong> <em>The effects of nefiracetam (DM-9384, CAS 77191-36-7) on the learning behavior and cholinergic and GABAergic neuronal transmitter systems of rats with experimentally-induced cerebral embolism were investigated. Cerebral embolisms were induced in male Wistar rats by injection of 800 microspheres 50 microns in diameter via the left internal carotid artery under 2% halothane anesthesia. Daily oral administration of nefiracetam (30 mg/kg/d) was started 9 days after embolization. Nefiracetam caused significant (p < 0.05) improvement of deficits in the learning of both water maze and passive avoidance tasks beginning 22 days after embolization of the rats. The drug also significantly restored decreases in cortical choline acetyltransferase (p < 0.05) and hippocampal glutamic acid decarboxylase activities (p < 0.01) in the embolized cerebral hemisphere and significantly increased cortical choline acetyltransferase (p < 0.05) and acetylcholinesterase activities (p < 0.05) in the contralateral cerebral hemisphere 21 days after embolization. These results demonstrate that nefiracetam improves cognitive dysfunction in the late phase in embolized rats and suggest that the effect is at least partly due to the increase in glutamic acid decarboxylase, choline acetyltranseferase and acetylcholinesterase activities.</em></small><br>[ID: 1492838]"
      ],
      "text/plain": [
       "<IPython.core.display.HTML object>"
      ]
     },
     "metadata": {},
     "output_type": "display_data"
    }
   ],
   "source": [
    "def or_merge(pos1, pos2):\n",
    "    result = []\n",
    "    i = j = 0\n",
    "    while i < len(pos1) and j < len(pos2):\n",
    "        if pos1[i] == pos2[j]:\n",
    "            result.append(pos1[i])\n",
    "            i += 1\n",
    "            j += 1\n",
    "        elif pos1[i] < pos2[j]:\n",
    "            result.append(pos1[i])\n",
    "            i += 1\n",
    "        else:\n",
    "            result.append(pos2[j])\n",
    "            j += 1\n",
    "    result.extend(pos1[i:])\n",
    "    result.extend(pos2[j:])\n",
    "    return result\n",
    "\n",
    "# First 5 papers that include the terms \"automatic\" OR \"water\"\n",
    "for paper in or_merge(inverted_index[\"automatic\"], inverted_index[\"water\"])[:5]:\n",
    "    display_summary(paper, show_abstract=True)"
   ]
  },
  {
   "cell_type": "markdown",
   "metadata": {},
   "source": [
    "### Task 3\n",
    "\n",
    "Construct a function called `and_query` that takes as input a single string, consisting of one or more words, and returns as function value a list of matching documents. `and_query`, as its name suggests, should require that all query terms are present in the documents of the result list.\n",
    "\n",
    "For that, access the variable `inverted_index` from above and use the method `and_merge` that you defined. Also use the `tokenize` and `preprocess` functions we defined above to tokenize and preprocess your query.\n",
    "\n",
    "Again demonstrate the working of your function with an example (choose one that leads to fewer than 100 hits to not overblow this notebook file)."
   ]
  },
  {
   "cell_type": "code",
   "execution_count": 12,
   "metadata": {},
   "outputs": [
    {
     "name": "stdout",
     "output_type": "stream",
     "text": [
      "Query: automATic WATer\n",
      "-----------------------------------------------------------------\n"
     ]
    },
    {
     "data": {
      "text/html": [
       "<strong><a href=http://dx.doi.org/10.1016/j.jneumeth.2004.07.002>Visual landmark orientation by flying bats at a large-scale touch and walk screen for bats, birds and rodents.</a></strong><br>2005. Winter Y, von Merten S, Kleindienst HU<br>[ID: 15661311]"
      ],
      "text/plain": [
       "<IPython.core.display.HTML object>"
      ]
     },
     "metadata": {},
     "output_type": "display_data"
    },
    {
     "data": {
      "text/html": [
       "<strong><a href=http://dx.doi.org/10.1016/j.toxlet.2008.11.003>ZnT-1, ZnT-3, CaMK II, PRG-1 expressions in hippocampus following neonatal seizure-induced cognitive deficit in rats.</a></strong><br>2009. Ni H, Jiang YW, Tao LY, Jin MF, Wu XR<br>[ID: 19059322]"
      ],
      "text/plain": [
       "<IPython.core.display.HTML object>"
      ]
     },
     "metadata": {},
     "output_type": "display_data"
    },
    {
     "data": {
      "text/html": [
       "<strong><a href=http://dx.doi.org/10.1016/j.bbr.2009.11.022>Search strategies in a human water maze analogue analyzed with automatic classification methods.</a></strong><br>2010. Schoenfeld R, Moenich N, Mueller FJ, Lehmann W, Leplow B<br>[ID: 19931570]"
      ],
      "text/plain": [
       "<IPython.core.display.HTML object>"
      ]
     },
     "metadata": {},
     "output_type": "display_data"
    },
    {
     "data": {
      "text/html": [
       "<strong><a href=http://dx.doi.org/10.1016/j.neuroscience.2016.09.007>Adenosine A1 receptor antagonist mitigates deleterious effects of sleep deprivation on adult neurogenesis and spatial reference memory in rats.</a></strong><br>2016. Chauhan G, Ray K, Sahu S, Roy K, Jain V, Wadhwa M, Panjwani U, Kishore K, Singh SB<br>[ID: 27623393]"
      ],
      "text/plain": [
       "<IPython.core.display.HTML object>"
      ]
     },
     "metadata": {},
     "output_type": "display_data"
    },
    {
     "data": {
      "text/html": [
       "<strong><a href=http://dx.doi.org/10.3389/fpsyg.2017.01000>Executive Functions of Divers Are Selectively Impaired at 20-Meter Water Depth.</a></strong><br>2017. Steinberg F, Doppelmayr M<br>[ID: 28676772]"
      ],
      "text/plain": [
       "<IPython.core.display.HTML object>"
      ]
     },
     "metadata": {},
     "output_type": "display_data"
    },
    {
     "name": "stdout",
     "output_type": "stream",
     "text": [
      "Query: automATic WATer cowabunga\n",
      "-----------------------------------------------------------------\n"
     ]
    }
   ],
   "source": [
    "def and_query(query):\n",
    "    result = []\n",
    "    for term in preprocess(tokenize(query)):\n",
    "        if term not in inverted_index: return []\n",
    "        if result == []:\n",
    "            result = inverted_index[term]\n",
    "        else:\n",
    "            result = and_merge(result, inverted_index[term])\n",
    "    return result\n",
    "\n",
    "test_queries = [\"automATic WATer\", \"automATic WATer cowabunga\"]  # First should show same papers as in task 1, second none\n",
    "for query in test_queries:\n",
    "    print(\"Query: {:s}\".format(query))\n",
    "    print(\"-----------------------------------------------------------------\")\n",
    "    for paper in and_query(query):\n",
    "        display_summary(paper)"
   ]
  },
  {
   "cell_type": "markdown",
   "metadata": {},
   "source": [
    "### Task 4\n",
    "\n",
    "Construct another function called `or_query` that works in the same way as `and_query` you just implemented, but returns as function value the documents that contain _at least one_ of the words in the query, using the `or_merge` function you defined.\n",
    "\n",
    "Demonstrate the working of this function also with an example (again, choose one that leads to fewer than 100 hits)."
   ]
  },
  {
   "cell_type": "code",
   "execution_count": 13,
   "metadata": {},
   "outputs": [
    {
     "name": "stdout",
     "output_type": "stream",
     "text": [
      "Query: metereological\n",
      "-----------------------------------------------------------------\n",
      "Query: metereological Zagreb\n",
      "-----------------------------------------------------------------\n"
     ]
    },
    {
     "data": {
      "text/html": [
       "<strong>Zagreb research collection of human brains for developmental neurobiologists and clinical neuroscientists.</strong><br>1991. Kostovic I, Judas M, Kostovic-Knezevic L, Simic G, Delalle I, Chudy D, Sajin B, Petanjek Z<br>[ID: 1687658]"
      ],
      "text/plain": [
       "<IPython.core.display.HTML object>"
      ]
     },
     "metadata": {},
     "output_type": "display_data"
    },
    {
     "data": {
      "text/html": [
       "<strong>Computer-aided psychotherapy based on multimodal elicitation, estimation and regulation of emotion.</strong><br>2013. Cosić K, Popović S, Horvat M, Kukolja D, Dropuljić B, Kovač B, Jakovljević M<br>[ID: 24048409]"
      ],
      "text/plain": [
       "<IPython.core.display.HTML object>"
      ]
     },
     "metadata": {},
     "output_type": "display_data"
    },
    {
     "name": "stdout",
     "output_type": "stream",
     "text": [
      "Query: metereological Zagreb watER\n",
      "-----------------------------------------------------------------\n"
     ]
    },
    {
     "data": {
      "text/html": [
       "<strong><a href=http://dx.doi.org/10.1002/dev.420110402>Competitive social strategies in groups of deprived and experienced rhesus monkeys.</a></strong><br>1978. Anderson CO, Mason WA<br>[ID: 97110]"
      ],
      "text/plain": [
       "<IPython.core.display.HTML object>"
      ]
     },
     "metadata": {},
     "output_type": "display_data"
    },
    {
     "data": {
      "text/html": [
       "<strong>Dietary aluminum selectively decreases MAP-2 in brains of developing and adult rats.</strong><br>1992. Johnson GV, Watson AL Jr, Lartius R, Uemura E, Jope RS<br>[ID: 1331920]"
      ],
      "text/plain": [
       "<IPython.core.display.HTML object>"
      ]
     },
     "metadata": {},
     "output_type": "display_data"
    },
    {
     "data": {
      "text/html": [
       "<strong><a href=http://dx.doi.org/10.1016/0006-8993(92)91483-u>AF102B, a novel M1 agonist, enhanced spatial learning in C57BL/10 mice with a long duration of action.</a></strong><br>1992. Vincent GP, Sepinwall J<br>[ID: 1472998]"
      ],
      "text/plain": [
       "<IPython.core.display.HTML object>"
      ]
     },
     "metadata": {},
     "output_type": "display_data"
    },
    {
     "data": {
      "text/html": [
       "<strong>Effects of the new cognition-enhancing agent nefiracetam in rats with cerebral embolism.</strong><br>1992. Tanaka S, Watabe S, Kakihata K, Sakurai T, Endo W, Yamaguchi H, Ashida S<br>[ID: 1492838]"
      ],
      "text/plain": [
       "<IPython.core.display.HTML object>"
      ]
     },
     "metadata": {},
     "output_type": "display_data"
    },
    {
     "data": {
      "text/html": [
       "<strong><a href=http://dx.doi.org/10.1007/BF02245260>Effects of oral BMY 21502 on Morris water task performance in 16-18 month old F-344 rats.</a></strong><br>1992. Lindner MD, Gribkoff VK<br>[ID: 1603891]"
      ],
      "text/plain": [
       "<IPython.core.display.HTML object>"
      ]
     },
     "metadata": {},
     "output_type": "display_data"
    },
    {
     "data": {
      "text/html": [
       "<strong>Zagreb research collection of human brains for developmental neurobiologists and clinical neuroscientists.</strong><br>1991. Kostovic I, Judas M, Kostovic-Knezevic L, Simic G, Delalle I, Chudy D, Sajin B, Petanjek Z<br>[ID: 1687658]"
      ],
      "text/plain": [
       "<IPython.core.display.HTML object>"
      ]
     },
     "metadata": {},
     "output_type": "display_data"
    },
    {
     "data": {
      "text/html": [
       "<strong>Animal test systems to study behavioral dysfunctions of neurodegenerative disorders.</strong><br>1991. Anger WK<br>[ID: 1745432]"
      ],
      "text/plain": [
       "<IPython.core.display.HTML object>"
      ]
     },
     "metadata": {},
     "output_type": "display_data"
    },
    {
     "data": {
      "text/html": [
       "<strong>A kampo prescription, shimotsu-to, improves scopolamine-induced spatial cognitive deficits in rats.</strong><br>1991. Watanabe H, Ni JW, Ohta H, Ni XH, Matsumoto K<br>[ID: 1771976]"
      ],
      "text/plain": [
       "<IPython.core.display.HTML object>"
      ]
     },
     "metadata": {},
     "output_type": "display_data"
    },
    {
     "data": {
      "text/html": [
       "<strong><a href=http://dx.doi.org/10.1001/archinte.151.4.785>Immersion foot. A problem of the homeless in the 1990s.</a></strong><br>1991. Wrenn K<br>[ID: 2012466]"
      ],
      "text/plain": [
       "<IPython.core.display.HTML object>"
      ]
     },
     "metadata": {},
     "output_type": "display_data"
    },
    {
     "data": {
      "text/html": [
       "<strong><a href=http://dx.doi.org/10.1016/0091-3057(88)90375-9>Chronic, oral aluminum administration to rats: cognition and cholinergic parameters.</a></strong><br>1988. Connor DJ, Jope RS, Harrell LE<br>[ID: 2854266]"
      ],
      "text/plain": [
       "<IPython.core.display.HTML object>"
      ]
     },
     "metadata": {},
     "output_type": "display_data"
    }
   ],
   "source": [
    "def or_query(query):\n",
    "    result = []\n",
    "    for term in preprocess(tokenize(query)):\n",
    "        if term in inverted_index:\n",
    "            result = or_merge(result, inverted_index[term])\n",
    "    return result\n",
    "\n",
    "test_queries = [\"metereological\", \"metereological Zagreb\", \"metereological Zagreb watER\"]  # First should no results, second only 2 including \"zagreb\", third should show first 10 results of (\"water\" + query 2 results)\n",
    "for query in test_queries:\n",
    "    print(\"Query: {:s}\".format(query))\n",
    "    print(\"-----------------------------------------------------------------\")\n",
    "    for paper in or_query(query)[:10]:\n",
    "        display_summary(paper)"
   ]
  },
  {
   "cell_type": "markdown",
   "metadata": {},
   "source": [
    "### Task 5\n",
    "\n",
    "Why does `and_query('adult handgrip strength')` not return our example paper 28102890, even though it mentions handgrip strength and adults in the abstract? (You do not have to implement anything to fix this yet!)"
   ]
  },
  {
   "cell_type": "markdown",
   "metadata": {},
   "source": [
    "Block 1 below shows the results of and_query(\"adult handgrip strength\"): it returns two papers, but not the one from the example.\n",
    "\n",
    "However, when we adapt the query to and_query(\"adults: handgrip strength\") we get (more) different results, including our example paper.\n",
    "\n",
    "This is because the preprocessing and tokenisation functions used are very primitive and don't yet handle punctuation or stemming (see the term list in block 3 of the adapted query)."
   ]
  },
  {
   "cell_type": "code",
   "execution_count": 14,
   "metadata": {},
   "outputs": [
    {
     "name": "stdout",
     "output_type": "stream",
     "text": [
      "Block 1\n"
     ]
    },
    {
     "data": {
      "text/html": [
       "<strong><a href=http://dx.doi.org/10.1080/15389588.2021.1880007>Brake response time between male drivers with and without paraplegia: Association between sociodemographic, motor and neurological characteristics.</a></strong><br>2021. Santos S, Brech GC, Alonso AC, Greve JMD<br>[ID: 33661082]"
      ],
      "text/plain": [
       "<IPython.core.display.HTML object>"
      ]
     },
     "metadata": {},
     "output_type": "display_data"
    },
    {
     "data": {
      "text/html": [
       "<strong><a href=http://dx.doi.org/10.3390/brainsci11080985>Higher Handgrip Strength Is Linked to Better Cognitive Performance in Chinese Adults with Hypertension.</a></strong><br>2021. Lu S, Herold F, Zhang Y, Lei Y, Kramer AF, Jiao C, Yu Q, Doig S, Li J, Yan Z, Kuang J, Wang T, Zou L<br>[ID: 34439604]"
      ],
      "text/plain": [
       "<IPython.core.display.HTML object>"
      ]
     },
     "metadata": {},
     "output_type": "display_data"
    },
    {
     "name": "stdout",
     "output_type": "stream",
     "text": [
      "---------------------------------------------------------------------------\n",
      "Block 2\n"
     ]
    },
    {
     "data": {
      "text/html": [
       "<strong><a href=http://dx.doi.org/10.1007/s00421-011-2072-3>Relationship of low plasma klotho with poor grip strength in older community-dwelling adults: the InCHIANTI study.</a></strong><br>2012. Semba RD, Cappola AR, Sun K, Bandinelli S, Dalal M, Crasto C, Guralnik JM, Ferrucci L<br>[ID: 21769735]"
      ],
      "text/plain": [
       "<IPython.core.display.HTML object>"
      ]
     },
     "metadata": {},
     "output_type": "display_data"
    },
    {
     "data": {
      "text/html": [
       "<strong><a href=http://dx.doi.org/10.1111/jgs.14509>Handgrip Strength in Old and Very Old Adults: Mood, Cognition, Function, and Mortality.</a></strong><br>2017. Stessman J, Rottenberg Y, Fischer M, Hammerman-Rozenberg A, Jacobs JM<br>[ID: 28102890]"
      ],
      "text/plain": [
       "<IPython.core.display.HTML object>"
      ]
     },
     "metadata": {},
     "output_type": "display_data"
    },
    {
     "data": {
      "text/html": [
       "<strong><a href=http://dx.doi.org/10.2188/jea.JE20170041>Observational Evidence of the Association Between Handgrip Strength, Hand Dexterity, and Cognitive Performance in Community-Dwelling Older Adults: A Systematic Review.</a></strong><br>2018. Kobayashi-Cuya KE, Sakurai R, Suzuki H, Ogawa S, Takebayashi T, Fujiwara Y<br>[ID: 29526916]"
      ],
      "text/plain": [
       "<IPython.core.display.HTML object>"
      ]
     },
     "metadata": {},
     "output_type": "display_data"
    },
    {
     "data": {
      "text/html": [
       "<strong><a href=http://dx.doi.org/10.1186/s12877-018-0880-6>Hand dexterity, not handgrip strength, is associated with executive function in Japanese community-dwelling older adults: a cross-sectional study.</a></strong><br>2018. Kobayashi-Cuya KE, Sakurai R, Sakuma N, Suzuki H, Yasunaga M, Ogawa S, Takebayashi T, Fujiwara Y<br>[ID: 30143006]"
      ],
      "text/plain": [
       "<IPython.core.display.HTML object>"
      ]
     },
     "metadata": {},
     "output_type": "display_data"
    },
    {
     "data": {
      "text/html": [
       "<strong><a href=http://dx.doi.org/10.2147/DMSO.S260544>Prevalence of Metabolic Syndrome and Association with Grip Strength in Older Adults: Findings from the HOPE Study.</a></strong><br>2020. Merchant RA, Chan YH, Lim JY, Morley JE<br>[ID: 32821140]"
      ],
      "text/plain": [
       "<IPython.core.display.HTML object>"
      ]
     },
     "metadata": {},
     "output_type": "display_data"
    },
    {
     "data": {
      "text/html": [
       "<strong><a href=http://dx.doi.org/10.1123/japa.2020-0050>Additional Functional Performance Gains After 24-Week Unstable Strength Training With Cognitive Training in Community-Dwelling Healthy Older Adults: A Randomized Trial.</a></strong><br>2021. de Oliveira VMA, Pirauá ALT, Cavalcante BR, Beltrão NB, de Farias WM, Pitangui ACR, de Araújo RC<br>[ID: 33271505]"
      ],
      "text/plain": [
       "<IPython.core.display.HTML object>"
      ]
     },
     "metadata": {},
     "output_type": "display_data"
    },
    {
     "data": {
      "text/html": [
       "<strong><a href=http://dx.doi.org/10.1016/j.clnu.2022.03.017>Sarcopenic obesity is associated with cognitive impairment in community-dwelling older adults: The Bunkyo Health Study.</a></strong><br>2022. Someya Y, Tamura Y, Kaga H, Sugimoto D, Kadowaki S, Suzuki R, Aoki S, Hattori N, Motoi Y, Shimada K, Daida H, Ishijima M, Kaneko K, Nojiri S, Kawamori R, Watada H<br>[ID: 35390728]"
      ],
      "text/plain": [
       "<IPython.core.display.HTML object>"
      ]
     },
     "metadata": {},
     "output_type": "display_data"
    },
    {
     "name": "stdout",
     "output_type": "stream",
     "text": [
      "---------------------------------------------------------------------------\n",
      "Block 3\n",
      "['adults:', 'handgrip', 'strength']\n"
     ]
    }
   ],
   "source": [
    "print(\"Block 1\")\n",
    "for paper in and_query(\"adult handgrip strength\"):\n",
    "    display_summary(paper)\n",
    "print(\"---------------------------------------------------------------------------\")\n",
    "print(\"Block 2\")\n",
    "for paper in and_query(\"adults: handgrip strength\"):\n",
    "    display_summary(paper)\n",
    "print(\"---------------------------------------------------------------------------\")\n",
    "print(\"Block 3\")\n",
    "print(preprocess(tokenize(\"adults: handgrip strength\")))"
   ]
  },
  {
   "cell_type": "markdown",
   "metadata": {},
   "source": [
    "# Submission"
   ]
  },
  {
   "cell_type": "markdown",
   "metadata": {},
   "source": [
    "Submit the answers to the assignment via Canvas as a modified version of this Notebook file (file with `.ipynb` extension) that includes your code and your answers.\n",
    "\n",
    "Before submitting, restart the kernel and re-run the complete code (**Kernel > Restart & Run All**), and then check whether your assignment code still works as expected.\n",
    "\n",
    "Don't forget to add your name, and remember that the assignments have to be done **individually**, and that code sharing or copying are **strictly forbidden** and will be punished."
   ]
  }
 ],
 "metadata": {
  "kernelspec": {
   "display_name": "Python 3.8.0 64-bit",
   "language": "python",
   "name": "python3"
  },
  "language_info": {
   "codemirror_mode": {
    "name": "ipython",
    "version": 3
   },
   "file_extension": ".py",
   "mimetype": "text/x-python",
   "name": "python",
   "nbconvert_exporter": "python",
   "pygments_lexer": "ipython3",
   "version": "3.8.0"
  },
  "vscode": {
   "interpreter": {
    "hash": "082e9a3bcad0a290d0001e938aa60b99250c6c2ef33a923c00b70f9826caf4b7"
   }
  }
 },
 "nbformat": 4,
 "nbformat_minor": 4
}
